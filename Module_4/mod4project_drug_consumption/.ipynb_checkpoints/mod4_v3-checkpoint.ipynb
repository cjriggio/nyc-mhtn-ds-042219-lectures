{
 "cells": [
  {
   "cell_type": "code",
   "execution_count": 593,
   "metadata": {},
   "outputs": [],
   "source": [
    "import pandas as pd\n",
    "import numpy as np\n",
    "import matplotlib.pyplot as plt\n",
    "%matplotlib inline\n",
    "import seaborn as sns\n",
    "sns.set_style('darkgrid')"
   ]
  },
  {
   "cell_type": "code",
   "execution_count": 2,
   "metadata": {},
   "outputs": [],
   "source": [
    "df = pd.read_csv('drug_df_2.csv')"
   ]
  },
  {
   "cell_type": "code",
   "execution_count": 4,
   "metadata": {},
   "outputs": [],
   "source": [
    "df.drop(['Unnamed: 0'], axis=1, inplace = True)\n",
    "\n",
    "pd.set_option('display.max_columns', 100)"
   ]
  },
  {
   "cell_type": "code",
   "execution_count": 10,
   "metadata": {},
   "outputs": [],
   "source": [
    "df['Drug_Use'] = df.apply(lambda _: 0, axis=1)"
   ]
  },
  {
   "cell_type": "code",
   "execution_count": 11,
   "metadata": {},
   "outputs": [
    {
     "name": "stderr",
     "output_type": "stream",
     "text": [
      "/anaconda3/envs/learn-env/lib/python3.6/site-packages/ipykernel_launcher.py:3: SettingWithCopyWarning: \n",
      "A value is trying to be set on a copy of a slice from a DataFrame\n",
      "\n",
      "See the caveats in the documentation: http://pandas.pydata.org/pandas-docs/stable/indexing.html#indexing-view-versus-copy\n",
      "  This is separate from the ipykernel package so we can avoid doing imports until\n",
      "/anaconda3/envs/learn-env/lib/python3.6/site-packages/ipykernel_launcher.py:5: SettingWithCopyWarning: \n",
      "A value is trying to be set on a copy of a slice from a DataFrame\n",
      "\n",
      "See the caveats in the documentation: http://pandas.pydata.org/pandas-docs/stable/indexing.html#indexing-view-versus-copy\n",
      "  \"\"\"\n"
     ]
    }
   ],
   "source": [
    "for i in range(len(df)):\n",
    "    if df.Amphet[i] == 1 or df.Benzos[i] == 1 or df.Coke[i] == 1 or df.Crack[i] ==1 or df.Ecstasy[i] == 1 or df.Heroin[i] == 1:\n",
    "        df.Drug_Use[i] = 1\n",
    "    else:\n",
    "        df.Drug_Use[i] = 0\n"
   ]
  },
  {
   "cell_type": "markdown",
   "metadata": {},
   "source": [
    "1. ID is number of record in original database. Cannot be related to participant. It can be used for reference only. \n",
    "\n",
    "2. Age (Real) is age of participant and has one of the values: \n",
    "Value Meaning Cases Fraction \n",
    "-0.95197 18-24 643 34.11% \n",
    "-0.07854 25-34 481 25.52% \n",
    "0.49788 35-44 356 18.89% \n",
    "1.09449 45-54 294 15.60% \n",
    "1.82213 55-64 93 4.93% \n",
    "2.59171 65+ 18 0.95% \n",
    "Descriptive statistics \n",
    "Min Max Mean Std.dev. \n",
    "-0.95197 2.59171 0.03461 0.87813 \n",
    "\n",
    "3. Gender (Real) is gender of participant: \n",
    "Value Meaning Cases Fraction \n",
    "0.48246 Female 942 49.97% \n",
    "-0.48246 Male 943 50.03% \n",
    "Descriptive statistics \n",
    "Min Max Mean Std.dev. \n",
    "-0.48246 0.48246 -0.00026 0.48246 \n",
    "\n",
    "4. Education (Real) is level of education of participant and has one of the values: \n",
    "Value Meaning Cases Fraction \n",
    "-2.43591 Left school before 16 years 28 1.49% \n",
    "-1.73790 Left school at 16 years 99 5.25% \n",
    "-1.43719 Left school at 17 years 30 1.59% \n",
    "-1.22751 Left school at 18 years 100 5.31% \n",
    "-0.61113 Some college or university, no certificate or degree 506 26.84% \n",
    "-0.05921 Professional certificate/ diploma 270 14.32% \n",
    "0.45468 University degree 480 25.46% \n",
    "1.16365 Masters degree 283 15.01% \n",
    "1.98437 Doctorate degree 89 4.72% \n",
    "Descriptive statistics \n",
    "Min Max Mean Std.dev. \n",
    "-2.43591 1.98437 -0.00379 0.95004 \n",
    "\n",
    "5. Country (Real) is country of current residence of participant and has one of the values: \n",
    "Value Meaning Cases Fraction \n",
    "-0.09765 Australia 54 2.86% \n",
    "0.24923 Canada 87 4.62% \n",
    "-0.46841 New Zealand 5 0.27% \n",
    "-0.28519 Other 118 6.26% \n",
    "0.21128 Republic of Ireland 20 1.06% \n",
    "0.96082 UK 1044 55.38% \n",
    "-0.57009 USA 557 29.55% \n",
    "Descriptive statistics \n",
    "Min Max Mean Std.dev. \n",
    "-0.57009 0.96082 0.35554 0.70015 \n",
    "\n",
    "6. Ethnicity (Real) is ethnicity of participant and has one of the values: \n",
    "Value Meaning Cases Fraction \n",
    "-0.50212 Asian 26 1.38% \n",
    "-1.10702 Black 33 1.75% \n",
    "1.90725 Mixed-Black/Asian 3 0.16% \n",
    "0.12600 Mixed-White/Asian 20 1.06% \n",
    "-0.22166 Mixed-White/Black 20 1.06% \n",
    "0.11440 Other 63 3.34% \n",
    "-0.31685 White 1720 91.25% \n",
    "Descriptive statistics \n",
    "Min Max Mean Std.dev. \n",
    "-1.10702 1.90725 -0.30958 0.16618 \n",
    "\n",
    "7. Nscore (Real) is NEO-FFI-R Neuroticism. Possible values are presented in table below: \n",
    "Nscore Cases Value Nscore Cases Value Nscore Cases Value \n",
    "12 1 -3.46436 29 60 -0.67825 46 67 1.02119 \n",
    "13 1 -3.15735 30 61 -0.58016 47 27 1.13281 \n",
    "14 7 -2.75696 31 87 -0.46725 48 49 1.23461 \n",
    "15 4 -2.52197 32 78 -0.34799 49 40 1.37297 \n",
    "16 3 -2.42317 33 68 -0.24649 50 24 1.49158 \n",
    "17 4 -2.34360 34 76 -0.14882 51 27 1.60383 \n",
    "18 10 -2.21844 35 69 -0.05188 52 17 1.72012 \n",
    "19 16 -2.05048 36 73 0.04257 53 20 1.83990 \n",
    "20 24 -1.86962 37 67 0.13606 54 15 1.98437 \n",
    "21 31 -1.69163 38 63 0.22393 55 11 2.12700 \n",
    "22 26 -1.55078 39 66 0.31287 56 10 2.28554 \n",
    "23 29 -1.43907 40 80 0.41667 57 6 2.46262 \n",
    "24 35 -1.32828 41 61 0.52135 58 3 2.61139 \n",
    "25 56 -1.19430 42 77 0.62967 59 5 2.82196 \n",
    "26 57 -1.05308 43 49 0.73545 60 2 3.27393 \n",
    "27 65 -0.92104 44 51 0.82562 \n",
    "28 70 -0.79151 45 37 0.91093 \n",
    "Descriptive statistics \n",
    "Min Max Mean Std.dev. \n",
    "-3.46436 3.27393 0.00004 0.99808 \n",
    "\n",
    "8. Escore (Real) is NEO-FFI-R Extraversion. Possible values are presented in table below: \n",
    "Escore Cases Value Escore Cases Value Escore Cases Value \n",
    "16 2 -3.27393 31 55 -1.23177 45 91 0.80523 \n",
    "18 1 -3.00537 32 52 -1.09207 46 69 0.96248 \n",
    "19 6 -2.72827 33 77 -0.94779 47 64 1.11406 \n",
    "20 3 -2.53830 34 68 -0.80615 48 62 1.28610 \n",
    "21 3 -2.44904 35 58 -0.69509 49 37 1.45421 \n",
    "22 8 -2.32338 36 89 -0.57545 50 25 1.58487 \n",
    "23 5 -2.21069 37 90 -0.43999 51 34 1.74091 \n",
    "24 9 -2.11437 38 106 -0.30033 52 21 1.93886 \n",
    "25 4 -2.03972 39 107 -0.15487 53 15 2.12700 \n",
    "26 21 -1.92173 40 130 0.00332 54 10 2.32338 \n",
    "27 23 -1.76250 41 116 0.16767 55 9 2.57309 \n",
    "28 23 -1.63340 42 109 0.32197 56 2 2.85950 \n",
    "29 32 -1.50796 43 105 0.47617 58 1 3.00537 \n",
    "30 38 -1.37639 44 103 0.63779 59 2 3.27393 \n",
    "Descriptive statistics \n",
    "Min Max Mean Std.dev. \n",
    "-3.27393 3.27393 -0.00016 0.99745 \n",
    "\n",
    "9. Oscore (Real) is NEO-FFI-R Openness to experience. Possible values are presented in table below: \n",
    "Oscore Cases Value Oscore Cases Value Oscore Cases Value \n",
    "24 2 -3.27393 38 64 -1.11902 50 83 0.58331 \n",
    "26 4 -2.85950 39 60 -0.97631 51 87 0.72330 \n",
    "28 4 -2.63199 40 68 -0.84732 52 87 0.88309 \n",
    "29 11 -2.39883 41 76 -0.71727 53 81 1.06238 \n",
    "30 9 -2.21069 42 87 -0.58331 54 57 1.24033 \n",
    "31 9 -2.09015 43 86 -0.45174 55 63 1.43533 \n",
    "32 13 -1.97495 44 101 -0.31776 56 38 1.65653 \n",
    "33 23 -1.82919 45 103 -0.17779 57 34 1.88511 \n",
    "34 25 -1.68062 46 134 -0.01928 58 19 2.15324 \n",
    "35 26 -1.55521 47 107 0.14143 59 13 2.44904 \n",
    "36 39 -1.42424 48 116 0.29338 60 7 2.90161 \n",
    "37 51 -1.27553 49 98 0.44585 \n",
    "Descriptive statistics \n",
    "Min Max Mean Std.dev. \n",
    "-3.27393 2.90161 -0.00053 0.99623 \n",
    "\n",
    "10. Ascore (Real) is NEO-FFI-R Agreeableness. Possible values are presented in table below: \n",
    "Ascore Cases Value Ascore Cases Value Ascore Cases Value \n",
    "12 1 -3.46436 34 42 -1.34289 48 104 0.76096 \n",
    "16 1 -3.15735 35 45 -1.21213 49 85 0.94156 \n",
    "18 1 -3.00537 36 62 -1.07533 50 68 1.11406 \n",
    "23 1 -2.90161 37 83 -0.91699 51 58 1.2861 \n",
    "24 2 -2.78793 38 82 -0.76096 52 39 1.45039 \n",
    "25 1 -2.70172 39 102 -0.60633 53 36 1.61108 \n",
    "26 7 -2.53830 40 98 -0.45321 54 36 1.81866 \n",
    "27 7 -2.35413 41 114 -0.30172 55 16 2.03972 \n",
    "28 8 -2.21844 42 101 -0.15487 56 14 2.23427 \n",
    "29 13 -2.07848 43 105 -0.01729 57 8 2.46262 \n",
    "30 18 -1.92595 44 118 0.13136 58 7 2.75696 \n",
    "31 24 -1.77200 45 112 0.28783 59 1 3.15735 \n",
    "32 30 -1.62090 46 100 0.43852 60 1 3.46436 \n",
    "33 34 -1.47955 47 100 0.59042 \n",
    "Descriptive statistics \n",
    "Min Max Mean Std.dev. \n",
    "-3.46436 3.46436 -0.00024 0.99744 \n",
    "\n",
    "11. Cscore (Real) is NEO-FFI-R Conscientiousness. Possible values are presented in table below: \n",
    "Cscore Cases Value Cscore Cases Value Cscore Cases Value \n",
    "17 1 -3.46436 32 39 -1.25773 46 113 0.58489 \n",
    "19 1 -3.15735 33 49 -1.13788 47 95 0.7583 \n",
    "20 3 -2.90161 34 55 -1.01450 48 95 0.93949 \n",
    "21 2 -2.72827 35 55 -0.89891 49 76 1.13407 \n",
    "22 5 -2.57309 36 69 -0.78155 50 47 1.30612 \n",
    "23 5 -2.42317 37 81 -0.65253 51 43 1.46191 \n",
    "24 6 -2.30408 38 77 -0.52745 52 34 1.63088 \n",
    "25 9 -2.18109 39 87 -0.40581 53 28 1.81175 \n",
    "26 13 -2.04506 40 97 -0.27607 54 27 2.04506 \n",
    "27 13 -1.92173 41 99 -0.14277 55 13 2.33337 \n",
    "28 25 -1.78169 42 105 -0.00665 56 8 2.63199 \n",
    "29 24 -1.64101 43 90 0.12331 57 3 3.00537 \n",
    "30 29 -1.51840 44 111 0.25953 59 1 3.46436 \n",
    "31 41 -1.38502 45 111 0.41594 \n",
    "Descriptive statistics \n",
    "Min Max Mean Std.dev. \n",
    "-3.46436 3.46436 -0.00039 0.99752 \n",
    "\n",
    "12. Impulsive (Real) is impulsiveness measured by BIS-11. Possible values are presented in table below: \n",
    "Impulsiveness Cases Fraction \n",
    "-2.55524 20 1.06% \n",
    "-1.37983 276 14.64% \n",
    "-0.71126 307 16.29% \n",
    "-0.21712 355 18.83% \n",
    "0.19268 257 13.63% \n",
    "0.52975 216 11.46% \n",
    "0.88113 195 10.34% \n",
    "1.29221 148 7.85% \n",
    "1.86203 104 5.52% \n",
    "2.90161 7 0.37% \n",
    "Descriptive statistics \n",
    "Min Max Mean Std.dev. \n",
    "-2.55524 2.90161 0.00721 0.95446 \n",
    "\n",
    "13. SS (Real) is sensation seeing measured by ImpSS. Possible values are presented in table below: \n",
    "SS Cases Fraction \n",
    "-2.07848 71 3.77% \n",
    "-1.54858 87 4.62% \n",
    "-1.18084 132 7.00% \n",
    "-0.84637 169 8.97% \n",
    "-0.52593 211 11.19% \n",
    "-0.21575 223 11.83% \n",
    "0.07987 219 11.62% \n",
    "0.40148 249 13.21% \n",
    "0.76540 211 11.19% \n",
    "1.22470 210 11.14% \n",
    "1.92173 103 5.46% \n",
    "Descriptive statistics \n",
    "Min Max Mean Std.dev. \n",
    "-2.07848 1.92173 -0.00329 0.96370 \n",
    "\n",
    "14. Alcohol is class of alcohol consumption. It is output attribute with following distribution of classes. \n",
    "\n",
    "15. Amphet is class of amphetamines consumption. It is output attribute with following distribution of classes. \n",
    "\n",
    "16. Amyl is class of amyl nitrite consumption. It is output attribute with following distribution of classes. \n",
    "\n",
    "17. Benzos is class of benzodiazepine consumption. It is output attribute with following distribution of classes: \n",
    "Value Class Alcohol Amphet Amyl Benzos \n",
    "Cases Fraction Cases Fraction Cases Fraction Cases Fraction \n",
    "CL0 Never Used 34 1.80% 976 51.78% 1305 69.23% 1000 53.05% \n",
    "CL1 Used over a Decade Ago 34 1.80% 230 12.20% 210 11.14% 116 6.15% \n",
    "CL2 Used in Last Decade 68 3.61% 243 12.89% 237 12.57% 234 12.41% \n",
    "CL3 Used in Last Year 198 10.50% 198 10.50% 92 4.88% 236 12.52% \n",
    "CL4 Used in Last Month 287 15.23% 75 3.98% 24 1.27% 120 6.37% \n",
    "CL5 Used in Last Week 759 40.27% 61 3.24% 14 0.74% 84 4.46% \n",
    "CL6 Used in Last Day 505 26.79% 102 5.41% 3 0.16% 95 5.04% \n",
    "\n",
    "18. Caff is class of caffeine consumption. It is output attribute with following distribution of classes. \n",
    "\n",
    "19. Cannabis is class of cannabis consumption. It is output attribute with following distribution of classes. \n",
    "\n",
    "20. Choc is class of chocolate consumption. It is output attribute with following distribution of classes. \n",
    "\n",
    "21. Coke is class of cocaine consumption. It is output attribute with following distribution of classes: \n",
    "Value Class Caff Cannabis Choc Coke \n",
    "Cases Fraction Cases Fraction Cases Fraction Cases Fraction \n",
    "CL0 Never Used 27 1.43% 413 21.91% 32 1.70% 1038 55.07% \n",
    "CL1 Used over a Decade Ago 10 0.53% 207 10.98% 3 0.16% 160 8.49% \n",
    "CL2 Used in Last Decade 24 1.27% 266 14.11% 10 0.53% 270 14.32% \n",
    "CL3 Used in Last Year 60 3.18% 211 11.19% 54 2.86% 258 13.69% \n",
    "CL4 Used in Last Month 106 5.62% 140 7.43% 296 15.70% 99 5.25% \n",
    "CL5 Used in Last Week 273 14.48% 185 9.81% 683 36.23% 41 2.18% \n",
    "CL6 Used in Last Day 1385 73.47% 463 24.56% 807 42.81% 19 1.01% \n",
    "\n",
    "22. Crack is class of crack consumption. It is output attribute with following distribution of classes. \n",
    "\n",
    "23. Ecstasy is class of ecstasy consumption. It is output attribute with following distribution of classes. \n",
    "\n",
    "24. Heroin is class of heroin consumption. It is output attribute with following distribution of classes. \n",
    "\n",
    "25. Ketamine is class of ketamine consumption. It is output attribute with following distribution of classes: \n",
    "Value Class Crack Ecstasy Heroin Ketamine \n",
    "Cases Fraction Cases Fraction Cases Fraction Cases Fraction \n",
    "CL0 Never Used 1627 86.31% 1021 54.16% 1605 85.15% 1490 79.05% \n",
    "CL1 Used over a Decade Ago 67 3.55% 113 5.99% 68 3.61% 45 2.39% \n",
    "CL2 Used in Last Decade 112 5.94% 234 12.41% 94 4.99% 142 7.53% \n",
    "CL3 Used in Last Year 59 3.13% 277 14.69% 65 3.45% 129 6.84% \n",
    "CL4 Used in Last Month 9 0.48% 156 8.28% 24 1.27% 42 2.23% \n",
    "CL5 Used in Last Week 9 0.48% 63 3.34% 16 0.85% 33 1.75% \n",
    "CL6 Used in Last Day 2 0.11% 21 1.11% 13 0.69% 4 0.21% \n",
    "\n",
    "26. Legalh is class of legal highs consumption. It is output attribute with following distribution of classes \n",
    "\n",
    "27. LSD is class of alcohol consumption. It is output attribute with following distribution of classes \n",
    "\n",
    "28. Meth is class of methadone consumption. It is output attribute with following distribution of classes. \n",
    "\n",
    "29. Mushrooms is class of magic mushrooms consumption. It is output attribute with following distribution of classes: \n",
    "Value Class Legalh LSD Meth Mushrooms \n",
    "Cases Fraction Cases Fraction Cases Fraction Cases Fraction \n",
    "CL0 Never Used 1094 58.04% 1069 56.71% 1429 75.81% 982 52.10% \n",
    "CL1 Used over a Decade Ago 29 1.54% 259 13.74% 39 2.07% 209 11.09% \n",
    "CL2 Used in Last Decade 198 10.50% 177 9.39% 97 5.15% 260 13.79% \n",
    "CL3 Used in Last Year 323 17.14% 214 11.35% 149 7.90% 275 14.59% \n",
    "CL4 Used in Last Month 110 5.84% 97 5.15% 50 2.65% 115 6.10% \n",
    "CL5 Used in Last Week 64 3.40% 56 2.97% 48 2.55% 40 2.12% \n",
    "CL6 Used in Last Day 67 3.55% 13 0.69% 73 3.87% 4 0.21% \n",
    "\n",
    "30. Nicotine is class of nicotine consumption. It is output attribute with following distribution of classes. \n",
    "\n",
    "31. Semer is class of fictitious drug Semeron consumption. It is output attribute with following distribution of classes. \n",
    "\n",
    "32. VSA is class of volatile substance abuse consumption. It is output attribute with following distribution of classes: \n",
    "Value Class Nicotine Semer VSA \n",
    "Cases Fraction Cases Fraction Cases Fraction \n",
    "CL0 Never Used 428 22.71% 1877 99.58% 1455 77.19% \n",
    "CL1 Used over a Decade Ago 193 10.24% 2 0.11% 200 10.61% \n",
    "CL2 Used in Last Decade 204 10.82% 3 0.16% 135 7.16% \n",
    "CL3 Used in Last Year 185 9.81% 2 0.11% 61 3.24% \n",
    "CL4 Used in Last Month 108 5.73% 1 0.05% 13 0.69% \n",
    "CL5 Used in Last Week 157 8.33% 0 0.00% 14 0.74% \n",
    "CL6 Used in Last Day 610 32.36% 0 0.00% 7 0.37% "
   ]
  },
  {
   "cell_type": "markdown",
   "metadata": {},
   "source": [
    "Nscore (Real) is NEO-FFI-R Neuroticism\n",
    "Escore (Real) is NEO-FFI-R Extraversion\n",
    "Oscore (Real) is NEO-FFI-R Openness to experience\n",
    "Ascore (Real) is NEO-FFI-R Agreeableness\n",
    "Cscore (Real) is NEO-FFI-R Conscientiousness\n",
    "Impulsive (Real) is impulsiveness measured by BIS-11\n",
    "SS (Real) is sensation seeking measured by ImpSS\n",
    "\n",
    "CL0 Never Used \n",
    "CL1 Used over a Decade Ago \n",
    "CL2 Used in Last Decade \n",
    "CL3 Used in Last Year \n",
    "CL4 Used in Last Month \n",
    "CL5 Used in Last Week \n",
    "CL6 Used in Last Day "
   ]
  },
  {
   "cell_type": "code",
   "execution_count": 13,
   "metadata": {},
   "outputs": [],
   "source": [
    "df = df.drop(['Caff', 'Choc', 'Legalh'], axis=1)\n",
    "df = df.drop(['ID', 'Ethnicity'], axis = 1)"
   ]
  },
  {
   "cell_type": "code",
   "execution_count": 14,
   "metadata": {},
   "outputs": [
    {
     "data": {
      "text/plain": [
       "1    1126\n",
       "0     759\n",
       "Name: Drug_Use, dtype: int64"
      ]
     },
     "execution_count": 14,
     "metadata": {},
     "output_type": "execute_result"
    }
   ],
   "source": [
    "df.Drug_Use.value_counts()"
   ]
  },
  {
   "cell_type": "code",
   "execution_count": 15,
   "metadata": {},
   "outputs": [
    {
     "name": "stderr",
     "output_type": "stream",
     "text": [
      "/anaconda3/envs/learn-env/lib/python3.6/site-packages/ipykernel_launcher.py:4: SettingWithCopyWarning: \n",
      "A value is trying to be set on a copy of a slice from a DataFrame\n",
      "\n",
      "See the caveats in the documentation: http://pandas.pydata.org/pandas-docs/stable/indexing.html#indexing-view-versus-copy\n",
      "  after removing the cwd from sys.path.\n"
     ]
    }
   ],
   "source": [
    "#cleaning up education \n",
    "for i in range(len(df)):\n",
    "    if df.Education[i] == -2.43591 or df.Education[i] == -1.73790:\n",
    "        df.Education[i] = -1.43719"
   ]
  },
  {
   "cell_type": "code",
   "execution_count": 154,
   "metadata": {},
   "outputs": [],
   "source": [
    "edu_dummies = pd.get_dummies(df.Education, prefix=\"EDU\")"
   ]
  },
  {
   "cell_type": "code",
   "execution_count": 155,
   "metadata": {},
   "outputs": [],
   "source": [
    "edu_dummies.rename(index=str, columns={'EDU_-1.43719': 'EDU_17','EDU_-1.22751': 'EDU_18', 'EDU_-0.6111300000000001': 'EDU_Some_college',\n",
    "                                      'EDU_-0.05921000000000001': 'EDU_Cert', 'EDU_0.45468': 'EDU_Uni', 'EDU_1.16365': 'EDU_Mas',\n",
    "                                      'EDU_1.98437': 'EDU_Doc'}, inplace=True)"
   ]
  },
  {
   "cell_type": "code",
   "execution_count": 616,
   "metadata": {},
   "outputs": [
    {
     "data": {
      "image/png": "[encoded data removed]",
      "text/plain": [
       "<Figure size 1008x720 with 2 Axes>"
      ]
     },
     "metadata": {},
     "output_type": "display_data"
    }
   ],
   "source": [
    "features = ['Age', 'Gender','Nscore', 'Escore', 'Oscore', 'Ascore', \n",
    "        'Cscore', 'Impulsive', 'SS', 'Alcohol', 'Amphet', 'Benzos', 'Cannabis', 'Coke',\n",
    "        'Crack', 'Ecstasy', 'Heroin', 'Drug_Use']\n",
    "\n",
    "mask = np.zeros_like(df[features].corr(), dtype=np.bool) \n",
    "mask[np.triu_indices_from(mask)] = True \n",
    "\n",
    "f, ax = plt.subplots(figsize=(14, 10))\n",
    "plt.title('Correlation Matrix', fontsize=15)\n",
    "sns.heatmap(df[features].corr(),linewidths=0.25,vmax=0.7,square=True,cmap=\"RdBu\", \n",
    "            linecolor='w',annot=True,annot_kws={\"size\":8},mask=mask,cbar_kws={\"shrink\": .9});"
   ]
  },
  {
   "cell_type": "code",
   "execution_count": null,
   "metadata": {},
   "outputs": [],
   "source": [
    "target_df['target'] = target_df.apply(lambda x: -1 if target_df['Crack'] == -1 or target_df['Coke'] == -1 \n",
    "                                              or target_df['Heroin'] == -1 or target_df['Meth'] == -1 else 0 if target_df['Crack'] == 0 \n",
    "                                              or target_df['Coke'] == 0 or target_df['Heroin'] == 0 or target_df['Meth'] == 0 else 1)"
   ]
  },
  {
   "cell_type": "code",
   "execution_count": null,
   "metadata": {},
   "outputs": [],
   "source": [
    "drugs[col] = drugs[col].apply(lambda x: -1 if x in ['CL0'] else 0 if x in ['CL1', 'CL2'] else 1)            "
   ]
  },
  {
   "cell_type": "code",
   "execution_count": 804,
   "metadata": {},
   "outputs": [
    {
     "data": {
      "text/plain": [
       "CL0    982\n",
       "CL3    272\n",
       "CL2    259\n",
       "CL1    208\n",
       "CL4    114\n",
       "CL5     39\n",
       "CL6      3\n",
       "Name: Mushrooms, dtype: int64"
      ]
     },
     "execution_count": 804,
     "metadata": {},
     "output_type": "execute_result"
    }
   ],
   "source": [
    "df.Mushrooms.value_counts()"
   ]
  },
  {
   "cell_type": "code",
   "execution_count": 23,
   "metadata": {},
   "outputs": [
    {
     "data": {
      "text/plain": [
       "CL0    1069\n",
       "CL1     259\n",
       "CL3     214\n",
       "CL2     177\n",
       "CL4      97\n",
       "CL5      56\n",
       "CL6      13\n",
       "Name: LSD, dtype: int64"
      ]
     },
     "execution_count": 23,
     "metadata": {},
     "output_type": "execute_result"
    }
   ],
   "source": [
    "df.LSD.value_counts()"
   ]
  },
  {
   "cell_type": "code",
   "execution_count": 24,
   "metadata": {},
   "outputs": [
    {
     "data": {
      "text/plain": [
       "CL0    1877\n",
       "CL2       3\n",
       "CL1       2\n",
       "CL3       2\n",
       "CL4       1\n",
       "Name: Semer, dtype: int64"
      ]
     },
     "execution_count": 24,
     "metadata": {},
     "output_type": "execute_result"
    }
   ],
   "source": [
    "df.Semer.value_counts()"
   ]
  },
  {
   "cell_type": "code",
   "execution_count": 805,
   "metadata": {},
   "outputs": [
    {
     "data": {
      "text/plain": [
       "<matplotlib.axes._subplots.AxesSubplot at 0x1a23e97390>"
      ]
     },
     "execution_count": 805,
     "metadata": {},
     "output_type": "execute_result"
    },
    {
     "data": {
      "image/png": "[encoded data removed]",
      "text/plain": [
       "<Figure size 432x288 with 1 Axes>"
      ]
     },
     "metadata": {},
     "output_type": "display_data"
    }
   ],
   "source": [
    "df.VSA.value_counts().hist()"
   ]
  },
  {
   "cell_type": "code",
   "execution_count": 97,
   "metadata": {},
   "outputs": [
    {
     "data": {
      "text/html": [
       "<div>\n",
       "<style scoped>\n",
       "    .dataframe tbody tr th:only-of-type {\n",
       "        vertical-align: middle;\n",
       "    }\n",
       "\n",
       "    .dataframe tbody tr th {\n",
       "        vertical-align: top;\n",
       "    }\n",
       "\n",
       "    .dataframe thead th {\n",
       "        text-align: right;\n",
       "    }\n",
       "</style>\n",
       "<table border=\"1\" class=\"dataframe\">\n",
       "  <thead>\n",
       "    <tr style=\"text-align: right;\">\n",
       "      <th></th>\n",
       "      <th>Age</th>\n",
       "      <th>Gender</th>\n",
       "      <th>Education</th>\n",
       "      <th>Nscore</th>\n",
       "      <th>Escore</th>\n",
       "      <th>Oscore</th>\n",
       "      <th>Ascore</th>\n",
       "      <th>Cscore</th>\n",
       "      <th>Impulsive</th>\n",
       "      <th>SS</th>\n",
       "      <th>Alcohol</th>\n",
       "      <th>Amphet</th>\n",
       "      <th>Amyl</th>\n",
       "      <th>Benzos</th>\n",
       "      <th>Cannabis</th>\n",
       "      <th>Coke</th>\n",
       "      <th>Crack</th>\n",
       "      <th>Ecstasy</th>\n",
       "      <th>Heroin</th>\n",
       "      <th>Ketamine</th>\n",
       "      <th>LSD</th>\n",
       "      <th>Meth</th>\n",
       "      <th>Mushrooms</th>\n",
       "      <th>Nicotine</th>\n",
       "      <th>Semer</th>\n",
       "      <th>VSA</th>\n",
       "      <th>Drug_Use</th>\n",
       "    </tr>\n",
       "  </thead>\n",
       "  <tbody>\n",
       "    <tr>\n",
       "      <th>0</th>\n",
       "      <td>0.49788</td>\n",
       "      <td>0.48246</td>\n",
       "      <td>-0.05921</td>\n",
       "      <td>0.31287</td>\n",
       "      <td>-0.57545</td>\n",
       "      <td>-0.58331</td>\n",
       "      <td>-0.91699</td>\n",
       "      <td>-0.00665</td>\n",
       "      <td>-0.21712</td>\n",
       "      <td>-1.18084</td>\n",
       "      <td>1</td>\n",
       "      <td>1</td>\n",
       "      <td>CL0</td>\n",
       "      <td>1</td>\n",
       "      <td>0</td>\n",
       "      <td>0</td>\n",
       "      <td>0</td>\n",
       "      <td>0</td>\n",
       "      <td>0</td>\n",
       "      <td>0</td>\n",
       "      <td>CL0</td>\n",
       "      <td>CL0</td>\n",
       "      <td>CL0</td>\n",
       "      <td>CL2</td>\n",
       "      <td>CL0</td>\n",
       "      <td>CL0</td>\n",
       "      <td>1</td>\n",
       "    </tr>\n",
       "    <tr>\n",
       "      <th>1</th>\n",
       "      <td>-0.07854</td>\n",
       "      <td>-0.48246</td>\n",
       "      <td>1.98437</td>\n",
       "      <td>-0.67825</td>\n",
       "      <td>1.93886</td>\n",
       "      <td>1.43533</td>\n",
       "      <td>0.76096</td>\n",
       "      <td>-0.14277</td>\n",
       "      <td>-0.71126</td>\n",
       "      <td>-0.21575</td>\n",
       "      <td>1</td>\n",
       "      <td>1</td>\n",
       "      <td>CL2</td>\n",
       "      <td>0</td>\n",
       "      <td>1</td>\n",
       "      <td>1</td>\n",
       "      <td>0</td>\n",
       "      <td>1</td>\n",
       "      <td>0</td>\n",
       "      <td>1</td>\n",
       "      <td>CL2</td>\n",
       "      <td>CL3</td>\n",
       "      <td>CL0</td>\n",
       "      <td>CL4</td>\n",
       "      <td>CL0</td>\n",
       "      <td>CL0</td>\n",
       "      <td>1</td>\n",
       "    </tr>\n",
       "    <tr>\n",
       "      <th>2</th>\n",
       "      <td>0.49788</td>\n",
       "      <td>-0.48246</td>\n",
       "      <td>-0.05921</td>\n",
       "      <td>-0.46725</td>\n",
       "      <td>0.80523</td>\n",
       "      <td>-0.84732</td>\n",
       "      <td>-1.62090</td>\n",
       "      <td>-1.01450</td>\n",
       "      <td>-1.37983</td>\n",
       "      <td>0.40148</td>\n",
       "      <td>1</td>\n",
       "      <td>0</td>\n",
       "      <td>CL0</td>\n",
       "      <td>0</td>\n",
       "      <td>0</td>\n",
       "      <td>0</td>\n",
       "      <td>0</td>\n",
       "      <td>0</td>\n",
       "      <td>0</td>\n",
       "      <td>0</td>\n",
       "      <td>CL0</td>\n",
       "      <td>CL0</td>\n",
       "      <td>CL1</td>\n",
       "      <td>CL0</td>\n",
       "      <td>CL0</td>\n",
       "      <td>CL0</td>\n",
       "      <td>0</td>\n",
       "    </tr>\n",
       "    <tr>\n",
       "      <th>3</th>\n",
       "      <td>-0.95197</td>\n",
       "      <td>0.48246</td>\n",
       "      <td>1.16365</td>\n",
       "      <td>-0.14882</td>\n",
       "      <td>-0.80615</td>\n",
       "      <td>-0.01928</td>\n",
       "      <td>0.59042</td>\n",
       "      <td>0.58489</td>\n",
       "      <td>-1.37983</td>\n",
       "      <td>-1.18084</td>\n",
       "      <td>1</td>\n",
       "      <td>0</td>\n",
       "      <td>CL0</td>\n",
       "      <td>1</td>\n",
       "      <td>0</td>\n",
       "      <td>1</td>\n",
       "      <td>0</td>\n",
       "      <td>0</td>\n",
       "      <td>0</td>\n",
       "      <td>1</td>\n",
       "      <td>CL0</td>\n",
       "      <td>CL0</td>\n",
       "      <td>CL0</td>\n",
       "      <td>CL2</td>\n",
       "      <td>CL0</td>\n",
       "      <td>CL0</td>\n",
       "      <td>1</td>\n",
       "    </tr>\n",
       "    <tr>\n",
       "      <th>4</th>\n",
       "      <td>0.49788</td>\n",
       "      <td>0.48246</td>\n",
       "      <td>1.98437</td>\n",
       "      <td>0.73545</td>\n",
       "      <td>-1.63340</td>\n",
       "      <td>-0.45174</td>\n",
       "      <td>-0.30172</td>\n",
       "      <td>1.30612</td>\n",
       "      <td>-0.21712</td>\n",
       "      <td>-0.21575</td>\n",
       "      <td>1</td>\n",
       "      <td>0</td>\n",
       "      <td>CL1</td>\n",
       "      <td>0</td>\n",
       "      <td>0</td>\n",
       "      <td>0</td>\n",
       "      <td>0</td>\n",
       "      <td>0</td>\n",
       "      <td>0</td>\n",
       "      <td>0</td>\n",
       "      <td>CL0</td>\n",
       "      <td>CL0</td>\n",
       "      <td>CL2</td>\n",
       "      <td>CL2</td>\n",
       "      <td>CL0</td>\n",
       "      <td>CL0</td>\n",
       "      <td>0</td>\n",
       "    </tr>\n",
       "  </tbody>\n",
       "</table>\n",
       "</div>"
      ],
      "text/plain": [
       "       Age   Gender  Education   Nscore   Escore   Oscore   Ascore   Cscore  \\\n",
       "0  0.49788  0.48246   -0.05921  0.31287 -0.57545 -0.58331 -0.91699 -0.00665   \n",
       "1 -0.07854 -0.48246    1.98437 -0.67825  1.93886  1.43533  0.76096 -0.14277   \n",
       "2  0.49788 -0.48246   -0.05921 -0.46725  0.80523 -0.84732 -1.62090 -1.01450   \n",
       "3 -0.95197  0.48246    1.16365 -0.14882 -0.80615 -0.01928  0.59042  0.58489   \n",
       "4  0.49788  0.48246    1.98437  0.73545 -1.63340 -0.45174 -0.30172  1.30612   \n",
       "\n",
       "   Impulsive       SS Alcohol  Amphet Amyl  Benzos Cannabis  Coke  Crack  \\\n",
       "0   -0.21712 -1.18084       1       1  CL0       1        0     0      0   \n",
       "1   -0.71126 -0.21575       1       1  CL2       0        1     1      0   \n",
       "2   -1.37983  0.40148       1       0  CL0       0        0     0      0   \n",
       "3   -1.37983 -1.18084       1       0  CL0       1        0     1      0   \n",
       "4   -0.21712 -0.21575       1       0  CL1       0        0     0      0   \n",
       "\n",
       "   Ecstasy  Heroin  Ketamine  LSD Meth Mushrooms Nicotine Semer  VSA  Drug_Use  \n",
       "0        0       0         0  CL0  CL0       CL0      CL2   CL0  CL0         1  \n",
       "1        1       0         1  CL2  CL3       CL0      CL4   CL0  CL0         1  \n",
       "2        0       0         0  CL0  CL0       CL1      CL0   CL0  CL0         0  \n",
       "3        0       0         1  CL0  CL0       CL0      CL2   CL0  CL0         1  \n",
       "4        0       0         0  CL0  CL0       CL2      CL2   CL0  CL0         0  "
      ]
     },
     "execution_count": 97,
     "metadata": {},
     "output_type": "execute_result"
    }
   ],
   "source": [
    "df.head()"
   ]
  },
  {
   "cell_type": "code",
   "execution_count": 25,
   "metadata": {},
   "outputs": [
    {
     "data": {
      "text/html": [
       "<div>\n",
       "<style scoped>\n",
       "    .dataframe tbody tr th:only-of-type {\n",
       "        vertical-align: middle;\n",
       "    }\n",
       "\n",
       "    .dataframe tbody tr th {\n",
       "        vertical-align: top;\n",
       "    }\n",
       "\n",
       "    .dataframe thead th {\n",
       "        text-align: right;\n",
       "    }\n",
       "</style>\n",
       "<table border=\"1\" class=\"dataframe\">\n",
       "  <thead>\n",
       "    <tr style=\"text-align: right;\">\n",
       "      <th></th>\n",
       "      <th>Age</th>\n",
       "      <th>Gender</th>\n",
       "      <th>Education</th>\n",
       "      <th>Country</th>\n",
       "      <th>Nscore</th>\n",
       "      <th>Escore</th>\n",
       "      <th>Oscore</th>\n",
       "      <th>Ascore</th>\n",
       "      <th>Cscore</th>\n",
       "      <th>Impulsive</th>\n",
       "      <th>SS</th>\n",
       "      <th>Alcohol</th>\n",
       "      <th>Amphet</th>\n",
       "      <th>Amyl</th>\n",
       "      <th>Benzos</th>\n",
       "      <th>Cannabis</th>\n",
       "      <th>Coke</th>\n",
       "      <th>Crack</th>\n",
       "      <th>Ecstasy</th>\n",
       "      <th>Heroin</th>\n",
       "      <th>Ketamine</th>\n",
       "      <th>LSD</th>\n",
       "      <th>Meth</th>\n",
       "      <th>Mushrooms</th>\n",
       "      <th>Nicotine</th>\n",
       "      <th>Semer</th>\n",
       "      <th>VSA</th>\n",
       "      <th>Drug_Use</th>\n",
       "    </tr>\n",
       "  </thead>\n",
       "  <tbody>\n",
       "    <tr>\n",
       "      <th>727</th>\n",
       "      <td>-0.07854</td>\n",
       "      <td>0.48246</td>\n",
       "      <td>-1.43719</td>\n",
       "      <td>-0.09765</td>\n",
       "      <td>-0.58016</td>\n",
       "      <td>0.32197</td>\n",
       "      <td>0.14143</td>\n",
       "      <td>-0.60633</td>\n",
       "      <td>0.12331</td>\n",
       "      <td>1.29221</td>\n",
       "      <td>0.76540</td>\n",
       "      <td>CL6</td>\n",
       "      <td>1</td>\n",
       "      <td>CL2</td>\n",
       "      <td>1</td>\n",
       "      <td>CL6</td>\n",
       "      <td>1</td>\n",
       "      <td>1</td>\n",
       "      <td>1</td>\n",
       "      <td>1</td>\n",
       "      <td>1</td>\n",
       "      <td>CL4</td>\n",
       "      <td>CL2</td>\n",
       "      <td>CL6</td>\n",
       "      <td>CL6</td>\n",
       "      <td>CL2</td>\n",
       "      <td>CL2</td>\n",
       "      <td>1</td>\n",
       "    </tr>\n",
       "    <tr>\n",
       "      <th>817</th>\n",
       "      <td>-0.95197</td>\n",
       "      <td>-0.48246</td>\n",
       "      <td>-0.61113</td>\n",
       "      <td>-0.09765</td>\n",
       "      <td>-0.67825</td>\n",
       "      <td>1.74091</td>\n",
       "      <td>0.72330</td>\n",
       "      <td>0.13136</td>\n",
       "      <td>0.41594</td>\n",
       "      <td>0.88113</td>\n",
       "      <td>1.92173</td>\n",
       "      <td>CL3</td>\n",
       "      <td>0</td>\n",
       "      <td>CL0</td>\n",
       "      <td>0</td>\n",
       "      <td>CL4</td>\n",
       "      <td>0</td>\n",
       "      <td>0</td>\n",
       "      <td>1</td>\n",
       "      <td>0</td>\n",
       "      <td>0</td>\n",
       "      <td>CL5</td>\n",
       "      <td>CL0</td>\n",
       "      <td>CL5</td>\n",
       "      <td>CL4</td>\n",
       "      <td>CL3</td>\n",
       "      <td>CL0</td>\n",
       "      <td>1</td>\n",
       "    </tr>\n",
       "    <tr>\n",
       "      <th>1516</th>\n",
       "      <td>-0.95197</td>\n",
       "      <td>-0.48246</td>\n",
       "      <td>-0.61113</td>\n",
       "      <td>-0.57009</td>\n",
       "      <td>-0.24649</td>\n",
       "      <td>-0.80615</td>\n",
       "      <td>-1.27553</td>\n",
       "      <td>-1.34289</td>\n",
       "      <td>-1.92173</td>\n",
       "      <td>-0.71126</td>\n",
       "      <td>0.07987</td>\n",
       "      <td>CL0</td>\n",
       "      <td>1</td>\n",
       "      <td>CL3</td>\n",
       "      <td>1</td>\n",
       "      <td>CL4</td>\n",
       "      <td>1</td>\n",
       "      <td>1</td>\n",
       "      <td>0</td>\n",
       "      <td>1</td>\n",
       "      <td>0</td>\n",
       "      <td>CL1</td>\n",
       "      <td>CL2</td>\n",
       "      <td>CL4</td>\n",
       "      <td>CL2</td>\n",
       "      <td>CL3</td>\n",
       "      <td>CL1</td>\n",
       "      <td>1</td>\n",
       "    </tr>\n",
       "    <tr>\n",
       "      <th>1533</th>\n",
       "      <td>-0.95197</td>\n",
       "      <td>0.48246</td>\n",
       "      <td>-0.61113</td>\n",
       "      <td>-0.57009</td>\n",
       "      <td>-0.46725</td>\n",
       "      <td>0.80523</td>\n",
       "      <td>0.29338</td>\n",
       "      <td>2.03972</td>\n",
       "      <td>1.81175</td>\n",
       "      <td>-1.37983</td>\n",
       "      <td>-0.21575</td>\n",
       "      <td>CL5</td>\n",
       "      <td>1</td>\n",
       "      <td>CL0</td>\n",
       "      <td>1</td>\n",
       "      <td>CL3</td>\n",
       "      <td>1</td>\n",
       "      <td>0</td>\n",
       "      <td>1</td>\n",
       "      <td>0</td>\n",
       "      <td>1</td>\n",
       "      <td>CL2</td>\n",
       "      <td>CL0</td>\n",
       "      <td>CL3</td>\n",
       "      <td>CL4</td>\n",
       "      <td>CL4</td>\n",
       "      <td>CL3</td>\n",
       "      <td>1</td>\n",
       "    </tr>\n",
       "    <tr>\n",
       "      <th>1698</th>\n",
       "      <td>0.49788</td>\n",
       "      <td>0.48246</td>\n",
       "      <td>0.45468</td>\n",
       "      <td>-0.57009</td>\n",
       "      <td>1.98437</td>\n",
       "      <td>-0.80615</td>\n",
       "      <td>2.15324</td>\n",
       "      <td>0.76096</td>\n",
       "      <td>-0.00665</td>\n",
       "      <td>1.29221</td>\n",
       "      <td>1.92173</td>\n",
       "      <td>CL6</td>\n",
       "      <td>0</td>\n",
       "      <td>CL0</td>\n",
       "      <td>1</td>\n",
       "      <td>CL6</td>\n",
       "      <td>1</td>\n",
       "      <td>0</td>\n",
       "      <td>1</td>\n",
       "      <td>0</td>\n",
       "      <td>1</td>\n",
       "      <td>CL2</td>\n",
       "      <td>CL0</td>\n",
       "      <td>CL2</td>\n",
       "      <td>CL6</td>\n",
       "      <td>CL2</td>\n",
       "      <td>CL0</td>\n",
       "      <td>1</td>\n",
       "    </tr>\n",
       "    <tr>\n",
       "      <th>1769</th>\n",
       "      <td>-0.95197</td>\n",
       "      <td>-0.48246</td>\n",
       "      <td>-1.22751</td>\n",
       "      <td>-0.57009</td>\n",
       "      <td>-0.34799</td>\n",
       "      <td>1.28610</td>\n",
       "      <td>1.06238</td>\n",
       "      <td>-0.01729</td>\n",
       "      <td>-0.52745</td>\n",
       "      <td>0.52975</td>\n",
       "      <td>1.22470</td>\n",
       "      <td>CL4</td>\n",
       "      <td>1</td>\n",
       "      <td>CL0</td>\n",
       "      <td>1</td>\n",
       "      <td>CL6</td>\n",
       "      <td>0</td>\n",
       "      <td>0</td>\n",
       "      <td>1</td>\n",
       "      <td>0</td>\n",
       "      <td>1</td>\n",
       "      <td>CL6</td>\n",
       "      <td>CL3</td>\n",
       "      <td>CL3</td>\n",
       "      <td>CL3</td>\n",
       "      <td>CL1</td>\n",
       "      <td>CL3</td>\n",
       "      <td>1</td>\n",
       "    </tr>\n",
       "    <tr>\n",
       "      <th>1806</th>\n",
       "      <td>-0.95197</td>\n",
       "      <td>0.48246</td>\n",
       "      <td>-1.43719</td>\n",
       "      <td>-0.57009</td>\n",
       "      <td>1.23461</td>\n",
       "      <td>1.11406</td>\n",
       "      <td>1.06238</td>\n",
       "      <td>-1.47955</td>\n",
       "      <td>0.12331</td>\n",
       "      <td>0.88113</td>\n",
       "      <td>1.92173</td>\n",
       "      <td>CL4</td>\n",
       "      <td>1</td>\n",
       "      <td>CL0</td>\n",
       "      <td>1</td>\n",
       "      <td>CL6</td>\n",
       "      <td>1</td>\n",
       "      <td>1</td>\n",
       "      <td>1</td>\n",
       "      <td>1</td>\n",
       "      <td>0</td>\n",
       "      <td>CL1</td>\n",
       "      <td>CL0</td>\n",
       "      <td>CL1</td>\n",
       "      <td>CL6</td>\n",
       "      <td>CL1</td>\n",
       "      <td>CL2</td>\n",
       "      <td>1</td>\n",
       "    </tr>\n",
       "    <tr>\n",
       "      <th>1823</th>\n",
       "      <td>-0.95197</td>\n",
       "      <td>0.48246</td>\n",
       "      <td>0.45468</td>\n",
       "      <td>-0.57009</td>\n",
       "      <td>0.22393</td>\n",
       "      <td>-0.30033</td>\n",
       "      <td>0.88309</td>\n",
       "      <td>1.28610</td>\n",
       "      <td>-0.00665</td>\n",
       "      <td>0.88113</td>\n",
       "      <td>0.07987</td>\n",
       "      <td>CL4</td>\n",
       "      <td>0</td>\n",
       "      <td>CL0</td>\n",
       "      <td>1</td>\n",
       "      <td>CL6</td>\n",
       "      <td>1</td>\n",
       "      <td>0</td>\n",
       "      <td>0</td>\n",
       "      <td>0</td>\n",
       "      <td>0</td>\n",
       "      <td>CL3</td>\n",
       "      <td>CL0</td>\n",
       "      <td>CL3</td>\n",
       "      <td>CL5</td>\n",
       "      <td>CL2</td>\n",
       "      <td>CL0</td>\n",
       "      <td>1</td>\n",
       "    </tr>\n",
       "  </tbody>\n",
       "</table>\n",
       "</div>"
      ],
      "text/plain": [
       "          Age   Gender  Education  Country   Nscore   Escore   Oscore  \\\n",
       "727  -0.07854  0.48246   -1.43719 -0.09765 -0.58016  0.32197  0.14143   \n",
       "817  -0.95197 -0.48246   -0.61113 -0.09765 -0.67825  1.74091  0.72330   \n",
       "1516 -0.95197 -0.48246   -0.61113 -0.57009 -0.24649 -0.80615 -1.27553   \n",
       "1533 -0.95197  0.48246   -0.61113 -0.57009 -0.46725  0.80523  0.29338   \n",
       "1698  0.49788  0.48246    0.45468 -0.57009  1.98437 -0.80615  2.15324   \n",
       "1769 -0.95197 -0.48246   -1.22751 -0.57009 -0.34799  1.28610  1.06238   \n",
       "1806 -0.95197  0.48246   -1.43719 -0.57009  1.23461  1.11406  1.06238   \n",
       "1823 -0.95197  0.48246    0.45468 -0.57009  0.22393 -0.30033  0.88309   \n",
       "\n",
       "       Ascore   Cscore  Impulsive       SS Alcohol  Amphet Amyl  Benzos  \\\n",
       "727  -0.60633  0.12331    1.29221  0.76540     CL6       1  CL2       1   \n",
       "817   0.13136  0.41594    0.88113  1.92173     CL3       0  CL0       0   \n",
       "1516 -1.34289 -1.92173   -0.71126  0.07987     CL0       1  CL3       1   \n",
       "1533  2.03972  1.81175   -1.37983 -0.21575     CL5       1  CL0       1   \n",
       "1698  0.76096 -0.00665    1.29221  1.92173     CL6       0  CL0       1   \n",
       "1769 -0.01729 -0.52745    0.52975  1.22470     CL4       1  CL0       1   \n",
       "1806 -1.47955  0.12331    0.88113  1.92173     CL4       1  CL0       1   \n",
       "1823  1.28610 -0.00665    0.88113  0.07987     CL4       0  CL0       1   \n",
       "\n",
       "     Cannabis  Coke  Crack  Ecstasy  Heroin  Ketamine  LSD Meth Mushrooms  \\\n",
       "727       CL6     1      1        1       1         1  CL4  CL2       CL6   \n",
       "817       CL4     0      0        1       0         0  CL5  CL0       CL5   \n",
       "1516      CL4     1      1        0       1         0  CL1  CL2       CL4   \n",
       "1533      CL3     1      0        1       0         1  CL2  CL0       CL3   \n",
       "1698      CL6     1      0        1       0         1  CL2  CL0       CL2   \n",
       "1769      CL6     0      0        1       0         1  CL6  CL3       CL3   \n",
       "1806      CL6     1      1        1       1         0  CL1  CL0       CL1   \n",
       "1823      CL6     1      0        0       0         0  CL3  CL0       CL3   \n",
       "\n",
       "     Nicotine Semer  VSA  Drug_Use  \n",
       "727       CL6   CL2  CL2         1  \n",
       "817       CL4   CL3  CL0         1  \n",
       "1516      CL2   CL3  CL1         1  \n",
       "1533      CL4   CL4  CL3         1  \n",
       "1698      CL6   CL2  CL0         1  \n",
       "1769      CL3   CL1  CL3         1  \n",
       "1806      CL6   CL1  CL2         1  \n",
       "1823      CL5   CL2  CL0         1  "
      ]
     },
     "execution_count": 25,
     "metadata": {},
     "output_type": "execute_result"
    }
   ],
   "source": [
    "#full of shit df\n",
    "df[df['Semer'] != 'CL0']"
   ]
  },
  {
   "cell_type": "code",
   "execution_count": 67,
   "metadata": {},
   "outputs": [],
   "source": [
    "df = df[df['Semer'] == 'CL0']"
   ]
  },
  {
   "cell_type": "code",
   "execution_count": 26,
   "metadata": {},
   "outputs": [
    {
     "name": "stderr",
     "output_type": "stream",
     "text": [
      "/anaconda3/envs/learn-env/lib/python3.6/site-packages/ipykernel_launcher.py:3: SettingWithCopyWarning: \n",
      "A value is trying to be set on a copy of a slice from a DataFrame\n",
      "\n",
      "See the caveats in the documentation: http://pandas.pydata.org/pandas-docs/stable/indexing.html#indexing-view-versus-copy\n",
      "  This is separate from the ipykernel package so we can avoid doing imports until\n",
      "/anaconda3/envs/learn-env/lib/python3.6/site-packages/ipykernel_launcher.py:5: SettingWithCopyWarning: \n",
      "A value is trying to be set on a copy of a slice from a DataFrame\n",
      "\n",
      "See the caveats in the documentation: http://pandas.pydata.org/pandas-docs/stable/indexing.html#indexing-view-versus-copy\n",
      "  \"\"\"\n"
     ]
    }
   ],
   "source": [
    "#used in the last month\n",
    "for i in range(len(df)):\n",
    "    if df.Alcohol[i] == 'CL4' or df.Alcohol[i] == 'CL5' or df.Alcohol[i] == 'CL6':\n",
    "        df.Alcohol[i] = 1\n",
    "    else:\n",
    "        df.Alcohol[i] = 0"
   ]
  },
  {
   "cell_type": "code",
   "execution_count": 27,
   "metadata": {},
   "outputs": [
    {
     "name": "stderr",
     "output_type": "stream",
     "text": [
      "/anaconda3/envs/learn-env/lib/python3.6/site-packages/ipykernel_launcher.py:5: SettingWithCopyWarning: \n",
      "A value is trying to be set on a copy of a slice from a DataFrame\n",
      "\n",
      "See the caveats in the documentation: http://pandas.pydata.org/pandas-docs/stable/indexing.html#indexing-view-versus-copy\n",
      "  \"\"\"\n",
      "/anaconda3/envs/learn-env/lib/python3.6/site-packages/ipykernel_launcher.py:3: SettingWithCopyWarning: \n",
      "A value is trying to be set on a copy of a slice from a DataFrame\n",
      "\n",
      "See the caveats in the documentation: http://pandas.pydata.org/pandas-docs/stable/indexing.html#indexing-view-versus-copy\n",
      "  This is separate from the ipykernel package so we can avoid doing imports until\n"
     ]
    }
   ],
   "source": [
    "#used in the last month\n",
    "for i in range(len(df)):\n",
    "    if df.Cannabis[i] == 'CL4' or df.Cannabis[i] == 'CL5' or df.Cannabis[i] == 'CL6':\n",
    "        df.Cannabis[i] = 1\n",
    "    else:\n",
    "        df.Cannabis[i] = 0"
   ]
  },
  {
   "cell_type": "code",
   "execution_count": 37,
   "metadata": {},
   "outputs": [
    {
     "data": {
      "image/png": "[encoded data removed]",
      "text/plain": [
       "<Figure size 432x288 with 1 Axes>"
      ]
     },
     "metadata": {
      "needs_background": "light"
     },
     "output_type": "display_data"
    }
   ],
   "source": [
    "sns.distplot(df.Nscore);"
   ]
  },
  {
   "cell_type": "code",
   "execution_count": 39,
   "metadata": {},
   "outputs": [
    {
     "data": {
      "image/png": "[encoded data removed]",
      "text/plain": [
       "<Figure size 432x288 with 1 Axes>"
      ]
     },
     "metadata": {
      "needs_background": "light"
     },
     "output_type": "display_data"
    }
   ],
   "source": [
    "sns.distplot(df.Escore);"
   ]
  },
  {
   "cell_type": "code",
   "execution_count": 40,
   "metadata": {},
   "outputs": [
    {
     "data": {
      "image/png": "[encoded data removed]",
      "text/plain": [
       "<Figure size 432x288 with 1 Axes>"
      ]
     },
     "metadata": {
      "needs_background": "light"
     },
     "output_type": "display_data"
    }
   ],
   "source": [
    "sns.distplot(df.Oscore);"
   ]
  },
  {
   "cell_type": "code",
   "execution_count": 41,
   "metadata": {},
   "outputs": [
    {
     "data": {
      "image/png": "[encoded data removed]",
      "text/plain": [
       "<Figure size 432x288 with 1 Axes>"
      ]
     },
     "metadata": {
      "needs_background": "light"
     },
     "output_type": "display_data"
    }
   ],
   "source": [
    "sns.distplot(df.Ascore);"
   ]
  },
  {
   "cell_type": "code",
   "execution_count": 42,
   "metadata": {},
   "outputs": [
    {
     "data": {
      "image/png": "[encoded data removed]",
      "text/plain": [
       "<Figure size 432x288 with 1 Axes>"
      ]
     },
     "metadata": {
      "needs_background": "light"
     },
     "output_type": "display_data"
    }
   ],
   "source": [
    "sns.distplot(df.Cscore);"
   ]
  },
  {
   "cell_type": "code",
   "execution_count": 44,
   "metadata": {},
   "outputs": [
    {
     "data": {
      "image/png": "[encoded data removed]",
      "text/plain": [
       "<Figure size 432x288 with 1 Axes>"
      ]
     },
     "metadata": {
      "needs_background": "light"
     },
     "output_type": "display_data"
    }
   ],
   "source": [
    "sns.distplot(df.Education);"
   ]
  },
  {
   "cell_type": "code",
   "execution_count": 78,
   "metadata": {},
   "outputs": [],
   "source": [
    "df = df.drop(['Country'], axis=1)"
   ]
  },
  {
   "cell_type": "code",
   "execution_count": 137,
   "metadata": {},
   "outputs": [
    {
     "data": {
      "text/html": [
       "<div>\n",
       "<style scoped>\n",
       "    .dataframe tbody tr th:only-of-type {\n",
       "        vertical-align: middle;\n",
       "    }\n",
       "\n",
       "    .dataframe tbody tr th {\n",
       "        vertical-align: top;\n",
       "    }\n",
       "\n",
       "    .dataframe thead th {\n",
       "        text-align: right;\n",
       "    }\n",
       "</style>\n",
       "<table border=\"1\" class=\"dataframe\">\n",
       "  <thead>\n",
       "    <tr style=\"text-align: right;\">\n",
       "      <th></th>\n",
       "      <th>Age</th>\n",
       "      <th>Gender</th>\n",
       "      <th>Education</th>\n",
       "      <th>Nscore</th>\n",
       "      <th>Escore</th>\n",
       "      <th>Oscore</th>\n",
       "      <th>Ascore</th>\n",
       "      <th>Cscore</th>\n",
       "      <th>Impulsive</th>\n",
       "      <th>SS</th>\n",
       "      <th>Alcohol</th>\n",
       "      <th>Amphet</th>\n",
       "      <th>Amyl</th>\n",
       "      <th>Benzos</th>\n",
       "      <th>Cannabis</th>\n",
       "      <th>Coke</th>\n",
       "      <th>Crack</th>\n",
       "      <th>Ecstasy</th>\n",
       "      <th>Heroin</th>\n",
       "      <th>Ketamine</th>\n",
       "      <th>LSD</th>\n",
       "      <th>Meth</th>\n",
       "      <th>Mushrooms</th>\n",
       "      <th>Nicotine</th>\n",
       "      <th>Semer</th>\n",
       "      <th>VSA</th>\n",
       "      <th>Drug_Use</th>\n",
       "    </tr>\n",
       "  </thead>\n",
       "  <tbody>\n",
       "    <tr>\n",
       "      <th>0</th>\n",
       "      <td>0.49788</td>\n",
       "      <td>0.48246</td>\n",
       "      <td>-0.05921</td>\n",
       "      <td>0.31287</td>\n",
       "      <td>-0.57545</td>\n",
       "      <td>-0.58331</td>\n",
       "      <td>-0.91699</td>\n",
       "      <td>-0.00665</td>\n",
       "      <td>-0.21712</td>\n",
       "      <td>-1.18084</td>\n",
       "      <td>1</td>\n",
       "      <td>1</td>\n",
       "      <td>CL0</td>\n",
       "      <td>1</td>\n",
       "      <td>0</td>\n",
       "      <td>0</td>\n",
       "      <td>0</td>\n",
       "      <td>0</td>\n",
       "      <td>0</td>\n",
       "      <td>0</td>\n",
       "      <td>CL0</td>\n",
       "      <td>CL0</td>\n",
       "      <td>CL0</td>\n",
       "      <td>CL2</td>\n",
       "      <td>CL0</td>\n",
       "      <td>CL0</td>\n",
       "      <td>1</td>\n",
       "    </tr>\n",
       "    <tr>\n",
       "      <th>1</th>\n",
       "      <td>-0.07854</td>\n",
       "      <td>-0.48246</td>\n",
       "      <td>1.98437</td>\n",
       "      <td>-0.67825</td>\n",
       "      <td>1.93886</td>\n",
       "      <td>1.43533</td>\n",
       "      <td>0.76096</td>\n",
       "      <td>-0.14277</td>\n",
       "      <td>-0.71126</td>\n",
       "      <td>-0.21575</td>\n",
       "      <td>1</td>\n",
       "      <td>1</td>\n",
       "      <td>CL2</td>\n",
       "      <td>0</td>\n",
       "      <td>1</td>\n",
       "      <td>1</td>\n",
       "      <td>0</td>\n",
       "      <td>1</td>\n",
       "      <td>0</td>\n",
       "      <td>1</td>\n",
       "      <td>CL2</td>\n",
       "      <td>CL3</td>\n",
       "      <td>CL0</td>\n",
       "      <td>CL4</td>\n",
       "      <td>CL0</td>\n",
       "      <td>CL0</td>\n",
       "      <td>1</td>\n",
       "    </tr>\n",
       "    <tr>\n",
       "      <th>2</th>\n",
       "      <td>0.49788</td>\n",
       "      <td>-0.48246</td>\n",
       "      <td>-0.05921</td>\n",
       "      <td>-0.46725</td>\n",
       "      <td>0.80523</td>\n",
       "      <td>-0.84732</td>\n",
       "      <td>-1.62090</td>\n",
       "      <td>-1.01450</td>\n",
       "      <td>-1.37983</td>\n",
       "      <td>0.40148</td>\n",
       "      <td>1</td>\n",
       "      <td>0</td>\n",
       "      <td>CL0</td>\n",
       "      <td>0</td>\n",
       "      <td>0</td>\n",
       "      <td>0</td>\n",
       "      <td>0</td>\n",
       "      <td>0</td>\n",
       "      <td>0</td>\n",
       "      <td>0</td>\n",
       "      <td>CL0</td>\n",
       "      <td>CL0</td>\n",
       "      <td>CL1</td>\n",
       "      <td>CL0</td>\n",
       "      <td>CL0</td>\n",
       "      <td>CL0</td>\n",
       "      <td>0</td>\n",
       "    </tr>\n",
       "    <tr>\n",
       "      <th>3</th>\n",
       "      <td>-0.95197</td>\n",
       "      <td>0.48246</td>\n",
       "      <td>1.16365</td>\n",
       "      <td>-0.14882</td>\n",
       "      <td>-0.80615</td>\n",
       "      <td>-0.01928</td>\n",
       "      <td>0.59042</td>\n",
       "      <td>0.58489</td>\n",
       "      <td>-1.37983</td>\n",
       "      <td>-1.18084</td>\n",
       "      <td>1</td>\n",
       "      <td>0</td>\n",
       "      <td>CL0</td>\n",
       "      <td>1</td>\n",
       "      <td>0</td>\n",
       "      <td>1</td>\n",
       "      <td>0</td>\n",
       "      <td>0</td>\n",
       "      <td>0</td>\n",
       "      <td>1</td>\n",
       "      <td>CL0</td>\n",
       "      <td>CL0</td>\n",
       "      <td>CL0</td>\n",
       "      <td>CL2</td>\n",
       "      <td>CL0</td>\n",
       "      <td>CL0</td>\n",
       "      <td>1</td>\n",
       "    </tr>\n",
       "    <tr>\n",
       "      <th>4</th>\n",
       "      <td>0.49788</td>\n",
       "      <td>0.48246</td>\n",
       "      <td>1.98437</td>\n",
       "      <td>0.73545</td>\n",
       "      <td>-1.63340</td>\n",
       "      <td>-0.45174</td>\n",
       "      <td>-0.30172</td>\n",
       "      <td>1.30612</td>\n",
       "      <td>-0.21712</td>\n",
       "      <td>-0.21575</td>\n",
       "      <td>1</td>\n",
       "      <td>0</td>\n",
       "      <td>CL1</td>\n",
       "      <td>0</td>\n",
       "      <td>0</td>\n",
       "      <td>0</td>\n",
       "      <td>0</td>\n",
       "      <td>0</td>\n",
       "      <td>0</td>\n",
       "      <td>0</td>\n",
       "      <td>CL0</td>\n",
       "      <td>CL0</td>\n",
       "      <td>CL2</td>\n",
       "      <td>CL2</td>\n",
       "      <td>CL0</td>\n",
       "      <td>CL0</td>\n",
       "      <td>0</td>\n",
       "    </tr>\n",
       "  </tbody>\n",
       "</table>\n",
       "</div>"
      ],
      "text/plain": [
       "       Age   Gender  Education   Nscore   Escore   Oscore   Ascore   Cscore  \\\n",
       "0  0.49788  0.48246   -0.05921  0.31287 -0.57545 -0.58331 -0.91699 -0.00665   \n",
       "1 -0.07854 -0.48246    1.98437 -0.67825  1.93886  1.43533  0.76096 -0.14277   \n",
       "2  0.49788 -0.48246   -0.05921 -0.46725  0.80523 -0.84732 -1.62090 -1.01450   \n",
       "3 -0.95197  0.48246    1.16365 -0.14882 -0.80615 -0.01928  0.59042  0.58489   \n",
       "4  0.49788  0.48246    1.98437  0.73545 -1.63340 -0.45174 -0.30172  1.30612   \n",
       "\n",
       "   Impulsive       SS Alcohol  Amphet Amyl  Benzos Cannabis  Coke  Crack  \\\n",
       "0   -0.21712 -1.18084       1       1  CL0       1        0     0      0   \n",
       "1   -0.71126 -0.21575       1       1  CL2       0        1     1      0   \n",
       "2   -1.37983  0.40148       1       0  CL0       0        0     0      0   \n",
       "3   -1.37983 -1.18084       1       0  CL0       1        0     1      0   \n",
       "4   -0.21712 -0.21575       1       0  CL1       0        0     0      0   \n",
       "\n",
       "   Ecstasy  Heroin  Ketamine  LSD Meth Mushrooms Nicotine Semer  VSA  Drug_Use  \n",
       "0        0       0         0  CL0  CL0       CL0      CL2   CL0  CL0         1  \n",
       "1        1       0         1  CL2  CL3       CL0      CL4   CL0  CL0         1  \n",
       "2        0       0         0  CL0  CL0       CL1      CL0   CL0  CL0         0  \n",
       "3        0       0         1  CL0  CL0       CL0      CL2   CL0  CL0         1  \n",
       "4        0       0         0  CL0  CL0       CL2      CL2   CL0  CL0         0  "
      ]
     },
     "execution_count": 137,
     "metadata": {},
     "output_type": "execute_result"
    }
   ],
   "source": [
    "df.head()"
   ]
  },
  {
   "cell_type": "code",
   "execution_count": 807,
   "metadata": {},
   "outputs": [
    {
     "data": {
      "text/plain": [
       "<matplotlib.axes._subplots.AxesSubplot at 0x1a2cc5f198>"
      ]
     },
     "execution_count": 807,
     "metadata": {},
     "output_type": "execute_result"
    },
    {
     "data": {
      "image/png": "[encoded data removed]",
      "text/plain": [
       "<Figure size 432x288 with 1 Axes>"
      ]
     },
     "metadata": {},
     "output_type": "display_data"
    }
   ],
   "source": [
    "df.LSD.value_counts().hist()"
   ]
  },
  {
   "cell_type": "code",
   "execution_count": 99,
   "metadata": {},
   "outputs": [
    {
     "data": {
      "text/plain": [
       "1    1118\n",
       "0     759\n",
       "Name: Drug_Use, dtype: int64"
      ]
     },
     "execution_count": 99,
     "metadata": {},
     "output_type": "execute_result"
    }
   ],
   "source": [
    "df.Drug_Use.value_counts()"
   ]
  },
  {
   "cell_type": "code",
   "execution_count": 101,
   "metadata": {},
   "outputs": [
    {
     "data": {
      "text/plain": [
       "0.595631326584976"
      ]
     },
     "execution_count": 101,
     "metadata": {},
     "output_type": "execute_result"
    }
   ],
   "source": [
    "1118/1877"
   ]
  },
  {
   "cell_type": "code",
   "execution_count": 253,
   "metadata": {
    "scrolled": true
   },
   "outputs": [
    {
     "data": {
      "text/html": [
       "<div>\n",
       "<style scoped>\n",
       "    .dataframe tbody tr th:only-of-type {\n",
       "        vertical-align: middle;\n",
       "    }\n",
       "\n",
       "    .dataframe tbody tr th {\n",
       "        vertical-align: top;\n",
       "    }\n",
       "\n",
       "    .dataframe thead th {\n",
       "        text-align: right;\n",
       "    }\n",
       "</style>\n",
       "<table border=\"1\" class=\"dataframe\">\n",
       "  <thead>\n",
       "    <tr style=\"text-align: right;\">\n",
       "      <th></th>\n",
       "      <th>EDU_17</th>\n",
       "      <th>EDU_18</th>\n",
       "      <th>EDU_Some_college</th>\n",
       "      <th>EDU_Cert</th>\n",
       "      <th>EDU_Uni</th>\n",
       "      <th>EDU_Mas</th>\n",
       "      <th>EDU_Doc</th>\n",
       "    </tr>\n",
       "  </thead>\n",
       "  <tbody>\n",
       "    <tr>\n",
       "      <th>0</th>\n",
       "      <td>0</td>\n",
       "      <td>0</td>\n",
       "      <td>0</td>\n",
       "      <td>1</td>\n",
       "      <td>0</td>\n",
       "      <td>0</td>\n",
       "      <td>0</td>\n",
       "    </tr>\n",
       "    <tr>\n",
       "      <th>1</th>\n",
       "      <td>0</td>\n",
       "      <td>0</td>\n",
       "      <td>0</td>\n",
       "      <td>0</td>\n",
       "      <td>0</td>\n",
       "      <td>0</td>\n",
       "      <td>1</td>\n",
       "    </tr>\n",
       "    <tr>\n",
       "      <th>2</th>\n",
       "      <td>0</td>\n",
       "      <td>0</td>\n",
       "      <td>0</td>\n",
       "      <td>1</td>\n",
       "      <td>0</td>\n",
       "      <td>0</td>\n",
       "      <td>0</td>\n",
       "    </tr>\n",
       "    <tr>\n",
       "      <th>3</th>\n",
       "      <td>0</td>\n",
       "      <td>0</td>\n",
       "      <td>0</td>\n",
       "      <td>0</td>\n",
       "      <td>0</td>\n",
       "      <td>1</td>\n",
       "      <td>0</td>\n",
       "    </tr>\n",
       "    <tr>\n",
       "      <th>4</th>\n",
       "      <td>0</td>\n",
       "      <td>0</td>\n",
       "      <td>0</td>\n",
       "      <td>0</td>\n",
       "      <td>0</td>\n",
       "      <td>0</td>\n",
       "      <td>1</td>\n",
       "    </tr>\n",
       "  </tbody>\n",
       "</table>\n",
       "</div>"
      ],
      "text/plain": [
       "   EDU_17  EDU_18  EDU_Some_college  EDU_Cert  EDU_Uni  EDU_Mas  EDU_Doc\n",
       "0       0       0                 0         1        0        0        0\n",
       "1       0       0                 0         0        0        0        1\n",
       "2       0       0                 0         1        0        0        0\n",
       "3       0       0                 0         0        0        1        0\n",
       "4       0       0                 0         0        0        0        1"
      ]
     },
     "execution_count": 253,
     "metadata": {},
     "output_type": "execute_result"
    }
   ],
   "source": [
    "edu_dummies.head()"
   ]
  },
  {
   "cell_type": "code",
   "execution_count": 258,
   "metadata": {},
   "outputs": [
    {
     "data": {
      "text/plain": [
       "((1877, 27), (1877, 7), (3754, 34))"
      ]
     },
     "execution_count": 258,
     "metadata": {},
     "output_type": "execute_result"
    }
   ],
   "source": [
    "df.shape, edu_dummies.shape, df_Test.shape"
   ]
  },
  {
   "cell_type": "code",
   "execution_count": 273,
   "metadata": {},
   "outputs": [],
   "source": [
    "df.reset_index(inplace=True,drop=True)\n",
    "edu_dummies.reset_index(inplace=True,drop=True)"
   ]
  },
  {
   "cell_type": "code",
   "execution_count": 277,
   "metadata": {},
   "outputs": [],
   "source": [
    "df_2 = pd.concat([df, edu_dummies], axis=1)"
   ]
  },
  {
   "cell_type": "code",
   "execution_count": 282,
   "metadata": {},
   "outputs": [],
   "source": [
    "df_2.reset_index(inplace=True)"
   ]
  },
  {
   "cell_type": "code",
   "execution_count": 286,
   "metadata": {},
   "outputs": [],
   "source": [
    "df_2.drop(['level_0', 'index', 'index'], axis=1, inplace=True)"
   ]
  },
  {
   "cell_type": "code",
   "execution_count": 288,
   "metadata": {},
   "outputs": [],
   "source": [
    "df_2 = df_2.drop(['Education'], axis=1)"
   ]
  },
  {
   "cell_type": "code",
   "execution_count": 291,
   "metadata": {},
   "outputs": [],
   "source": [
    "df_2 = df_2.drop(['Amyl', 'LSD', 'Meth', 'Mushrooms', 'Nicotine', 'Semer', 'VSA'], axis=1)"
   ]
  },
  {
   "cell_type": "code",
   "execution_count": 292,
   "metadata": {},
   "outputs": [
    {
     "data": {
      "text/html": [
       "<div>\n",
       "<style scoped>\n",
       "    .dataframe tbody tr th:only-of-type {\n",
       "        vertical-align: middle;\n",
       "    }\n",
       "\n",
       "    .dataframe tbody tr th {\n",
       "        vertical-align: top;\n",
       "    }\n",
       "\n",
       "    .dataframe thead th {\n",
       "        text-align: right;\n",
       "    }\n",
       "</style>\n",
       "<table border=\"1\" class=\"dataframe\">\n",
       "  <thead>\n",
       "    <tr style=\"text-align: right;\">\n",
       "      <th></th>\n",
       "      <th>Age</th>\n",
       "      <th>Gender</th>\n",
       "      <th>Nscore</th>\n",
       "      <th>Escore</th>\n",
       "      <th>Oscore</th>\n",
       "      <th>Ascore</th>\n",
       "      <th>Cscore</th>\n",
       "      <th>Impulsive</th>\n",
       "      <th>SS</th>\n",
       "      <th>Alcohol</th>\n",
       "      <th>Amphet</th>\n",
       "      <th>Benzos</th>\n",
       "      <th>Cannabis</th>\n",
       "      <th>Coke</th>\n",
       "      <th>Crack</th>\n",
       "      <th>Ecstasy</th>\n",
       "      <th>Heroin</th>\n",
       "      <th>Ketamine</th>\n",
       "      <th>Drug_Use</th>\n",
       "      <th>EDU_17</th>\n",
       "      <th>EDU_18</th>\n",
       "      <th>EDU_Some_college</th>\n",
       "      <th>EDU_Cert</th>\n",
       "      <th>EDU_Uni</th>\n",
       "      <th>EDU_Mas</th>\n",
       "      <th>EDU_Doc</th>\n",
       "    </tr>\n",
       "  </thead>\n",
       "  <tbody>\n",
       "    <tr>\n",
       "      <th>0</th>\n",
       "      <td>0.49788</td>\n",
       "      <td>0.48246</td>\n",
       "      <td>0.31287</td>\n",
       "      <td>-0.57545</td>\n",
       "      <td>-0.58331</td>\n",
       "      <td>-0.91699</td>\n",
       "      <td>-0.00665</td>\n",
       "      <td>-0.21712</td>\n",
       "      <td>-1.18084</td>\n",
       "      <td>1</td>\n",
       "      <td>1</td>\n",
       "      <td>1</td>\n",
       "      <td>0</td>\n",
       "      <td>0</td>\n",
       "      <td>0</td>\n",
       "      <td>0</td>\n",
       "      <td>0</td>\n",
       "      <td>0</td>\n",
       "      <td>1</td>\n",
       "      <td>0</td>\n",
       "      <td>0</td>\n",
       "      <td>0</td>\n",
       "      <td>1</td>\n",
       "      <td>0</td>\n",
       "      <td>0</td>\n",
       "      <td>0</td>\n",
       "    </tr>\n",
       "    <tr>\n",
       "      <th>1</th>\n",
       "      <td>-0.07854</td>\n",
       "      <td>-0.48246</td>\n",
       "      <td>-0.67825</td>\n",
       "      <td>1.93886</td>\n",
       "      <td>1.43533</td>\n",
       "      <td>0.76096</td>\n",
       "      <td>-0.14277</td>\n",
       "      <td>-0.71126</td>\n",
       "      <td>-0.21575</td>\n",
       "      <td>1</td>\n",
       "      <td>1</td>\n",
       "      <td>0</td>\n",
       "      <td>1</td>\n",
       "      <td>1</td>\n",
       "      <td>0</td>\n",
       "      <td>1</td>\n",
       "      <td>0</td>\n",
       "      <td>1</td>\n",
       "      <td>1</td>\n",
       "      <td>0</td>\n",
       "      <td>0</td>\n",
       "      <td>0</td>\n",
       "      <td>0</td>\n",
       "      <td>0</td>\n",
       "      <td>0</td>\n",
       "      <td>1</td>\n",
       "    </tr>\n",
       "    <tr>\n",
       "      <th>2</th>\n",
       "      <td>0.49788</td>\n",
       "      <td>-0.48246</td>\n",
       "      <td>-0.46725</td>\n",
       "      <td>0.80523</td>\n",
       "      <td>-0.84732</td>\n",
       "      <td>-1.62090</td>\n",
       "      <td>-1.01450</td>\n",
       "      <td>-1.37983</td>\n",
       "      <td>0.40148</td>\n",
       "      <td>1</td>\n",
       "      <td>0</td>\n",
       "      <td>0</td>\n",
       "      <td>0</td>\n",
       "      <td>0</td>\n",
       "      <td>0</td>\n",
       "      <td>0</td>\n",
       "      <td>0</td>\n",
       "      <td>0</td>\n",
       "      <td>0</td>\n",
       "      <td>0</td>\n",
       "      <td>0</td>\n",
       "      <td>0</td>\n",
       "      <td>1</td>\n",
       "      <td>0</td>\n",
       "      <td>0</td>\n",
       "      <td>0</td>\n",
       "    </tr>\n",
       "    <tr>\n",
       "      <th>3</th>\n",
       "      <td>-0.95197</td>\n",
       "      <td>0.48246</td>\n",
       "      <td>-0.14882</td>\n",
       "      <td>-0.80615</td>\n",
       "      <td>-0.01928</td>\n",
       "      <td>0.59042</td>\n",
       "      <td>0.58489</td>\n",
       "      <td>-1.37983</td>\n",
       "      <td>-1.18084</td>\n",
       "      <td>1</td>\n",
       "      <td>0</td>\n",
       "      <td>1</td>\n",
       "      <td>0</td>\n",
       "      <td>1</td>\n",
       "      <td>0</td>\n",
       "      <td>0</td>\n",
       "      <td>0</td>\n",
       "      <td>1</td>\n",
       "      <td>1</td>\n",
       "      <td>0</td>\n",
       "      <td>0</td>\n",
       "      <td>0</td>\n",
       "      <td>0</td>\n",
       "      <td>0</td>\n",
       "      <td>1</td>\n",
       "      <td>0</td>\n",
       "    </tr>\n",
       "    <tr>\n",
       "      <th>4</th>\n",
       "      <td>0.49788</td>\n",
       "      <td>0.48246</td>\n",
       "      <td>0.73545</td>\n",
       "      <td>-1.63340</td>\n",
       "      <td>-0.45174</td>\n",
       "      <td>-0.30172</td>\n",
       "      <td>1.30612</td>\n",
       "      <td>-0.21712</td>\n",
       "      <td>-0.21575</td>\n",
       "      <td>1</td>\n",
       "      <td>0</td>\n",
       "      <td>0</td>\n",
       "      <td>0</td>\n",
       "      <td>0</td>\n",
       "      <td>0</td>\n",
       "      <td>0</td>\n",
       "      <td>0</td>\n",
       "      <td>0</td>\n",
       "      <td>0</td>\n",
       "      <td>0</td>\n",
       "      <td>0</td>\n",
       "      <td>0</td>\n",
       "      <td>0</td>\n",
       "      <td>0</td>\n",
       "      <td>0</td>\n",
       "      <td>1</td>\n",
       "    </tr>\n",
       "  </tbody>\n",
       "</table>\n",
       "</div>"
      ],
      "text/plain": [
       "       Age   Gender   Nscore   Escore   Oscore   Ascore   Cscore  Impulsive  \\\n",
       "0  0.49788  0.48246  0.31287 -0.57545 -0.58331 -0.91699 -0.00665   -0.21712   \n",
       "1 -0.07854 -0.48246 -0.67825  1.93886  1.43533  0.76096 -0.14277   -0.71126   \n",
       "2  0.49788 -0.48246 -0.46725  0.80523 -0.84732 -1.62090 -1.01450   -1.37983   \n",
       "3 -0.95197  0.48246 -0.14882 -0.80615 -0.01928  0.59042  0.58489   -1.37983   \n",
       "4  0.49788  0.48246  0.73545 -1.63340 -0.45174 -0.30172  1.30612   -0.21712   \n",
       "\n",
       "        SS Alcohol  Amphet  Benzos Cannabis  Coke  Crack  Ecstasy  Heroin  \\\n",
       "0 -1.18084       1       1       1        0     0      0        0       0   \n",
       "1 -0.21575       1       1       0        1     1      0        1       0   \n",
       "2  0.40148       1       0       0        0     0      0        0       0   \n",
       "3 -1.18084       1       0       1        0     1      0        0       0   \n",
       "4 -0.21575       1       0       0        0     0      0        0       0   \n",
       "\n",
       "   Ketamine  Drug_Use  EDU_17  EDU_18  EDU_Some_college  EDU_Cert  EDU_Uni  \\\n",
       "0         0         1       0       0                 0         1        0   \n",
       "1         1         1       0       0                 0         0        0   \n",
       "2         0         0       0       0                 0         1        0   \n",
       "3         1         1       0       0                 0         0        0   \n",
       "4         0         0       0       0                 0         0        0   \n",
       "\n",
       "   EDU_Mas  EDU_Doc  \n",
       "0        0        0  \n",
       "1        0        1  \n",
       "2        0        0  \n",
       "3        1        0  \n",
       "4        0        1  "
      ]
     },
     "execution_count": 292,
     "metadata": {},
     "output_type": "execute_result"
    }
   ],
   "source": [
    "df_2.head()"
   ]
  },
  {
   "cell_type": "code",
   "execution_count": 339,
   "metadata": {},
   "outputs": [],
   "source": [
    "#Age dummies\n",
    "# -0.95197 18-24 643 34.11% \n",
    "# -0.07854 25-34 481 25.52% \n",
    "# 0.49788 35-44 356 18.89% \n",
    "# 1.09449 45-54 294 15.60% \n",
    "# 1.82213 55-64 93 4.93% \n",
    "# 2.59171 65+ 18 0.95% \n",
    "age_dummies = pd.get_dummies(df_2.Age, prefix=\"Age\")"
   ]
  },
  {
   "cell_type": "code",
   "execution_count": 342,
   "metadata": {},
   "outputs": [],
   "source": [
    "age_dummies.rename(index=str, columns={'Age_-0.95197': 'Age18_24', 'Age_-0.07854': 'Age25_34', 'Age_0.49788': 'Age35_44',\n",
    "                                      'Age_1.09449': 'Age45_54', 'Age_1.82213': 'Age55_64', 'Age_2.59171': 'Age65_'}, inplace=True)"
   ]
  },
  {
   "cell_type": "code",
   "execution_count": 344,
   "metadata": {},
   "outputs": [],
   "source": [
    "age_dummies.reset_index(inplace=True,drop=True)"
   ]
  },
  {
   "cell_type": "code",
   "execution_count": 345,
   "metadata": {},
   "outputs": [],
   "source": [
    "df_2 = pd.concat([df_2, age_dummies], axis=1)"
   ]
  },
  {
   "cell_type": "code",
   "execution_count": 347,
   "metadata": {},
   "outputs": [],
   "source": [
    "df_2 = df_2.drop(['Age'], axis=1)"
   ]
  },
  {
   "cell_type": "code",
   "execution_count": 348,
   "metadata": {},
   "outputs": [
    {
     "data": {
      "text/html": [
       "<div>\n",
       "<style scoped>\n",
       "    .dataframe tbody tr th:only-of-type {\n",
       "        vertical-align: middle;\n",
       "    }\n",
       "\n",
       "    .dataframe tbody tr th {\n",
       "        vertical-align: top;\n",
       "    }\n",
       "\n",
       "    .dataframe thead th {\n",
       "        text-align: right;\n",
       "    }\n",
       "</style>\n",
       "<table border=\"1\" class=\"dataframe\">\n",
       "  <thead>\n",
       "    <tr style=\"text-align: right;\">\n",
       "      <th></th>\n",
       "      <th>Gender</th>\n",
       "      <th>Nscore</th>\n",
       "      <th>Escore</th>\n",
       "      <th>Oscore</th>\n",
       "      <th>Ascore</th>\n",
       "      <th>Cscore</th>\n",
       "      <th>Impulsive</th>\n",
       "      <th>SS</th>\n",
       "      <th>Alcohol</th>\n",
       "      <th>Amphet</th>\n",
       "      <th>Benzos</th>\n",
       "      <th>Cannabis</th>\n",
       "      <th>Coke</th>\n",
       "      <th>Crack</th>\n",
       "      <th>Ecstasy</th>\n",
       "      <th>Heroin</th>\n",
       "      <th>Ketamine</th>\n",
       "      <th>Drug_Use</th>\n",
       "      <th>EDU_17</th>\n",
       "      <th>EDU_18</th>\n",
       "      <th>EDU_Some_college</th>\n",
       "      <th>EDU_Cert</th>\n",
       "      <th>EDU_Uni</th>\n",
       "      <th>EDU_Mas</th>\n",
       "      <th>EDU_Doc</th>\n",
       "      <th>Age18_24</th>\n",
       "      <th>Age25_34</th>\n",
       "      <th>Age35_44</th>\n",
       "      <th>Age45_54</th>\n",
       "      <th>Age55_64</th>\n",
       "      <th>Age65_</th>\n",
       "    </tr>\n",
       "  </thead>\n",
       "  <tbody>\n",
       "    <tr>\n",
       "      <th>0</th>\n",
       "      <td>0.48246</td>\n",
       "      <td>0.31287</td>\n",
       "      <td>-0.57545</td>\n",
       "      <td>-0.58331</td>\n",
       "      <td>-0.91699</td>\n",
       "      <td>-0.00665</td>\n",
       "      <td>-0.21712</td>\n",
       "      <td>-1.18084</td>\n",
       "      <td>1</td>\n",
       "      <td>1</td>\n",
       "      <td>1</td>\n",
       "      <td>0</td>\n",
       "      <td>0</td>\n",
       "      <td>0</td>\n",
       "      <td>0</td>\n",
       "      <td>0</td>\n",
       "      <td>0</td>\n",
       "      <td>1</td>\n",
       "      <td>0</td>\n",
       "      <td>0</td>\n",
       "      <td>0</td>\n",
       "      <td>1</td>\n",
       "      <td>0</td>\n",
       "      <td>0</td>\n",
       "      <td>0</td>\n",
       "      <td>0</td>\n",
       "      <td>0</td>\n",
       "      <td>1</td>\n",
       "      <td>0</td>\n",
       "      <td>0</td>\n",
       "      <td>0</td>\n",
       "    </tr>\n",
       "    <tr>\n",
       "      <th>1</th>\n",
       "      <td>-0.48246</td>\n",
       "      <td>-0.67825</td>\n",
       "      <td>1.93886</td>\n",
       "      <td>1.43533</td>\n",
       "      <td>0.76096</td>\n",
       "      <td>-0.14277</td>\n",
       "      <td>-0.71126</td>\n",
       "      <td>-0.21575</td>\n",
       "      <td>1</td>\n",
       "      <td>1</td>\n",
       "      <td>0</td>\n",
       "      <td>1</td>\n",
       "      <td>1</td>\n",
       "      <td>0</td>\n",
       "      <td>1</td>\n",
       "      <td>0</td>\n",
       "      <td>1</td>\n",
       "      <td>1</td>\n",
       "      <td>0</td>\n",
       "      <td>0</td>\n",
       "      <td>0</td>\n",
       "      <td>0</td>\n",
       "      <td>0</td>\n",
       "      <td>0</td>\n",
       "      <td>1</td>\n",
       "      <td>0</td>\n",
       "      <td>1</td>\n",
       "      <td>0</td>\n",
       "      <td>0</td>\n",
       "      <td>0</td>\n",
       "      <td>0</td>\n",
       "    </tr>\n",
       "    <tr>\n",
       "      <th>2</th>\n",
       "      <td>-0.48246</td>\n",
       "      <td>-0.46725</td>\n",
       "      <td>0.80523</td>\n",
       "      <td>-0.84732</td>\n",
       "      <td>-1.62090</td>\n",
       "      <td>-1.01450</td>\n",
       "      <td>-1.37983</td>\n",
       "      <td>0.40148</td>\n",
       "      <td>1</td>\n",
       "      <td>0</td>\n",
       "      <td>0</td>\n",
       "      <td>0</td>\n",
       "      <td>0</td>\n",
       "      <td>0</td>\n",
       "      <td>0</td>\n",
       "      <td>0</td>\n",
       "      <td>0</td>\n",
       "      <td>0</td>\n",
       "      <td>0</td>\n",
       "      <td>0</td>\n",
       "      <td>0</td>\n",
       "      <td>1</td>\n",
       "      <td>0</td>\n",
       "      <td>0</td>\n",
       "      <td>0</td>\n",
       "      <td>0</td>\n",
       "      <td>0</td>\n",
       "      <td>1</td>\n",
       "      <td>0</td>\n",
       "      <td>0</td>\n",
       "      <td>0</td>\n",
       "    </tr>\n",
       "    <tr>\n",
       "      <th>3</th>\n",
       "      <td>0.48246</td>\n",
       "      <td>-0.14882</td>\n",
       "      <td>-0.80615</td>\n",
       "      <td>-0.01928</td>\n",
       "      <td>0.59042</td>\n",
       "      <td>0.58489</td>\n",
       "      <td>-1.37983</td>\n",
       "      <td>-1.18084</td>\n",
       "      <td>1</td>\n",
       "      <td>0</td>\n",
       "      <td>1</td>\n",
       "      <td>0</td>\n",
       "      <td>1</td>\n",
       "      <td>0</td>\n",
       "      <td>0</td>\n",
       "      <td>0</td>\n",
       "      <td>1</td>\n",
       "      <td>1</td>\n",
       "      <td>0</td>\n",
       "      <td>0</td>\n",
       "      <td>0</td>\n",
       "      <td>0</td>\n",
       "      <td>0</td>\n",
       "      <td>1</td>\n",
       "      <td>0</td>\n",
       "      <td>1</td>\n",
       "      <td>0</td>\n",
       "      <td>0</td>\n",
       "      <td>0</td>\n",
       "      <td>0</td>\n",
       "      <td>0</td>\n",
       "    </tr>\n",
       "    <tr>\n",
       "      <th>4</th>\n",
       "      <td>0.48246</td>\n",
       "      <td>0.73545</td>\n",
       "      <td>-1.63340</td>\n",
       "      <td>-0.45174</td>\n",
       "      <td>-0.30172</td>\n",
       "      <td>1.30612</td>\n",
       "      <td>-0.21712</td>\n",
       "      <td>-0.21575</td>\n",
       "      <td>1</td>\n",
       "      <td>0</td>\n",
       "      <td>0</td>\n",
       "      <td>0</td>\n",
       "      <td>0</td>\n",
       "      <td>0</td>\n",
       "      <td>0</td>\n",
       "      <td>0</td>\n",
       "      <td>0</td>\n",
       "      <td>0</td>\n",
       "      <td>0</td>\n",
       "      <td>0</td>\n",
       "      <td>0</td>\n",
       "      <td>0</td>\n",
       "      <td>0</td>\n",
       "      <td>0</td>\n",
       "      <td>1</td>\n",
       "      <td>0</td>\n",
       "      <td>0</td>\n",
       "      <td>1</td>\n",
       "      <td>0</td>\n",
       "      <td>0</td>\n",
       "      <td>0</td>\n",
       "    </tr>\n",
       "  </tbody>\n",
       "</table>\n",
       "</div>"
      ],
      "text/plain": [
       "    Gender   Nscore   Escore   Oscore   Ascore   Cscore  Impulsive       SS  \\\n",
       "0  0.48246  0.31287 -0.57545 -0.58331 -0.91699 -0.00665   -0.21712 -1.18084   \n",
       "1 -0.48246 -0.67825  1.93886  1.43533  0.76096 -0.14277   -0.71126 -0.21575   \n",
       "2 -0.48246 -0.46725  0.80523 -0.84732 -1.62090 -1.01450   -1.37983  0.40148   \n",
       "3  0.48246 -0.14882 -0.80615 -0.01928  0.59042  0.58489   -1.37983 -1.18084   \n",
       "4  0.48246  0.73545 -1.63340 -0.45174 -0.30172  1.30612   -0.21712 -0.21575   \n",
       "\n",
       "  Alcohol  Amphet  Benzos Cannabis  Coke  Crack  Ecstasy  Heroin  Ketamine  \\\n",
       "0       1       1       1        0     0      0        0       0         0   \n",
       "1       1       1       0        1     1      0        1       0         1   \n",
       "2       1       0       0        0     0      0        0       0         0   \n",
       "3       1       0       1        0     1      0        0       0         1   \n",
       "4       1       0       0        0     0      0        0       0         0   \n",
       "\n",
       "   Drug_Use  EDU_17  EDU_18  EDU_Some_college  EDU_Cert  EDU_Uni  EDU_Mas  \\\n",
       "0         1       0       0                 0         1        0        0   \n",
       "1         1       0       0                 0         0        0        0   \n",
       "2         0       0       0                 0         1        0        0   \n",
       "3         1       0       0                 0         0        0        1   \n",
       "4         0       0       0                 0         0        0        0   \n",
       "\n",
       "   EDU_Doc  Age18_24  Age25_34  Age35_44  Age45_54  Age55_64  Age65_  \n",
       "0        0         0         0         1         0         0       0  \n",
       "1        1         0         1         0         0         0       0  \n",
       "2        0         0         0         1         0         0       0  \n",
       "3        0         1         0         0         0         0       0  \n",
       "4        1         0         0         1         0         0       0  "
      ]
     },
     "execution_count": 348,
     "metadata": {},
     "output_type": "execute_result"
    }
   ],
   "source": [
    "df_2.head()"
   ]
  },
  {
   "cell_type": "code",
   "execution_count": 413,
   "metadata": {},
   "outputs": [],
   "source": [
    "df_2.to_csv(\"dataframe_final_3.csv\")"
   ]
  },
  {
   "cell_type": "code",
   "execution_count": 411,
   "metadata": {},
   "outputs": [],
   "source": [
    "columns = X.columns"
   ]
  },
  {
   "cell_type": "code",
   "execution_count": 412,
   "metadata": {},
   "outputs": [
    {
     "data": {
      "text/plain": [
       "Index(['Nscore', 'Escore', 'Oscore', 'Ascore', 'Cscore', 'Impulsive', 'SS',\n",
       "       'Alcohol', 'Cannabis', 'EDU_18', 'EDU_Some_college', 'EDU_Cert',\n",
       "       'EDU_Uni', 'EDU_Mas', 'EDU_Doc', 'Age25_34', 'Age35_44', 'Age45_54',\n",
       "       'Age55_64', 'Age65_', 'Gender'],\n",
       "      dtype='object')"
      ]
     },
     "execution_count": 412,
     "metadata": {},
     "output_type": "execute_result"
    }
   ],
   "source": [
    "columns"
   ]
  },
  {
   "cell_type": "code",
   "execution_count": 371,
   "metadata": {},
   "outputs": [],
   "source": [
    "gender_dummies = pd.get_dummies(df.Gender, prefix=\"G\")"
   ]
  },
  {
   "cell_type": "code",
   "execution_count": 373,
   "metadata": {},
   "outputs": [],
   "source": [
    "gender_dummies.rename(index=str, columns={'G_-0.4824600000000001': 'Male', 'G_0.4824600000000001': 'Female'}, inplace=True)\n"
   ]
  },
  {
   "cell_type": "code",
   "execution_count": 375,
   "metadata": {},
   "outputs": [],
   "source": [
    "gender_dummies.reset_index(inplace=True,drop=True)"
   ]
  },
  {
   "cell_type": "code",
   "execution_count": 376,
   "metadata": {},
   "outputs": [],
   "source": [
    "df_2 = pd.concat([df_2, gender_dummies], axis=1)"
   ]
  },
  {
   "cell_type": "code",
   "execution_count": 377,
   "metadata": {},
   "outputs": [],
   "source": [
    "df_2 = df_2.drop(['Gender'], axis=1)"
   ]
  },
  {
   "cell_type": "code",
   "execution_count": 402,
   "metadata": {},
   "outputs": [],
   "source": [
    "df_2 = df_2.drop(['Female', 'EDU_17', 'Age18_24'], axis=1)"
   ]
  },
  {
   "cell_type": "code",
   "execution_count": 405,
   "metadata": {},
   "outputs": [
    {
     "data": {
      "text/html": [
       "<div>\n",
       "<style scoped>\n",
       "    .dataframe tbody tr th:only-of-type {\n",
       "        vertical-align: middle;\n",
       "    }\n",
       "\n",
       "    .dataframe tbody tr th {\n",
       "        vertical-align: top;\n",
       "    }\n",
       "\n",
       "    .dataframe thead th {\n",
       "        text-align: right;\n",
       "    }\n",
       "</style>\n",
       "<table border=\"1\" class=\"dataframe\">\n",
       "  <thead>\n",
       "    <tr style=\"text-align: right;\">\n",
       "      <th></th>\n",
       "      <th>Nscore</th>\n",
       "      <th>Escore</th>\n",
       "      <th>Oscore</th>\n",
       "      <th>Ascore</th>\n",
       "      <th>Cscore</th>\n",
       "      <th>Impulsive</th>\n",
       "      <th>SS</th>\n",
       "      <th>Alcohol</th>\n",
       "      <th>Amphet</th>\n",
       "      <th>Benzos</th>\n",
       "      <th>Cannabis</th>\n",
       "      <th>Coke</th>\n",
       "      <th>Crack</th>\n",
       "      <th>Ecstasy</th>\n",
       "      <th>Heroin</th>\n",
       "      <th>Ketamine</th>\n",
       "      <th>Drug_Use</th>\n",
       "      <th>EDU_18</th>\n",
       "      <th>EDU_Some_college</th>\n",
       "      <th>EDU_Cert</th>\n",
       "      <th>EDU_Uni</th>\n",
       "      <th>EDU_Mas</th>\n",
       "      <th>EDU_Doc</th>\n",
       "      <th>Age25_34</th>\n",
       "      <th>Age35_44</th>\n",
       "      <th>Age45_54</th>\n",
       "      <th>Age55_64</th>\n",
       "      <th>Age65_</th>\n",
       "      <th>Gender</th>\n",
       "    </tr>\n",
       "  </thead>\n",
       "  <tbody>\n",
       "    <tr>\n",
       "      <th>0</th>\n",
       "      <td>0.31287</td>\n",
       "      <td>-0.57545</td>\n",
       "      <td>-0.58331</td>\n",
       "      <td>-0.91699</td>\n",
       "      <td>-0.00665</td>\n",
       "      <td>-0.21712</td>\n",
       "      <td>-1.18084</td>\n",
       "      <td>1</td>\n",
       "      <td>1</td>\n",
       "      <td>1</td>\n",
       "      <td>0</td>\n",
       "      <td>0</td>\n",
       "      <td>0</td>\n",
       "      <td>0</td>\n",
       "      <td>0</td>\n",
       "      <td>0</td>\n",
       "      <td>1</td>\n",
       "      <td>0</td>\n",
       "      <td>0</td>\n",
       "      <td>1</td>\n",
       "      <td>0</td>\n",
       "      <td>0</td>\n",
       "      <td>0</td>\n",
       "      <td>0</td>\n",
       "      <td>1</td>\n",
       "      <td>0</td>\n",
       "      <td>0</td>\n",
       "      <td>0</td>\n",
       "      <td>0</td>\n",
       "    </tr>\n",
       "    <tr>\n",
       "      <th>1</th>\n",
       "      <td>-0.67825</td>\n",
       "      <td>1.93886</td>\n",
       "      <td>1.43533</td>\n",
       "      <td>0.76096</td>\n",
       "      <td>-0.14277</td>\n",
       "      <td>-0.71126</td>\n",
       "      <td>-0.21575</td>\n",
       "      <td>1</td>\n",
       "      <td>1</td>\n",
       "      <td>0</td>\n",
       "      <td>1</td>\n",
       "      <td>1</td>\n",
       "      <td>0</td>\n",
       "      <td>1</td>\n",
       "      <td>0</td>\n",
       "      <td>1</td>\n",
       "      <td>1</td>\n",
       "      <td>0</td>\n",
       "      <td>0</td>\n",
       "      <td>0</td>\n",
       "      <td>0</td>\n",
       "      <td>0</td>\n",
       "      <td>1</td>\n",
       "      <td>1</td>\n",
       "      <td>0</td>\n",
       "      <td>0</td>\n",
       "      <td>0</td>\n",
       "      <td>0</td>\n",
       "      <td>1</td>\n",
       "    </tr>\n",
       "    <tr>\n",
       "      <th>2</th>\n",
       "      <td>-0.46725</td>\n",
       "      <td>0.80523</td>\n",
       "      <td>-0.84732</td>\n",
       "      <td>-1.62090</td>\n",
       "      <td>-1.01450</td>\n",
       "      <td>-1.37983</td>\n",
       "      <td>0.40148</td>\n",
       "      <td>1</td>\n",
       "      <td>0</td>\n",
       "      <td>0</td>\n",
       "      <td>0</td>\n",
       "      <td>0</td>\n",
       "      <td>0</td>\n",
       "      <td>0</td>\n",
       "      <td>0</td>\n",
       "      <td>0</td>\n",
       "      <td>0</td>\n",
       "      <td>0</td>\n",
       "      <td>0</td>\n",
       "      <td>1</td>\n",
       "      <td>0</td>\n",
       "      <td>0</td>\n",
       "      <td>0</td>\n",
       "      <td>0</td>\n",
       "      <td>1</td>\n",
       "      <td>0</td>\n",
       "      <td>0</td>\n",
       "      <td>0</td>\n",
       "      <td>1</td>\n",
       "    </tr>\n",
       "    <tr>\n",
       "      <th>3</th>\n",
       "      <td>-0.14882</td>\n",
       "      <td>-0.80615</td>\n",
       "      <td>-0.01928</td>\n",
       "      <td>0.59042</td>\n",
       "      <td>0.58489</td>\n",
       "      <td>-1.37983</td>\n",
       "      <td>-1.18084</td>\n",
       "      <td>1</td>\n",
       "      <td>0</td>\n",
       "      <td>1</td>\n",
       "      <td>0</td>\n",
       "      <td>1</td>\n",
       "      <td>0</td>\n",
       "      <td>0</td>\n",
       "      <td>0</td>\n",
       "      <td>1</td>\n",
       "      <td>1</td>\n",
       "      <td>0</td>\n",
       "      <td>0</td>\n",
       "      <td>0</td>\n",
       "      <td>0</td>\n",
       "      <td>1</td>\n",
       "      <td>0</td>\n",
       "      <td>0</td>\n",
       "      <td>0</td>\n",
       "      <td>0</td>\n",
       "      <td>0</td>\n",
       "      <td>0</td>\n",
       "      <td>0</td>\n",
       "    </tr>\n",
       "    <tr>\n",
       "      <th>4</th>\n",
       "      <td>0.73545</td>\n",
       "      <td>-1.63340</td>\n",
       "      <td>-0.45174</td>\n",
       "      <td>-0.30172</td>\n",
       "      <td>1.30612</td>\n",
       "      <td>-0.21712</td>\n",
       "      <td>-0.21575</td>\n",
       "      <td>1</td>\n",
       "      <td>0</td>\n",
       "      <td>0</td>\n",
       "      <td>0</td>\n",
       "      <td>0</td>\n",
       "      <td>0</td>\n",
       "      <td>0</td>\n",
       "      <td>0</td>\n",
       "      <td>0</td>\n",
       "      <td>0</td>\n",
       "      <td>0</td>\n",
       "      <td>0</td>\n",
       "      <td>0</td>\n",
       "      <td>0</td>\n",
       "      <td>0</td>\n",
       "      <td>1</td>\n",
       "      <td>0</td>\n",
       "      <td>1</td>\n",
       "      <td>0</td>\n",
       "      <td>0</td>\n",
       "      <td>0</td>\n",
       "      <td>0</td>\n",
       "    </tr>\n",
       "  </tbody>\n",
       "</table>\n",
       "</div>"
      ],
      "text/plain": [
       "    Nscore   Escore   Oscore   Ascore   Cscore  Impulsive       SS Alcohol  \\\n",
       "0  0.31287 -0.57545 -0.58331 -0.91699 -0.00665   -0.21712 -1.18084       1   \n",
       "1 -0.67825  1.93886  1.43533  0.76096 -0.14277   -0.71126 -0.21575       1   \n",
       "2 -0.46725  0.80523 -0.84732 -1.62090 -1.01450   -1.37983  0.40148       1   \n",
       "3 -0.14882 -0.80615 -0.01928  0.59042  0.58489   -1.37983 -1.18084       1   \n",
       "4  0.73545 -1.63340 -0.45174 -0.30172  1.30612   -0.21712 -0.21575       1   \n",
       "\n",
       "   Amphet  Benzos Cannabis  Coke  Crack  Ecstasy  Heroin  Ketamine  Drug_Use  \\\n",
       "0       1       1        0     0      0        0       0         0         1   \n",
       "1       1       0        1     1      0        1       0         1         1   \n",
       "2       0       0        0     0      0        0       0         0         0   \n",
       "3       0       1        0     1      0        0       0         1         1   \n",
       "4       0       0        0     0      0        0       0         0         0   \n",
       "\n",
       "   EDU_18  EDU_Some_college  EDU_Cert  EDU_Uni  EDU_Mas  EDU_Doc  Age25_34  \\\n",
       "0       0                 0         1        0        0        0         0   \n",
       "1       0                 0         0        0        0        1         1   \n",
       "2       0                 0         1        0        0        0         0   \n",
       "3       0                 0         0        0        1        0         0   \n",
       "4       0                 0         0        0        0        1         0   \n",
       "\n",
       "   Age35_44  Age45_54  Age55_64  Age65_  Gender  \n",
       "0         1         0         0       0       0  \n",
       "1         0         0         0       0       1  \n",
       "2         1         0         0       0       1  \n",
       "3         0         0         0       0       0  \n",
       "4         1         0         0       0       0  "
      ]
     },
     "execution_count": 405,
     "metadata": {},
     "output_type": "execute_result"
    }
   ],
   "source": [
    "df_2.head()"
   ]
  },
  {
   "cell_type": "code",
   "execution_count": 404,
   "metadata": {},
   "outputs": [],
   "source": [
    "df_2.rename(index=str, columns={'Male': 'Gender'}, inplace=True)"
   ]
  },
  {
   "cell_type": "markdown",
   "metadata": {},
   "source": [
    "# Baseline "
   ]
  },
  {
   "cell_type": "code",
   "execution_count": 90,
   "metadata": {},
   "outputs": [
    {
     "data": {
      "text/html": [
       "<div>\n",
       "<style scoped>\n",
       "    .dataframe tbody tr th:only-of-type {\n",
       "        vertical-align: middle;\n",
       "    }\n",
       "\n",
       "    .dataframe tbody tr th {\n",
       "        vertical-align: top;\n",
       "    }\n",
       "\n",
       "    .dataframe thead th {\n",
       "        text-align: right;\n",
       "    }\n",
       "</style>\n",
       "<table border=\"1\" class=\"dataframe\">\n",
       "  <thead>\n",
       "    <tr style=\"text-align: right;\">\n",
       "      <th></th>\n",
       "      <th>Age</th>\n",
       "      <th>Gender</th>\n",
       "      <th>Education</th>\n",
       "      <th>Nscore</th>\n",
       "      <th>Escore</th>\n",
       "      <th>Oscore</th>\n",
       "      <th>Ascore</th>\n",
       "      <th>Cscore</th>\n",
       "      <th>Impulsive</th>\n",
       "      <th>SS</th>\n",
       "      <th>Alcohol</th>\n",
       "      <th>Cannabis</th>\n",
       "    </tr>\n",
       "  </thead>\n",
       "  <tbody>\n",
       "    <tr>\n",
       "      <th>0</th>\n",
       "      <td>0.49788</td>\n",
       "      <td>0.48246</td>\n",
       "      <td>-0.05921</td>\n",
       "      <td>0.31287</td>\n",
       "      <td>-0.57545</td>\n",
       "      <td>-0.58331</td>\n",
       "      <td>-0.91699</td>\n",
       "      <td>-0.00665</td>\n",
       "      <td>-0.21712</td>\n",
       "      <td>-1.18084</td>\n",
       "      <td>1</td>\n",
       "      <td>0</td>\n",
       "    </tr>\n",
       "    <tr>\n",
       "      <th>1</th>\n",
       "      <td>-0.07854</td>\n",
       "      <td>-0.48246</td>\n",
       "      <td>1.98437</td>\n",
       "      <td>-0.67825</td>\n",
       "      <td>1.93886</td>\n",
       "      <td>1.43533</td>\n",
       "      <td>0.76096</td>\n",
       "      <td>-0.14277</td>\n",
       "      <td>-0.71126</td>\n",
       "      <td>-0.21575</td>\n",
       "      <td>1</td>\n",
       "      <td>1</td>\n",
       "    </tr>\n",
       "    <tr>\n",
       "      <th>2</th>\n",
       "      <td>0.49788</td>\n",
       "      <td>-0.48246</td>\n",
       "      <td>-0.05921</td>\n",
       "      <td>-0.46725</td>\n",
       "      <td>0.80523</td>\n",
       "      <td>-0.84732</td>\n",
       "      <td>-1.62090</td>\n",
       "      <td>-1.01450</td>\n",
       "      <td>-1.37983</td>\n",
       "      <td>0.40148</td>\n",
       "      <td>1</td>\n",
       "      <td>0</td>\n",
       "    </tr>\n",
       "    <tr>\n",
       "      <th>3</th>\n",
       "      <td>-0.95197</td>\n",
       "      <td>0.48246</td>\n",
       "      <td>1.16365</td>\n",
       "      <td>-0.14882</td>\n",
       "      <td>-0.80615</td>\n",
       "      <td>-0.01928</td>\n",
       "      <td>0.59042</td>\n",
       "      <td>0.58489</td>\n",
       "      <td>-1.37983</td>\n",
       "      <td>-1.18084</td>\n",
       "      <td>1</td>\n",
       "      <td>0</td>\n",
       "    </tr>\n",
       "    <tr>\n",
       "      <th>4</th>\n",
       "      <td>0.49788</td>\n",
       "      <td>0.48246</td>\n",
       "      <td>1.98437</td>\n",
       "      <td>0.73545</td>\n",
       "      <td>-1.63340</td>\n",
       "      <td>-0.45174</td>\n",
       "      <td>-0.30172</td>\n",
       "      <td>1.30612</td>\n",
       "      <td>-0.21712</td>\n",
       "      <td>-0.21575</td>\n",
       "      <td>1</td>\n",
       "      <td>0</td>\n",
       "    </tr>\n",
       "  </tbody>\n",
       "</table>\n",
       "</div>"
      ],
      "text/plain": [
       "       Age   Gender  Education   Nscore   Escore   Oscore   Ascore   Cscore  \\\n",
       "0  0.49788  0.48246   -0.05921  0.31287 -0.57545 -0.58331 -0.91699 -0.00665   \n",
       "1 -0.07854 -0.48246    1.98437 -0.67825  1.93886  1.43533  0.76096 -0.14277   \n",
       "2  0.49788 -0.48246   -0.05921 -0.46725  0.80523 -0.84732 -1.62090 -1.01450   \n",
       "3 -0.95197  0.48246    1.16365 -0.14882 -0.80615 -0.01928  0.59042  0.58489   \n",
       "4  0.49788  0.48246    1.98437  0.73545 -1.63340 -0.45174 -0.30172  1.30612   \n",
       "\n",
       "   Impulsive       SS Alcohol Cannabis  \n",
       "0   -0.21712 -1.18084       1        0  \n",
       "1   -0.71126 -0.21575       1        1  \n",
       "2   -1.37983  0.40148       1        0  \n",
       "3   -1.37983 -1.18084       1        0  \n",
       "4   -0.21712 -0.21575       1        0  "
      ]
     },
     "execution_count": 90,
     "metadata": {},
     "output_type": "execute_result"
    }
   ],
   "source": [
    "X.head()"
   ]
  },
  {
   "cell_type": "markdown",
   "metadata": {},
   "source": [
    "### KNN"
   ]
  },
  {
   "cell_type": "code",
   "execution_count": 580,
   "metadata": {},
   "outputs": [],
   "source": [
    "from sklearn.model_selection import train_test_split\n",
    "from sklearn.metrics import accuracy_score, f1_score, precision_score\n",
    "from sklearn.metrics import confusion_matrix\n",
    "from sklearn.metrics import classification_report\n",
    "from sklearn.feature_selection import SelectKBest\n",
    "from sklearn.feature_selection import  chi2, f_classif, mutual_info_classif\n",
    "from sklearn.feature_selection import f_regression,mutual_info_regression\n",
    "from sklearn.preprocessing import StandardScaler\n",
    "from sklearn.neighbors import KNeighborsClassifier\n",
    "from sklearn.linear_model import LogisticRegression\n",
    "from sklearn.ensemble import RandomForestClassifier\n",
    "from sklearn.preprocessing import PolynomialFeatures\n",
    "from sklearn.model_selection import GridSearchCV\n",
    "from sklearn.metrics import mean_squared_error, accuracy_score, f1_score, roc_auc_score\n",
    "from sklearn.preprocessing import MinMaxScaler\n",
    "import xgboost as xgb"
   ]
  },
  {
   "cell_type": "code",
   "execution_count": 407,
   "metadata": {},
   "outputs": [],
   "source": [
    "#split\n",
    "X = df.drop(['Drug_Use','Amphet', 'Amyl','Benzos','Coke', 'Crack',\n",
    "             'Ecstasy', 'Heroin', 'Ketamine', 'LSD','Meth', 'Mushrooms', 'Nicotine', 'VSA', 'Semer'], axis=1)\n",
    "y = df.Drug_Use"
   ]
  },
  {
   "cell_type": "code",
   "execution_count": 124,
   "metadata": {},
   "outputs": [],
   "source": [
    "X_train, X_test, y_train, y_test = train_test_split(X, y, random_state=99, test_size=0.25) "
   ]
  },
  {
   "cell_type": "code",
   "execution_count": 125,
   "metadata": {},
   "outputs": [
    {
     "data": {
      "text/plain": [
       "SelectKBest(k='all', score_func=<function f_regression at 0x1a1fe9d6a8>)"
      ]
     },
     "execution_count": 125,
     "metadata": {},
     "output_type": "execute_result"
    }
   ],
   "source": [
    "selector = SelectKBest(f_regression, k='all')\n",
    "\n",
    "selector.fit(X_train, y_train)"
   ]
  },
  {
   "cell_type": "code",
   "execution_count": 127,
   "metadata": {},
   "outputs": [],
   "source": [
    "#scale\n",
    "scaler = StandardScaler()\n",
    "\n",
    "scaler.fit(X_train)\n",
    "X_train = scaler.transform(X_train)\n",
    "\n",
    "scaler.fit(X_test)\n",
    "X_test = scaler.transform(X_test)"
   ]
  },
  {
   "cell_type": "code",
   "execution_count": 361,
   "metadata": {},
   "outputs": [
    {
     "data": {
      "image/png": "[encoded data removed]",
      "text/plain": [
       "<Figure size 864x432 with 1 Axes>"
      ]
     },
     "metadata": {
      "needs_background": "light"
     },
     "output_type": "display_data"
    },
    {
     "name": "stdout",
     "output_type": "stream",
     "text": [
      "F1_score max:0.7876 where K: 95\n"
     ]
    }
   ],
   "source": [
    "k_scores = []\n",
    "k_range= list(range(1, 150, 2))\n",
    "for k in k_range:\n",
    "    knn = KNeighborsClassifier(n_neighbors = k, p=2)\n",
    "    knn.fit(X_train, y_train)\n",
    "    y_pred_k = knn.predict(X_test)\n",
    "    k_scores.append(f1_score(y_test, y_pred_k, pos_label= 1))\n",
    "\n",
    "# plot\n",
    "plt.figure(figsize=(12, 6))  \n",
    "plt.plot(k_range, k_scores, color='green', linestyle=':', marker='o',  \n",
    "         markerfacecolor='red', markersize=5)\n",
    "plt.title('F1 score by K Value')  \n",
    "plt.xlabel('K Value')  \n",
    "plt.ylabel('F1 Score') \n",
    "plt.show()\n",
    "\n",
    "# display parametrs \n",
    "print(f'F1_score max:{round(max(k_scores), 4)} where K: {(k_scores.index(max(k_scores))+1)*2 - 1}')\n",
    "k= (k_scores.index(max(k_scores))+1)*2 - 1"
   ]
  },
  {
   "cell_type": "code",
   "execution_count": 362,
   "metadata": {},
   "outputs": [],
   "source": [
    "y_pred_class = knn.predict(X_test)"
   ]
  },
  {
   "cell_type": "code",
   "execution_count": 363,
   "metadata": {},
   "outputs": [
    {
     "data": {
      "text/plain": [
       "0.7212765957446808"
      ]
     },
     "execution_count": 363,
     "metadata": {},
     "output_type": "execute_result"
    }
   ],
   "source": [
    "accuracy_score(y_test, y_pred_class, normalize=True, sample_weight=None)"
   ]
  },
  {
   "cell_type": "markdown",
   "metadata": {},
   "source": [
    "### Log Reg"
   ]
  },
  {
   "cell_type": "code",
   "execution_count": 131,
   "metadata": {},
   "outputs": [
    {
     "name": "stdout",
     "output_type": "stream",
     "text": [
      "TEST_#__: LOGISTIC_REGRESSION\n",
      "--------------------------------------------------------------------------------\n",
      "CONFUSION_MATRIX\n",
      "--------------------------------------------------------------------------------\n",
      "[[138  65]\n",
      " [ 55 212]]\n",
      "--------------------------------------------------------------------------------\n",
      "CLASSIFICATION_REPORT\n",
      "--------------------------------------------------------------------------------\n",
      "              precision    recall  f1-score   support\n",
      "\n",
      "           0       0.72      0.68      0.70       203\n",
      "           1       0.77      0.79      0.78       267\n",
      "\n",
      "    accuracy                           0.74       470\n",
      "   macro avg       0.74      0.74      0.74       470\n",
      "weighted avg       0.74      0.74      0.74       470\n",
      "\n",
      "--------------------------------------------------------------------------------\n"
     ]
    }
   ],
   "source": [
    "#instantiate a model\n",
    "logreg= LogisticRegression(solver= 'lbfgs')\n",
    "\n",
    "#train a model\n",
    "logreg= logreg.fit(X_train, y_train)\n",
    "\n",
    "#predict\n",
    "y_pred= logreg.predict(X_test)\n",
    "\n",
    "print('TEST_#__: LOGISTIC_REGRESSION')\n",
    "print('--'*40)\n",
    "print('CONFUSION_MATRIX')\n",
    "print('--'*40)\n",
    "print(confusion_matrix(y_test, y_pred))\n",
    "print('--'*40)\n",
    "print('CLASSIFICATION_REPORT')\n",
    "print('--'*40)\n",
    "print(classification_report(y_test, y_pred, output_dict= False))\n",
    "print('--'*40)\n",
    "\n",
    "p0t2= round(f1_score(y_test, y_pred), 3)"
   ]
  },
  {
   "cell_type": "markdown",
   "metadata": {},
   "source": [
    "### Random Forest"
   ]
  },
  {
   "cell_type": "code",
   "execution_count": 132,
   "metadata": {},
   "outputs": [],
   "source": [
    "rfc = RandomForestClassifier(random_state = 23, n_estimators=100)"
   ]
  },
  {
   "cell_type": "code",
   "execution_count": 133,
   "metadata": {},
   "outputs": [
    {
     "data": {
      "text/plain": [
       "RandomForestClassifier(bootstrap=True, class_weight=None, criterion='gini',\n",
       "                       max_depth=None, max_features='auto', max_leaf_nodes=None,\n",
       "                       min_impurity_decrease=0.0, min_impurity_split=None,\n",
       "                       min_samples_leaf=1, min_samples_split=2,\n",
       "                       min_weight_fraction_leaf=0.0, n_estimators=100,\n",
       "                       n_jobs=None, oob_score=False, random_state=23, verbose=0,\n",
       "                       warm_start=False)"
      ]
     },
     "execution_count": 133,
     "metadata": {},
     "output_type": "execute_result"
    }
   ],
   "source": [
    "rfc"
   ]
  },
  {
   "cell_type": "code",
   "execution_count": 134,
   "metadata": {},
   "outputs": [],
   "source": [
    "X_train, X_test, y_train, y_test = train_test_split(X, y, test_size=0.25, random_state=23)"
   ]
  },
  {
   "cell_type": "code",
   "execution_count": 338,
   "metadata": {},
   "outputs": [
    {
     "data": {
      "text/plain": [
       "RandomForestClassifier(bootstrap=True, class_weight=None, criterion='gini',\n",
       "                       max_depth=None, max_features='auto', max_leaf_nodes=None,\n",
       "                       min_impurity_decrease=0.0, min_impurity_split=None,\n",
       "                       min_samples_leaf=1, min_samples_split=2,\n",
       "                       min_weight_fraction_leaf=0.0, n_estimators=100,\n",
       "                       n_jobs=None, oob_score=False, random_state=23, verbose=0,\n",
       "                       warm_start=False)"
      ]
     },
     "execution_count": 338,
     "metadata": {},
     "output_type": "execute_result"
    }
   ],
   "source": [
    "#fit the model to the training data\n",
    "rfc.fit(X_train, y_train)"
   ]
  },
  {
   "cell_type": "code",
   "execution_count": 136,
   "metadata": {},
   "outputs": [
    {
     "name": "stdout",
     "output_type": "stream",
     "text": [
      "Test Accuracy score:  0.7468085106382979\n",
      "Test F1 score:  0.7958833619210978\n"
     ]
    }
   ],
   "source": [
    "#use the fitted model to predict on the test data\n",
    "rfc_pred = rfc.predict(X_test)\n",
    "\n",
    "\n",
    "\n",
    "# checking accuracy on the test data\n",
    "print('Test Accuracy score: ', accuracy_score(y_test, rfc_pred))\n",
    "\n",
    "\n",
    "# checking accuracy on the test data\n",
    "print('Test F1 score: ', f1_score(y_test, rfc_pred))"
   ]
  },
  {
   "cell_type": "code",
   "execution_count": null,
   "metadata": {},
   "outputs": [],
   "source": [
    "#grid search random forest \n",
    "#hyper parameters "
   ]
  },
  {
   "cell_type": "code",
   "execution_count": 486,
   "metadata": {},
   "outputs": [],
   "source": [
    "df_3 = df_2[['Nscore', 'Escore', 'Oscore', 'Ascore', 'Cscore', 'Impulsive', 'SS']]"
   ]
  },
  {
   "cell_type": "code",
   "execution_count": 499,
   "metadata": {},
   "outputs": [
    {
     "data": {
      "text/html": [
       "<div>\n",
       "<style scoped>\n",
       "    .dataframe tbody tr th:only-of-type {\n",
       "        vertical-align: middle;\n",
       "    }\n",
       "\n",
       "    .dataframe tbody tr th {\n",
       "        vertical-align: top;\n",
       "    }\n",
       "\n",
       "    .dataframe thead th {\n",
       "        text-align: right;\n",
       "    }\n",
       "</style>\n",
       "<table border=\"1\" class=\"dataframe\">\n",
       "  <thead>\n",
       "    <tr style=\"text-align: right;\">\n",
       "      <th></th>\n",
       "      <th>Alcohol</th>\n",
       "      <th>Cannabis</th>\n",
       "      <th>EDU_18</th>\n",
       "      <th>EDU_Some_college</th>\n",
       "      <th>EDU_Cert</th>\n",
       "      <th>EDU_Uni</th>\n",
       "      <th>EDU_Mas</th>\n",
       "      <th>EDU_Doc</th>\n",
       "      <th>EDU_Doc</th>\n",
       "      <th>Age25_34</th>\n",
       "      <th>Age35_44</th>\n",
       "      <th>Age45_54</th>\n",
       "      <th>Age55_64</th>\n",
       "      <th>Age65_</th>\n",
       "      <th>Gender</th>\n",
       "    </tr>\n",
       "  </thead>\n",
       "  <tbody>\n",
       "    <tr>\n",
       "      <th>0</th>\n",
       "      <td>1</td>\n",
       "      <td>0</td>\n",
       "      <td>0</td>\n",
       "      <td>0</td>\n",
       "      <td>1</td>\n",
       "      <td>0</td>\n",
       "      <td>0</td>\n",
       "      <td>0</td>\n",
       "      <td>0</td>\n",
       "      <td>0</td>\n",
       "      <td>1</td>\n",
       "      <td>0</td>\n",
       "      <td>0</td>\n",
       "      <td>0</td>\n",
       "      <td>0</td>\n",
       "    </tr>\n",
       "    <tr>\n",
       "      <th>1</th>\n",
       "      <td>1</td>\n",
       "      <td>1</td>\n",
       "      <td>0</td>\n",
       "      <td>0</td>\n",
       "      <td>0</td>\n",
       "      <td>0</td>\n",
       "      <td>0</td>\n",
       "      <td>1</td>\n",
       "      <td>1</td>\n",
       "      <td>1</td>\n",
       "      <td>0</td>\n",
       "      <td>0</td>\n",
       "      <td>0</td>\n",
       "      <td>0</td>\n",
       "      <td>1</td>\n",
       "    </tr>\n",
       "    <tr>\n",
       "      <th>2</th>\n",
       "      <td>1</td>\n",
       "      <td>0</td>\n",
       "      <td>0</td>\n",
       "      <td>0</td>\n",
       "      <td>1</td>\n",
       "      <td>0</td>\n",
       "      <td>0</td>\n",
       "      <td>0</td>\n",
       "      <td>0</td>\n",
       "      <td>0</td>\n",
       "      <td>1</td>\n",
       "      <td>0</td>\n",
       "      <td>0</td>\n",
       "      <td>0</td>\n",
       "      <td>1</td>\n",
       "    </tr>\n",
       "    <tr>\n",
       "      <th>3</th>\n",
       "      <td>1</td>\n",
       "      <td>0</td>\n",
       "      <td>0</td>\n",
       "      <td>0</td>\n",
       "      <td>0</td>\n",
       "      <td>0</td>\n",
       "      <td>1</td>\n",
       "      <td>0</td>\n",
       "      <td>0</td>\n",
       "      <td>0</td>\n",
       "      <td>0</td>\n",
       "      <td>0</td>\n",
       "      <td>0</td>\n",
       "      <td>0</td>\n",
       "      <td>0</td>\n",
       "    </tr>\n",
       "    <tr>\n",
       "      <th>4</th>\n",
       "      <td>1</td>\n",
       "      <td>0</td>\n",
       "      <td>0</td>\n",
       "      <td>0</td>\n",
       "      <td>0</td>\n",
       "      <td>0</td>\n",
       "      <td>0</td>\n",
       "      <td>1</td>\n",
       "      <td>1</td>\n",
       "      <td>0</td>\n",
       "      <td>1</td>\n",
       "      <td>0</td>\n",
       "      <td>0</td>\n",
       "      <td>0</td>\n",
       "      <td>0</td>\n",
       "    </tr>\n",
       "  </tbody>\n",
       "</table>\n",
       "</div>"
      ],
      "text/plain": [
       "  Alcohol Cannabis  EDU_18  EDU_Some_college  EDU_Cert  EDU_Uni  EDU_Mas  \\\n",
       "0       1        0       0                 0         1        0        0   \n",
       "1       1        1       0                 0         0        0        0   \n",
       "2       1        0       0                 0         1        0        0   \n",
       "3       1        0       0                 0         0        0        1   \n",
       "4       1        0       0                 0         0        0        0   \n",
       "\n",
       "   EDU_Doc  EDU_Doc  Age25_34  Age35_44  Age45_54  Age55_64  Age65_  Gender  \n",
       "0        0        0         0         1         0         0       0       0  \n",
       "1        1        1         1         0         0         0       0       1  \n",
       "2        0        0         0         1         0         0       0       1  \n",
       "3        0        0         0         0         0         0       0       0  \n",
       "4        1        1         0         1         0         0       0       0  "
      ]
     },
     "execution_count": 499,
     "metadata": {},
     "output_type": "execute_result"
    }
   ],
   "source": [
    "df_4.head()"
   ]
  },
  {
   "cell_type": "code",
   "execution_count": 497,
   "metadata": {},
   "outputs": [],
   "source": [
    "df_4 = df_2[['Alcohol', 'Cannabis', 'EDU_18', 'EDU_Some_college', 'EDU_Cert', 'EDU_Uni', 'EDU_Mas', 'EDU_Doc',\n",
    "            'EDU_Doc', 'Age25_34', 'Age35_44', 'Age45_54', 'Age55_64', 'Age65_', 'Gender']]"
   ]
  },
  {
   "cell_type": "markdown",
   "metadata": {},
   "source": [
    "***\n",
    "***\n",
    "***\n",
    "***"
   ]
  },
  {
   "cell_type": "markdown",
   "metadata": {},
   "source": [
    "## KNN 2"
   ]
  },
  {
   "cell_type": "code",
   "execution_count": 490,
   "metadata": {},
   "outputs": [],
   "source": [
    "#columns = ['Nscore', 'Escore', 'Oscore', 'Ascore', 'Cscore', 'Impulsive', 'SS']\n",
    "\n",
    "#target = df.drop(['white'], axis=1)\n",
    "#columns = list(target.columns)\n",
    "\n",
    "# df_poly = PolynomialFeatures(degree=2, order='C')\n",
    "# df_poly.fit(df_3)\n",
    "# poly_2df= pd.DataFrame(df_poly.transform(df_3), columns=df_poly.get_feature_names(columns))\n",
    "# poly_2df.info()"
   ]
  },
  {
   "cell_type": "code",
   "execution_count": 510,
   "metadata": {},
   "outputs": [],
   "source": [
    "\n",
    "# poly_2df = pd.concat([poly_2df, df_4], axis=1)\n",
    "\n",
    "# poly_df2 = poly_2df.drop(['index', '1'], axis=1, inplace=True )\n",
    "\n",
    "# poly_df2 = poly_2df.drop(['level_0'], axis=1, inplace=True )\n",
    "\n",
    "# poly_2df.reset_index(inplace=True)\n",
    "# df_4.reset_index(inplace=True)"
   ]
  },
  {
   "cell_type": "code",
   "execution_count": 762,
   "metadata": {},
   "outputs": [],
   "source": [
    "#split\n",
    "X = df_2.drop(['Drug_Use', 'Amphet', 'Benzos', 'Coke', 'Crack', 'Ecstasy', 'Heroin', 'Ketamine'], axis=1)\n",
    "y = df_2.Drug_Use"
   ]
  },
  {
   "cell_type": "code",
   "execution_count": 711,
   "metadata": {},
   "outputs": [],
   "source": [
    "X_train, X_test, y_train, y_test = train_test_split(X, y, random_state=99, test_size=0.25) "
   ]
  },
  {
   "cell_type": "code",
   "execution_count": 634,
   "metadata": {},
   "outputs": [],
   "source": [
    "# # MinMaxScaler Nscore ... SS\n",
    "# from sklearn.preprocessing import MinMaxScaler\n",
    "# mscaler = MinMaxScaler()\n",
    "# transformed = mscaler.fit_transform(X_train)\n",
    "# X_train = pd.DataFrame(transformed, columns = X_train.columns)"
   ]
  },
  {
   "cell_type": "code",
   "execution_count": 780,
   "metadata": {},
   "outputs": [],
   "source": [
    "#scale\n",
    "scaler = StandardScaler()\n",
    "\n",
    "scaler.fit(X_train)\n",
    "X_train = scaler.transform(X_train)\n",
    "\n",
    "scaler.fit(X_test)\n",
    "X_test = scaler.transform(X_test)"
   ]
  },
  {
   "cell_type": "code",
   "execution_count": 800,
   "metadata": {},
   "outputs": [
    {
     "data": {
      "image/png": "[encoded data removed]",
      "text/plain": [
       "<Figure size 864x432 with 1 Axes>"
      ]
     },
     "metadata": {},
     "output_type": "display_data"
    },
    {
     "name": "stdout",
     "output_type": "stream",
     "text": [
      "F1_score max:0.8183 where K: 149\n"
     ]
    }
   ],
   "source": [
    "k_scores = []\n",
    "k_range= list(range(1, 200, 2))\n",
    "for k in k_range:\n",
    "    knn = KNeighborsClassifier(n_neighbors = k, p=2)\n",
    "    knn.fit(X_train, y_train)\n",
    "    y_pred_k = knn.predict(X_test)\n",
    "    k_scores.append(f1_score(y_test, y_pred_k, pos_label= 1))\n",
    "\n",
    "# plot\n",
    "plt.figure(figsize=(12, 6))  \n",
    "plt.plot(k_range, k_scores, color='green', linestyle=':', marker='o',  \n",
    "         markerfacecolor='red', markersize=5)\n",
    "plt.title('F1 score by K Value')  \n",
    "plt.xlabel('K Value')  \n",
    "plt.ylabel('F1 Score') \n",
    "plt.show()\n",
    "\n",
    "# display parametrs \n",
    "print(f'F1_score max:{round(max(k_scores), 4)} where K: {(k_scores.index(max(k_scores))+1)*2 - 1}')\n",
    "k= (k_scores.index(max(k_scores))+1)*2 - 1"
   ]
  },
  {
   "cell_type": "code",
   "execution_count": 765,
   "metadata": {},
   "outputs": [],
   "source": [
    "y_pred_class = knn.predict(X_test)"
   ]
  },
  {
   "cell_type": "code",
   "execution_count": 766,
   "metadata": {},
   "outputs": [
    {
     "data": {
      "text/plain": [
       "0.7723404255319148"
      ]
     },
     "execution_count": 766,
     "metadata": {},
     "output_type": "execute_result"
    }
   ],
   "source": [
    "accuracy_score(y_test, y_pred_class, normalize=True, sample_weight=None)"
   ]
  },
  {
   "cell_type": "code",
   "execution_count": 857,
   "metadata": {},
   "outputs": [
    {
     "name": "stdout",
     "output_type": "stream",
     "text": [
      "Confusion Matrix, without normalization\n",
      "[[122  59]\n",
      " [ 48 241]]\n"
     ]
    },
    {
     "data": {
      "image/png": "[encoded data removed]",
      "text/plain": [
       "<Figure size 864x576 with 2 Axes>"
      ]
     },
     "metadata": {
      "needs_background": "light"
     },
     "output_type": "display_data"
    }
   ],
   "source": [
    "from sklearn.metrics import confusion_matrix\n",
    "cm = confusion_matrix(y_test,y_pred_class)\n",
    "classes = ['Used', 'Clean']\n",
    "plot_confusion_matrix(cm, classes,\n",
    "                          normalize=False,\n",
    "                          title='Confusion matrix',\n",
    "                          cmap=plt.cm.Greens)\n"
   ]
  },
  {
   "cell_type": "markdown",
   "metadata": {},
   "source": [
    "## Log Reg 2"
   ]
  },
  {
   "cell_type": "code",
   "execution_count": 717,
   "metadata": {},
   "outputs": [
    {
     "name": "stdout",
     "output_type": "stream",
     "text": [
      "TEST_#__: LOGISTIC_REGRESSION\n",
      "--------------------------------------------------------------------------------\n",
      "CONFUSION_MATRIX\n",
      "--------------------------------------------------------------------------------\n",
      "[[134  69]\n",
      " [ 55 212]]\n",
      "--------------------------------------------------------------------------------\n",
      "CLASSIFICATION_REPORT\n",
      "--------------------------------------------------------------------------------\n",
      "              precision    recall  f1-score   support\n",
      "\n",
      "           0       0.71      0.66      0.68       203\n",
      "           1       0.75      0.79      0.77       267\n",
      "\n",
      "    accuracy                           0.74       470\n",
      "   macro avg       0.73      0.73      0.73       470\n",
      "weighted avg       0.73      0.74      0.73       470\n",
      "\n",
      "--------------------------------------------------------------------------------\n"
     ]
    }
   ],
   "source": [
    "#instantiate a model\n",
    "logreg= LogisticRegression(solver= 'lbfgs')\n",
    "\n",
    "#train a model\n",
    "logreg= logreg.fit(X_train, y_train)\n",
    "\n",
    "#predict\n",
    "y_pred= logreg.predict(X_test)\n",
    "\n",
    "print('TEST_#__: LOGISTIC_REGRESSION')\n",
    "print('--'*40)\n",
    "print('CONFUSION_MATRIX')\n",
    "print('--'*40)\n",
    "print(confusion_matrix(y_test, y_pred))\n",
    "print('--'*40)\n",
    "print('CLASSIFICATION_REPORT')\n",
    "print('--'*40)\n",
    "print(classification_report(y_test, y_pred, output_dict= False))\n",
    "print('--'*40)\n",
    "\n",
    "p0t2= round(f1_score(y_test, y_pred), 3)"
   ]
  },
  {
   "cell_type": "code",
   "execution_count": 719,
   "metadata": {},
   "outputs": [],
   "source": [
    "# plot_confusion_matrix(cm, classes,\n",
    "#                           normalize=False,\n",
    "#                           title='Confusion matrix',\n",
    "#                           cmap=plt.cm.Greens)\n"
   ]
  },
  {
   "cell_type": "code",
   "execution_count": 655,
   "metadata": {},
   "outputs": [],
   "source": [
    "# plt.clf()\n",
    "# plt.imshow(cm, interpolation='nearest', cmap=plt.cm.Wistia)\n",
    "# classNames = ['Negative','Positive']\n",
    "# plt.title('Versicolor or Not Versicolor Confusion Matrix - Test Data')\n",
    "# plt.ylabel('True label')\n",
    "# plt.xlabel('Predicted label')\n",
    "# tick_marks = np.arange(len(classNames))\n",
    "# plt.xticks(tick_marks, classNames, rotation=45)\n",
    "# plt.yticks(tick_marks, classNames)\n",
    "# s = [['TN','FP'], ['FN', 'TP']]\n",
    "# for i in range(2):\n",
    "#     for j in range(2):\n",
    "#         plt.text(j,i, str(s[i][j])+\" = \"+str(cm[i][j]))\n",
    "# plt.show()"
   ]
  },
  {
   "cell_type": "markdown",
   "metadata": {},
   "source": [
    "## Random Forest 2"
   ]
  },
  {
   "cell_type": "code",
   "execution_count": 768,
   "metadata": {},
   "outputs": [],
   "source": [
    "from sklearn.tree import export_graphviz\n",
    "from sklearn.externals.six import StringIO  \n",
    "from IPython.display import Image  \n",
    "import pydotplus"
   ]
  },
  {
   "cell_type": "code",
   "execution_count": 789,
   "metadata": {},
   "outputs": [],
   "source": [
    "rfc = RandomForestClassifier(random_state = 23, n_estimators=100)"
   ]
  },
  {
   "cell_type": "code",
   "execution_count": 779,
   "metadata": {},
   "outputs": [],
   "source": [
    "X_train, X_test, y_train, y_test = train_test_split(X, y, test_size=0.25, random_state=23)"
   ]
  },
  {
   "cell_type": "code",
   "execution_count": 790,
   "metadata": {},
   "outputs": [
    {
     "data": {
      "text/plain": [
       "RandomForestClassifier(bootstrap=True, class_weight=None, criterion='gini',\n",
       "                       max_depth=None, max_features='auto', max_leaf_nodes=None,\n",
       "                       min_impurity_decrease=0.0, min_impurity_split=None,\n",
       "                       min_samples_leaf=1, min_samples_split=2,\n",
       "                       min_weight_fraction_leaf=0.0, n_estimators=100,\n",
       "                       n_jobs=None, oob_score=False, random_state=23, verbose=0,\n",
       "                       warm_start=False)"
      ]
     },
     "execution_count": 790,
     "metadata": {},
     "output_type": "execute_result"
    }
   ],
   "source": [
    "#fit the model to the training data\n",
    "rfc.fit(X_train, y_train)"
   ]
  },
  {
   "cell_type": "code",
   "execution_count": 791,
   "metadata": {},
   "outputs": [
    {
     "name": "stdout",
     "output_type": "stream",
     "text": [
      "Test Accuracy score:  0.7489361702127659\n",
      "Test F1 score:  0.797250859106529\n"
     ]
    }
   ],
   "source": [
    "#use the fitted model to predict on the test data\n",
    "rfc_pred = rfc.predict(X_test)\n",
    "\n",
    "# checking accuracy on the test data\n",
    "print('Test Accuracy score: ', accuracy_score(y_test, rfc_pred))\n",
    "\n",
    "# checking accuracy on the test data\n",
    "print('Test F1 score: ', f1_score(y_test, rfc_pred))"
   ]
  },
  {
   "cell_type": "code",
   "execution_count": 792,
   "metadata": {},
   "outputs": [
    {
     "name": "stdout",
     "output_type": "stream",
     "text": [
      "{'n_estimators': [200, 400, 600, 800, 1000, 1200, 1400, 1600, 1800, 2000], 'max_features': ['auto', 'sqrt'], 'max_depth': [10, 20, 30, 40, 50, 60, 70, 80, 90, 100, 110, None], 'min_samples_split': [2, 5, 10], 'min_samples_leaf': [1, 2, 4], 'bootstrap': [True, False]}\n"
     ]
    }
   ],
   "source": [
    "# Tune hyperparameters with randomized search\n",
    "from sklearn.model_selection import RandomizedSearchCV\n",
    "\n",
    "# Number of trees in random forest\n",
    "n_estimators = [int(x) for x in np.linspace(start = 200, stop = 2000, num = 10)]\n",
    "# Number of features to consider at every split\n",
    "max_features = ['auto', 'sqrt']\n",
    "# Maximum number of levels in tree\n",
    "max_depth = [int(x) for x in np.linspace(10, 110, num = 11)]\n",
    "max_depth.append(None)\n",
    "# Minimum number of samples required to split a node\n",
    "min_samples_split = [2, 5, 10]\n",
    "# Minimum number of samples required at each leaf node\n",
    "min_samples_leaf = [1, 2, 4]\n",
    "# Method of selecting samples for training each tree\n",
    "bootstrap = [True, False]\n",
    "# Create the random grid\n",
    "random_grid = {'n_estimators': n_estimators,\n",
    "               'max_features': max_features,\n",
    "               'max_depth': max_depth,\n",
    "               'min_samples_split': min_samples_split,\n",
    "               'min_samples_leaf': min_samples_leaf,\n",
    "               'bootstrap': bootstrap}\n",
    "print(random_grid)"
   ]
  },
  {
   "cell_type": "code",
   "execution_count": 793,
   "metadata": {},
   "outputs": [
    {
     "name": "stdout",
     "output_type": "stream",
     "text": [
      "Fitting 3 folds for each of 100 candidates, totalling 300 fits\n"
     ]
    },
    {
     "name": "stderr",
     "output_type": "stream",
     "text": [
      "[Parallel(n_jobs=-1)]: Using backend LokyBackend with 4 concurrent workers.\n",
      "[Parallel(n_jobs=-1)]: Done  33 tasks      | elapsed:   40.7s\n",
      "[Parallel(n_jobs=-1)]: Done 154 tasks      | elapsed:  3.0min\n",
      "[Parallel(n_jobs=-1)]: Done 300 out of 300 | elapsed:  6.0min finished\n"
     ]
    },
    {
     "data": {
      "text/plain": [
       "RandomizedSearchCV(cv=3, error_score='raise-deprecating',\n",
       "                   estimator=RandomForestRegressor(bootstrap=True,\n",
       "                                                   criterion='mse',\n",
       "                                                   max_depth=None,\n",
       "                                                   max_features='auto',\n",
       "                                                   max_leaf_nodes=None,\n",
       "                                                   min_impurity_decrease=0.0,\n",
       "                                                   min_impurity_split=None,\n",
       "                                                   min_samples_leaf=1,\n",
       "                                                   min_samples_split=2,\n",
       "                                                   min_weight_fraction_leaf=0.0,\n",
       "                                                   n_estimators='warn',\n",
       "                                                   n_jobs=None, oob_score=False,\n",
       "                                                   random_sta...\n",
       "                   param_distributions={'bootstrap': [True, False],\n",
       "                                        'max_depth': [10, 20, 30, 40, 50, 60,\n",
       "                                                      70, 80, 90, 100, 110,\n",
       "                                                      None],\n",
       "                                        'max_features': ['auto', 'sqrt'],\n",
       "                                        'min_samples_leaf': [1, 2, 4],\n",
       "                                        'min_samples_split': [2, 5, 10],\n",
       "                                        'n_estimators': [200, 400, 600, 800,\n",
       "                                                         1000, 1200, 1400, 1600,\n",
       "                                                         1800, 2000]},\n",
       "                   pre_dispatch='2*n_jobs', random_state=42, refit=True,\n",
       "                   return_train_score=False, scoring=None, verbose=2)"
      ]
     },
     "execution_count": 793,
     "metadata": {},
     "output_type": "execute_result"
    }
   ],
   "source": [
    "from sklearn.ensemble import RandomForestRegressor\n",
    "# Use the random grid to search for best hyperparameters\n",
    "# First create the base model to tune\n",
    "rf = RandomForestRegressor()\n",
    "# Random search of parameters, using 3 fold cross validation, \n",
    "# search across 100 different combinations, and use all available cores\n",
    "rf_random = RandomizedSearchCV(estimator = rf, param_distributions = random_grid, n_iter = 100, cv = 3, verbose=2, random_state=42, n_jobs = -1)\n",
    "# Fit the random search model\n",
    "rf_random.fit(X_train, y_train)"
   ]
  },
  {
   "cell_type": "code",
   "execution_count": 794,
   "metadata": {},
   "outputs": [
    {
     "ename": "NotFittedError",
     "evalue": "This RandomForestClassifier instance is not fitted yet. Call 'fit' with appropriate arguments before using this method.",
     "output_type": "error",
     "traceback": [
      "\u001b[0;31m---------------------------------------------------------------------------\u001b[0m",
      "\u001b[0;31mNotFittedError\u001b[0m                            Traceback (most recent call last)",
      "\u001b[0;32m<ipython-input-794-cdbbc8f8a103>\u001b[0m in \u001b[0;36m<module>\u001b[0;34m\u001b[0m\n\u001b[1;32m      2\u001b[0m export_graphviz(rfc.fit(X_train, y_train), out_file=dot_data,  \n\u001b[1;32m      3\u001b[0m                 \u001b[0mfilled\u001b[0m\u001b[0;34m=\u001b[0m\u001b[0;32mTrue\u001b[0m\u001b[0;34m,\u001b[0m \u001b[0mrounded\u001b[0m\u001b[0;34m=\u001b[0m\u001b[0;32mTrue\u001b[0m\u001b[0;34m,\u001b[0m\u001b[0;34m\u001b[0m\u001b[0;34m\u001b[0m\u001b[0m\n\u001b[0;32m----> 4\u001b[0;31m                 special_characters=True,feature_names = columns)\n\u001b[0m\u001b[1;32m      5\u001b[0m \u001b[0mgraph\u001b[0m \u001b[0;34m=\u001b[0m \u001b[0mpydotplus\u001b[0m\u001b[0;34m.\u001b[0m\u001b[0mgraph_from_dot_data\u001b[0m\u001b[0;34m(\u001b[0m\u001b[0mdot_data\u001b[0m\u001b[0;34m.\u001b[0m\u001b[0mgetvalue\u001b[0m\u001b[0;34m(\u001b[0m\u001b[0;34m)\u001b[0m\u001b[0;34m)\u001b[0m\u001b[0;34m\u001b[0m\u001b[0;34m\u001b[0m\u001b[0m\n\u001b[1;32m      6\u001b[0m \u001b[0mgraph\u001b[0m\u001b[0;34m.\u001b[0m\u001b[0mwrite_png\u001b[0m\u001b[0;34m(\u001b[0m\u001b[0;34m'tree_reg.png'\u001b[0m\u001b[0;34m)\u001b[0m\u001b[0;34m\u001b[0m\u001b[0;34m\u001b[0m\u001b[0m\n",
      "\u001b[0;32m/anaconda3/envs/learn-env/lib/python3.6/site-packages/sklearn/tree/export.py\u001b[0m in \u001b[0;36mexport_graphviz\u001b[0;34m(decision_tree, out_file, max_depth, feature_names, class_names, label, filled, leaves_parallel, impurity, node_ids, proportion, rotate, rounded, special_characters, precision)\u001b[0m\n\u001b[1;32m    754\u001b[0m     \"\"\"\n\u001b[1;32m    755\u001b[0m \u001b[0;34m\u001b[0m\u001b[0m\n\u001b[0;32m--> 756\u001b[0;31m     \u001b[0mcheck_is_fitted\u001b[0m\u001b[0;34m(\u001b[0m\u001b[0mdecision_tree\u001b[0m\u001b[0;34m,\u001b[0m \u001b[0;34m'tree_'\u001b[0m\u001b[0;34m)\u001b[0m\u001b[0;34m\u001b[0m\u001b[0;34m\u001b[0m\u001b[0m\n\u001b[0m\u001b[1;32m    757\u001b[0m     \u001b[0mown_file\u001b[0m \u001b[0;34m=\u001b[0m \u001b[0;32mFalse\u001b[0m\u001b[0;34m\u001b[0m\u001b[0;34m\u001b[0m\u001b[0m\n\u001b[1;32m    758\u001b[0m     \u001b[0mreturn_string\u001b[0m \u001b[0;34m=\u001b[0m \u001b[0;32mFalse\u001b[0m\u001b[0;34m\u001b[0m\u001b[0;34m\u001b[0m\u001b[0m\n",
      "\u001b[0;32m/anaconda3/envs/learn-env/lib/python3.6/site-packages/sklearn/utils/validation.py\u001b[0m in \u001b[0;36mcheck_is_fitted\u001b[0;34m(estimator, attributes, msg, all_or_any)\u001b[0m\n\u001b[1;32m    912\u001b[0m \u001b[0;34m\u001b[0m\u001b[0m\n\u001b[1;32m    913\u001b[0m     \u001b[0;32mif\u001b[0m \u001b[0;32mnot\u001b[0m \u001b[0mall_or_any\u001b[0m\u001b[0;34m(\u001b[0m\u001b[0;34m[\u001b[0m\u001b[0mhasattr\u001b[0m\u001b[0;34m(\u001b[0m\u001b[0mestimator\u001b[0m\u001b[0;34m,\u001b[0m \u001b[0mattr\u001b[0m\u001b[0;34m)\u001b[0m \u001b[0;32mfor\u001b[0m \u001b[0mattr\u001b[0m \u001b[0;32min\u001b[0m \u001b[0mattributes\u001b[0m\u001b[0;34m]\u001b[0m\u001b[0;34m)\u001b[0m\u001b[0;34m:\u001b[0m\u001b[0;34m\u001b[0m\u001b[0;34m\u001b[0m\u001b[0m\n\u001b[0;32m--> 914\u001b[0;31m         \u001b[0;32mraise\u001b[0m \u001b[0mNotFittedError\u001b[0m\u001b[0;34m(\u001b[0m\u001b[0mmsg\u001b[0m \u001b[0;34m%\u001b[0m \u001b[0;34m{\u001b[0m\u001b[0;34m'name'\u001b[0m\u001b[0;34m:\u001b[0m \u001b[0mtype\u001b[0m\u001b[0;34m(\u001b[0m\u001b[0mestimator\u001b[0m\u001b[0;34m)\u001b[0m\u001b[0;34m.\u001b[0m\u001b[0m__name__\u001b[0m\u001b[0;34m}\u001b[0m\u001b[0;34m)\u001b[0m\u001b[0;34m\u001b[0m\u001b[0;34m\u001b[0m\u001b[0m\n\u001b[0m\u001b[1;32m    915\u001b[0m \u001b[0;34m\u001b[0m\u001b[0m\n\u001b[1;32m    916\u001b[0m \u001b[0;34m\u001b[0m\u001b[0m\n",
      "\u001b[0;31mNotFittedError\u001b[0m: This RandomForestClassifier instance is not fitted yet. Call 'fit' with appropriate arguments before using this method."
     ]
    }
   ],
   "source": [
    "dot_data = StringIO()\n",
    "export_graphviz(rfc.fit(X_train, y_train), out_file=dot_data,  \n",
    "                filled=True, rounded=True,\n",
    "                special_characters=True,feature_names = columns)\n",
    "graph = pydotplus.graph_from_dot_data(dot_data.getvalue())  \n",
    "graph.write_png('tree_reg.png')\n",
    "Image(graph.create_png())"
   ]
  },
  {
   "cell_type": "code",
   "execution_count": 784,
   "metadata": {},
   "outputs": [],
   "source": [
    "columns = ['Nscore', 'Escore', 'Oscore', 'Ascore', 'Cscore', 'Impulsive', 'SS',\n",
    "          'Alcohol', 'Cannabis', 'EDU_18', 'EDU_Some_college', 'EDU_Cert', 'EDU_Uni', 'EDU_Mas',\n",
    "          'EDU_Doc', 'Age25_34', 'Age35_44', 'Age45_54', 'Age55_64', 'Age65_', 'Gender']"
   ]
  },
  {
   "cell_type": "code",
   "execution_count": 775,
   "metadata": {},
   "outputs": [
    {
     "data": {
      "text/html": [
       "<div>\n",
       "<style scoped>\n",
       "    .dataframe tbody tr th:only-of-type {\n",
       "        vertical-align: middle;\n",
       "    }\n",
       "\n",
       "    .dataframe tbody tr th {\n",
       "        vertical-align: top;\n",
       "    }\n",
       "\n",
       "    .dataframe thead th {\n",
       "        text-align: right;\n",
       "    }\n",
       "</style>\n",
       "<table border=\"1\" class=\"dataframe\">\n",
       "  <thead>\n",
       "    <tr style=\"text-align: right;\">\n",
       "      <th></th>\n",
       "      <th>Nscore</th>\n",
       "      <th>Escore</th>\n",
       "      <th>Oscore</th>\n",
       "      <th>Ascore</th>\n",
       "      <th>Cscore</th>\n",
       "      <th>Impulsive</th>\n",
       "      <th>SS</th>\n",
       "      <th>Alcohol</th>\n",
       "      <th>Cannabis</th>\n",
       "      <th>EDU_18</th>\n",
       "      <th>EDU_Some_college</th>\n",
       "      <th>EDU_Cert</th>\n",
       "      <th>EDU_Uni</th>\n",
       "      <th>EDU_Mas</th>\n",
       "      <th>EDU_Doc</th>\n",
       "      <th>Age25_34</th>\n",
       "      <th>Age35_44</th>\n",
       "      <th>Age45_54</th>\n",
       "      <th>Age55_64</th>\n",
       "      <th>Age65_</th>\n",
       "      <th>Gender</th>\n",
       "    </tr>\n",
       "  </thead>\n",
       "  <tbody>\n",
       "    <tr>\n",
       "      <th>0</th>\n",
       "      <td>0.31287</td>\n",
       "      <td>-0.57545</td>\n",
       "      <td>-0.58331</td>\n",
       "      <td>-0.91699</td>\n",
       "      <td>-0.00665</td>\n",
       "      <td>-0.21712</td>\n",
       "      <td>-1.18084</td>\n",
       "      <td>1</td>\n",
       "      <td>0</td>\n",
       "      <td>0</td>\n",
       "      <td>0</td>\n",
       "      <td>1</td>\n",
       "      <td>0</td>\n",
       "      <td>0</td>\n",
       "      <td>0</td>\n",
       "      <td>0</td>\n",
       "      <td>1</td>\n",
       "      <td>0</td>\n",
       "      <td>0</td>\n",
       "      <td>0</td>\n",
       "      <td>0</td>\n",
       "    </tr>\n",
       "    <tr>\n",
       "      <th>1</th>\n",
       "      <td>-0.67825</td>\n",
       "      <td>1.93886</td>\n",
       "      <td>1.43533</td>\n",
       "      <td>0.76096</td>\n",
       "      <td>-0.14277</td>\n",
       "      <td>-0.71126</td>\n",
       "      <td>-0.21575</td>\n",
       "      <td>1</td>\n",
       "      <td>1</td>\n",
       "      <td>0</td>\n",
       "      <td>0</td>\n",
       "      <td>0</td>\n",
       "      <td>0</td>\n",
       "      <td>0</td>\n",
       "      <td>1</td>\n",
       "      <td>1</td>\n",
       "      <td>0</td>\n",
       "      <td>0</td>\n",
       "      <td>0</td>\n",
       "      <td>0</td>\n",
       "      <td>1</td>\n",
       "    </tr>\n",
       "    <tr>\n",
       "      <th>2</th>\n",
       "      <td>-0.46725</td>\n",
       "      <td>0.80523</td>\n",
       "      <td>-0.84732</td>\n",
       "      <td>-1.62090</td>\n",
       "      <td>-1.01450</td>\n",
       "      <td>-1.37983</td>\n",
       "      <td>0.40148</td>\n",
       "      <td>1</td>\n",
       "      <td>0</td>\n",
       "      <td>0</td>\n",
       "      <td>0</td>\n",
       "      <td>1</td>\n",
       "      <td>0</td>\n",
       "      <td>0</td>\n",
       "      <td>0</td>\n",
       "      <td>0</td>\n",
       "      <td>1</td>\n",
       "      <td>0</td>\n",
       "      <td>0</td>\n",
       "      <td>0</td>\n",
       "      <td>1</td>\n",
       "    </tr>\n",
       "    <tr>\n",
       "      <th>3</th>\n",
       "      <td>-0.14882</td>\n",
       "      <td>-0.80615</td>\n",
       "      <td>-0.01928</td>\n",
       "      <td>0.59042</td>\n",
       "      <td>0.58489</td>\n",
       "      <td>-1.37983</td>\n",
       "      <td>-1.18084</td>\n",
       "      <td>1</td>\n",
       "      <td>0</td>\n",
       "      <td>0</td>\n",
       "      <td>0</td>\n",
       "      <td>0</td>\n",
       "      <td>0</td>\n",
       "      <td>1</td>\n",
       "      <td>0</td>\n",
       "      <td>0</td>\n",
       "      <td>0</td>\n",
       "      <td>0</td>\n",
       "      <td>0</td>\n",
       "      <td>0</td>\n",
       "      <td>0</td>\n",
       "    </tr>\n",
       "    <tr>\n",
       "      <th>4</th>\n",
       "      <td>0.73545</td>\n",
       "      <td>-1.63340</td>\n",
       "      <td>-0.45174</td>\n",
       "      <td>-0.30172</td>\n",
       "      <td>1.30612</td>\n",
       "      <td>-0.21712</td>\n",
       "      <td>-0.21575</td>\n",
       "      <td>1</td>\n",
       "      <td>0</td>\n",
       "      <td>0</td>\n",
       "      <td>0</td>\n",
       "      <td>0</td>\n",
       "      <td>0</td>\n",
       "      <td>0</td>\n",
       "      <td>1</td>\n",
       "      <td>0</td>\n",
       "      <td>1</td>\n",
       "      <td>0</td>\n",
       "      <td>0</td>\n",
       "      <td>0</td>\n",
       "      <td>0</td>\n",
       "    </tr>\n",
       "  </tbody>\n",
       "</table>\n",
       "</div>"
      ],
      "text/plain": [
       "    Nscore   Escore   Oscore   Ascore   Cscore  Impulsive       SS  Alcohol  \\\n",
       "0  0.31287 -0.57545 -0.58331 -0.91699 -0.00665   -0.21712 -1.18084        1   \n",
       "1 -0.67825  1.93886  1.43533  0.76096 -0.14277   -0.71126 -0.21575        1   \n",
       "2 -0.46725  0.80523 -0.84732 -1.62090 -1.01450   -1.37983  0.40148        1   \n",
       "3 -0.14882 -0.80615 -0.01928  0.59042  0.58489   -1.37983 -1.18084        1   \n",
       "4  0.73545 -1.63340 -0.45174 -0.30172  1.30612   -0.21712 -0.21575        1   \n",
       "\n",
       "   Cannabis  EDU_18  EDU_Some_college  EDU_Cert  EDU_Uni  EDU_Mas  EDU_Doc  \\\n",
       "0         0       0                 0         1        0        0        0   \n",
       "1         1       0                 0         0        0        0        1   \n",
       "2         0       0                 0         1        0        0        0   \n",
       "3         0       0                 0         0        0        1        0   \n",
       "4         0       0                 0         0        0        0        1   \n",
       "\n",
       "   Age25_34  Age35_44  Age45_54  Age55_64  Age65_  Gender  \n",
       "0         0         1         0         0       0       0  \n",
       "1         1         0         0         0       0       1  \n",
       "2         0         1         0         0       0       1  \n",
       "3         0         0         0         0       0       0  \n",
       "4         0         1         0         0       0       0  "
      ]
     },
     "execution_count": 775,
     "metadata": {},
     "output_type": "execute_result"
    }
   ],
   "source": [
    "X.head()"
   ]
  },
  {
   "cell_type": "code",
   "execution_count": 850,
   "metadata": {},
   "outputs": [],
   "source": [
    "df.Cannabis = df.Cannabis.astype(int)\n",
    "df.Alcohol = df.Alcohol.astype(int)"
   ]
  },
  {
   "cell_type": "markdown",
   "metadata": {},
   "source": [
    "## XG Boost"
   ]
  },
  {
   "cell_type": "code",
   "execution_count": 559,
   "metadata": {},
   "outputs": [],
   "source": [
    "X = df_2.drop(['Amphet', 'Benzos', 'Coke', 'Crack', 'Ecstasy', 'Heroin', 'Ketamine', 'Drug_Use'], axis=1)\n",
    "y = df_2.Drug_Use"
   ]
  },
  {
   "cell_type": "code",
   "execution_count": 560,
   "metadata": {},
   "outputs": [],
   "source": [
    "# setting up testing and training sets\n",
    "X_train, X_test, y_train, y_test = train_test_split(X, y, test_size=0.25, random_state=23)"
   ]
  },
  {
   "cell_type": "code",
   "execution_count": 646,
   "metadata": {},
   "outputs": [
    {
     "data": {
      "text/plain": [
       "XGBClassifier(base_score=0.5, booster='gbtree', colsample_bylevel=1,\n",
       "              colsample_bytree=1, gamma=0, learning_rate=0.1, max_delta_step=0,\n",
       "              max_depth=3, min_child_weight=1, missing=None, n_estimators=100,\n",
       "              n_jobs=1, nthread=None, objective='binary:logistic',\n",
       "              random_state=0, reg_alpha=0, reg_lambda=1, scale_pos_weight=1,\n",
       "              seed=None, silent=True, subsample=1)"
      ]
     },
     "execution_count": 646,
     "metadata": {},
     "output_type": "execute_result"
    }
   ],
   "source": [
    "xgb.XGBClassifier()\n"
   ]
  },
  {
   "cell_type": "code",
   "execution_count": 647,
   "metadata": {},
   "outputs": [],
   "source": [
    "xg_clf = xgb.XGBClassifier(objective ='binary:logistic', \n",
    "                           colsample_bytree = 0.3, \n",
    "                           learning_rate = 0.1,\n",
    "                           max_depth = 2, \n",
    "                           alpha = 1, \n",
    "                           n_estimators = 100)"
   ]
  },
  {
   "cell_type": "code",
   "execution_count": 648,
   "metadata": {},
   "outputs": [
    {
     "data": {
      "text/plain": [
       "XGBClassifier(alpha=1, base_score=0.5, booster='gbtree', colsample_bylevel=1,\n",
       "              colsample_bytree=0.3, gamma=0, learning_rate=0.1,\n",
       "              max_delta_step=0, max_depth=2, min_child_weight=1, missing=None,\n",
       "              n_estimators=100, n_jobs=1, nthread=None,\n",
       "              objective='binary:logistic', random_state=0, reg_alpha=0,\n",
       "              reg_lambda=1, scale_pos_weight=1, seed=None, silent=True,\n",
       "              subsample=1)"
      ]
     },
     "execution_count": 648,
     "metadata": {},
     "output_type": "execute_result"
    }
   ],
   "source": [
    "xg_clf.fit(X_train,y_train)"
   ]
  },
  {
   "cell_type": "code",
   "execution_count": 649,
   "metadata": {},
   "outputs": [
    {
     "name": "stdout",
     "output_type": "stream",
     "text": [
      "Accuracy: 0.748936\n",
      "F1: 0.794425\n"
     ]
    }
   ],
   "source": [
    "preds = xg_clf.predict(X_test)\n",
    "\n",
    "\n",
    "test_f1 = f1_score(y_test, preds)\n",
    "test_acc = accuracy_score(y_test, preds)\n",
    "\n",
    "print(\"Accuracy: %f\" % (test_acc))\n",
    "print(\"F1: %f\" % (test_f1))"
   ]
  },
  {
   "cell_type": "markdown",
   "metadata": {},
   "source": [
    "***\n",
    "***\n",
    "***"
   ]
  },
  {
   "cell_type": "markdown",
   "metadata": {},
   "source": [
    "### Polynomials "
   ]
  },
  {
   "cell_type": "code",
   "execution_count": 522,
   "metadata": {},
   "outputs": [
    {
     "data": {
      "text/html": [
       "<div>\n",
       "<style scoped>\n",
       "    .dataframe tbody tr th:only-of-type {\n",
       "        vertical-align: middle;\n",
       "    }\n",
       "\n",
       "    .dataframe tbody tr th {\n",
       "        vertical-align: top;\n",
       "    }\n",
       "\n",
       "    .dataframe thead th {\n",
       "        text-align: right;\n",
       "    }\n",
       "</style>\n",
       "<table border=\"1\" class=\"dataframe\">\n",
       "  <thead>\n",
       "    <tr style=\"text-align: right;\">\n",
       "      <th></th>\n",
       "      <th>Nscore</th>\n",
       "      <th>Escore</th>\n",
       "      <th>Oscore</th>\n",
       "      <th>Ascore</th>\n",
       "      <th>Cscore</th>\n",
       "      <th>Impulsive</th>\n",
       "      <th>SS</th>\n",
       "      <th>Nscore^2</th>\n",
       "      <th>Nscore Escore</th>\n",
       "      <th>Nscore Oscore</th>\n",
       "      <th>Nscore Ascore</th>\n",
       "      <th>Nscore Cscore</th>\n",
       "      <th>Nscore Impulsive</th>\n",
       "      <th>Nscore SS</th>\n",
       "      <th>Escore^2</th>\n",
       "      <th>Escore Oscore</th>\n",
       "      <th>Escore Ascore</th>\n",
       "      <th>Escore Cscore</th>\n",
       "      <th>Escore Impulsive</th>\n",
       "      <th>Escore SS</th>\n",
       "      <th>Oscore^2</th>\n",
       "      <th>Oscore Ascore</th>\n",
       "      <th>Oscore Cscore</th>\n",
       "      <th>Oscore Impulsive</th>\n",
       "      <th>Oscore SS</th>\n",
       "      <th>Ascore^2</th>\n",
       "      <th>Ascore Cscore</th>\n",
       "      <th>Ascore Impulsive</th>\n",
       "      <th>Ascore SS</th>\n",
       "      <th>Cscore^2</th>\n",
       "      <th>Cscore Impulsive</th>\n",
       "      <th>Cscore SS</th>\n",
       "      <th>Impulsive^2</th>\n",
       "      <th>Impulsive SS</th>\n",
       "      <th>SS^2</th>\n",
       "      <th>Alcohol</th>\n",
       "      <th>Cannabis</th>\n",
       "      <th>EDU_18</th>\n",
       "      <th>EDU_Some_college</th>\n",
       "      <th>EDU_Cert</th>\n",
       "      <th>EDU_Uni</th>\n",
       "      <th>EDU_Mas</th>\n",
       "      <th>EDU_Doc</th>\n",
       "      <th>EDU_Doc</th>\n",
       "      <th>Age25_34</th>\n",
       "      <th>Age35_44</th>\n",
       "      <th>Age45_54</th>\n",
       "      <th>Age55_64</th>\n",
       "      <th>Age65_</th>\n",
       "      <th>Gender</th>\n",
       "    </tr>\n",
       "  </thead>\n",
       "  <tbody>\n",
       "    <tr>\n",
       "      <th>0</th>\n",
       "      <td>0.31287</td>\n",
       "      <td>-0.57545</td>\n",
       "      <td>-0.58331</td>\n",
       "      <td>-0.91699</td>\n",
       "      <td>-0.00665</td>\n",
       "      <td>-0.21712</td>\n",
       "      <td>-1.18084</td>\n",
       "      <td>0.097888</td>\n",
       "      <td>-0.180041</td>\n",
       "      <td>-0.182500</td>\n",
       "      <td>-0.286899</td>\n",
       "      <td>-0.002081</td>\n",
       "      <td>-0.067930</td>\n",
       "      <td>-0.369449</td>\n",
       "      <td>0.331143</td>\n",
       "      <td>0.335666</td>\n",
       "      <td>0.527682</td>\n",
       "      <td>0.003827</td>\n",
       "      <td>0.124942</td>\n",
       "      <td>0.679514</td>\n",
       "      <td>0.340251</td>\n",
       "      <td>0.534889</td>\n",
       "      <td>0.003879</td>\n",
       "      <td>0.126648</td>\n",
       "      <td>0.688796</td>\n",
       "      <td>0.840871</td>\n",
       "      <td>0.006098</td>\n",
       "      <td>0.199097</td>\n",
       "      <td>1.082818</td>\n",
       "      <td>0.000044</td>\n",
       "      <td>0.001444</td>\n",
       "      <td>0.007853</td>\n",
       "      <td>0.047141</td>\n",
       "      <td>0.256384</td>\n",
       "      <td>1.394383</td>\n",
       "      <td>1</td>\n",
       "      <td>0</td>\n",
       "      <td>0</td>\n",
       "      <td>0</td>\n",
       "      <td>1</td>\n",
       "      <td>0</td>\n",
       "      <td>0</td>\n",
       "      <td>0</td>\n",
       "      <td>0</td>\n",
       "      <td>0</td>\n",
       "      <td>1</td>\n",
       "      <td>0</td>\n",
       "      <td>0</td>\n",
       "      <td>0</td>\n",
       "      <td>0</td>\n",
       "    </tr>\n",
       "    <tr>\n",
       "      <th>1</th>\n",
       "      <td>-0.67825</td>\n",
       "      <td>1.93886</td>\n",
       "      <td>1.43533</td>\n",
       "      <td>0.76096</td>\n",
       "      <td>-0.14277</td>\n",
       "      <td>-0.71126</td>\n",
       "      <td>-0.21575</td>\n",
       "      <td>0.460023</td>\n",
       "      <td>-1.315032</td>\n",
       "      <td>-0.973513</td>\n",
       "      <td>-0.516121</td>\n",
       "      <td>0.096834</td>\n",
       "      <td>0.482412</td>\n",
       "      <td>0.146332</td>\n",
       "      <td>3.759178</td>\n",
       "      <td>2.782904</td>\n",
       "      <td>1.475395</td>\n",
       "      <td>-0.276811</td>\n",
       "      <td>-1.379034</td>\n",
       "      <td>-0.418309</td>\n",
       "      <td>2.060172</td>\n",
       "      <td>1.092229</td>\n",
       "      <td>-0.204922</td>\n",
       "      <td>-1.020893</td>\n",
       "      <td>-0.309672</td>\n",
       "      <td>0.579060</td>\n",
       "      <td>-0.108642</td>\n",
       "      <td>-0.541240</td>\n",
       "      <td>-0.164177</td>\n",
       "      <td>0.020383</td>\n",
       "      <td>0.101547</td>\n",
       "      <td>0.030803</td>\n",
       "      <td>0.505891</td>\n",
       "      <td>0.153454</td>\n",
       "      <td>0.046548</td>\n",
       "      <td>1</td>\n",
       "      <td>1</td>\n",
       "      <td>0</td>\n",
       "      <td>0</td>\n",
       "      <td>0</td>\n",
       "      <td>0</td>\n",
       "      <td>0</td>\n",
       "      <td>1</td>\n",
       "      <td>1</td>\n",
       "      <td>1</td>\n",
       "      <td>0</td>\n",
       "      <td>0</td>\n",
       "      <td>0</td>\n",
       "      <td>0</td>\n",
       "      <td>1</td>\n",
       "    </tr>\n",
       "    <tr>\n",
       "      <th>2</th>\n",
       "      <td>-0.46725</td>\n",
       "      <td>0.80523</td>\n",
       "      <td>-0.84732</td>\n",
       "      <td>-1.62090</td>\n",
       "      <td>-1.01450</td>\n",
       "      <td>-1.37983</td>\n",
       "      <td>0.40148</td>\n",
       "      <td>0.218323</td>\n",
       "      <td>-0.376244</td>\n",
       "      <td>0.395910</td>\n",
       "      <td>0.757366</td>\n",
       "      <td>0.474025</td>\n",
       "      <td>0.644726</td>\n",
       "      <td>-0.187592</td>\n",
       "      <td>0.648395</td>\n",
       "      <td>-0.682287</td>\n",
       "      <td>-1.305197</td>\n",
       "      <td>-0.816906</td>\n",
       "      <td>-1.111081</td>\n",
       "      <td>0.323284</td>\n",
       "      <td>0.717951</td>\n",
       "      <td>1.373421</td>\n",
       "      <td>0.859606</td>\n",
       "      <td>1.169158</td>\n",
       "      <td>-0.340182</td>\n",
       "      <td>2.627317</td>\n",
       "      <td>1.644403</td>\n",
       "      <td>2.236566</td>\n",
       "      <td>-0.650759</td>\n",
       "      <td>1.029210</td>\n",
       "      <td>1.399838</td>\n",
       "      <td>-0.407301</td>\n",
       "      <td>1.903931</td>\n",
       "      <td>-0.553974</td>\n",
       "      <td>0.161186</td>\n",
       "      <td>1</td>\n",
       "      <td>0</td>\n",
       "      <td>0</td>\n",
       "      <td>0</td>\n",
       "      <td>1</td>\n",
       "      <td>0</td>\n",
       "      <td>0</td>\n",
       "      <td>0</td>\n",
       "      <td>0</td>\n",
       "      <td>0</td>\n",
       "      <td>1</td>\n",
       "      <td>0</td>\n",
       "      <td>0</td>\n",
       "      <td>0</td>\n",
       "      <td>1</td>\n",
       "    </tr>\n",
       "    <tr>\n",
       "      <th>3</th>\n",
       "      <td>-0.14882</td>\n",
       "      <td>-0.80615</td>\n",
       "      <td>-0.01928</td>\n",
       "      <td>0.59042</td>\n",
       "      <td>0.58489</td>\n",
       "      <td>-1.37983</td>\n",
       "      <td>-1.18084</td>\n",
       "      <td>0.022147</td>\n",
       "      <td>0.119971</td>\n",
       "      <td>0.002869</td>\n",
       "      <td>-0.087866</td>\n",
       "      <td>-0.087043</td>\n",
       "      <td>0.205346</td>\n",
       "      <td>0.175733</td>\n",
       "      <td>0.649878</td>\n",
       "      <td>0.015543</td>\n",
       "      <td>-0.475967</td>\n",
       "      <td>-0.471509</td>\n",
       "      <td>1.112350</td>\n",
       "      <td>0.951934</td>\n",
       "      <td>0.000372</td>\n",
       "      <td>-0.011383</td>\n",
       "      <td>-0.011277</td>\n",
       "      <td>0.026603</td>\n",
       "      <td>0.022767</td>\n",
       "      <td>0.348596</td>\n",
       "      <td>0.345331</td>\n",
       "      <td>-0.814679</td>\n",
       "      <td>-0.697192</td>\n",
       "      <td>0.342096</td>\n",
       "      <td>-0.807049</td>\n",
       "      <td>-0.690662</td>\n",
       "      <td>1.903931</td>\n",
       "      <td>1.629358</td>\n",
       "      <td>1.394383</td>\n",
       "      <td>1</td>\n",
       "      <td>0</td>\n",
       "      <td>0</td>\n",
       "      <td>0</td>\n",
       "      <td>0</td>\n",
       "      <td>0</td>\n",
       "      <td>1</td>\n",
       "      <td>0</td>\n",
       "      <td>0</td>\n",
       "      <td>0</td>\n",
       "      <td>0</td>\n",
       "      <td>0</td>\n",
       "      <td>0</td>\n",
       "      <td>0</td>\n",
       "      <td>0</td>\n",
       "    </tr>\n",
       "    <tr>\n",
       "      <th>4</th>\n",
       "      <td>0.73545</td>\n",
       "      <td>-1.63340</td>\n",
       "      <td>-0.45174</td>\n",
       "      <td>-0.30172</td>\n",
       "      <td>1.30612</td>\n",
       "      <td>-0.21712</td>\n",
       "      <td>-0.21575</td>\n",
       "      <td>0.540887</td>\n",
       "      <td>-1.201284</td>\n",
       "      <td>-0.332232</td>\n",
       "      <td>-0.221900</td>\n",
       "      <td>0.960586</td>\n",
       "      <td>-0.159681</td>\n",
       "      <td>-0.158673</td>\n",
       "      <td>2.667996</td>\n",
       "      <td>0.737872</td>\n",
       "      <td>0.492829</td>\n",
       "      <td>-2.133416</td>\n",
       "      <td>0.354644</td>\n",
       "      <td>0.352406</td>\n",
       "      <td>0.204069</td>\n",
       "      <td>0.136299</td>\n",
       "      <td>-0.590027</td>\n",
       "      <td>0.098082</td>\n",
       "      <td>0.097463</td>\n",
       "      <td>0.091035</td>\n",
       "      <td>-0.394083</td>\n",
       "      <td>0.065509</td>\n",
       "      <td>0.065096</td>\n",
       "      <td>1.705949</td>\n",
       "      <td>-0.283585</td>\n",
       "      <td>-0.281795</td>\n",
       "      <td>0.047141</td>\n",
       "      <td>0.046844</td>\n",
       "      <td>0.046548</td>\n",
       "      <td>1</td>\n",
       "      <td>0</td>\n",
       "      <td>0</td>\n",
       "      <td>0</td>\n",
       "      <td>0</td>\n",
       "      <td>0</td>\n",
       "      <td>0</td>\n",
       "      <td>1</td>\n",
       "      <td>1</td>\n",
       "      <td>0</td>\n",
       "      <td>1</td>\n",
       "      <td>0</td>\n",
       "      <td>0</td>\n",
       "      <td>0</td>\n",
       "      <td>0</td>\n",
       "    </tr>\n",
       "  </tbody>\n",
       "</table>\n",
       "</div>"
      ],
      "text/plain": [
       "    Nscore   Escore   Oscore   Ascore   Cscore  Impulsive       SS  Nscore^2  \\\n",
       "0  0.31287 -0.57545 -0.58331 -0.91699 -0.00665   -0.21712 -1.18084  0.097888   \n",
       "1 -0.67825  1.93886  1.43533  0.76096 -0.14277   -0.71126 -0.21575  0.460023   \n",
       "2 -0.46725  0.80523 -0.84732 -1.62090 -1.01450   -1.37983  0.40148  0.218323   \n",
       "3 -0.14882 -0.80615 -0.01928  0.59042  0.58489   -1.37983 -1.18084  0.022147   \n",
       "4  0.73545 -1.63340 -0.45174 -0.30172  1.30612   -0.21712 -0.21575  0.540887   \n",
       "\n",
       "   Nscore Escore  Nscore Oscore  Nscore Ascore  Nscore Cscore  \\\n",
       "0      -0.180041      -0.182500      -0.286899      -0.002081   \n",
       "1      -1.315032      -0.973513      -0.516121       0.096834   \n",
       "2      -0.376244       0.395910       0.757366       0.474025   \n",
       "3       0.119971       0.002869      -0.087866      -0.087043   \n",
       "4      -1.201284      -0.332232      -0.221900       0.960586   \n",
       "\n",
       "   Nscore Impulsive  Nscore SS  Escore^2  Escore Oscore  Escore Ascore  \\\n",
       "0         -0.067930  -0.369449  0.331143       0.335666       0.527682   \n",
       "1          0.482412   0.146332  3.759178       2.782904       1.475395   \n",
       "2          0.644726  -0.187592  0.648395      -0.682287      -1.305197   \n",
       "3          0.205346   0.175733  0.649878       0.015543      -0.475967   \n",
       "4         -0.159681  -0.158673  2.667996       0.737872       0.492829   \n",
       "\n",
       "   Escore Cscore  Escore Impulsive  Escore SS  Oscore^2  Oscore Ascore  \\\n",
       "0       0.003827          0.124942   0.679514  0.340251       0.534889   \n",
       "1      -0.276811         -1.379034  -0.418309  2.060172       1.092229   \n",
       "2      -0.816906         -1.111081   0.323284  0.717951       1.373421   \n",
       "3      -0.471509          1.112350   0.951934  0.000372      -0.011383   \n",
       "4      -2.133416          0.354644   0.352406  0.204069       0.136299   \n",
       "\n",
       "   Oscore Cscore  Oscore Impulsive  Oscore SS  Ascore^2  Ascore Cscore  \\\n",
       "0       0.003879          0.126648   0.688796  0.840871       0.006098   \n",
       "1      -0.204922         -1.020893  -0.309672  0.579060      -0.108642   \n",
       "2       0.859606          1.169158  -0.340182  2.627317       1.644403   \n",
       "3      -0.011277          0.026603   0.022767  0.348596       0.345331   \n",
       "4      -0.590027          0.098082   0.097463  0.091035      -0.394083   \n",
       "\n",
       "   Ascore Impulsive  Ascore SS  Cscore^2  Cscore Impulsive  Cscore SS  \\\n",
       "0          0.199097   1.082818  0.000044          0.001444   0.007853   \n",
       "1         -0.541240  -0.164177  0.020383          0.101547   0.030803   \n",
       "2          2.236566  -0.650759  1.029210          1.399838  -0.407301   \n",
       "3         -0.814679  -0.697192  0.342096         -0.807049  -0.690662   \n",
       "4          0.065509   0.065096  1.705949         -0.283585  -0.281795   \n",
       "\n",
       "   Impulsive^2  Impulsive SS      SS^2 Alcohol Cannabis  EDU_18  \\\n",
       "0     0.047141      0.256384  1.394383       1        0       0   \n",
       "1     0.505891      0.153454  0.046548       1        1       0   \n",
       "2     1.903931     -0.553974  0.161186       1        0       0   \n",
       "3     1.903931      1.629358  1.394383       1        0       0   \n",
       "4     0.047141      0.046844  0.046548       1        0       0   \n",
       "\n",
       "   EDU_Some_college  EDU_Cert  EDU_Uni  EDU_Mas  EDU_Doc  EDU_Doc  Age25_34  \\\n",
       "0                 0         1        0        0        0        0         0   \n",
       "1                 0         0        0        0        1        1         1   \n",
       "2                 0         1        0        0        0        0         0   \n",
       "3                 0         0        0        1        0        0         0   \n",
       "4                 0         0        0        0        1        1         0   \n",
       "\n",
       "   Age35_44  Age45_54  Age55_64  Age65_  Gender  \n",
       "0         1         0         0       0       0  \n",
       "1         0         0         0       0       1  \n",
       "2         1         0         0       0       1  \n",
       "3         0         0         0       0       0  \n",
       "4         1         0         0       0       0  "
      ]
     },
     "execution_count": 522,
     "metadata": {},
     "output_type": "execute_result"
    }
   ],
   "source": [
    "poly_2df.head()"
   ]
  },
  {
   "cell_type": "code",
   "execution_count": 523,
   "metadata": {},
   "outputs": [],
   "source": [
    "poly_2df.to_csv(\"poly_2df.csv\")"
   ]
  },
  {
   "cell_type": "markdown",
   "metadata": {},
   "source": [
    "### KNN"
   ]
  },
  {
   "cell_type": "code",
   "execution_count": 524,
   "metadata": {},
   "outputs": [],
   "source": [
    "X = poly_2df"
   ]
  },
  {
   "cell_type": "code",
   "execution_count": 526,
   "metadata": {},
   "outputs": [],
   "source": [
    "X_train, X_test, y_train, y_test = train_test_split(X, y, random_state=99, test_size=0.25) "
   ]
  },
  {
   "cell_type": "code",
   "execution_count": 527,
   "metadata": {},
   "outputs": [
    {
     "data": {
      "text/plain": [
       "SelectKBest(k='all', score_func=<function f_regression at 0x1a1fe9d6a8>)"
      ]
     },
     "execution_count": 527,
     "metadata": {},
     "output_type": "execute_result"
    }
   ],
   "source": [
    "selector = SelectKBest(f_regression, k='all')\n",
    "\n",
    "selector.fit(X_train, y_train)"
   ]
  },
  {
   "cell_type": "code",
   "execution_count": 528,
   "metadata": {},
   "outputs": [],
   "source": [
    "#scale\n",
    "scaler = StandardScaler()\n",
    "\n",
    "scaler.fit(X_train)\n",
    "X_train = scaler.transform(X_train)\n",
    "\n",
    "scaler.fit(X_test)\n",
    "X_test = scaler.transform(X_test)"
   ]
  },
  {
   "cell_type": "code",
   "execution_count": 529,
   "metadata": {},
   "outputs": [
    {
     "data": {
      "image/png": "[encoded data removed]",
      "text/plain": [
       "<Figure size 864x432 with 1 Axes>"
      ]
     },
     "metadata": {
      "needs_background": "light"
     },
     "output_type": "display_data"
    },
    {
     "name": "stdout",
     "output_type": "stream",
     "text": [
      "F1_score max:0.7885 where K: 133\n"
     ]
    }
   ],
   "source": [
    "k_scores = []\n",
    "k_range= list(range(1, 150, 2))\n",
    "for k in k_range:\n",
    "    knn = KNeighborsClassifier(n_neighbors = k, p=2)\n",
    "    knn.fit(X_train, y_train)\n",
    "    y_pred_k = knn.predict(X_test)\n",
    "    k_scores.append(f1_score(y_test, y_pred_k, pos_label= 1))\n",
    "\n",
    "# plot\n",
    "plt.figure(figsize=(12, 6))  \n",
    "plt.plot(k_range, k_scores, color='green', linestyle=':', marker='o',  \n",
    "         markerfacecolor='red', markersize=5)\n",
    "plt.title('F1 score by K Value')  \n",
    "plt.xlabel('K Value')  \n",
    "plt.ylabel('F1 Score') \n",
    "plt.show()\n",
    "\n",
    "# display parametrs \n",
    "print(f'F1_score max:{round(max(k_scores), 4)} where K: {(k_scores.index(max(k_scores))+1)*2 - 1}')\n",
    "k= (k_scores.index(max(k_scores))+1)*2 - 1"
   ]
  },
  {
   "cell_type": "code",
   "execution_count": 530,
   "metadata": {},
   "outputs": [
    {
     "name": "stdout",
     "output_type": "stream",
     "text": [
      "TEST_#__: LOGISTIC_REGRESSION\n",
      "--------------------------------------------------------------------------------\n",
      "CONFUSION_MATRIX\n",
      "--------------------------------------------------------------------------------\n",
      "[[133  70]\n",
      " [ 58 209]]\n",
      "--------------------------------------------------------------------------------\n",
      "CLASSIFICATION_REPORT\n",
      "--------------------------------------------------------------------------------\n",
      "              precision    recall  f1-score   support\n",
      "\n",
      "           0       0.70      0.66      0.68       203\n",
      "           1       0.75      0.78      0.77       267\n",
      "\n",
      "    accuracy                           0.73       470\n",
      "   macro avg       0.72      0.72      0.72       470\n",
      "weighted avg       0.73      0.73      0.73       470\n",
      "\n",
      "--------------------------------------------------------------------------------\n"
     ]
    }
   ],
   "source": [
    "#instantiate a model\n",
    "logreg= LogisticRegression(solver= 'lbfgs')\n",
    "\n",
    "#train a model\n",
    "logreg= logreg.fit(X_train, y_train)\n",
    "\n",
    "#predict\n",
    "y_pred= logreg.predict(X_test)\n",
    "\n",
    "print('TEST_#__: LOGISTIC_REGRESSION')\n",
    "print('--'*40)\n",
    "print('CONFUSION_MATRIX')\n",
    "print('--'*40)\n",
    "print(confusion_matrix(y_test, y_pred))\n",
    "print('--'*40)\n",
    "print('CLASSIFICATION_REPORT')\n",
    "print('--'*40)\n",
    "print(classification_report(y_test, y_pred, output_dict= False))\n",
    "print('--'*40)\n",
    "\n",
    "p0t2= round(f1_score(y_test, y_pred), 3)"
   ]
  },
  {
   "cell_type": "code",
   "execution_count": 531,
   "metadata": {},
   "outputs": [
    {
     "data": {
      "text/plain": [
       "RandomForestClassifier(bootstrap=True, class_weight=None, criterion='gini',\n",
       "                       max_depth=None, max_features='auto', max_leaf_nodes=None,\n",
       "                       min_impurity_decrease=0.0, min_impurity_split=None,\n",
       "                       min_samples_leaf=1, min_samples_split=2,\n",
       "                       min_weight_fraction_leaf=0.0, n_estimators=100,\n",
       "                       n_jobs=None, oob_score=False, random_state=23, verbose=0,\n",
       "                       warm_start=False)"
      ]
     },
     "execution_count": 531,
     "metadata": {},
     "output_type": "execute_result"
    }
   ],
   "source": [
    "rfc = RandomForestClassifier(random_state = 23, n_estimators=100)\n",
    "rfc"
   ]
  },
  {
   "cell_type": "code",
   "execution_count": 533,
   "metadata": {},
   "outputs": [
    {
     "data": {
      "text/plain": [
       "(1877, 50)"
      ]
     },
     "execution_count": 533,
     "metadata": {},
     "output_type": "execute_result"
    }
   ],
   "source": [
    "poly_2df.shape"
   ]
  },
  {
   "cell_type": "markdown",
   "metadata": {},
   "source": [
    "## Parameter Tuning "
   ]
  },
  {
   "cell_type": "markdown",
   "metadata": {},
   "source": [
    "### knn"
   ]
  },
  {
   "cell_type": "code",
   "execution_count": 576,
   "metadata": {},
   "outputs": [],
   "source": [
    "X = df_2.drop(['Amphet', 'Benzos', 'Coke', 'Crack', 'Ecstasy', 'Heroin', 'Ketamine', 'Drug_Use'], axis=1)\n",
    "y = df_2.Drug_Use"
   ]
  },
  {
   "cell_type": "code",
   "execution_count": 581,
   "metadata": {},
   "outputs": [],
   "source": [
    "X_train, X_test, y_train, y_test = train_test_split(X, y, random_state=99, test_size=0.25) "
   ]
  },
  {
   "cell_type": "code",
   "execution_count": 584,
   "metadata": {},
   "outputs": [
    {
     "data": {
      "text/plain": [
       "SelectKBest(k='all', score_func=<function f_regression at 0x1a1fe9d6a8>)"
      ]
     },
     "execution_count": 584,
     "metadata": {},
     "output_type": "execute_result"
    }
   ],
   "source": [
    "selector = SelectKBest(f_regression, k='all')\n",
    "\n",
    "selector.fit(X_train, y_train)"
   ]
  },
  {
   "cell_type": "code",
   "execution_count": 585,
   "metadata": {},
   "outputs": [],
   "source": [
    "#scale\n",
    "scaler = StandardScaler()\n",
    "\n",
    "scaler.fit(X_train)\n",
    "X_train = scaler.transform(X_train)\n",
    "\n",
    "# scaler.fit(X_test)\n",
    "X_test = scaler.transform(X_test)"
   ]
  },
  {
   "cell_type": "code",
   "execution_count": 855,
   "metadata": {},
   "outputs": [],
   "source": [
    "import matplotlib.pyplot as plt\n",
    "import itertools\n",
    "import numpy as np\n",
    "%matplotlib inline\n",
    "import seaborn as sns\n",
    "import warnings\n",
    "import warnings\n",
    "warnings.filterwarnings('ignore')\n",
    "plt.rcParams[\"figure.figsize\"] = [12,8]"
   ]
  },
  {
   "cell_type": "code",
   "execution_count": 856,
   "metadata": {},
   "outputs": [],
   "source": [
    "def plot_confusion_matrix(cm, classes,\n",
    "                          normalize=False,\n",
    "                          title='Confusion matrix',\n",
    "                          cmap=plt.cm.Greens):\n",
    "    \"\"\"\n",
    "    This function prints and plots the confusion matrix.\n",
    "    Normalization can be applied by setting `normalize=True`.\n",
    "    \"\"\"\n",
    "    if normalize:\n",
    "        cm = cm.astype('float') / cm.sum(axis=1)[:, np.newaxis]\n",
    "        print(\"Normalized confusion matrix\")\n",
    "    else:\n",
    "        print('Confusion Matrix, without normalization')\n",
    "\n",
    "    print(cm)\n",
    "\n",
    "    plt.imshow(cm, interpolation='nearest', cmap=cmap)\n",
    "    plt.title(title)\n",
    "    plt.colorbar()\n",
    "    tick_marks = np.arange(len(classes))\n",
    "    plt.xticks(tick_marks, classes, rotation=45)\n",
    "    plt.yticks(tick_marks, classes)\n",
    "\n",
    "    fmt = '.2f' if normalize else 'd'\n",
    "    thresh = cm.max() / 2.\n",
    "    for i, j in itertools.product(range(cm.shape[0]), range(cm.shape[1])):\n",
    "        plt.text(j, i, format(cm[i, j], fmt),\n",
    "                 horizontalalignment=\"center\",\n",
    "                 color=\"white\" if cm[i, j] > thresh else \"black\")\n",
    "    plt.tight_layout()\n",
    "    plt.ylabel('True label')\n",
    "    plt.xlabel('Predicted label')\n",
    "    plt.grid(False)"
   ]
  },
  {
   "cell_type": "code",
   "execution_count": null,
   "metadata": {},
   "outputs": [],
   "source": [
    "# k_scores = []\n",
    "# k_range= list(range(1, 150, 2))\n",
    "# for k in k_range:\n",
    "#     knn = KNeighborsClassifier(n_neighbors = k, p=2 )\n",
    "#     knn.fit(X_train, y_train)\n",
    "#     y_pred_k = knn.predict(X_test)\n",
    "#     k_scores.append(f1_score(y_test, y_pred_k, pos_label= 1))\n",
    "\n",
    "# # plot\n",
    "# plt.figure(figsize=(12, 6))  \n",
    "# plt.plot(k_range, k_scores, color='green', linestyle=':', marker='o',  \n",
    "#          markerfacecolor='red', markersize=5)\n",
    "# plt.title('F1 score by K Value')  \n",
    "# plt.xlabel('K Value')  \n",
    "# plt.ylabel('F1 Score') \n",
    "# plt.show()\n",
    "\n",
    "# # display parametrs \n",
    "# print(f'F1_score max:{round(max(k_scores), 4)} where K: {(k_scores.index(max(k_scores))+1)*2 - 1}')\n",
    "# k= (k_scores.index(max(k_scores))+1)*2 - 1"
   ]
  },
  {
   "cell_type": "code",
   "execution_count": 674,
   "metadata": {},
   "outputs": [
    {
     "data": {
      "image/png": "[encoded data removed]",
      "text/plain": [
       "<Figure size 432x288 with 1 Axes>"
      ]
     },
     "metadata": {},
     "output_type": "display_data"
    }
   ],
   "source": [
    "sns.distplot(df_2.Drug_Use);"
   ]
  },
  {
   "cell_type": "markdown",
   "metadata": {},
   "source": [
    "### Random Forest"
   ]
  },
  {
   "cell_type": "code",
   "execution_count": 675,
   "metadata": {},
   "outputs": [],
   "source": [
    "\n",
    "param_grid = { \n",
    "    'n_estimators': [200, 500],\n",
    "    'max_features': ['auto', 'sqrt', 'log2'],\n",
    "    'max_depth' : [4,5,6,7,8],\n",
    "    'criterion' :['gini', 'entropy']\n",
    "}"
   ]
  },
  {
   "cell_type": "code",
   "execution_count": 677,
   "metadata": {},
   "outputs": [
    {
     "data": {
      "text/plain": [
       "GridSearchCV(cv=5, error_score='raise-deprecating',\n",
       "             estimator=RandomForestClassifier(bootstrap=True, class_weight=None,\n",
       "                                              criterion='gini', max_depth=None,\n",
       "                                              max_features='auto',\n",
       "                                              max_leaf_nodes=None,\n",
       "                                              min_impurity_decrease=0.0,\n",
       "                                              min_impurity_split=None,\n",
       "                                              min_samples_leaf=1,\n",
       "                                              min_samples_split=2,\n",
       "                                              min_weight_fraction_leaf=0.0,\n",
       "                                              n_estimators=100, n_jobs=None,\n",
       "                                              oob_score=False, random_state=23,\n",
       "                                              verbose=0, warm_start=False),\n",
       "             iid='warn', n_jobs=None,\n",
       "             param_grid={'criterion': ['gini', 'entropy'],\n",
       "                         'max_depth': [4, 5, 6, 7, 8],\n",
       "                         'max_features': ['auto', 'sqrt', 'log2'],\n",
       "                         'n_estimators': [200, 500]},\n",
       "             pre_dispatch='2*n_jobs', refit=True, return_train_score=False,\n",
       "             scoring=None, verbose=0)"
      ]
     },
     "execution_count": 677,
     "metadata": {},
     "output_type": "execute_result"
    }
   ],
   "source": [
    "CV_rfc = GridSearchCV(estimator=rfc, param_grid=param_grid, cv= 5)\n",
    "CV_rfc.fit(X_train, y_train)"
   ]
  },
  {
   "cell_type": "code",
   "execution_count": 678,
   "metadata": {},
   "outputs": [
    {
     "data": {
      "text/plain": [
       "{'criterion': 'entropy',\n",
       " 'max_depth': 7,\n",
       " 'max_features': 'auto',\n",
       " 'n_estimators': 200}"
      ]
     },
     "execution_count": 678,
     "metadata": {},
     "output_type": "execute_result"
    }
   ],
   "source": [
    "CV_rfc.best_params_"
   ]
  },
  {
   "cell_type": "code",
   "execution_count": 808,
   "metadata": {},
   "outputs": [
    {
     "data": {
      "image/png": "[encoded data removed]",
      "text/plain": [
       "<Figure size 720x360 with 1 Axes>"
      ]
     },
     "metadata": {},
     "output_type": "display_data"
    },
    {
     "name": "stdout",
     "output_type": "stream",
     "text": [
      "Drug_Use\n",
      "0     759\n",
      "1    1118\n",
      "Name: Drug_Use, dtype: int64\n"
     ]
    }
   ],
   "source": [
    "plt.figure(figsize = (10,5))\n",
    "sns.countplot(df_2['Drug_Use'], alpha =.80, palette= ['green', 'red'])\n",
    "plt.title('Clean vs Used')\n",
    "plt.ylabel('# of People')\n",
    "plt.xlabel('<=== Clean          Used ===>')\n",
    "plt.show()\n",
    "\n",
    "print(df_2.groupby(['Drug_Use']).Drug_Use.count())"
   ]
  },
  {
   "cell_type": "code",
   "execution_count": 847,
   "metadata": {},
   "outputs": [
    {
     "data": {
      "text/html": [
       "<div>\n",
       "<style scoped>\n",
       "    .dataframe tbody tr th:only-of-type {\n",
       "        vertical-align: middle;\n",
       "    }\n",
       "\n",
       "    .dataframe tbody tr th {\n",
       "        vertical-align: top;\n",
       "    }\n",
       "\n",
       "    .dataframe thead th {\n",
       "        text-align: right;\n",
       "    }\n",
       "</style>\n",
       "<table border=\"1\" class=\"dataframe\">\n",
       "  <thead>\n",
       "    <tr style=\"text-align: right;\">\n",
       "      <th></th>\n",
       "      <th>index</th>\n",
       "      <th>Age</th>\n",
       "      <th>Education</th>\n",
       "      <th>Nscore</th>\n",
       "      <th>Escore</th>\n",
       "      <th>Oscore</th>\n",
       "      <th>Ascore</th>\n",
       "      <th>Cscore</th>\n",
       "      <th>Impulsive</th>\n",
       "      <th>SS</th>\n",
       "      <th>Amphet</th>\n",
       "      <th>Benzos</th>\n",
       "      <th>Coke</th>\n",
       "      <th>Crack</th>\n",
       "      <th>Ecstasy</th>\n",
       "      <th>Heroin</th>\n",
       "      <th>Ketamine</th>\n",
       "      <th>Drug_Use</th>\n",
       "    </tr>\n",
       "    <tr>\n",
       "      <th>Gender</th>\n",
       "      <th></th>\n",
       "      <th></th>\n",
       "      <th></th>\n",
       "      <th></th>\n",
       "      <th></th>\n",
       "      <th></th>\n",
       "      <th></th>\n",
       "      <th></th>\n",
       "      <th></th>\n",
       "      <th></th>\n",
       "      <th></th>\n",
       "      <th></th>\n",
       "      <th></th>\n",
       "      <th></th>\n",
       "      <th></th>\n",
       "      <th></th>\n",
       "      <th></th>\n",
       "      <th></th>\n",
       "    </tr>\n",
       "  </thead>\n",
       "  <tbody>\n",
       "    <tr>\n",
       "      <th>-0.48246</th>\n",
       "      <td>897202</td>\n",
       "      <td>-55.78313</td>\n",
       "      <td>-144.47417</td>\n",
       "      <td>-68.88517</td>\n",
       "      <td>-56.75786</td>\n",
       "      <td>121.97491</td>\n",
       "      <td>-205.52507</td>\n",
       "      <td>-171.11638</td>\n",
       "      <td>156.73302</td>\n",
       "      <td>215.48436</td>\n",
       "      <td>443</td>\n",
       "      <td>444</td>\n",
       "      <td>416</td>\n",
       "      <td>134</td>\n",
       "      <td>481</td>\n",
       "      <td>145</td>\n",
       "      <td>243</td>\n",
       "      <td>666</td>\n",
       "    </tr>\n",
       "    <tr>\n",
       "      <th>0.48246</th>\n",
       "      <td>866779</td>\n",
       "      <td>126.31537</td>\n",
       "      <td>200.06006</td>\n",
       "      <td>67.85025</td>\n",
       "      <td>53.09534</td>\n",
       "      <td>-128.02592</td>\n",
       "      <td>204.29123</td>\n",
       "      <td>170.37681</td>\n",
       "      <td>-146.79721</td>\n",
       "      <td>-229.38843</td>\n",
       "      <td>231</td>\n",
       "      <td>318</td>\n",
       "      <td>265</td>\n",
       "      <td>54</td>\n",
       "      <td>264</td>\n",
       "      <td>64</td>\n",
       "      <td>103</td>\n",
       "      <td>452</td>\n",
       "    </tr>\n",
       "  </tbody>\n",
       "</table>\n",
       "</div>"
      ],
      "text/plain": [
       "           index        Age  Education    Nscore    Escore     Oscore  \\\n",
       "Gender                                                                  \n",
       "-0.48246  897202  -55.78313 -144.47417 -68.88517 -56.75786  121.97491   \n",
       " 0.48246  866779  126.31537  200.06006  67.85025  53.09534 -128.02592   \n",
       "\n",
       "             Ascore     Cscore  Impulsive         SS  Amphet  Benzos  Coke  \\\n",
       "Gender                                                                       \n",
       "-0.48246 -205.52507 -171.11638  156.73302  215.48436     443     444   416   \n",
       " 0.48246  204.29123  170.37681 -146.79721 -229.38843     231     318   265   \n",
       "\n",
       "          Crack  Ecstasy  Heroin  Ketamine  Drug_Use  \n",
       "Gender                                                \n",
       "-0.48246    134      481     145       243       666  \n",
       " 0.48246     54      264      64       103       452  "
      ]
     },
     "execution_count": 847,
     "metadata": {},
     "output_type": "execute_result"
    }
   ],
   "source": [
    "df.groupby('Gender').sum()"
   ]
  },
  {
   "cell_type": "code",
   "execution_count": 851,
   "metadata": {},
   "outputs": [
    {
     "data": {
      "text/html": [
       "<div>\n",
       "<style scoped>\n",
       "    .dataframe tbody tr th:only-of-type {\n",
       "        vertical-align: middle;\n",
       "    }\n",
       "\n",
       "    .dataframe tbody tr th {\n",
       "        vertical-align: top;\n",
       "    }\n",
       "\n",
       "    .dataframe thead th {\n",
       "        text-align: right;\n",
       "    }\n",
       "</style>\n",
       "<table border=\"1\" class=\"dataframe\">\n",
       "  <thead>\n",
       "    <tr style=\"text-align: right;\">\n",
       "      <th></th>\n",
       "      <th>index</th>\n",
       "      <th>Age</th>\n",
       "      <th>Education</th>\n",
       "      <th>Nscore</th>\n",
       "      <th>Escore</th>\n",
       "      <th>Oscore</th>\n",
       "      <th>Ascore</th>\n",
       "      <th>Cscore</th>\n",
       "      <th>Impulsive</th>\n",
       "      <th>SS</th>\n",
       "      <th>Alcohol</th>\n",
       "      <th>Amphet</th>\n",
       "      <th>Benzos</th>\n",
       "      <th>Cannabis</th>\n",
       "      <th>Coke</th>\n",
       "      <th>Crack</th>\n",
       "      <th>Ecstasy</th>\n",
       "      <th>Heroin</th>\n",
       "      <th>Ketamine</th>\n",
       "      <th>Drug_Use</th>\n",
       "    </tr>\n",
       "    <tr>\n",
       "      <th>Gender</th>\n",
       "      <th></th>\n",
       "      <th></th>\n",
       "      <th></th>\n",
       "      <th></th>\n",
       "      <th></th>\n",
       "      <th></th>\n",
       "      <th></th>\n",
       "      <th></th>\n",
       "      <th></th>\n",
       "      <th></th>\n",
       "      <th></th>\n",
       "      <th></th>\n",
       "      <th></th>\n",
       "      <th></th>\n",
       "      <th></th>\n",
       "      <th></th>\n",
       "      <th></th>\n",
       "      <th></th>\n",
       "      <th></th>\n",
       "      <th></th>\n",
       "    </tr>\n",
       "  </thead>\n",
       "  <tbody>\n",
       "    <tr>\n",
       "      <th>-0.48246</th>\n",
       "      <td>897202</td>\n",
       "      <td>-55.78313</td>\n",
       "      <td>-144.47417</td>\n",
       "      <td>-68.88517</td>\n",
       "      <td>-56.75786</td>\n",
       "      <td>121.97491</td>\n",
       "      <td>-205.52507</td>\n",
       "      <td>-171.11638</td>\n",
       "      <td>156.73302</td>\n",
       "      <td>215.48436</td>\n",
       "      <td>765</td>\n",
       "      <td>443</td>\n",
       "      <td>444</td>\n",
       "      <td>521</td>\n",
       "      <td>416</td>\n",
       "      <td>134</td>\n",
       "      <td>481</td>\n",
       "      <td>145</td>\n",
       "      <td>243</td>\n",
       "      <td>666</td>\n",
       "    </tr>\n",
       "    <tr>\n",
       "      <th>0.48246</th>\n",
       "      <td>866779</td>\n",
       "      <td>126.31537</td>\n",
       "      <td>200.06006</td>\n",
       "      <td>67.85025</td>\n",
       "      <td>53.09534</td>\n",
       "      <td>-128.02592</td>\n",
       "      <td>204.29123</td>\n",
       "      <td>170.37681</td>\n",
       "      <td>-146.79721</td>\n",
       "      <td>-229.38843</td>\n",
       "      <td>780</td>\n",
       "      <td>231</td>\n",
       "      <td>318</td>\n",
       "      <td>260</td>\n",
       "      <td>265</td>\n",
       "      <td>54</td>\n",
       "      <td>264</td>\n",
       "      <td>64</td>\n",
       "      <td>103</td>\n",
       "      <td>452</td>\n",
       "    </tr>\n",
       "  </tbody>\n",
       "</table>\n",
       "</div>"
      ],
      "text/plain": [
       "           index        Age  Education    Nscore    Escore     Oscore  \\\n",
       "Gender                                                                  \n",
       "-0.48246  897202  -55.78313 -144.47417 -68.88517 -56.75786  121.97491   \n",
       " 0.48246  866779  126.31537  200.06006  67.85025  53.09534 -128.02592   \n",
       "\n",
       "             Ascore     Cscore  Impulsive         SS  Alcohol  Amphet  Benzos  \\\n",
       "Gender                                                                          \n",
       "-0.48246 -205.52507 -171.11638  156.73302  215.48436      765     443     444   \n",
       " 0.48246  204.29123  170.37681 -146.79721 -229.38843      780     231     318   \n",
       "\n",
       "          Cannabis  Coke  Crack  Ecstasy  Heroin  Ketamine  Drug_Use  \n",
       "Gender                                                                \n",
       "-0.48246       521   416    134      481     145       243       666  \n",
       " 0.48246       260   265     54      264      64       103       452  "
      ]
     },
     "execution_count": 851,
     "metadata": {},
     "output_type": "execute_result"
    }
   ],
   "source": [
    "df.groupby('Gender').sum()"
   ]
  },
  {
   "cell_type": "code",
   "execution_count": null,
   "metadata": {},
   "outputs": [],
   "source": []
  }
 ],
 "metadata": {
  "kernelspec": {
   "display_name": "Python 3",
   "language": "python",
   "name": "python3"
  },
  "language_info": {
   "codemirror_mode": {
    "name": "ipython",
    "version": 3
   },
   "file_extension": ".py",
   "mimetype": "text/x-python",
   "name": "python",
   "nbconvert_exporter": "python",
   "pygments_lexer": "ipython3",
   "version": "3.6.8"
  }
 },
 "nbformat": 4,
 "nbformat_minor": 2
}
