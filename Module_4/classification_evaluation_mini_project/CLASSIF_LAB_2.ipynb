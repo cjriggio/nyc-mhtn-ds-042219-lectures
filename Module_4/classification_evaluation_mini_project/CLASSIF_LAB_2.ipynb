{
 "cells": [
  {
   "cell_type": "code",
   "execution_count": 6,
   "metadata": {},
   "outputs": [],
   "source": [
    "# import libraries\n",
    "import numpy as np\n",
    "import pandas as pd\n",
    "import matplotlib.pyplot as plt\n",
    "%matplotlib inline\n",
    "import seaborn as sns\n",
    "sns.set_style('darkgrid')\n",
    "\n",
    "dFrame= pd.read_csv('classification_lab_data.csv')\n",
    "#dFrame= pd.read_csv('classification_lab_data_holdout_features.csv')"
   ]
  },
  {
   "cell_type": "markdown",
   "metadata": {},
   "source": [
    "***\n",
    "***\n",
    "# CLEANING / TRANSFORMATION\n",
    "***\n",
    "***"
   ]
  },
  {
   "cell_type": "code",
   "execution_count": 16,
   "metadata": {},
   "outputs": [
    {
     "name": "stdout",
     "output_type": "stream",
     "text": [
      "<class 'pandas.core.frame.DataFrame'>\n",
      "Index: 23999 entries, 0 to 23998\n",
      "Data columns (total 24 columns):\n",
      "LIMIT_BAL                     23999 non-null int64\n",
      "SEX                           23999 non-null int64\n",
      "EDUCATION                     23999 non-null int64\n",
      "MARRIAGE                      23999 non-null int64\n",
      "AGE                           23999 non-null int64\n",
      "PAY_1                         23999 non-null int64\n",
      "PAY_2                         23999 non-null int64\n",
      "PAY_3                         23999 non-null int64\n",
      "PAY_4                         23999 non-null int64\n",
      "PAY_5                         23999 non-null int64\n",
      "PAY_6                         23999 non-null int64\n",
      "BILL_AMT1                     23999 non-null int64\n",
      "BILL_AMT2                     23999 non-null int64\n",
      "BILL_AMT3                     23999 non-null int64\n",
      "BILL_AMT4                     23999 non-null int64\n",
      "BILL_AMT5                     23999 non-null int64\n",
      "BILL_AMT6                     23999 non-null int64\n",
      "PAY_AMT1                      23999 non-null int64\n",
      "PAY_AMT2                      23999 non-null int64\n",
      "PAY_AMT3                      23999 non-null int64\n",
      "PAY_AMT4                      23999 non-null int64\n",
      "PAY_AMT5                      23999 non-null int64\n",
      "PAY_AMT6                      23999 non-null int64\n",
      "default payment next month    23999 non-null int64\n",
      "dtypes: int64(24)\n",
      "memory usage: 5.2+ MB\n"
     ]
    }
   ],
   "source": [
    "dFrame.info()"
   ]
  },
  {
   "cell_type": "code",
   "execution_count": 17,
   "metadata": {},
   "outputs": [
    {
     "data": {
      "text/html": [
       "<div>\n",
       "<style scoped>\n",
       "    .dataframe tbody tr th:only-of-type {\n",
       "        vertical-align: middle;\n",
       "    }\n",
       "\n",
       "    .dataframe tbody tr th {\n",
       "        vertical-align: top;\n",
       "    }\n",
       "\n",
       "    .dataframe thead th {\n",
       "        text-align: right;\n",
       "    }\n",
       "</style>\n",
       "<table border=\"1\" class=\"dataframe\">\n",
       "  <thead>\n",
       "    <tr style=\"text-align: right;\">\n",
       "      <th></th>\n",
       "      <th>LIMIT_BAL</th>\n",
       "      <th>SEX</th>\n",
       "      <th>EDUCATION</th>\n",
       "      <th>MARRIAGE</th>\n",
       "      <th>AGE</th>\n",
       "      <th>PAY_1</th>\n",
       "      <th>PAY_2</th>\n",
       "      <th>PAY_3</th>\n",
       "      <th>PAY_4</th>\n",
       "      <th>PAY_5</th>\n",
       "      <th>PAY_6</th>\n",
       "      <th>BILL_AMT1</th>\n",
       "      <th>BILL_AMT2</th>\n",
       "      <th>BILL_AMT3</th>\n",
       "      <th>BILL_AMT4</th>\n",
       "      <th>BILL_AMT5</th>\n",
       "      <th>BILL_AMT6</th>\n",
       "      <th>PAY_AMT1</th>\n",
       "      <th>PAY_AMT2</th>\n",
       "      <th>PAY_AMT3</th>\n",
       "      <th>PAY_AMT4</th>\n",
       "      <th>PAY_AMT5</th>\n",
       "      <th>PAY_AMT6</th>\n",
       "      <th>default payment next month</th>\n",
       "    </tr>\n",
       "  </thead>\n",
       "  <tbody>\n",
       "    <tr>\n",
       "      <th>0</th>\n",
       "      <td>50000</td>\n",
       "      <td>1</td>\n",
       "      <td>2</td>\n",
       "      <td>2</td>\n",
       "      <td>49</td>\n",
       "      <td>0</td>\n",
       "      <td>0</td>\n",
       "      <td>0</td>\n",
       "      <td>0</td>\n",
       "      <td>0</td>\n",
       "      <td>0</td>\n",
       "      <td>90231</td>\n",
       "      <td>90647</td>\n",
       "      <td>92309</td>\n",
       "      <td>93880</td>\n",
       "      <td>99418</td>\n",
       "      <td>101392</td>\n",
       "      <td>2852</td>\n",
       "      <td>2784</td>\n",
       "      <td>2603</td>\n",
       "      <td>10000</td>\n",
       "      <td>3164</td>\n",
       "      <td>2868</td>\n",
       "      <td>1</td>\n",
       "    </tr>\n",
       "    <tr>\n",
       "      <th>1</th>\n",
       "      <td>30000</td>\n",
       "      <td>1</td>\n",
       "      <td>2</td>\n",
       "      <td>1</td>\n",
       "      <td>39</td>\n",
       "      <td>0</td>\n",
       "      <td>0</td>\n",
       "      <td>0</td>\n",
       "      <td>0</td>\n",
       "      <td>0</td>\n",
       "      <td>0</td>\n",
       "      <td>20893</td>\n",
       "      <td>22206</td>\n",
       "      <td>19273</td>\n",
       "      <td>16469</td>\n",
       "      <td>14670</td>\n",
       "      <td>11214</td>\n",
       "      <td>2007</td>\n",
       "      <td>2000</td>\n",
       "      <td>2000</td>\n",
       "      <td>417</td>\n",
       "      <td>1500</td>\n",
       "      <td>1500</td>\n",
       "      <td>0</td>\n",
       "    </tr>\n",
       "    <tr>\n",
       "      <th>2</th>\n",
       "      <td>260000</td>\n",
       "      <td>1</td>\n",
       "      <td>1</td>\n",
       "      <td>2</td>\n",
       "      <td>27</td>\n",
       "      <td>0</td>\n",
       "      <td>0</td>\n",
       "      <td>0</td>\n",
       "      <td>0</td>\n",
       "      <td>0</td>\n",
       "      <td>0</td>\n",
       "      <td>158711</td>\n",
       "      <td>129796</td>\n",
       "      <td>101721</td>\n",
       "      <td>76699</td>\n",
       "      <td>56738</td>\n",
       "      <td>39134</td>\n",
       "      <td>30000</td>\n",
       "      <td>4132</td>\n",
       "      <td>3410</td>\n",
       "      <td>2600</td>\n",
       "      <td>1800</td>\n",
       "      <td>1200</td>\n",
       "      <td>0</td>\n",
       "    </tr>\n",
       "    <tr>\n",
       "      <th>3</th>\n",
       "      <td>200000</td>\n",
       "      <td>0</td>\n",
       "      <td>2</td>\n",
       "      <td>1</td>\n",
       "      <td>33</td>\n",
       "      <td>0</td>\n",
       "      <td>0</td>\n",
       "      <td>0</td>\n",
       "      <td>0</td>\n",
       "      <td>0</td>\n",
       "      <td>0</td>\n",
       "      <td>23762</td>\n",
       "      <td>25944</td>\n",
       "      <td>26988</td>\n",
       "      <td>25237</td>\n",
       "      <td>22131</td>\n",
       "      <td>13774</td>\n",
       "      <td>4000</td>\n",
       "      <td>2000</td>\n",
       "      <td>600</td>\n",
       "      <td>3000</td>\n",
       "      <td>4000</td>\n",
       "      <td>100</td>\n",
       "      <td>0</td>\n",
       "    </tr>\n",
       "    <tr>\n",
       "      <th>4</th>\n",
       "      <td>50000</td>\n",
       "      <td>1</td>\n",
       "      <td>1</td>\n",
       "      <td>2</td>\n",
       "      <td>27</td>\n",
       "      <td>0</td>\n",
       "      <td>0</td>\n",
       "      <td>0</td>\n",
       "      <td>0</td>\n",
       "      <td>0</td>\n",
       "      <td>0</td>\n",
       "      <td>14614</td>\n",
       "      <td>15622</td>\n",
       "      <td>16342</td>\n",
       "      <td>17653</td>\n",
       "      <td>17697</td>\n",
       "      <td>18068</td>\n",
       "      <td>1558</td>\n",
       "      <td>1278</td>\n",
       "      <td>1589</td>\n",
       "      <td>633</td>\n",
       "      <td>656</td>\n",
       "      <td>783</td>\n",
       "      <td>0</td>\n",
       "    </tr>\n",
       "  </tbody>\n",
       "</table>\n",
       "</div>"
      ],
      "text/plain": [
       "   LIMIT_BAL  SEX  EDUCATION  MARRIAGE  AGE  PAY_1  PAY_2  PAY_3  PAY_4  \\\n",
       "0      50000    1          2         2   49      0      0      0      0   \n",
       "1      30000    1          2         1   39      0      0      0      0   \n",
       "2     260000    1          1         2   27      0      0      0      0   \n",
       "3     200000    0          2         1   33      0      0      0      0   \n",
       "4      50000    1          1         2   27      0      0      0      0   \n",
       "\n",
       "   PAY_5  PAY_6  BILL_AMT1  BILL_AMT2  BILL_AMT3  BILL_AMT4  BILL_AMT5  \\\n",
       "0      0      0      90231      90647      92309      93880      99418   \n",
       "1      0      0      20893      22206      19273      16469      14670   \n",
       "2      0      0     158711     129796     101721      76699      56738   \n",
       "3      0      0      23762      25944      26988      25237      22131   \n",
       "4      0      0      14614      15622      16342      17653      17697   \n",
       "\n",
       "   BILL_AMT6  PAY_AMT1  PAY_AMT2  PAY_AMT3  PAY_AMT4  PAY_AMT5  PAY_AMT6  \\\n",
       "0     101392      2852      2784      2603     10000      3164      2868   \n",
       "1      11214      2007      2000      2000       417      1500      1500   \n",
       "2      39134     30000      4132      3410      2600      1800      1200   \n",
       "3      13774      4000      2000       600      3000      4000       100   \n",
       "4      18068      1558      1278      1589       633       656       783   \n",
       "\n",
       "   default payment next month  \n",
       "0                           1  \n",
       "1                           0  \n",
       "2                           0  \n",
       "3                           0  \n",
       "4                           0  "
      ]
     },
     "execution_count": 17,
     "metadata": {},
     "output_type": "execute_result"
    }
   ],
   "source": [
    "dFrame.head()"
   ]
  },
  {
   "cell_type": "code",
   "execution_count": 18,
   "metadata": {},
   "outputs": [],
   "source": [
    "dFrame= dFrame.rename(index= str, columns={'PAY_0': 'PAY_1'})\n",
    "dFrame= dFrame.rename(index= str, columns={'default payment next month': 'DEFAULT'})"
   ]
  },
  {
   "cell_type": "code",
   "execution_count": 19,
   "metadata": {},
   "outputs": [
    {
     "data": {
      "text/html": [
       "<div>\n",
       "<style scoped>\n",
       "    .dataframe tbody tr th:only-of-type {\n",
       "        vertical-align: middle;\n",
       "    }\n",
       "\n",
       "    .dataframe tbody tr th {\n",
       "        vertical-align: top;\n",
       "    }\n",
       "\n",
       "    .dataframe thead th {\n",
       "        text-align: right;\n",
       "    }\n",
       "</style>\n",
       "<table border=\"1\" class=\"dataframe\">\n",
       "  <thead>\n",
       "    <tr style=\"text-align: right;\">\n",
       "      <th></th>\n",
       "      <th>count</th>\n",
       "      <th>mean</th>\n",
       "      <th>std</th>\n",
       "      <th>min</th>\n",
       "      <th>25%</th>\n",
       "      <th>50%</th>\n",
       "      <th>75%</th>\n",
       "      <th>max</th>\n",
       "    </tr>\n",
       "  </thead>\n",
       "  <tbody>\n",
       "    <tr>\n",
       "      <th>LIMIT_BAL</th>\n",
       "      <td>23999.0</td>\n",
       "      <td>167825.729405</td>\n",
       "      <td>129915.115993</td>\n",
       "      <td>10000.0</td>\n",
       "      <td>50000.0</td>\n",
       "      <td>140000.0</td>\n",
       "      <td>240000.0</td>\n",
       "      <td>1000000.0</td>\n",
       "    </tr>\n",
       "    <tr>\n",
       "      <th>SEX</th>\n",
       "      <td>23999.0</td>\n",
       "      <td>0.396392</td>\n",
       "      <td>0.489158</td>\n",
       "      <td>0.0</td>\n",
       "      <td>0.0</td>\n",
       "      <td>0.0</td>\n",
       "      <td>1.0</td>\n",
       "      <td>1.0</td>\n",
       "    </tr>\n",
       "    <tr>\n",
       "      <th>EDUCATION</th>\n",
       "      <td>23999.0</td>\n",
       "      <td>1.856786</td>\n",
       "      <td>0.791939</td>\n",
       "      <td>0.0</td>\n",
       "      <td>1.0</td>\n",
       "      <td>2.0</td>\n",
       "      <td>2.0</td>\n",
       "      <td>6.0</td>\n",
       "    </tr>\n",
       "    <tr>\n",
       "      <th>MARRIAGE</th>\n",
       "      <td>23999.0</td>\n",
       "      <td>1.550773</td>\n",
       "      <td>0.522431</td>\n",
       "      <td>0.0</td>\n",
       "      <td>1.0</td>\n",
       "      <td>2.0</td>\n",
       "      <td>2.0</td>\n",
       "      <td>3.0</td>\n",
       "    </tr>\n",
       "    <tr>\n",
       "      <th>AGE</th>\n",
       "      <td>23999.0</td>\n",
       "      <td>35.523230</td>\n",
       "      <td>9.253986</td>\n",
       "      <td>21.0</td>\n",
       "      <td>28.0</td>\n",
       "      <td>34.0</td>\n",
       "      <td>42.0</td>\n",
       "      <td>79.0</td>\n",
       "    </tr>\n",
       "    <tr>\n",
       "      <th>PAY_1</th>\n",
       "      <td>23999.0</td>\n",
       "      <td>-0.014959</td>\n",
       "      <td>1.120903</td>\n",
       "      <td>-2.0</td>\n",
       "      <td>-1.0</td>\n",
       "      <td>0.0</td>\n",
       "      <td>0.0</td>\n",
       "      <td>8.0</td>\n",
       "    </tr>\n",
       "    <tr>\n",
       "      <th>PAY_2</th>\n",
       "      <td>23999.0</td>\n",
       "      <td>-0.134839</td>\n",
       "      <td>1.193044</td>\n",
       "      <td>-2.0</td>\n",
       "      <td>-1.0</td>\n",
       "      <td>0.0</td>\n",
       "      <td>0.0</td>\n",
       "      <td>8.0</td>\n",
       "    </tr>\n",
       "    <tr>\n",
       "      <th>PAY_3</th>\n",
       "      <td>23999.0</td>\n",
       "      <td>-0.165632</td>\n",
       "      <td>1.193515</td>\n",
       "      <td>-2.0</td>\n",
       "      <td>-1.0</td>\n",
       "      <td>0.0</td>\n",
       "      <td>0.0</td>\n",
       "      <td>8.0</td>\n",
       "    </tr>\n",
       "    <tr>\n",
       "      <th>PAY_4</th>\n",
       "      <td>23999.0</td>\n",
       "      <td>-0.217092</td>\n",
       "      <td>1.168719</td>\n",
       "      <td>-2.0</td>\n",
       "      <td>-1.0</td>\n",
       "      <td>0.0</td>\n",
       "      <td>0.0</td>\n",
       "      <td>8.0</td>\n",
       "    </tr>\n",
       "    <tr>\n",
       "      <th>PAY_5</th>\n",
       "      <td>23999.0</td>\n",
       "      <td>-0.261344</td>\n",
       "      <td>1.133016</td>\n",
       "      <td>-2.0</td>\n",
       "      <td>-1.0</td>\n",
       "      <td>0.0</td>\n",
       "      <td>0.0</td>\n",
       "      <td>8.0</td>\n",
       "    </tr>\n",
       "    <tr>\n",
       "      <th>PAY_6</th>\n",
       "      <td>23999.0</td>\n",
       "      <td>-0.285845</td>\n",
       "      <td>1.150394</td>\n",
       "      <td>-2.0</td>\n",
       "      <td>-1.0</td>\n",
       "      <td>0.0</td>\n",
       "      <td>0.0</td>\n",
       "      <td>8.0</td>\n",
       "    </tr>\n",
       "    <tr>\n",
       "      <th>BILL_AMT1</th>\n",
       "      <td>23999.0</td>\n",
       "      <td>51589.034710</td>\n",
       "      <td>74104.132627</td>\n",
       "      <td>-165580.0</td>\n",
       "      <td>3577.5</td>\n",
       "      <td>22472.0</td>\n",
       "      <td>67767.0</td>\n",
       "      <td>964511.0</td>\n",
       "    </tr>\n",
       "    <tr>\n",
       "      <th>BILL_AMT2</th>\n",
       "      <td>23999.0</td>\n",
       "      <td>49521.698112</td>\n",
       "      <td>71551.215125</td>\n",
       "      <td>-67526.0</td>\n",
       "      <td>2958.0</td>\n",
       "      <td>21290.0</td>\n",
       "      <td>64635.5</td>\n",
       "      <td>983931.0</td>\n",
       "    </tr>\n",
       "    <tr>\n",
       "      <th>BILL_AMT3</th>\n",
       "      <td>23999.0</td>\n",
       "      <td>47474.826368</td>\n",
       "      <td>70010.815328</td>\n",
       "      <td>-157264.0</td>\n",
       "      <td>2718.0</td>\n",
       "      <td>20223.0</td>\n",
       "      <td>60962.0</td>\n",
       "      <td>1664089.0</td>\n",
       "    </tr>\n",
       "    <tr>\n",
       "      <th>BILL_AMT4</th>\n",
       "      <td>23999.0</td>\n",
       "      <td>43796.589775</td>\n",
       "      <td>64927.450125</td>\n",
       "      <td>-170000.0</td>\n",
       "      <td>2392.5</td>\n",
       "      <td>19145.0</td>\n",
       "      <td>55418.0</td>\n",
       "      <td>891586.0</td>\n",
       "    </tr>\n",
       "    <tr>\n",
       "      <th>BILL_AMT5</th>\n",
       "      <td>23999.0</td>\n",
       "      <td>40748.049169</td>\n",
       "      <td>61257.537699</td>\n",
       "      <td>-81334.0</td>\n",
       "      <td>1801.0</td>\n",
       "      <td>18227.0</td>\n",
       "      <td>50581.0</td>\n",
       "      <td>927171.0</td>\n",
       "    </tr>\n",
       "    <tr>\n",
       "      <th>BILL_AMT6</th>\n",
       "      <td>23999.0</td>\n",
       "      <td>39226.852411</td>\n",
       "      <td>60075.536736</td>\n",
       "      <td>-339603.0</td>\n",
       "      <td>1280.0</td>\n",
       "      <td>17175.0</td>\n",
       "      <td>49434.5</td>\n",
       "      <td>961664.0</td>\n",
       "    </tr>\n",
       "    <tr>\n",
       "      <th>PAY_AMT1</th>\n",
       "      <td>23999.0</td>\n",
       "      <td>5687.720113</td>\n",
       "      <td>16698.506577</td>\n",
       "      <td>0.0</td>\n",
       "      <td>1000.0</td>\n",
       "      <td>2110.0</td>\n",
       "      <td>5020.0</td>\n",
       "      <td>873552.0</td>\n",
       "    </tr>\n",
       "    <tr>\n",
       "      <th>PAY_AMT2</th>\n",
       "      <td>23999.0</td>\n",
       "      <td>6019.571357</td>\n",
       "      <td>24541.362830</td>\n",
       "      <td>0.0</td>\n",
       "      <td>858.5</td>\n",
       "      <td>2012.0</td>\n",
       "      <td>5000.0</td>\n",
       "      <td>1684259.0</td>\n",
       "    </tr>\n",
       "    <tr>\n",
       "      <th>PAY_AMT3</th>\n",
       "      <td>23999.0</td>\n",
       "      <td>5253.322805</td>\n",
       "      <td>17967.028860</td>\n",
       "      <td>0.0</td>\n",
       "      <td>395.0</td>\n",
       "      <td>1809.0</td>\n",
       "      <td>4561.0</td>\n",
       "      <td>896040.0</td>\n",
       "    </tr>\n",
       "    <tr>\n",
       "      <th>PAY_AMT4</th>\n",
       "      <td>23999.0</td>\n",
       "      <td>4824.490687</td>\n",
       "      <td>15730.753527</td>\n",
       "      <td>0.0</td>\n",
       "      <td>300.0</td>\n",
       "      <td>1500.0</td>\n",
       "      <td>4089.0</td>\n",
       "      <td>621000.0</td>\n",
       "    </tr>\n",
       "    <tr>\n",
       "      <th>PAY_AMT5</th>\n",
       "      <td>23999.0</td>\n",
       "      <td>4825.033793</td>\n",
       "      <td>15596.580167</td>\n",
       "      <td>0.0</td>\n",
       "      <td>269.5</td>\n",
       "      <td>1500.0</td>\n",
       "      <td>4029.5</td>\n",
       "      <td>426529.0</td>\n",
       "    </tr>\n",
       "    <tr>\n",
       "      <th>PAY_AMT6</th>\n",
       "      <td>23999.0</td>\n",
       "      <td>5245.642943</td>\n",
       "      <td>17795.775322</td>\n",
       "      <td>0.0</td>\n",
       "      <td>125.0</td>\n",
       "      <td>1500.0</td>\n",
       "      <td>4008.0</td>\n",
       "      <td>528666.0</td>\n",
       "    </tr>\n",
       "    <tr>\n",
       "      <th>DEFAULT</th>\n",
       "      <td>23999.0</td>\n",
       "      <td>0.221176</td>\n",
       "      <td>0.415047</td>\n",
       "      <td>0.0</td>\n",
       "      <td>0.0</td>\n",
       "      <td>0.0</td>\n",
       "      <td>0.0</td>\n",
       "      <td>1.0</td>\n",
       "    </tr>\n",
       "  </tbody>\n",
       "</table>\n",
       "</div>"
      ],
      "text/plain": [
       "             count           mean            std       min      25%       50%  \\\n",
       "LIMIT_BAL  23999.0  167825.729405  129915.115993   10000.0  50000.0  140000.0   \n",
       "SEX        23999.0       0.396392       0.489158       0.0      0.0       0.0   \n",
       "EDUCATION  23999.0       1.856786       0.791939       0.0      1.0       2.0   \n",
       "MARRIAGE   23999.0       1.550773       0.522431       0.0      1.0       2.0   \n",
       "AGE        23999.0      35.523230       9.253986      21.0     28.0      34.0   \n",
       "PAY_1      23999.0      -0.014959       1.120903      -2.0     -1.0       0.0   \n",
       "PAY_2      23999.0      -0.134839       1.193044      -2.0     -1.0       0.0   \n",
       "PAY_3      23999.0      -0.165632       1.193515      -2.0     -1.0       0.0   \n",
       "PAY_4      23999.0      -0.217092       1.168719      -2.0     -1.0       0.0   \n",
       "PAY_5      23999.0      -0.261344       1.133016      -2.0     -1.0       0.0   \n",
       "PAY_6      23999.0      -0.285845       1.150394      -2.0     -1.0       0.0   \n",
       "BILL_AMT1  23999.0   51589.034710   74104.132627 -165580.0   3577.5   22472.0   \n",
       "BILL_AMT2  23999.0   49521.698112   71551.215125  -67526.0   2958.0   21290.0   \n",
       "BILL_AMT3  23999.0   47474.826368   70010.815328 -157264.0   2718.0   20223.0   \n",
       "BILL_AMT4  23999.0   43796.589775   64927.450125 -170000.0   2392.5   19145.0   \n",
       "BILL_AMT5  23999.0   40748.049169   61257.537699  -81334.0   1801.0   18227.0   \n",
       "BILL_AMT6  23999.0   39226.852411   60075.536736 -339603.0   1280.0   17175.0   \n",
       "PAY_AMT1   23999.0    5687.720113   16698.506577       0.0   1000.0    2110.0   \n",
       "PAY_AMT2   23999.0    6019.571357   24541.362830       0.0    858.5    2012.0   \n",
       "PAY_AMT3   23999.0    5253.322805   17967.028860       0.0    395.0    1809.0   \n",
       "PAY_AMT4   23999.0    4824.490687   15730.753527       0.0    300.0    1500.0   \n",
       "PAY_AMT5   23999.0    4825.033793   15596.580167       0.0    269.5    1500.0   \n",
       "PAY_AMT6   23999.0    5245.642943   17795.775322       0.0    125.0    1500.0   \n",
       "DEFAULT    23999.0       0.221176       0.415047       0.0      0.0       0.0   \n",
       "\n",
       "                75%        max  \n",
       "LIMIT_BAL  240000.0  1000000.0  \n",
       "SEX             1.0        1.0  \n",
       "EDUCATION       2.0        6.0  \n",
       "MARRIAGE        2.0        3.0  \n",
       "AGE            42.0       79.0  \n",
       "PAY_1           0.0        8.0  \n",
       "PAY_2           0.0        8.0  \n",
       "PAY_3           0.0        8.0  \n",
       "PAY_4           0.0        8.0  \n",
       "PAY_5           0.0        8.0  \n",
       "PAY_6           0.0        8.0  \n",
       "BILL_AMT1   67767.0   964511.0  \n",
       "BILL_AMT2   64635.5   983931.0  \n",
       "BILL_AMT3   60962.0  1664089.0  \n",
       "BILL_AMT4   55418.0   891586.0  \n",
       "BILL_AMT5   50581.0   927171.0  \n",
       "BILL_AMT6   49434.5   961664.0  \n",
       "PAY_AMT1     5020.0   873552.0  \n",
       "PAY_AMT2     5000.0  1684259.0  \n",
       "PAY_AMT3     4561.0   896040.0  \n",
       "PAY_AMT4     4089.0   621000.0  \n",
       "PAY_AMT5     4029.5   426529.0  \n",
       "PAY_AMT6     4008.0   528666.0  \n",
       "DEFAULT         0.0        1.0  "
      ]
     },
     "execution_count": 19,
     "metadata": {},
     "output_type": "execute_result"
    }
   ],
   "source": [
    "dFrame.describe().transpose()"
   ]
  },
  {
   "cell_type": "code",
   "execution_count": 20,
   "metadata": {},
   "outputs": [],
   "source": [
    "pd.set_option('display.max_columns', 50)"
   ]
  },
  {
   "cell_type": "code",
   "execution_count": 21,
   "metadata": {},
   "outputs": [],
   "source": [
    "for i in range(len(dFrame)):\n",
    "    if dFrame.SEX[i] == 2:\n",
    "        dFrame.SEX[i] = 0"
   ]
  },
  {
   "cell_type": "code",
   "execution_count": 22,
   "metadata": {},
   "outputs": [
    {
     "data": {
      "text/plain": [
       "2    11188\n",
       "1     8442\n",
       "3     3994\n",
       "5      223\n",
       "4      100\n",
       "6       41\n",
       "0       11\n",
       "Name: EDUCATION, dtype: int64"
      ]
     },
     "execution_count": 22,
     "metadata": {},
     "output_type": "execute_result"
    }
   ],
   "source": [
    "dFrame.EDUCATION.value_counts()"
   ]
  },
  {
   "cell_type": "code",
   "execution_count": 23,
   "metadata": {},
   "outputs": [
    {
     "data": {
      "text/html": [
       "<div>\n",
       "<style scoped>\n",
       "    .dataframe tbody tr th:only-of-type {\n",
       "        vertical-align: middle;\n",
       "    }\n",
       "\n",
       "    .dataframe tbody tr th {\n",
       "        vertical-align: top;\n",
       "    }\n",
       "\n",
       "    .dataframe thead th {\n",
       "        text-align: right;\n",
       "    }\n",
       "</style>\n",
       "<table border=\"1\" class=\"dataframe\">\n",
       "  <thead>\n",
       "    <tr style=\"text-align: right;\">\n",
       "      <th></th>\n",
       "      <th>LIMIT_BAL</th>\n",
       "      <th>SEX</th>\n",
       "      <th>EDUCATION</th>\n",
       "      <th>MARRIAGE</th>\n",
       "      <th>AGE</th>\n",
       "      <th>PAY_1</th>\n",
       "      <th>PAY_2</th>\n",
       "      <th>PAY_3</th>\n",
       "      <th>PAY_4</th>\n",
       "      <th>PAY_5</th>\n",
       "      <th>PAY_6</th>\n",
       "      <th>BILL_AMT1</th>\n",
       "      <th>BILL_AMT2</th>\n",
       "      <th>BILL_AMT3</th>\n",
       "      <th>BILL_AMT4</th>\n",
       "      <th>BILL_AMT5</th>\n",
       "      <th>BILL_AMT6</th>\n",
       "      <th>PAY_AMT1</th>\n",
       "      <th>PAY_AMT2</th>\n",
       "      <th>PAY_AMT3</th>\n",
       "      <th>PAY_AMT4</th>\n",
       "      <th>PAY_AMT5</th>\n",
       "      <th>PAY_AMT6</th>\n",
       "      <th>DEFAULT</th>\n",
       "    </tr>\n",
       "  </thead>\n",
       "  <tbody>\n",
       "    <tr>\n",
       "      <th>0</th>\n",
       "      <td>50000</td>\n",
       "      <td>1</td>\n",
       "      <td>2</td>\n",
       "      <td>2</td>\n",
       "      <td>49</td>\n",
       "      <td>0</td>\n",
       "      <td>0</td>\n",
       "      <td>0</td>\n",
       "      <td>0</td>\n",
       "      <td>0</td>\n",
       "      <td>0</td>\n",
       "      <td>90231</td>\n",
       "      <td>90647</td>\n",
       "      <td>92309</td>\n",
       "      <td>93880</td>\n",
       "      <td>99418</td>\n",
       "      <td>101392</td>\n",
       "      <td>2852</td>\n",
       "      <td>2784</td>\n",
       "      <td>2603</td>\n",
       "      <td>10000</td>\n",
       "      <td>3164</td>\n",
       "      <td>2868</td>\n",
       "      <td>1</td>\n",
       "    </tr>\n",
       "    <tr>\n",
       "      <th>1</th>\n",
       "      <td>30000</td>\n",
       "      <td>1</td>\n",
       "      <td>2</td>\n",
       "      <td>1</td>\n",
       "      <td>39</td>\n",
       "      <td>0</td>\n",
       "      <td>0</td>\n",
       "      <td>0</td>\n",
       "      <td>0</td>\n",
       "      <td>0</td>\n",
       "      <td>0</td>\n",
       "      <td>20893</td>\n",
       "      <td>22206</td>\n",
       "      <td>19273</td>\n",
       "      <td>16469</td>\n",
       "      <td>14670</td>\n",
       "      <td>11214</td>\n",
       "      <td>2007</td>\n",
       "      <td>2000</td>\n",
       "      <td>2000</td>\n",
       "      <td>417</td>\n",
       "      <td>1500</td>\n",
       "      <td>1500</td>\n",
       "      <td>0</td>\n",
       "    </tr>\n",
       "    <tr>\n",
       "      <th>2</th>\n",
       "      <td>260000</td>\n",
       "      <td>1</td>\n",
       "      <td>1</td>\n",
       "      <td>2</td>\n",
       "      <td>27</td>\n",
       "      <td>0</td>\n",
       "      <td>0</td>\n",
       "      <td>0</td>\n",
       "      <td>0</td>\n",
       "      <td>0</td>\n",
       "      <td>0</td>\n",
       "      <td>158711</td>\n",
       "      <td>129796</td>\n",
       "      <td>101721</td>\n",
       "      <td>76699</td>\n",
       "      <td>56738</td>\n",
       "      <td>39134</td>\n",
       "      <td>30000</td>\n",
       "      <td>4132</td>\n",
       "      <td>3410</td>\n",
       "      <td>2600</td>\n",
       "      <td>1800</td>\n",
       "      <td>1200</td>\n",
       "      <td>0</td>\n",
       "    </tr>\n",
       "    <tr>\n",
       "      <th>3</th>\n",
       "      <td>200000</td>\n",
       "      <td>0</td>\n",
       "      <td>2</td>\n",
       "      <td>1</td>\n",
       "      <td>33</td>\n",
       "      <td>0</td>\n",
       "      <td>0</td>\n",
       "      <td>0</td>\n",
       "      <td>0</td>\n",
       "      <td>0</td>\n",
       "      <td>0</td>\n",
       "      <td>23762</td>\n",
       "      <td>25944</td>\n",
       "      <td>26988</td>\n",
       "      <td>25237</td>\n",
       "      <td>22131</td>\n",
       "      <td>13774</td>\n",
       "      <td>4000</td>\n",
       "      <td>2000</td>\n",
       "      <td>600</td>\n",
       "      <td>3000</td>\n",
       "      <td>4000</td>\n",
       "      <td>100</td>\n",
       "      <td>0</td>\n",
       "    </tr>\n",
       "    <tr>\n",
       "      <th>4</th>\n",
       "      <td>50000</td>\n",
       "      <td>1</td>\n",
       "      <td>1</td>\n",
       "      <td>2</td>\n",
       "      <td>27</td>\n",
       "      <td>0</td>\n",
       "      <td>0</td>\n",
       "      <td>0</td>\n",
       "      <td>0</td>\n",
       "      <td>0</td>\n",
       "      <td>0</td>\n",
       "      <td>14614</td>\n",
       "      <td>15622</td>\n",
       "      <td>16342</td>\n",
       "      <td>17653</td>\n",
       "      <td>17697</td>\n",
       "      <td>18068</td>\n",
       "      <td>1558</td>\n",
       "      <td>1278</td>\n",
       "      <td>1589</td>\n",
       "      <td>633</td>\n",
       "      <td>656</td>\n",
       "      <td>783</td>\n",
       "      <td>0</td>\n",
       "    </tr>\n",
       "  </tbody>\n",
       "</table>\n",
       "</div>"
      ],
      "text/plain": [
       "   LIMIT_BAL  SEX  EDUCATION  MARRIAGE  AGE  PAY_1  PAY_2  PAY_3  PAY_4  \\\n",
       "0      50000    1          2         2   49      0      0      0      0   \n",
       "1      30000    1          2         1   39      0      0      0      0   \n",
       "2     260000    1          1         2   27      0      0      0      0   \n",
       "3     200000    0          2         1   33      0      0      0      0   \n",
       "4      50000    1          1         2   27      0      0      0      0   \n",
       "\n",
       "   PAY_5  PAY_6  BILL_AMT1  BILL_AMT2  BILL_AMT3  BILL_AMT4  BILL_AMT5  \\\n",
       "0      0      0      90231      90647      92309      93880      99418   \n",
       "1      0      0      20893      22206      19273      16469      14670   \n",
       "2      0      0     158711     129796     101721      76699      56738   \n",
       "3      0      0      23762      25944      26988      25237      22131   \n",
       "4      0      0      14614      15622      16342      17653      17697   \n",
       "\n",
       "   BILL_AMT6  PAY_AMT1  PAY_AMT2  PAY_AMT3  PAY_AMT4  PAY_AMT5  PAY_AMT6  \\\n",
       "0     101392      2852      2784      2603     10000      3164      2868   \n",
       "1      11214      2007      2000      2000       417      1500      1500   \n",
       "2      39134     30000      4132      3410      2600      1800      1200   \n",
       "3      13774      4000      2000       600      3000      4000       100   \n",
       "4      18068      1558      1278      1589       633       656       783   \n",
       "\n",
       "   DEFAULT  \n",
       "0        1  \n",
       "1        0  \n",
       "2        0  \n",
       "3        0  \n",
       "4        0  "
      ]
     },
     "execution_count": 23,
     "metadata": {},
     "output_type": "execute_result"
    }
   ],
   "source": [
    "dFrame.head()"
   ]
  },
  {
   "cell_type": "code",
   "execution_count": 24,
   "metadata": {},
   "outputs": [
    {
     "data": {
      "text/plain": [
       "EDUCATION\n",
       "0       11\n",
       "1     8442\n",
       "2    11188\n",
       "3     3994\n",
       "4      100\n",
       "5      223\n",
       "6       41\n",
       "Name: DEFAULT, dtype: int64"
      ]
     },
     "execution_count": 24,
     "metadata": {},
     "output_type": "execute_result"
    }
   ],
   "source": [
    "dFrame.groupby(by='EDUCATION')['DEFAULT'].count()"
   ]
  },
  {
   "cell_type": "markdown",
   "metadata": {},
   "source": [
    "Add all out of range data in EDUCATION ('0', '5', '6') to EDUCATION '4' == others  \n",
    "Add all out of range data in MARRIAGE ('0') to MARRIAGE '3' == others"
   ]
  },
  {
   "cell_type": "code",
   "execution_count": 25,
   "metadata": {},
   "outputs": [],
   "source": [
    "for i in range(len(dFrame)):\n",
    "    if dFrame.EDUCATION[i] == 0 or dFrame.EDUCATION[i] == 5 or dFrame.EDUCATION[i] == 6:\n",
    "        dFrame.EDUCATION[i] = 4"
   ]
  },
  {
   "cell_type": "code",
   "execution_count": 26,
   "metadata": {},
   "outputs": [],
   "source": [
    "for i in range(len(dFrame)):\n",
    "    if dFrame.MARRIAGE[i] == 0:\n",
    "        dFrame.MARRIAGE[i] = 3"
   ]
  },
  {
   "cell_type": "code",
   "execution_count": 27,
   "metadata": {},
   "outputs": [],
   "source": [
    "#dFrame.groupby(by='MARRIAGE')['DEFAULT'].count()"
   ]
  },
  {
   "cell_type": "code",
   "execution_count": 28,
   "metadata": {},
   "outputs": [
    {
     "data": {
      "text/html": [
       "<div>\n",
       "<style scoped>\n",
       "    .dataframe tbody tr th:only-of-type {\n",
       "        vertical-align: middle;\n",
       "    }\n",
       "\n",
       "    .dataframe tbody tr th {\n",
       "        vertical-align: top;\n",
       "    }\n",
       "\n",
       "    .dataframe thead th {\n",
       "        text-align: right;\n",
       "    }\n",
       "</style>\n",
       "<table border=\"1\" class=\"dataframe\">\n",
       "  <thead>\n",
       "    <tr style=\"text-align: right;\">\n",
       "      <th></th>\n",
       "      <th>count</th>\n",
       "      <th>mean</th>\n",
       "      <th>std</th>\n",
       "      <th>min</th>\n",
       "      <th>25%</th>\n",
       "      <th>50%</th>\n",
       "      <th>75%</th>\n",
       "      <th>max</th>\n",
       "    </tr>\n",
       "  </thead>\n",
       "  <tbody>\n",
       "    <tr>\n",
       "      <th>EDUCATION</th>\n",
       "      <td>23999.0</td>\n",
       "      <td>1.845910</td>\n",
       "      <td>0.746305</td>\n",
       "      <td>1.0</td>\n",
       "      <td>1.0</td>\n",
       "      <td>2.0</td>\n",
       "      <td>2.0</td>\n",
       "      <td>4.0</td>\n",
       "    </tr>\n",
       "    <tr>\n",
       "      <th>MARRIAGE</th>\n",
       "      <td>23999.0</td>\n",
       "      <td>1.556148</td>\n",
       "      <td>0.521881</td>\n",
       "      <td>1.0</td>\n",
       "      <td>1.0</td>\n",
       "      <td>2.0</td>\n",
       "      <td>2.0</td>\n",
       "      <td>3.0</td>\n",
       "    </tr>\n",
       "  </tbody>\n",
       "</table>\n",
       "</div>"
      ],
      "text/plain": [
       "             count      mean       std  min  25%  50%  75%  max\n",
       "EDUCATION  23999.0  1.845910  0.746305  1.0  1.0  2.0  2.0  4.0\n",
       "MARRIAGE   23999.0  1.556148  0.521881  1.0  1.0  2.0  2.0  3.0"
      ]
     },
     "execution_count": 28,
     "metadata": {},
     "output_type": "execute_result"
    }
   ],
   "source": [
    "dFrame[['EDUCATION', 'MARRIAGE']].describe().transpose()"
   ]
  },
  {
   "cell_type": "code",
   "execution_count": 29,
   "metadata": {},
   "outputs": [
    {
     "name": "stdout",
     "output_type": "stream",
     "text": [
      "target variable\n",
      "--------------------------------------------------------------------------------\n",
      "DEFAULT\n",
      "0    18691\n",
      "1     5308\n",
      "Name: DEFAULT, dtype: int64\n"
     ]
    },
    {
     "data": {
      "image/png": "[encoded data removed]",
      "text/plain": [
       "<Figure size 720x288 with 1 Axes>"
      ]
     },
     "metadata": {},
     "output_type": "display_data"
    }
   ],
   "source": [
    "print('target variable')\n",
    "print('--'*40)\n",
    "print(dFrame.groupby(['DEFAULT']).DEFAULT.count())\n",
    "\n",
    "plt.figure(figsize = (10,4))\n",
    "sns.countplot(dFrame['DEFAULT'], alpha =.66, palette= ['pink','lightblue'])\n",
    "plt.title('diligent vs default')\n",
    "plt.ylabel('# Clients')\n",
    "plt.show()"
   ]
  },
  {
   "cell_type": "markdown",
   "metadata": {},
   "source": [
    "CONTINIOUS VS DISCRETE"
   ]
  },
  {
   "cell_type": "code",
   "execution_count": 30,
   "metadata": {},
   "outputs": [],
   "source": [
    "# print('continious variable')\n",
    "# display(dFrame[['AGE', 'PAY_AMT1']].describe().transpose())\n",
    "# print('--'*30)\n",
    "# print('discrete variables')\n",
    "# print(dFrame.groupby('SEX').SEX.count())\n",
    "# print(dFrame.groupby('EDUCATION').SEX.count())\n",
    "# print(dFrame.groupby('MARRIAGE').SEX.count())"
   ]
  },
  {
   "cell_type": "code",
   "execution_count": 31,
   "metadata": {},
   "outputs": [],
   "source": [
    "# print('Client SEX summary')\n",
    "\n",
    "# print('\\n')\n",
    "# print(dFrame.groupby(['SEX','DEFAULT']).SEX.count().unstack())\n",
    "\n",
    "# # Passenger class visualization\n",
    "# # pclass = train_data.groupby(['Pclass','Survived']).Pclass.count().unstack()\n",
    "# # p1 = pclass.plot(kind = 'bar', stacked = True, \n",
    "# #                    title = 'Passengers by Class: Survivors vs Non-Survivors', \n",
    "# #                    color = ['grey','lightgreen'], alpha = .70)\n",
    "# # p1.set_xlabel('Pclass')\n",
    "# # p1.set_ylabel('# Passengers')\n",
    "# # p1.legend(['Did Not Survive','Survived'])\n",
    "# # plt.show()"
   ]
  },
  {
   "cell_type": "markdown",
   "metadata": {},
   "source": [
    "***\n",
    "***\n",
    "# FEATURE ENGINEERING\n",
    "***\n",
    "***"
   ]
  },
  {
   "cell_type": "code",
   "execution_count": 32,
   "metadata": {},
   "outputs": [],
   "source": [
    "# add +1 to every entry\n",
    "dFrame['PAY_1'] = dFrame['PAY_1'] + 1\n",
    "dFrame['PAY_2'] = dFrame['PAY_2'] + 1\n",
    "dFrame['PAY_3'] = dFrame['PAY_3'] + 1\n",
    "dFrame['PAY_4'] = dFrame['PAY_4'] + 1\n",
    "dFrame['PAY_5'] = dFrame['PAY_5'] + 1\n",
    "dFrame['PAY_6'] = dFrame['PAY_6'] + 1"
   ]
  },
  {
   "cell_type": "code",
   "execution_count": 33,
   "metadata": {},
   "outputs": [],
   "source": [
    "# split in two groups\n",
    "for i in range(len(dFrame)):\n",
    "    if dFrame.PAY_1[i] == -1 or dFrame.PAY_1[i] == 0 or dFrame.PAY_1[i] == 1:\n",
    "        dFrame.PAY_1[i] = 0\n",
    "    else:\n",
    "        dFrame.PAY_1[i] = 1"
   ]
  },
  {
   "cell_type": "code",
   "execution_count": 34,
   "metadata": {},
   "outputs": [],
   "source": [
    "for i in range(len(dFrame)):\n",
    "    if dFrame.PAY_2[i] == -1 or dFrame.PAY_2[i] == 0 or dFrame.PAY_2[i] == 1:\n",
    "        dFrame.PAY_2[i] = 0\n",
    "    else:\n",
    "        dFrame.PAY_2[i] = 1"
   ]
  },
  {
   "cell_type": "code",
   "execution_count": 35,
   "metadata": {},
   "outputs": [],
   "source": [
    "for i in range(len(dFrame)):\n",
    "    if dFrame.PAY_3[i] == -1 or dFrame.PAY_3[i] == 0 or dFrame.PAY_3[i] == 1:\n",
    "        dFrame.PAY_3[i] = 0\n",
    "    else:\n",
    "        dFrame.PAY_3[i] = 1"
   ]
  },
  {
   "cell_type": "code",
   "execution_count": 36,
   "metadata": {},
   "outputs": [],
   "source": [
    "for i in range(len(dFrame)):\n",
    "    if dFrame.PAY_4[i] == -1 or dFrame.PAY_4[i] == 0 or dFrame.PAY_4[i] == 1:\n",
    "        dFrame.PAY_4[i] = 0\n",
    "    else:\n",
    "        dFrame.PAY_4[i] = 1"
   ]
  },
  {
   "cell_type": "code",
   "execution_count": 37,
   "metadata": {},
   "outputs": [],
   "source": [
    "for i in range(len(dFrame)):\n",
    "    if dFrame.PAY_5[i] == -1 or dFrame.PAY_5[i] == 0 or dFrame.PAY_5[i] == 1:\n",
    "        dFrame.PAY_5[i] = 0\n",
    "    else:\n",
    "        dFrame.PAY_5[i] = 1"
   ]
  },
  {
   "cell_type": "code",
   "execution_count": 38,
   "metadata": {},
   "outputs": [],
   "source": [
    "for i in range(len(dFrame)):\n",
    "    if dFrame.PAY_6[i] == -1 or dFrame.PAY_6[i] == 0 or dFrame.PAY_6[i] == 1:\n",
    "        dFrame.PAY_6[i] = 0\n",
    "    else:\n",
    "        dFrame.PAY_6[i] = 1"
   ]
  },
  {
   "cell_type": "code",
   "execution_count": 39,
   "metadata": {},
   "outputs": [],
   "source": [
    "# calculate payment/bill ratio\n",
    "dFrame['BILL_RATIO_SEP']= dFrame['PAY_AMT1']/dFrame['BILL_AMT2']\n",
    "dFrame['BILL_RATIO_AUG']= dFrame['PAY_AMT2']/dFrame['BILL_AMT3']\n",
    "dFrame['BILL_RATIO_JUL']= dFrame['PAY_AMT3']/dFrame['BILL_AMT4']\n",
    "dFrame['BILL_RATIO_JUN']= dFrame['PAY_AMT4']/dFrame['BILL_AMT5']\n",
    "dFrame['BILL_RATIO_MAY']= dFrame['PAY_AMT5']/dFrame['BILL_AMT6']"
   ]
  },
  {
   "cell_type": "code",
   "execution_count": 40,
   "metadata": {},
   "outputs": [],
   "source": [
    "#dFrame.fillna(0, inplace= True)"
   ]
  },
  {
   "cell_type": "code",
   "execution_count": 41,
   "metadata": {},
   "outputs": [],
   "source": [
    "dFrame.replace([np.inf, -np.inf], np.nan, inplace= True)"
   ]
  },
  {
   "cell_type": "code",
   "execution_count": 42,
   "metadata": {},
   "outputs": [],
   "source": [
    "dFrame.fillna(0, inplace= True)"
   ]
  },
  {
   "cell_type": "code",
   "execution_count": 43,
   "metadata": {},
   "outputs": [],
   "source": [
    "dFrame= dFrame.drop(['BILL_AMT1', 'BILL_AMT2', 'BILL_AMT3', 'BILL_AMT4', 'BILL_AMT5', 'BILL_AMT6'], axis= 1)\n",
    "dFrame= dFrame.drop(['PAY_AMT1', 'PAY_AMT2', 'PAY_AMT3', 'PAY_AMT4', 'PAY_AMT5', 'PAY_AMT6'], axis= 1)\n"
   ]
  },
  {
   "cell_type": "code",
   "execution_count": 44,
   "metadata": {},
   "outputs": [
    {
     "data": {
      "text/html": [
       "<div>\n",
       "<style scoped>\n",
       "    .dataframe tbody tr th:only-of-type {\n",
       "        vertical-align: middle;\n",
       "    }\n",
       "\n",
       "    .dataframe tbody tr th {\n",
       "        vertical-align: top;\n",
       "    }\n",
       "\n",
       "    .dataframe thead th {\n",
       "        text-align: right;\n",
       "    }\n",
       "</style>\n",
       "<table border=\"1\" class=\"dataframe\">\n",
       "  <thead>\n",
       "    <tr style=\"text-align: right;\">\n",
       "      <th></th>\n",
       "      <th>LIMIT_BAL</th>\n",
       "      <th>SEX</th>\n",
       "      <th>EDUCATION</th>\n",
       "      <th>MARRIAGE</th>\n",
       "      <th>AGE</th>\n",
       "      <th>PAY_1</th>\n",
       "      <th>PAY_2</th>\n",
       "      <th>PAY_3</th>\n",
       "      <th>PAY_4</th>\n",
       "      <th>PAY_5</th>\n",
       "      <th>PAY_6</th>\n",
       "      <th>DEFAULT</th>\n",
       "      <th>BILL_RATIO_SEP</th>\n",
       "      <th>BILL_RATIO_AUG</th>\n",
       "      <th>BILL_RATIO_JUL</th>\n",
       "      <th>BILL_RATIO_JUN</th>\n",
       "      <th>BILL_RATIO_MAY</th>\n",
       "    </tr>\n",
       "  </thead>\n",
       "  <tbody>\n",
       "    <tr>\n",
       "      <th>0</th>\n",
       "      <td>50000</td>\n",
       "      <td>1</td>\n",
       "      <td>2</td>\n",
       "      <td>2</td>\n",
       "      <td>49</td>\n",
       "      <td>0</td>\n",
       "      <td>0</td>\n",
       "      <td>0</td>\n",
       "      <td>0</td>\n",
       "      <td>0</td>\n",
       "      <td>0</td>\n",
       "      <td>1</td>\n",
       "      <td>0.031463</td>\n",
       "      <td>0.030160</td>\n",
       "      <td>0.027727</td>\n",
       "      <td>0.100585</td>\n",
       "      <td>0.031206</td>\n",
       "    </tr>\n",
       "    <tr>\n",
       "      <th>1</th>\n",
       "      <td>30000</td>\n",
       "      <td>1</td>\n",
       "      <td>2</td>\n",
       "      <td>1</td>\n",
       "      <td>39</td>\n",
       "      <td>0</td>\n",
       "      <td>0</td>\n",
       "      <td>0</td>\n",
       "      <td>0</td>\n",
       "      <td>0</td>\n",
       "      <td>0</td>\n",
       "      <td>0</td>\n",
       "      <td>0.090381</td>\n",
       "      <td>0.103772</td>\n",
       "      <td>0.121440</td>\n",
       "      <td>0.028425</td>\n",
       "      <td>0.133761</td>\n",
       "    </tr>\n",
       "    <tr>\n",
       "      <th>2</th>\n",
       "      <td>260000</td>\n",
       "      <td>1</td>\n",
       "      <td>1</td>\n",
       "      <td>2</td>\n",
       "      <td>27</td>\n",
       "      <td>0</td>\n",
       "      <td>0</td>\n",
       "      <td>0</td>\n",
       "      <td>0</td>\n",
       "      <td>0</td>\n",
       "      <td>0</td>\n",
       "      <td>0</td>\n",
       "      <td>0.231132</td>\n",
       "      <td>0.040621</td>\n",
       "      <td>0.044460</td>\n",
       "      <td>0.045825</td>\n",
       "      <td>0.045996</td>\n",
       "    </tr>\n",
       "    <tr>\n",
       "      <th>3</th>\n",
       "      <td>200000</td>\n",
       "      <td>0</td>\n",
       "      <td>2</td>\n",
       "      <td>1</td>\n",
       "      <td>33</td>\n",
       "      <td>0</td>\n",
       "      <td>0</td>\n",
       "      <td>0</td>\n",
       "      <td>0</td>\n",
       "      <td>0</td>\n",
       "      <td>0</td>\n",
       "      <td>0</td>\n",
       "      <td>0.154178</td>\n",
       "      <td>0.074107</td>\n",
       "      <td>0.023775</td>\n",
       "      <td>0.135556</td>\n",
       "      <td>0.290402</td>\n",
       "    </tr>\n",
       "    <tr>\n",
       "      <th>4</th>\n",
       "      <td>50000</td>\n",
       "      <td>1</td>\n",
       "      <td>1</td>\n",
       "      <td>2</td>\n",
       "      <td>27</td>\n",
       "      <td>0</td>\n",
       "      <td>0</td>\n",
       "      <td>0</td>\n",
       "      <td>0</td>\n",
       "      <td>0</td>\n",
       "      <td>0</td>\n",
       "      <td>0</td>\n",
       "      <td>0.099731</td>\n",
       "      <td>0.078203</td>\n",
       "      <td>0.090013</td>\n",
       "      <td>0.035769</td>\n",
       "      <td>0.036307</td>\n",
       "    </tr>\n",
       "  </tbody>\n",
       "</table>\n",
       "</div>"
      ],
      "text/plain": [
       "   LIMIT_BAL  SEX  EDUCATION  MARRIAGE  AGE  PAY_1  PAY_2  PAY_3  PAY_4  \\\n",
       "0      50000    1          2         2   49      0      0      0      0   \n",
       "1      30000    1          2         1   39      0      0      0      0   \n",
       "2     260000    1          1         2   27      0      0      0      0   \n",
       "3     200000    0          2         1   33      0      0      0      0   \n",
       "4      50000    1          1         2   27      0      0      0      0   \n",
       "\n",
       "   PAY_5  PAY_6  DEFAULT  BILL_RATIO_SEP  BILL_RATIO_AUG  BILL_RATIO_JUL  \\\n",
       "0      0      0        1        0.031463        0.030160        0.027727   \n",
       "1      0      0        0        0.090381        0.103772        0.121440   \n",
       "2      0      0        0        0.231132        0.040621        0.044460   \n",
       "3      0      0        0        0.154178        0.074107        0.023775   \n",
       "4      0      0        0        0.099731        0.078203        0.090013   \n",
       "\n",
       "   BILL_RATIO_JUN  BILL_RATIO_MAY  \n",
       "0        0.100585        0.031206  \n",
       "1        0.028425        0.133761  \n",
       "2        0.045825        0.045996  \n",
       "3        0.135556        0.290402  \n",
       "4        0.035769        0.036307  "
      ]
     },
     "execution_count": 44,
     "metadata": {},
     "output_type": "execute_result"
    }
   ],
   "source": [
    "dFrame.head()"
   ]
  },
  {
   "cell_type": "code",
   "execution_count": 45,
   "metadata": {},
   "outputs": [
    {
     "data": {
      "image/png": "[encoded data removed]",
      "text/plain": [
       "<Figure size 432x288 with 1 Axes>"
      ]
     },
     "metadata": {},
     "output_type": "display_data"
    }
   ],
   "source": [
    "dFrame.LIMIT_BAL.hist();"
   ]
  },
  {
   "cell_type": "code",
   "execution_count": 46,
   "metadata": {},
   "outputs": [],
   "source": [
    "labels = [0, 1, 2, 3, 4, 5]"
   ]
  },
  {
   "cell_type": "code",
   "execution_count": 47,
   "metadata": {},
   "outputs": [],
   "source": [
    "dFrame['LIMIT_BIN'] = pd.cut(dFrame['LIMIT_BAL'], bins=6, labels=labels)"
   ]
  },
  {
   "cell_type": "code",
   "execution_count": 48,
   "metadata": {},
   "outputs": [],
   "source": [
    "edu_dummies = pd.get_dummies(dFrame.EDUCATION, prefix=\"EDU\")"
   ]
  },
  {
   "cell_type": "code",
   "execution_count": 49,
   "metadata": {},
   "outputs": [],
   "source": [
    "marriage_dummies = pd.get_dummies(dFrame.MARRIAGE, prefix=\"MARR\")"
   ]
  },
  {
   "cell_type": "code",
   "execution_count": 50,
   "metadata": {},
   "outputs": [],
   "source": [
    "limit_dummies = pd.get_dummies(dFrame.LIMIT_BIN, prefix=\"LIM\")"
   ]
  },
  {
   "cell_type": "code",
   "execution_count": 51,
   "metadata": {},
   "outputs": [],
   "source": [
    "dFrame = pd.concat([dFrame, edu_dummies, marriage_dummies, limit_dummies], axis=1)"
   ]
  },
  {
   "cell_type": "code",
   "execution_count": 52,
   "metadata": {},
   "outputs": [],
   "source": [
    "dFrame.drop(['EDUCATION', 'MARRIAGE', 'LIMIT_BAL', 'LIMIT_BIN'], axis=1, inplace=True)"
   ]
  },
  {
   "cell_type": "code",
   "execution_count": 53,
   "metadata": {},
   "outputs": [
    {
     "data": {
      "text/html": [
       "<div>\n",
       "<style scoped>\n",
       "    .dataframe tbody tr th:only-of-type {\n",
       "        vertical-align: middle;\n",
       "    }\n",
       "\n",
       "    .dataframe tbody tr th {\n",
       "        vertical-align: top;\n",
       "    }\n",
       "\n",
       "    .dataframe thead th {\n",
       "        text-align: right;\n",
       "    }\n",
       "</style>\n",
       "<table border=\"1\" class=\"dataframe\">\n",
       "  <thead>\n",
       "    <tr style=\"text-align: right;\">\n",
       "      <th></th>\n",
       "      <th>SEX</th>\n",
       "      <th>AGE</th>\n",
       "      <th>PAY_1</th>\n",
       "      <th>PAY_2</th>\n",
       "      <th>PAY_3</th>\n",
       "      <th>PAY_4</th>\n",
       "      <th>PAY_5</th>\n",
       "      <th>PAY_6</th>\n",
       "      <th>DEFAULT</th>\n",
       "      <th>BILL_RATIO_SEP</th>\n",
       "      <th>BILL_RATIO_AUG</th>\n",
       "      <th>BILL_RATIO_JUL</th>\n",
       "      <th>BILL_RATIO_JUN</th>\n",
       "      <th>BILL_RATIO_MAY</th>\n",
       "      <th>EDU_1</th>\n",
       "      <th>EDU_2</th>\n",
       "      <th>EDU_3</th>\n",
       "      <th>EDU_4</th>\n",
       "      <th>MARR_1</th>\n",
       "      <th>MARR_2</th>\n",
       "      <th>MARR_3</th>\n",
       "      <th>LIM_0</th>\n",
       "      <th>LIM_1</th>\n",
       "      <th>LIM_2</th>\n",
       "      <th>LIM_3</th>\n",
       "      <th>LIM_4</th>\n",
       "      <th>LIM_5</th>\n",
       "    </tr>\n",
       "  </thead>\n",
       "  <tbody>\n",
       "    <tr>\n",
       "      <th>0</th>\n",
       "      <td>1</td>\n",
       "      <td>49</td>\n",
       "      <td>0</td>\n",
       "      <td>0</td>\n",
       "      <td>0</td>\n",
       "      <td>0</td>\n",
       "      <td>0</td>\n",
       "      <td>0</td>\n",
       "      <td>1</td>\n",
       "      <td>0.031463</td>\n",
       "      <td>0.030160</td>\n",
       "      <td>0.027727</td>\n",
       "      <td>0.100585</td>\n",
       "      <td>0.031206</td>\n",
       "      <td>0</td>\n",
       "      <td>1</td>\n",
       "      <td>0</td>\n",
       "      <td>0</td>\n",
       "      <td>0</td>\n",
       "      <td>1</td>\n",
       "      <td>0</td>\n",
       "      <td>1</td>\n",
       "      <td>0</td>\n",
       "      <td>0</td>\n",
       "      <td>0</td>\n",
       "      <td>0</td>\n",
       "      <td>0</td>\n",
       "    </tr>\n",
       "    <tr>\n",
       "      <th>1</th>\n",
       "      <td>1</td>\n",
       "      <td>39</td>\n",
       "      <td>0</td>\n",
       "      <td>0</td>\n",
       "      <td>0</td>\n",
       "      <td>0</td>\n",
       "      <td>0</td>\n",
       "      <td>0</td>\n",
       "      <td>0</td>\n",
       "      <td>0.090381</td>\n",
       "      <td>0.103772</td>\n",
       "      <td>0.121440</td>\n",
       "      <td>0.028425</td>\n",
       "      <td>0.133761</td>\n",
       "      <td>0</td>\n",
       "      <td>1</td>\n",
       "      <td>0</td>\n",
       "      <td>0</td>\n",
       "      <td>1</td>\n",
       "      <td>0</td>\n",
       "      <td>0</td>\n",
       "      <td>1</td>\n",
       "      <td>0</td>\n",
       "      <td>0</td>\n",
       "      <td>0</td>\n",
       "      <td>0</td>\n",
       "      <td>0</td>\n",
       "    </tr>\n",
       "    <tr>\n",
       "      <th>2</th>\n",
       "      <td>1</td>\n",
       "      <td>27</td>\n",
       "      <td>0</td>\n",
       "      <td>0</td>\n",
       "      <td>0</td>\n",
       "      <td>0</td>\n",
       "      <td>0</td>\n",
       "      <td>0</td>\n",
       "      <td>0</td>\n",
       "      <td>0.231132</td>\n",
       "      <td>0.040621</td>\n",
       "      <td>0.044460</td>\n",
       "      <td>0.045825</td>\n",
       "      <td>0.045996</td>\n",
       "      <td>1</td>\n",
       "      <td>0</td>\n",
       "      <td>0</td>\n",
       "      <td>0</td>\n",
       "      <td>0</td>\n",
       "      <td>1</td>\n",
       "      <td>0</td>\n",
       "      <td>0</td>\n",
       "      <td>1</td>\n",
       "      <td>0</td>\n",
       "      <td>0</td>\n",
       "      <td>0</td>\n",
       "      <td>0</td>\n",
       "    </tr>\n",
       "    <tr>\n",
       "      <th>3</th>\n",
       "      <td>0</td>\n",
       "      <td>33</td>\n",
       "      <td>0</td>\n",
       "      <td>0</td>\n",
       "      <td>0</td>\n",
       "      <td>0</td>\n",
       "      <td>0</td>\n",
       "      <td>0</td>\n",
       "      <td>0</td>\n",
       "      <td>0.154178</td>\n",
       "      <td>0.074107</td>\n",
       "      <td>0.023775</td>\n",
       "      <td>0.135556</td>\n",
       "      <td>0.290402</td>\n",
       "      <td>0</td>\n",
       "      <td>1</td>\n",
       "      <td>0</td>\n",
       "      <td>0</td>\n",
       "      <td>1</td>\n",
       "      <td>0</td>\n",
       "      <td>0</td>\n",
       "      <td>0</td>\n",
       "      <td>1</td>\n",
       "      <td>0</td>\n",
       "      <td>0</td>\n",
       "      <td>0</td>\n",
       "      <td>0</td>\n",
       "    </tr>\n",
       "    <tr>\n",
       "      <th>4</th>\n",
       "      <td>1</td>\n",
       "      <td>27</td>\n",
       "      <td>0</td>\n",
       "      <td>0</td>\n",
       "      <td>0</td>\n",
       "      <td>0</td>\n",
       "      <td>0</td>\n",
       "      <td>0</td>\n",
       "      <td>0</td>\n",
       "      <td>0.099731</td>\n",
       "      <td>0.078203</td>\n",
       "      <td>0.090013</td>\n",
       "      <td>0.035769</td>\n",
       "      <td>0.036307</td>\n",
       "      <td>1</td>\n",
       "      <td>0</td>\n",
       "      <td>0</td>\n",
       "      <td>0</td>\n",
       "      <td>0</td>\n",
       "      <td>1</td>\n",
       "      <td>0</td>\n",
       "      <td>1</td>\n",
       "      <td>0</td>\n",
       "      <td>0</td>\n",
       "      <td>0</td>\n",
       "      <td>0</td>\n",
       "      <td>0</td>\n",
       "    </tr>\n",
       "  </tbody>\n",
       "</table>\n",
       "</div>"
      ],
      "text/plain": [
       "   SEX  AGE  PAY_1  PAY_2  PAY_3  PAY_4  PAY_5  PAY_6  DEFAULT  \\\n",
       "0    1   49      0      0      0      0      0      0        1   \n",
       "1    1   39      0      0      0      0      0      0        0   \n",
       "2    1   27      0      0      0      0      0      0        0   \n",
       "3    0   33      0      0      0      0      0      0        0   \n",
       "4    1   27      0      0      0      0      0      0        0   \n",
       "\n",
       "   BILL_RATIO_SEP  BILL_RATIO_AUG  BILL_RATIO_JUL  BILL_RATIO_JUN  \\\n",
       "0        0.031463        0.030160        0.027727        0.100585   \n",
       "1        0.090381        0.103772        0.121440        0.028425   \n",
       "2        0.231132        0.040621        0.044460        0.045825   \n",
       "3        0.154178        0.074107        0.023775        0.135556   \n",
       "4        0.099731        0.078203        0.090013        0.035769   \n",
       "\n",
       "   BILL_RATIO_MAY  EDU_1  EDU_2  EDU_3  EDU_4  MARR_1  MARR_2  MARR_3  LIM_0  \\\n",
       "0        0.031206      0      1      0      0       0       1       0      1   \n",
       "1        0.133761      0      1      0      0       1       0       0      1   \n",
       "2        0.045996      1      0      0      0       0       1       0      0   \n",
       "3        0.290402      0      1      0      0       1       0       0      0   \n",
       "4        0.036307      1      0      0      0       0       1       0      1   \n",
       "\n",
       "   LIM_1  LIM_2  LIM_3  LIM_4  LIM_5  \n",
       "0      0      0      0      0      0  \n",
       "1      0      0      0      0      0  \n",
       "2      1      0      0      0      0  \n",
       "3      1      0      0      0      0  \n",
       "4      0      0      0      0      0  "
      ]
     },
     "execution_count": 53,
     "metadata": {},
     "output_type": "execute_result"
    }
   ],
   "source": [
    "dFrame.head()"
   ]
  },
  {
   "cell_type": "code",
   "execution_count": 54,
   "metadata": {},
   "outputs": [
    {
     "data": {
      "text/plain": [
       "(23999, 27)"
      ]
     },
     "execution_count": 54,
     "metadata": {},
     "output_type": "execute_result"
    }
   ],
   "source": [
    "dFrame.shape"
   ]
  },
  {
   "cell_type": "markdown",
   "metadata": {},
   "source": [
    "***\n",
    "***\n",
    "# MODELLING\n",
    "***\n",
    "***"
   ]
  },
  {
   "cell_type": "code",
   "execution_count": 55,
   "metadata": {},
   "outputs": [],
   "source": [
    "# import classes\n",
    "from sklearn.model_selection import train_test_split\n",
    "from sklearn.metrics import accuracy_score, f1_score, precision_score\n",
    "from sklearn.metrics import confusion_matrix\n",
    "from sklearn.metrics import classification_report"
   ]
  },
  {
   "cell_type": "code",
   "execution_count": 56,
   "metadata": {},
   "outputs": [],
   "source": [
    "X= dFrame.drop(['DEFAULT'], axis=1)\n",
    "y= dFrame['DEFAULT']"
   ]
  },
  {
   "cell_type": "code",
   "execution_count": 57,
   "metadata": {},
   "outputs": [
    {
     "data": {
      "text/plain": [
       "((23999, 26), (23999,))"
      ]
     },
     "execution_count": 57,
     "metadata": {},
     "output_type": "execute_result"
    }
   ],
   "source": [
    "X.shape, y.shape"
   ]
  },
  {
   "cell_type": "markdown",
   "metadata": {},
   "source": [
    "***\n",
    "# FEATURE SELECTION\n",
    "***"
   ]
  },
  {
   "cell_type": "code",
   "execution_count": 58,
   "metadata": {},
   "outputs": [],
   "source": [
    "# import\n",
    "from sklearn.feature_selection import SelectKBest\n",
    "from sklearn.feature_selection import  chi2, f_classif, mutual_info_classif"
   ]
  },
  {
   "cell_type": "code",
   "execution_count": 59,
   "metadata": {},
   "outputs": [],
   "source": [
    "# X= SelectKBest(mutual_info_classif).fit_transform(X, y)\n",
    "# X= SelectKBest(f_classif).fit_transform(X, y)\n",
    "#X= SelectKBest(chi2, k= all).fit_transform(X, y)\n",
    "# X= pd.DataFrame(X)"
   ]
  },
  {
   "cell_type": "code",
   "execution_count": 60,
   "metadata": {},
   "outputs": [
    {
     "data": {
      "text/plain": [
       "((23999, 26), (23999,))"
      ]
     },
     "execution_count": 60,
     "metadata": {},
     "output_type": "execute_result"
    }
   ],
   "source": [
    "X.shape, y.shape"
   ]
  },
  {
   "cell_type": "markdown",
   "metadata": {},
   "source": [
    "***\n",
    "# SPLITING\n",
    "***"
   ]
  },
  {
   "cell_type": "code",
   "execution_count": 61,
   "metadata": {},
   "outputs": [],
   "source": [
    "X_train, X_test, y_train, y_test= train_test_split(X, y, random_state= 999, test_size= .3)"
   ]
  },
  {
   "cell_type": "markdown",
   "metadata": {},
   "source": [
    "## PART_0: W/O SAMPLING"
   ]
  },
  {
   "cell_type": "code",
   "execution_count": 62,
   "metadata": {},
   "outputs": [],
   "source": [
    "# import a class\n",
    "from sklearn.preprocessing import StandardScaler"
   ]
  },
  {
   "cell_type": "code",
   "execution_count": 63,
   "metadata": {},
   "outputs": [],
   "source": [
    "scaler= StandardScaler()\n",
    "\n",
    "scaler.fit(X_train)\n",
    "X_train= scaler.transform(X_train)\n",
    "\n",
    "scaler.fit(X_test)\n",
    "X_test= scaler.transform(X_test)"
   ]
  },
  {
   "cell_type": "markdown",
   "metadata": {},
   "source": [
    "# KNN"
   ]
  },
  {
   "cell_type": "code",
   "execution_count": 64,
   "metadata": {},
   "outputs": [],
   "source": [
    "# import a class\n",
    "from sklearn.neighbors import KNeighborsClassifier"
   ]
  },
  {
   "cell_type": "code",
   "execution_count": 65,
   "metadata": {},
   "outputs": [
    {
     "data": {
      "image/png": "[encoded data removed]",
      "text/plain": [
       "<Figure size 864x432 with 1 Axes>"
      ]
     },
     "metadata": {},
     "output_type": "display_data"
    },
    {
     "name": "stdout",
     "output_type": "stream",
     "text": [
      "F1_score max:0.4013 where K: 5\n"
     ]
    }
   ],
   "source": [
    "# loop to find k\n",
    "k_scores = []\n",
    "k_range= list(range(1, 100, 2))\n",
    "for k in k_range:\n",
    "    knn = KNeighborsClassifier(n_neighbors = k, p=2)\n",
    "    knn.fit(X_train, y_train)\n",
    "    y_pred_k = knn.predict(X_test)\n",
    "    k_scores.append(f1_score(y_test, y_pred_k, pos_label= 1))\n",
    "\n",
    "# plot\n",
    "plt.figure(figsize=(12, 6))  \n",
    "plt.plot(k_range, k_scores, color='green', linestyle=':', marker='o',  \n",
    "         markerfacecolor='red', markersize=5)\n",
    "plt.title('F1 score by K Value')  \n",
    "plt.xlabel('K Value')  \n",
    "plt.ylabel('F1 Score') \n",
    "plt.show()\n",
    "\n",
    "# display parametrs \n",
    "print(f'F1_score max:{round(max(k_scores), 4)} where K: {(k_scores.index(max(k_scores))+1)*2 - 1}')\n",
    "k= (k_scores.index(max(k_scores))+1)*2 - 1"
   ]
  },
  {
   "cell_type": "code",
   "execution_count": 66,
   "metadata": {},
   "outputs": [
    {
     "name": "stdout",
     "output_type": "stream",
     "text": [
      "TEST_#__: KNN\n",
      "------------------------------------------------------------\n",
      "CONFUSION_MATRIX\n",
      "------------------------------------------------------------\n",
      "[[5188  455]\n",
      " [1052  505]]\n",
      "------------------------------------------------------------\n",
      "CLASSIFICATION_REPORT\n",
      "------------------------------------------------------------\n",
      "              precision    recall  f1-score   support\n",
      "\n",
      "           0       0.83      0.92      0.87      5643\n",
      "           1       0.53      0.32      0.40      1557\n",
      "\n",
      "    accuracy                           0.79      7200\n",
      "   macro avg       0.68      0.62      0.64      7200\n",
      "weighted avg       0.77      0.79      0.77      7200\n",
      "\n",
      "------------------------------------------------------------\n"
     ]
    }
   ],
   "source": [
    "# instantiate a model\n",
    "knn= KNeighborsClassifier(n_neighbors= k, p=2)\n",
    "\n",
    "# train a model\n",
    "knn= knn.fit(X_train, y_train)\n",
    "\n",
    "# predict on test set\n",
    "y_pred= knn.predict(X_test)\n",
    "\n",
    "print('TEST_#__: KNN')\n",
    "print('--'*30)\n",
    "print('CONFUSION_MATRIX')\n",
    "print('--'*30)\n",
    "print(confusion_matrix(y_test, y_pred))\n",
    "print('--'*30)\n",
    "print('CLASSIFICATION_REPORT')\n",
    "print('--'*30)\n",
    "print(classification_report(y_test, y_pred, output_dict= False))\n",
    "print('--'*30)\n",
    "\n",
    "p0t1= round(f1_score(y_test, y_pred), 3)\n",
    "k01= knn.get_params()['n_neighbors']"
   ]
  },
  {
   "cell_type": "markdown",
   "metadata": {},
   "source": [
    "# LOGISTIC REGRESION"
   ]
  },
  {
   "cell_type": "code",
   "execution_count": 67,
   "metadata": {},
   "outputs": [],
   "source": [
    "# import a model\n",
    "from sklearn.linear_model import LogisticRegression"
   ]
  },
  {
   "cell_type": "code",
   "execution_count": 68,
   "metadata": {},
   "outputs": [
    {
     "name": "stdout",
     "output_type": "stream",
     "text": [
      "TEST_#__: LOGISTIC_REGRESSION\n",
      "--------------------------------------------------------------------------------\n",
      "CONFUSION_MATRIX\n",
      "--------------------------------------------------------------------------------\n",
      "[[5382  261]\n",
      " [1116  441]]\n",
      "--------------------------------------------------------------------------------\n",
      "CLASSIFICATION_REPORT\n",
      "--------------------------------------------------------------------------------\n",
      "              precision    recall  f1-score   support\n",
      "\n",
      "           0       0.83      0.95      0.89      5643\n",
      "           1       0.63      0.28      0.39      1557\n",
      "\n",
      "    accuracy                           0.81      7200\n",
      "   macro avg       0.73      0.62      0.64      7200\n",
      "weighted avg       0.78      0.81      0.78      7200\n",
      "\n",
      "--------------------------------------------------------------------------------\n"
     ]
    }
   ],
   "source": [
    "#instantiate a model\n",
    "logreg= LogisticRegression(solver= 'lbfgs')\n",
    "\n",
    "#train a model\n",
    "logreg= logreg.fit(X_train, y_train)\n",
    "\n",
    "#predict\n",
    "y_pred= logreg.predict(X_test)\n",
    "\n",
    "print('TEST_#__: LOGISTIC_REGRESSION')\n",
    "print('--'*40)\n",
    "print('CONFUSION_MATRIX')\n",
    "print('--'*40)\n",
    "print(confusion_matrix(y_test, y_pred))\n",
    "print('--'*40)\n",
    "print('CLASSIFICATION_REPORT')\n",
    "print('--'*40)\n",
    "print(classification_report(y_test, y_pred, output_dict= False))\n",
    "print('--'*40)\n",
    "\n",
    "p0t2= round(f1_score(y_test, y_pred), 3)"
   ]
  },
  {
   "cell_type": "markdown",
   "metadata": {},
   "source": [
    "# DECISION TREE"
   ]
  },
  {
   "cell_type": "code",
   "execution_count": 69,
   "metadata": {},
   "outputs": [],
   "source": [
    "#import a model\n",
    "from sklearn.tree import DecisionTreeClassifier"
   ]
  },
  {
   "cell_type": "code",
   "execution_count": 70,
   "metadata": {},
   "outputs": [
    {
     "data": {
      "image/png": "[encoded data removed]",
      "text/plain": [
       "<Figure size 864x432 with 1 Axes>"
      ]
     },
     "metadata": {},
     "output_type": "display_data"
    },
    {
     "name": "stdout",
     "output_type": "stream",
     "text": [
      "f1_score max:0.4953 where D: 1\n"
     ]
    }
   ],
   "source": [
    "# loop to find depth\n",
    "depth_scores = []\n",
    "depth_range= list(range(1, 20, 2))\n",
    "for d in depth_range:\n",
    "    dtree= DecisionTreeClassifier(max_depth= d, splitter= 'best')\n",
    "    dtree.fit(X_train, y_train)\n",
    "    y_pred_d = dtree.predict(X_test)\n",
    "    depth_scores.append(f1_score(y_test, y_pred_d, pos_label= 1))\n",
    "\n",
    "# plot\n",
    "plt.figure(figsize=(12, 6))  \n",
    "plt.plot(depth_range, depth_scores, color='green', linestyle=':', marker='o',  \n",
    "         markerfacecolor='red', markersize=5)\n",
    "plt.title('F1 score by K Value')  \n",
    "plt.xlabel('K Value')  \n",
    "plt.ylabel('F1 Score') \n",
    "plt.show()\n",
    "\n",
    "# display parametrs \n",
    "print(f'f1_score max:{round(max(depth_scores), 4)} where D: {(depth_scores.index(max(depth_scores))+1)*2 - 1}')\n",
    "d= (depth_scores.index(max(depth_scores))+1)*2 - 1"
   ]
  },
  {
   "cell_type": "code",
   "execution_count": 71,
   "metadata": {},
   "outputs": [
    {
     "name": "stdout",
     "output_type": "stream",
     "text": [
      "TEST_#__: DECISION_TREE\n",
      "--------------------------------------------------------------------------------\n",
      "CONFUSION_MATRIX\n",
      "--------------------------------------------------------------------------------\n",
      "[[4812  831]\n",
      " [ 771  786]]\n",
      "--------------------------------------------------------------------------------\n",
      "CLASSIFICATION_REPORT\n",
      "--------------------------------------------------------------------------------\n",
      "              precision    recall  f1-score   support\n",
      "\n",
      "           0       0.86      0.85      0.86      5643\n",
      "           1       0.49      0.50      0.50      1557\n",
      "\n",
      "    accuracy                           0.78      7200\n",
      "   macro avg       0.67      0.68      0.68      7200\n",
      "weighted avg       0.78      0.78      0.78      7200\n",
      "\n",
      "--------------------------------------------------------------------------------\n"
     ]
    }
   ],
   "source": [
    "# instantiate a model\n",
    "dtree= DecisionTreeClassifier(max_depth= d, splitter= 'best')\n",
    "\n",
    "#train a model\n",
    "dtree= dtree.fit(X_train, y_train)\n",
    "\n",
    "# predict\n",
    "y_pred= dtree.predict(X_test)\n",
    "\n",
    "print('TEST_#__: DECISION_TREE')\n",
    "print('--'*40)\n",
    "print('CONFUSION_MATRIX')\n",
    "print('--'*40)\n",
    "print(confusion_matrix(y_test, y_pred))\n",
    "print('--'*40)\n",
    "print('CLASSIFICATION_REPORT')\n",
    "print('--'*40)\n",
    "print(classification_report(y_test, y_pred, output_dict= False))\n",
    "print('--'*40)\n",
    "\n",
    "p0t3= round(f1_score(y_test, y_pred), 3)"
   ]
  },
  {
   "cell_type": "markdown",
   "metadata": {},
   "source": [
    "***\n",
    "_HANDLING IMBALANCES_\n",
    "***"
   ]
  },
  {
   "cell_type": "code",
   "execution_count": 72,
   "metadata": {},
   "outputs": [],
   "source": [
    "X= dFrame.drop(['DEFAULT'], axis=1)\n",
    "y= dFrame['DEFAULT']"
   ]
  },
  {
   "cell_type": "code",
   "execution_count": 73,
   "metadata": {},
   "outputs": [],
   "source": [
    "#X_train= pd.DataFrame(X_train)"
   ]
  },
  {
   "cell_type": "code",
   "execution_count": 74,
   "metadata": {},
   "outputs": [],
   "source": [
    "X_train, X_test, y_train, y_test= train_test_split(X, y, random_state= 999, test_size= .3)"
   ]
  },
  {
   "cell_type": "code",
   "execution_count": 75,
   "metadata": {},
   "outputs": [
    {
     "name": "stdout",
     "output_type": "stream",
     "text": [
      "zero count: 13048\n",
      "one count: 3751\n"
     ]
    }
   ],
   "source": [
    "# concatenate our training data back together\n",
    "temp= pd.concat([X_train, y_train], axis=1)\n",
    "\n",
    "# separate minority and majority classes\n",
    "zero = temp[temp['DEFAULT']==0]\n",
    "one = temp[temp['DEFAULT']==1]\n",
    "\n",
    "# get a class count to understand the class imbalance.\n",
    "print('zero count: '+ str(len(zero)))\n",
    "print('one count: '+ str(len(one)))"
   ]
  },
  {
   "cell_type": "markdown",
   "metadata": {},
   "source": [
    "## PART_1: UPSAMPLING ##"
   ]
  },
  {
   "cell_type": "code",
   "execution_count": 76,
   "metadata": {},
   "outputs": [],
   "source": [
    "from sklearn.utils import resample"
   ]
  },
  {
   "cell_type": "code",
   "execution_count": 69,
   "metadata": {},
   "outputs": [
    {
     "name": "stdout",
     "output_type": "stream",
     "text": [
      "1    13048\n",
      "0    13048\n",
      "Name: DEFAULT, dtype: int64\n"
     ]
    }
   ],
   "source": [
    "# upsample minority\n",
    "one_upsampled = resample(one, replace=True, n_samples=len(zero), random_state=999)\n",
    "\n",
    "# combine majority and upsampled minority\n",
    "upsampled = pd.concat([zero, one_upsampled])\n",
    "\n",
    "# check new class counts\n",
    "print(upsampled['DEFAULT'].value_counts())\n",
    "\n",
    "# try a model again with the balanced dataset\n",
    "y_train = upsampled['DEFAULT']\n",
    "X_train = upsampled.drop(['DEFAULT'], axis=1)"
   ]
  },
  {
   "cell_type": "code",
   "execution_count": 70,
   "metadata": {},
   "outputs": [],
   "source": [
    "scaler= StandardScaler()\n",
    "scaler.fit(X_train)\n",
    "X_train= scaler.transform(X_train)\n",
    "\n",
    "scaler.fit(X_test)\n",
    "X_test= scaler.transform(X_test)"
   ]
  },
  {
   "cell_type": "markdown",
   "metadata": {},
   "source": [
    "# KNN #\n",
    "---"
   ]
  },
  {
   "cell_type": "code",
   "execution_count": 91,
   "metadata": {},
   "outputs": [
    {
     "name": "stdout",
     "output_type": "stream",
     "text": [
      "TEST_#__: KNN\n",
      "--------------------------------------------------------------------------------\n",
      "CONFUSION_MATRIX\n",
      "--------------------------------------------------------------------------------\n",
      "[[4855  788]\n",
      " [ 769  788]]\n",
      "--------------------------------------------------------------------------------\n",
      "CLASSIFICATION_REPORT\n",
      "--------------------------------------------------------------------------------\n",
      "              precision    recall  f1-score   support\n",
      "\n",
      "           0       0.86      0.86      0.86      5643\n",
      "           1       0.50      0.51      0.50      1557\n",
      "\n",
      "    accuracy                           0.78      7200\n",
      "   macro avg       0.68      0.68      0.68      7200\n",
      "weighted avg       0.78      0.78      0.78      7200\n",
      "\n",
      "--------------------------------------------------------------------------------\n"
     ]
    }
   ],
   "source": [
    "# instantiate a model\n",
    "knn= KNeighborsClassifier(n_neighbors= 185, p=2)\n",
    "\n",
    "# train a model\n",
    "knn= knn.fit(X_train, y_train)\n",
    "\n",
    "# predict on test set\n",
    "y_pred= knn.predict(X_test)\n",
    "\n",
    "print('TEST_#__: KNN')\n",
    "print('--'*40)\n",
    "print('CONFUSION_MATRIX')\n",
    "print('--'*40)\n",
    "print(confusion_matrix(y_test, y_pred))\n",
    "print('--'*40)\n",
    "print('CLASSIFICATION_REPORT')\n",
    "print('--'*40)\n",
    "print(classification_report(y_test, y_pred, output_dict= False))\n",
    "print('--'*40)\n",
    "\n",
    "p1t1= round(f1_score(y_test, y_pred), 3)\n",
    "k04= knn.get_params()['n_neighbors']"
   ]
  },
  {
   "cell_type": "code",
   "execution_count": 85,
   "metadata": {},
   "outputs": [
    {
     "data": {
      "image/png": "[encoded data removed]",
      "text/plain": [
       "<Figure size 864x432 with 1 Axes>"
      ]
     },
     "metadata": {},
     "output_type": "display_data"
    },
    {
     "name": "stdout",
     "output_type": "stream",
     "text": [
      "F1_score max:0.5123 where K: 83\n"
     ]
    }
   ],
   "source": [
    "# loop to find k\n",
    "k_scores = []\n",
    "k_range= list(range(1, 100, 2))\n",
    "for k in k_range:\n",
    "    knn = KNeighborsClassifier(n_neighbors = k, p=2)\n",
    "    knn.fit(X_train, y_train)\n",
    "    y_pred_k = knn.predict(X_test)\n",
    "    k_scores.append(f1_score(y_test, y_pred_k, pos_label= 1))\n",
    "\n",
    "# plot\n",
    "plt.figure(figsize=(12, 6))  \n",
    "plt.plot(k_range, k_scores, color='green', linestyle=':', marker='o',  \n",
    "         markerfacecolor='red', markersize=5)\n",
    "plt.title('F1 score by K Value')  \n",
    "plt.xlabel('K Value')  \n",
    "plt.ylabel('F1 Score') \n",
    "plt.show()\n",
    "\n",
    "# display parametrs \n",
    "print(f'F1_score max:{round(max(k_scores), 4)} where K: {(k_scores.index(max(k_scores))+1)*2 - 1}')"
   ]
  },
  {
   "cell_type": "markdown",
   "metadata": {},
   "source": [
    "# LOGISTIC REGRESSION #"
   ]
  },
  {
   "cell_type": "code",
   "execution_count": 86,
   "metadata": {},
   "outputs": [],
   "source": [
    "#instantiate a model\n",
    "logreg= LogisticRegression(solver= 'lbfgs')\n",
    "\n",
    "#train a model\n",
    "logreg= logreg.fit(X_train, y_train)\n",
    "\n",
    "#predict\n",
    "y_pred= logreg.predict(X_test)"
   ]
  },
  {
   "cell_type": "code",
   "execution_count": 87,
   "metadata": {},
   "outputs": [
    {
     "name": "stdout",
     "output_type": "stream",
     "text": [
      "TEST_#__: LOGISTIC_REGRESSION\n",
      "--------------------------------------------------------------------------------\n",
      "CONFUSION_MATRIX\n",
      "--------------------------------------------------------------------------------\n",
      "[[4434 1209]\n",
      " [ 601  956]]\n",
      "--------------------------------------------------------------------------------\n",
      "CLASSIFICATION_REPORT\n",
      "--------------------------------------------------------------------------------\n",
      "              precision    recall  f1-score   support\n",
      "\n",
      "           0       0.88      0.79      0.83      5643\n",
      "           1       0.44      0.61      0.51      1557\n",
      "\n",
      "    accuracy                           0.75      7200\n",
      "   macro avg       0.66      0.70      0.67      7200\n",
      "weighted avg       0.79      0.75      0.76      7200\n",
      "\n",
      "--------------------------------------------------------------------------------\n"
     ]
    }
   ],
   "source": [
    "print('TEST_#__: LOGISTIC_REGRESSION')\n",
    "print('--'*40)\n",
    "print('CONFUSION_MATRIX')\n",
    "print('--'*40)\n",
    "print(confusion_matrix(y_test, y_pred))\n",
    "print('--'*40)\n",
    "print('CLASSIFICATION_REPORT')\n",
    "print('--'*40)\n",
    "print(classification_report(y_test, y_pred, output_dict= False))\n",
    "print('--'*40)\n",
    "\n",
    "p1t2= round(f1_score(y_test, y_pred), 3)"
   ]
  },
  {
   "cell_type": "markdown",
   "metadata": {},
   "source": [
    "# DECISION TREE #"
   ]
  },
  {
   "cell_type": "code",
   "execution_count": 88,
   "metadata": {},
   "outputs": [
    {
     "name": "stdout",
     "output_type": "stream",
     "text": [
      "TEST_#__: DECISION_TREE\n",
      "--------------------------------------------------------------------------------\n",
      "CONFUSION_MATRIX\n",
      "--------------------------------------------------------------------------------\n",
      "[[4568 1075]\n",
      " [ 653  904]]\n",
      "--------------------------------------------------------------------------------\n",
      "CLASSIFICATION_REPORT\n",
      "--------------------------------------------------------------------------------\n",
      "              precision    recall  f1-score   support\n",
      "\n",
      "           0       0.87      0.81      0.84      5643\n",
      "           1       0.46      0.58      0.51      1557\n",
      "\n",
      "    accuracy                           0.76      7200\n",
      "   macro avg       0.67      0.70      0.68      7200\n",
      "weighted avg       0.78      0.76      0.77      7200\n",
      "\n",
      "--------------------------------------------------------------------------------\n"
     ]
    }
   ],
   "source": [
    "# instantiate a model\n",
    "dtree= DecisionTreeClassifier(max_depth= 3, splitter= 'best')\n",
    "\n",
    "#train a model\n",
    "dtree= dtree.fit(X_train, y_train)\n",
    "\n",
    "# predict\n",
    "y_pred= dtree.predict(X_test)\n",
    "\n",
    "print('TEST_#__: DECISION_TREE')\n",
    "print('--'*40)\n",
    "print('CONFUSION_MATRIX')\n",
    "print('--'*40)\n",
    "print(confusion_matrix(y_test, y_pred))\n",
    "print('--'*40)\n",
    "print('CLASSIFICATION_REPORT')\n",
    "print('--'*40)\n",
    "print(classification_report(y_test, y_pred, output_dict= False))\n",
    "print('--'*40)\n",
    "\n",
    "p1t3= round(f1_score(y_test, y_pred), 3)"
   ]
  },
  {
   "cell_type": "code",
   "execution_count": 89,
   "metadata": {},
   "outputs": [
    {
     "data": {
      "image/png": "[encoded data removed]",
      "text/plain": [
       "<Figure size 864x432 with 1 Axes>"
      ]
     },
     "metadata": {},
     "output_type": "display_data"
    },
    {
     "name": "stdout",
     "output_type": "stream",
     "text": [
      "f1_score max:0.5161 where D: 5\n"
     ]
    }
   ],
   "source": [
    "# loop to find depth\n",
    "depth_scores = []\n",
    "depth_range= list(range(1, 20, 2))\n",
    "for d in depth_range:\n",
    "    dtree= DecisionTreeClassifier(max_depth= d, splitter= 'best')\n",
    "    dtree.fit(X_train, y_train)\n",
    "    y_pred_d = dtree.predict(X_test)\n",
    "    depth_scores.append(f1_score(y_test, y_pred_d, pos_label= 1))\n",
    "\n",
    "# plot\n",
    "plt.figure(figsize=(12, 6))  \n",
    "plt.plot(depth_range, depth_scores, color='green', linestyle=':', marker='o',  \n",
    "         markerfacecolor='red', markersize=5)\n",
    "plt.title('F1 score by K Value')  \n",
    "plt.xlabel('K Value')  \n",
    "plt.ylabel('F1 Score') \n",
    "plt.show()\n",
    "\n",
    "# display parametrs \n",
    "print(f'f1_score max:{round(max(depth_scores), 4)} where D: {(depth_scores.index(max(depth_scores))+1)*2 - 1}')"
   ]
  },
  {
   "cell_type": "markdown",
   "metadata": {},
   "source": [
    "## PART_2: DOWNSAMPLING ##"
   ]
  },
  {
   "cell_type": "code",
   "execution_count": 77,
   "metadata": {},
   "outputs": [
    {
     "name": "stdout",
     "output_type": "stream",
     "text": [
      "1    3751\n",
      "0    3751\n",
      "Name: DEFAULT, dtype: int64\n"
     ]
    }
   ],
   "source": [
    "# downsample majority\n",
    "one_downsampled = resample(zero, replace = False, n_samples = len(one), random_state = 999)\n",
    "\n",
    "# combine minority and downsampled majority\n",
    "downsampled = pd.concat([one_downsampled, one])\n",
    "\n",
    "# checking counts\n",
    "print(downsampled['DEFAULT'].value_counts())\n",
    "\n",
    "# trying a model again with the balanced dataset\n",
    "y_train = downsampled['DEFAULT']\n",
    "X_train = downsampled.drop(['DEFAULT'], axis=1)"
   ]
  },
  {
   "cell_type": "code",
   "execution_count": 78,
   "metadata": {},
   "outputs": [],
   "source": [
    "scaler= StandardScaler()\n",
    "scaler.fit(X_train)\n",
    "X_train= scaler.transform(X_train)\n",
    "scaler.fit(X_test)\n",
    "X_test= scaler.transform(X_test)"
   ]
  },
  {
   "cell_type": "markdown",
   "metadata": {},
   "source": [
    "# KNN #"
   ]
  },
  {
   "cell_type": "code",
   "execution_count": 79,
   "metadata": {},
   "outputs": [
    {
     "name": "stdout",
     "output_type": "stream",
     "text": [
      "TEST_#__: KNN\n",
      "--------------------------------------------------------------------------------\n",
      "CONFUSION_MATRIX\n",
      "--------------------------------------------------------------------------------\n",
      "[[5076  567]\n",
      " [ 878  679]]\n",
      "--------------------------------------------------------------------------------\n",
      "CLASSIFICATION_REPORT\n",
      "--------------------------------------------------------------------------------\n",
      "              precision    recall  f1-score   support\n",
      "\n",
      "           0       0.85      0.90      0.88      5643\n",
      "           1       0.54      0.44      0.48      1557\n",
      "\n",
      "    accuracy                           0.80      7200\n",
      "   macro avg       0.70      0.67      0.68      7200\n",
      "weighted avg       0.79      0.80      0.79      7200\n",
      "\n",
      "--------------------------------------------------------------------------------\n"
     ]
    }
   ],
   "source": [
    "# instantiate a model\n",
    "knn= KNeighborsClassifier(n_neighbors= 750, p=1)\n",
    "\n",
    "# train a model\n",
    "knn= knn.fit(X_train, y_train)\n",
    "\n",
    "# predict on test set\n",
    "y_pred= knn.predict(X_test)\n",
    "\n",
    "print('TEST_#__: KNN')\n",
    "print('--'*40)\n",
    "print('CONFUSION_MATRIX')\n",
    "print('--'*40)\n",
    "print(confusion_matrix(y_test, y_pred))\n",
    "print('--'*40)\n",
    "print('CLASSIFICATION_REPORT')\n",
    "print('--'*40)\n",
    "print(classification_report(y_test, y_pred, output_dict= False))\n",
    "print('--'*40)\n",
    "\n",
    "p2t1= round(f1_score(y_test, y_pred), 3)\n",
    "k07= knn.get_params()['n_neighbors']"
   ]
  },
  {
   "cell_type": "code",
   "execution_count": 80,
   "metadata": {},
   "outputs": [
    {
     "data": {
      "image/png": "[encoded data removed]",
      "text/plain": [
       "<Figure size 864x432 with 1 Axes>"
      ]
     },
     "metadata": {},
     "output_type": "display_data"
    },
    {
     "name": "stdout",
     "output_type": "stream",
     "text": [
      "F1_score max:0.5123 where K: 83\n"
     ]
    }
   ],
   "source": [
    "# loop to find k\n",
    "k_scores = []\n",
    "k_range= list(range(1, 100, 2))\n",
    "for k in k_range:\n",
    "    knn = KNeighborsClassifier(n_neighbors = k, p=2)\n",
    "    knn.fit(X_train, y_train)\n",
    "    y_pred_k = knn.predict(X_test)\n",
    "    k_scores.append(f1_score(y_test, y_pred_k, pos_label= 1))\n",
    "\n",
    "# plot\n",
    "plt.figure(figsize=(12, 6))  \n",
    "plt.plot(k_range, k_scores, color='green', linestyle=':', marker='o',  \n",
    "         markerfacecolor='red', markersize=5)\n",
    "plt.title('F1 score by K Value')  \n",
    "plt.xlabel('K Value')  \n",
    "plt.ylabel('F1 Score') \n",
    "plt.show()\n",
    "\n",
    "# display parametrs \n",
    "print(f'F1_score max:{round(max(k_scores), 4)} where K: {(k_scores.index(max(k_scores))+1)*2 - 1}')"
   ]
  },
  {
   "cell_type": "markdown",
   "metadata": {},
   "source": [
    "# LOGISTIC REGRESSION #"
   ]
  },
  {
   "cell_type": "code",
   "execution_count": 81,
   "metadata": {},
   "outputs": [
    {
     "name": "stdout",
     "output_type": "stream",
     "text": [
      "TEST_#__: LOGISTIC_REGRESSION\n",
      "CONFUSION_MATRIX\n",
      "--------------------------------------------------------------------------------\n",
      "[[4434 1209]\n",
      " [ 601  956]]\n",
      "--------------------------------------------------------------------------------\n",
      "CLASSIFICATION_REPORT\n",
      "--------------------------------------------------------------------------------\n",
      "              precision    recall  f1-score   support\n",
      "\n",
      "           0       0.88      0.79      0.83      5643\n",
      "           1       0.44      0.61      0.51      1557\n",
      "\n",
      "    accuracy                           0.75      7200\n",
      "   macro avg       0.66      0.70      0.67      7200\n",
      "weighted avg       0.79      0.75      0.76      7200\n",
      "\n",
      "--------------------------------------------------------------------------------\n"
     ]
    }
   ],
   "source": [
    "#instantiate a model\n",
    "logreg= LogisticRegression(solver= 'lbfgs')\n",
    "\n",
    "#train a model\n",
    "logreg= logreg.fit(X_train, y_train)\n",
    "\n",
    "#predict\n",
    "y_pred= logreg.predict(X_test)\n",
    "\n",
    "print('TEST_#__: LOGISTIC_REGRESSION')\n",
    "print('CONFUSION_MATRIX')\n",
    "print('--'*40)\n",
    "print(confusion_matrix(y_test, y_pred))\n",
    "print('--'*40)\n",
    "print('CLASSIFICATION_REPORT')\n",
    "print('--'*40)\n",
    "print(classification_report(y_test, y_pred, output_dict= False))\n",
    "print('--'*40)\n",
    "\n",
    "p2t2= round(f1_score(y_test, y_pred), 3)"
   ]
  },
  {
   "cell_type": "markdown",
   "metadata": {},
   "source": [
    "# DECISION TREE #"
   ]
  },
  {
   "cell_type": "code",
   "execution_count": 82,
   "metadata": {},
   "outputs": [
    {
     "name": "stdout",
     "output_type": "stream",
     "text": [
      "TEST_#__: DECISION_TREE\n",
      "CONFUSION_MATRIX\n",
      "--------------------------------------------------------------------------------\n",
      "[[4568 1075]\n",
      " [ 653  904]]\n",
      "--------------------------------------------------------------------------------\n",
      "CLASSIFICATION_REPORT\n",
      "--------------------------------------------------------------------------------\n",
      "              precision    recall  f1-score   support\n",
      "\n",
      "           0       0.87      0.81      0.84      5643\n",
      "           1       0.46      0.58      0.51      1557\n",
      "\n",
      "    accuracy                           0.76      7200\n",
      "   macro avg       0.67      0.70      0.68      7200\n",
      "weighted avg       0.78      0.76      0.77      7200\n",
      "\n",
      "--------------------------------------------------------------------------------\n"
     ]
    }
   ],
   "source": [
    "# instantiate a model\n",
    "dtree= DecisionTreeClassifier(max_depth= 3, splitter= 'best')\n",
    "\n",
    "#train a model\n",
    "dtree= dtree.fit(X_train, y_train)\n",
    "\n",
    "# predict\n",
    "y_pred= dtree.predict(X_test)\n",
    "\n",
    "print('TEST_#__: DECISION_TREE')\n",
    "print('CONFUSION_MATRIX')\n",
    "print('--'*40)\n",
    "print(confusion_matrix(y_test, y_pred))\n",
    "print('--'*40)\n",
    "print('CLASSIFICATION_REPORT')\n",
    "print('--'*40)\n",
    "print(classification_report(y_test, y_pred, output_dict= False))\n",
    "print('--'*40)\n",
    "\n",
    "p2t3= round(f1_score(y_test, y_pred), 3)"
   ]
  },
  {
   "cell_type": "code",
   "execution_count": 83,
   "metadata": {},
   "outputs": [
    {
     "data": {
      "image/png": "[encoded data removed]",
      "text/plain": [
       "<Figure size 864x432 with 1 Axes>"
      ]
     },
     "metadata": {},
     "output_type": "display_data"
    },
    {
     "name": "stdout",
     "output_type": "stream",
     "text": [
      "f1_score max:0.5161 where D: 5\n"
     ]
    }
   ],
   "source": [
    "# loop to find depth\n",
    "depth_scores = []\n",
    "depth_range= list(range(1, 20, 2))\n",
    "for d in depth_range:\n",
    "    dtree= DecisionTreeClassifier(max_depth= d, splitter= 'best')\n",
    "    dtree.fit(X_train, y_train)\n",
    "    y_pred_d = dtree.predict(X_test)\n",
    "    depth_scores.append(f1_score(y_test, y_pred_d, pos_label= 1))\n",
    "\n",
    "# plot\n",
    "plt.figure(figsize=(12, 6))  \n",
    "plt.plot(depth_range, depth_scores, color='green', linestyle=':', marker='o',  \n",
    "         markerfacecolor='red', markersize=5)\n",
    "plt.title('F1 score by K Value')  \n",
    "plt.xlabel('K Value')  \n",
    "plt.ylabel('F1 Score') \n",
    "plt.show()\n",
    "\n",
    "# display parametrs \n",
    "print(f'f1_score max:{round(max(depth_scores), 4)} where D: {(depth_scores.index(max(depth_scores))+1)*2 - 1}')"
   ]
  },
  {
   "cell_type": "markdown",
   "metadata": {},
   "source": [
    "# *** #\n",
    "# CONCLUSION #\n",
    "# *** #"
   ]
  },
  {
   "cell_type": "code",
   "execution_count": 92,
   "metadata": {},
   "outputs": [
    {
     "name": "stdout",
     "output_type": "stream",
     "text": [
      "::::::::::::::::::::::::::::::::::::::::\n",
      "CONSOLIDATED_TABLE\n",
      "::::::::::::::::::::::::::::::::::::::::\n",
      "----------------------------------------\n",
      "F1_score for KNN with K 5:0.401\n",
      "----------------------------------------\n",
      "F1_score for LOGREG: 0.39\n",
      "----------------------------------------\n",
      "F1_score for DTREE with D 1:0.495\n",
      "::::::::::::::::::::::::::::::::::::::::\n",
      "UPSAMPLING\n",
      "::::::::::::::::::::::::::::::::::::::::\n",
      "F1_score for KNN with K 185: 0.503\n",
      "----------------------------------------\n",
      "F1_score for LOGREG: 0.514\n",
      "----------------------------------------\n",
      "F1_score for DTREE with D 3:0.511\n",
      "::::::::::::::::::::::::::::::::::::::::\n",
      "DOWNSAMPLING\n",
      "::::::::::::::::::::::::::::::::::::::::\n",
      "----------------------------------------\n",
      "F1_score for KNN with K 750:0.484\n",
      "----------------------------------------\n",
      "F1_score for LOGREG:0.514\n",
      "----------------------------------------\n",
      "F1_score for DTREE with D 3:0.511\n"
     ]
    }
   ],
   "source": [
    "print(':'*40)\n",
    "print('CONSOLIDATED_TABLE')\n",
    "print(':'*40)\n",
    "print('--'*20)\n",
    "print(f'F1_score for KNN with K {k01}:{p0t1}')\n",
    "print('--'*20)\n",
    "print(f'F1_score for LOGREG: {p0t2}')\n",
    "print('--'*20)\n",
    "print(f'F1_score for DTREE with D 1:{p0t3}')\n",
    "print(':'*40)\n",
    "print('UPSAMPLING')\n",
    "print(':'*40)\n",
    "print(f'F1_score for KNN with K {k04}: {p1t1}')\n",
    "print('--'*20)\n",
    "print(f'F1_score for LOGREG: {p1t2}')\n",
    "print('--'*20)\n",
    "print(f'F1_score for DTREE with D 3:{p1t3}')\n",
    "print(':'*40)\n",
    "print('DOWNSAMPLING')\n",
    "print(':'*40)\n",
    "print('--'*20)\n",
    "print(f'F1_score for KNN with K {k07}:{p2t1}')\n",
    "print('--'*20)\n",
    "print(f'F1_score for LOGREG:{p2t2}')\n",
    "print('--'*20)\n",
    "print(f'F1_score for DTREE with D 3:{p2t3}')"
   ]
  },
  {
   "cell_type": "code",
   "execution_count": null,
   "metadata": {},
   "outputs": [],
   "source": []
  },
  {
   "cell_type": "code",
   "execution_count": null,
   "metadata": {},
   "outputs": [],
   "source": []
  },
  {
   "cell_type": "code",
   "execution_count": null,
   "metadata": {},
   "outputs": [],
   "source": []
  }
 ],
 "metadata": {
  "kernelspec": {
   "display_name": "Python 3",
   "language": "python",
   "name": "python3"
  },
  "language_info": {
   "codemirror_mode": {
    "name": "ipython",
    "version": 3
   },
   "file_extension": ".py",
   "mimetype": "text/x-python",
   "name": "python",
   "nbconvert_exporter": "python",
   "pygments_lexer": "ipython3",
   "version": "3.6.8"
  }
 },
 "nbformat": 4,
 "nbformat_minor": 2
}
