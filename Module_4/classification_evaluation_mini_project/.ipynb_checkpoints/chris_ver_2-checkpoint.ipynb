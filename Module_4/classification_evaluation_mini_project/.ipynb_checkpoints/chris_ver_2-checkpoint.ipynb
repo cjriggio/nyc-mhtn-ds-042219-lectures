{
 "cells": [
  {
   "cell_type": "code",
   "execution_count": 1,
   "metadata": {},
   "outputs": [],
   "source": [
    "import numpy as np\n",
    "import pandas as pd\n",
    "import matplotlib.pyplot as plt\n",
    "%matplotlib inline\n",
    "import seaborn as sns\n",
    "sns.set_style('darkgrid')"
   ]
  },
  {
   "cell_type": "code",
   "execution_count": 2,
   "metadata": {},
   "outputs": [
    {
     "data": {
      "text/html": [
       "<div>\n",
       "<style scoped>\n",
       "    .dataframe tbody tr th:only-of-type {\n",
       "        vertical-align: middle;\n",
       "    }\n",
       "\n",
       "    .dataframe tbody tr th {\n",
       "        vertical-align: top;\n",
       "    }\n",
       "\n",
       "    .dataframe thead th {\n",
       "        text-align: right;\n",
       "    }\n",
       "</style>\n",
       "<table border=\"1\" class=\"dataframe\">\n",
       "  <thead>\n",
       "    <tr style=\"text-align: right;\">\n",
       "      <th></th>\n",
       "      <th>LIMIT_BAL</th>\n",
       "      <th>SEX</th>\n",
       "      <th>EDUCATION</th>\n",
       "      <th>MARRIAGE</th>\n",
       "      <th>AGE</th>\n",
       "      <th>PAY_0</th>\n",
       "      <th>PAY_2</th>\n",
       "      <th>PAY_3</th>\n",
       "      <th>PAY_4</th>\n",
       "      <th>PAY_5</th>\n",
       "      <th>...</th>\n",
       "      <th>BILL_AMT4</th>\n",
       "      <th>BILL_AMT5</th>\n",
       "      <th>BILL_AMT6</th>\n",
       "      <th>PAY_AMT1</th>\n",
       "      <th>PAY_AMT2</th>\n",
       "      <th>PAY_AMT3</th>\n",
       "      <th>PAY_AMT4</th>\n",
       "      <th>PAY_AMT5</th>\n",
       "      <th>PAY_AMT6</th>\n",
       "      <th>default payment next month</th>\n",
       "    </tr>\n",
       "  </thead>\n",
       "  <tbody>\n",
       "    <tr>\n",
       "      <th>0</th>\n",
       "      <td>50000</td>\n",
       "      <td>1</td>\n",
       "      <td>2</td>\n",
       "      <td>2</td>\n",
       "      <td>49</td>\n",
       "      <td>0</td>\n",
       "      <td>0</td>\n",
       "      <td>0</td>\n",
       "      <td>0</td>\n",
       "      <td>0</td>\n",
       "      <td>...</td>\n",
       "      <td>93880</td>\n",
       "      <td>99418</td>\n",
       "      <td>101392</td>\n",
       "      <td>2852</td>\n",
       "      <td>2784</td>\n",
       "      <td>2603</td>\n",
       "      <td>10000</td>\n",
       "      <td>3164</td>\n",
       "      <td>2868</td>\n",
       "      <td>1</td>\n",
       "    </tr>\n",
       "    <tr>\n",
       "      <th>1</th>\n",
       "      <td>30000</td>\n",
       "      <td>1</td>\n",
       "      <td>2</td>\n",
       "      <td>1</td>\n",
       "      <td>39</td>\n",
       "      <td>0</td>\n",
       "      <td>0</td>\n",
       "      <td>0</td>\n",
       "      <td>0</td>\n",
       "      <td>0</td>\n",
       "      <td>...</td>\n",
       "      <td>16469</td>\n",
       "      <td>14670</td>\n",
       "      <td>11214</td>\n",
       "      <td>2007</td>\n",
       "      <td>2000</td>\n",
       "      <td>2000</td>\n",
       "      <td>417</td>\n",
       "      <td>1500</td>\n",
       "      <td>1500</td>\n",
       "      <td>0</td>\n",
       "    </tr>\n",
       "    <tr>\n",
       "      <th>2</th>\n",
       "      <td>260000</td>\n",
       "      <td>1</td>\n",
       "      <td>1</td>\n",
       "      <td>2</td>\n",
       "      <td>27</td>\n",
       "      <td>0</td>\n",
       "      <td>0</td>\n",
       "      <td>0</td>\n",
       "      <td>0</td>\n",
       "      <td>0</td>\n",
       "      <td>...</td>\n",
       "      <td>76699</td>\n",
       "      <td>56738</td>\n",
       "      <td>39134</td>\n",
       "      <td>30000</td>\n",
       "      <td>4132</td>\n",
       "      <td>3410</td>\n",
       "      <td>2600</td>\n",
       "      <td>1800</td>\n",
       "      <td>1200</td>\n",
       "      <td>0</td>\n",
       "    </tr>\n",
       "    <tr>\n",
       "      <th>3</th>\n",
       "      <td>200000</td>\n",
       "      <td>2</td>\n",
       "      <td>2</td>\n",
       "      <td>1</td>\n",
       "      <td>33</td>\n",
       "      <td>0</td>\n",
       "      <td>0</td>\n",
       "      <td>0</td>\n",
       "      <td>0</td>\n",
       "      <td>0</td>\n",
       "      <td>...</td>\n",
       "      <td>25237</td>\n",
       "      <td>22131</td>\n",
       "      <td>13774</td>\n",
       "      <td>4000</td>\n",
       "      <td>2000</td>\n",
       "      <td>600</td>\n",
       "      <td>3000</td>\n",
       "      <td>4000</td>\n",
       "      <td>100</td>\n",
       "      <td>0</td>\n",
       "    </tr>\n",
       "    <tr>\n",
       "      <th>4</th>\n",
       "      <td>50000</td>\n",
       "      <td>1</td>\n",
       "      <td>1</td>\n",
       "      <td>2</td>\n",
       "      <td>27</td>\n",
       "      <td>0</td>\n",
       "      <td>0</td>\n",
       "      <td>0</td>\n",
       "      <td>0</td>\n",
       "      <td>0</td>\n",
       "      <td>...</td>\n",
       "      <td>17653</td>\n",
       "      <td>17697</td>\n",
       "      <td>18068</td>\n",
       "      <td>1558</td>\n",
       "      <td>1278</td>\n",
       "      <td>1589</td>\n",
       "      <td>633</td>\n",
       "      <td>656</td>\n",
       "      <td>783</td>\n",
       "      <td>0</td>\n",
       "    </tr>\n",
       "  </tbody>\n",
       "</table>\n",
       "<p>5 rows × 24 columns</p>\n",
       "</div>"
      ],
      "text/plain": [
       "   LIMIT_BAL  SEX  EDUCATION  MARRIAGE  AGE  PAY_0  PAY_2  PAY_3  PAY_4  \\\n",
       "0      50000    1          2         2   49      0      0      0      0   \n",
       "1      30000    1          2         1   39      0      0      0      0   \n",
       "2     260000    1          1         2   27      0      0      0      0   \n",
       "3     200000    2          2         1   33      0      0      0      0   \n",
       "4      50000    1          1         2   27      0      0      0      0   \n",
       "\n",
       "   PAY_5  ...  BILL_AMT4  BILL_AMT5  BILL_AMT6  PAY_AMT1  PAY_AMT2  PAY_AMT3  \\\n",
       "0      0  ...      93880      99418     101392      2852      2784      2603   \n",
       "1      0  ...      16469      14670      11214      2007      2000      2000   \n",
       "2      0  ...      76699      56738      39134     30000      4132      3410   \n",
       "3      0  ...      25237      22131      13774      4000      2000       600   \n",
       "4      0  ...      17653      17697      18068      1558      1278      1589   \n",
       "\n",
       "   PAY_AMT4  PAY_AMT5  PAY_AMT6  default payment next month  \n",
       "0     10000      3164      2868                           1  \n",
       "1       417      1500      1500                           0  \n",
       "2      2600      1800      1200                           0  \n",
       "3      3000      4000       100                           0  \n",
       "4       633       656       783                           0  \n",
       "\n",
       "[5 rows x 24 columns]"
      ]
     },
     "execution_count": 2,
     "metadata": {},
     "output_type": "execute_result"
    }
   ],
   "source": [
    "df = pd.read_csv('classification_lab_data.csv')\n",
    "df.head()"
   ]
  },
  {
   "cell_type": "markdown",
   "metadata": {},
   "source": [
    "## CLEANING"
   ]
  },
  {
   "cell_type": "code",
   "execution_count": 6,
   "metadata": {},
   "outputs": [],
   "source": [
    "pd.set_option('display.max_columns', 50)"
   ]
  },
  {
   "cell_type": "code",
   "execution_count": 4,
   "metadata": {},
   "outputs": [
    {
     "name": "stdout",
     "output_type": "stream",
     "text": [
      "<class 'pandas.core.frame.DataFrame'>\n",
      "RangeIndex: 23999 entries, 0 to 23998\n",
      "Data columns (total 24 columns):\n",
      "LIMIT_BAL                     23999 non-null int64\n",
      "SEX                           23999 non-null int64\n",
      "EDUCATION                     23999 non-null int64\n",
      "MARRIAGE                      23999 non-null int64\n",
      "AGE                           23999 non-null int64\n",
      "PAY_0                         23999 non-null int64\n",
      "PAY_2                         23999 non-null int64\n",
      "PAY_3                         23999 non-null int64\n",
      "PAY_4                         23999 non-null int64\n",
      "PAY_5                         23999 non-null int64\n",
      "PAY_6                         23999 non-null int64\n",
      "BILL_AMT1                     23999 non-null int64\n",
      "BILL_AMT2                     23999 non-null int64\n",
      "BILL_AMT3                     23999 non-null int64\n",
      "BILL_AMT4                     23999 non-null int64\n",
      "BILL_AMT5                     23999 non-null int64\n",
      "BILL_AMT6                     23999 non-null int64\n",
      "PAY_AMT1                      23999 non-null int64\n",
      "PAY_AMT2                      23999 non-null int64\n",
      "PAY_AMT3                      23999 non-null int64\n",
      "PAY_AMT4                      23999 non-null int64\n",
      "PAY_AMT5                      23999 non-null int64\n",
      "PAY_AMT6                      23999 non-null int64\n",
      "default payment next month    23999 non-null int64\n",
      "dtypes: int64(24)\n",
      "memory usage: 4.4 MB\n"
     ]
    }
   ],
   "source": [
    "df.info()"
   ]
  },
  {
   "cell_type": "code",
   "execution_count": 5,
   "metadata": {},
   "outputs": [],
   "source": [
    "df = df.rename(index=str, columns={'PAY_0':'PAY_1'})\n",
    "df = df.rename(index=str, columns={'default payment next month':'DEFAULT'})"
   ]
  },
  {
   "cell_type": "code",
   "execution_count": 8,
   "metadata": {},
   "outputs": [
    {
     "data": {
      "text/html": [
       "<div>\n",
       "<style scoped>\n",
       "    .dataframe tbody tr th:only-of-type {\n",
       "        vertical-align: middle;\n",
       "    }\n",
       "\n",
       "    .dataframe tbody tr th {\n",
       "        vertical-align: top;\n",
       "    }\n",
       "\n",
       "    .dataframe thead th {\n",
       "        text-align: right;\n",
       "    }\n",
       "</style>\n",
       "<table border=\"1\" class=\"dataframe\">\n",
       "  <thead>\n",
       "    <tr style=\"text-align: right;\">\n",
       "      <th></th>\n",
       "      <th>count</th>\n",
       "      <th>mean</th>\n",
       "      <th>std</th>\n",
       "      <th>min</th>\n",
       "      <th>25%</th>\n",
       "      <th>50%</th>\n",
       "      <th>75%</th>\n",
       "      <th>max</th>\n",
       "    </tr>\n",
       "  </thead>\n",
       "  <tbody>\n",
       "    <tr>\n",
       "      <th>LIMIT_BAL</th>\n",
       "      <td>23999.0</td>\n",
       "      <td>167825.729405</td>\n",
       "      <td>129915.115993</td>\n",
       "      <td>10000.0</td>\n",
       "      <td>50000.0</td>\n",
       "      <td>140000.0</td>\n",
       "      <td>240000.0</td>\n",
       "      <td>1000000.0</td>\n",
       "    </tr>\n",
       "    <tr>\n",
       "      <th>SEX</th>\n",
       "      <td>23999.0</td>\n",
       "      <td>1.603608</td>\n",
       "      <td>0.489158</td>\n",
       "      <td>1.0</td>\n",
       "      <td>1.0</td>\n",
       "      <td>2.0</td>\n",
       "      <td>2.0</td>\n",
       "      <td>2.0</td>\n",
       "    </tr>\n",
       "    <tr>\n",
       "      <th>EDUCATION</th>\n",
       "      <td>23999.0</td>\n",
       "      <td>1.856786</td>\n",
       "      <td>0.791939</td>\n",
       "      <td>0.0</td>\n",
       "      <td>1.0</td>\n",
       "      <td>2.0</td>\n",
       "      <td>2.0</td>\n",
       "      <td>6.0</td>\n",
       "    </tr>\n",
       "    <tr>\n",
       "      <th>MARRIAGE</th>\n",
       "      <td>23999.0</td>\n",
       "      <td>1.550773</td>\n",
       "      <td>0.522431</td>\n",
       "      <td>0.0</td>\n",
       "      <td>1.0</td>\n",
       "      <td>2.0</td>\n",
       "      <td>2.0</td>\n",
       "      <td>3.0</td>\n",
       "    </tr>\n",
       "    <tr>\n",
       "      <th>AGE</th>\n",
       "      <td>23999.0</td>\n",
       "      <td>35.523230</td>\n",
       "      <td>9.253986</td>\n",
       "      <td>21.0</td>\n",
       "      <td>28.0</td>\n",
       "      <td>34.0</td>\n",
       "      <td>42.0</td>\n",
       "      <td>79.0</td>\n",
       "    </tr>\n",
       "    <tr>\n",
       "      <th>PAY_1</th>\n",
       "      <td>23999.0</td>\n",
       "      <td>-0.014959</td>\n",
       "      <td>1.120903</td>\n",
       "      <td>-2.0</td>\n",
       "      <td>-1.0</td>\n",
       "      <td>0.0</td>\n",
       "      <td>0.0</td>\n",
       "      <td>8.0</td>\n",
       "    </tr>\n",
       "    <tr>\n",
       "      <th>PAY_2</th>\n",
       "      <td>23999.0</td>\n",
       "      <td>-0.134839</td>\n",
       "      <td>1.193044</td>\n",
       "      <td>-2.0</td>\n",
       "      <td>-1.0</td>\n",
       "      <td>0.0</td>\n",
       "      <td>0.0</td>\n",
       "      <td>8.0</td>\n",
       "    </tr>\n",
       "    <tr>\n",
       "      <th>PAY_3</th>\n",
       "      <td>23999.0</td>\n",
       "      <td>-0.165632</td>\n",
       "      <td>1.193515</td>\n",
       "      <td>-2.0</td>\n",
       "      <td>-1.0</td>\n",
       "      <td>0.0</td>\n",
       "      <td>0.0</td>\n",
       "      <td>8.0</td>\n",
       "    </tr>\n",
       "    <tr>\n",
       "      <th>PAY_4</th>\n",
       "      <td>23999.0</td>\n",
       "      <td>-0.217092</td>\n",
       "      <td>1.168719</td>\n",
       "      <td>-2.0</td>\n",
       "      <td>-1.0</td>\n",
       "      <td>0.0</td>\n",
       "      <td>0.0</td>\n",
       "      <td>8.0</td>\n",
       "    </tr>\n",
       "    <tr>\n",
       "      <th>PAY_5</th>\n",
       "      <td>23999.0</td>\n",
       "      <td>-0.261344</td>\n",
       "      <td>1.133016</td>\n",
       "      <td>-2.0</td>\n",
       "      <td>-1.0</td>\n",
       "      <td>0.0</td>\n",
       "      <td>0.0</td>\n",
       "      <td>8.0</td>\n",
       "    </tr>\n",
       "    <tr>\n",
       "      <th>PAY_6</th>\n",
       "      <td>23999.0</td>\n",
       "      <td>-0.285845</td>\n",
       "      <td>1.150394</td>\n",
       "      <td>-2.0</td>\n",
       "      <td>-1.0</td>\n",
       "      <td>0.0</td>\n",
       "      <td>0.0</td>\n",
       "      <td>8.0</td>\n",
       "    </tr>\n",
       "    <tr>\n",
       "      <th>BILL_AMT1</th>\n",
       "      <td>23999.0</td>\n",
       "      <td>51589.034710</td>\n",
       "      <td>74104.132627</td>\n",
       "      <td>-165580.0</td>\n",
       "      <td>3577.5</td>\n",
       "      <td>22472.0</td>\n",
       "      <td>67767.0</td>\n",
       "      <td>964511.0</td>\n",
       "    </tr>\n",
       "    <tr>\n",
       "      <th>BILL_AMT2</th>\n",
       "      <td>23999.0</td>\n",
       "      <td>49521.698112</td>\n",
       "      <td>71551.215125</td>\n",
       "      <td>-67526.0</td>\n",
       "      <td>2958.0</td>\n",
       "      <td>21290.0</td>\n",
       "      <td>64635.5</td>\n",
       "      <td>983931.0</td>\n",
       "    </tr>\n",
       "    <tr>\n",
       "      <th>BILL_AMT3</th>\n",
       "      <td>23999.0</td>\n",
       "      <td>47474.826368</td>\n",
       "      <td>70010.815328</td>\n",
       "      <td>-157264.0</td>\n",
       "      <td>2718.0</td>\n",
       "      <td>20223.0</td>\n",
       "      <td>60962.0</td>\n",
       "      <td>1664089.0</td>\n",
       "    </tr>\n",
       "    <tr>\n",
       "      <th>BILL_AMT4</th>\n",
       "      <td>23999.0</td>\n",
       "      <td>43796.589775</td>\n",
       "      <td>64927.450125</td>\n",
       "      <td>-170000.0</td>\n",
       "      <td>2392.5</td>\n",
       "      <td>19145.0</td>\n",
       "      <td>55418.0</td>\n",
       "      <td>891586.0</td>\n",
       "    </tr>\n",
       "    <tr>\n",
       "      <th>BILL_AMT5</th>\n",
       "      <td>23999.0</td>\n",
       "      <td>40748.049169</td>\n",
       "      <td>61257.537699</td>\n",
       "      <td>-81334.0</td>\n",
       "      <td>1801.0</td>\n",
       "      <td>18227.0</td>\n",
       "      <td>50581.0</td>\n",
       "      <td>927171.0</td>\n",
       "    </tr>\n",
       "    <tr>\n",
       "      <th>BILL_AMT6</th>\n",
       "      <td>23999.0</td>\n",
       "      <td>39226.852411</td>\n",
       "      <td>60075.536736</td>\n",
       "      <td>-339603.0</td>\n",
       "      <td>1280.0</td>\n",
       "      <td>17175.0</td>\n",
       "      <td>49434.5</td>\n",
       "      <td>961664.0</td>\n",
       "    </tr>\n",
       "    <tr>\n",
       "      <th>PAY_AMT1</th>\n",
       "      <td>23999.0</td>\n",
       "      <td>5687.720113</td>\n",
       "      <td>16698.506577</td>\n",
       "      <td>0.0</td>\n",
       "      <td>1000.0</td>\n",
       "      <td>2110.0</td>\n",
       "      <td>5020.0</td>\n",
       "      <td>873552.0</td>\n",
       "    </tr>\n",
       "    <tr>\n",
       "      <th>PAY_AMT2</th>\n",
       "      <td>23999.0</td>\n",
       "      <td>6019.571357</td>\n",
       "      <td>24541.362830</td>\n",
       "      <td>0.0</td>\n",
       "      <td>858.5</td>\n",
       "      <td>2012.0</td>\n",
       "      <td>5000.0</td>\n",
       "      <td>1684259.0</td>\n",
       "    </tr>\n",
       "    <tr>\n",
       "      <th>PAY_AMT3</th>\n",
       "      <td>23999.0</td>\n",
       "      <td>5253.322805</td>\n",
       "      <td>17967.028860</td>\n",
       "      <td>0.0</td>\n",
       "      <td>395.0</td>\n",
       "      <td>1809.0</td>\n",
       "      <td>4561.0</td>\n",
       "      <td>896040.0</td>\n",
       "    </tr>\n",
       "    <tr>\n",
       "      <th>PAY_AMT4</th>\n",
       "      <td>23999.0</td>\n",
       "      <td>4824.490687</td>\n",
       "      <td>15730.753527</td>\n",
       "      <td>0.0</td>\n",
       "      <td>300.0</td>\n",
       "      <td>1500.0</td>\n",
       "      <td>4089.0</td>\n",
       "      <td>621000.0</td>\n",
       "    </tr>\n",
       "    <tr>\n",
       "      <th>PAY_AMT5</th>\n",
       "      <td>23999.0</td>\n",
       "      <td>4825.033793</td>\n",
       "      <td>15596.580167</td>\n",
       "      <td>0.0</td>\n",
       "      <td>269.5</td>\n",
       "      <td>1500.0</td>\n",
       "      <td>4029.5</td>\n",
       "      <td>426529.0</td>\n",
       "    </tr>\n",
       "    <tr>\n",
       "      <th>PAY_AMT6</th>\n",
       "      <td>23999.0</td>\n",
       "      <td>5245.642943</td>\n",
       "      <td>17795.775322</td>\n",
       "      <td>0.0</td>\n",
       "      <td>125.0</td>\n",
       "      <td>1500.0</td>\n",
       "      <td>4008.0</td>\n",
       "      <td>528666.0</td>\n",
       "    </tr>\n",
       "    <tr>\n",
       "      <th>DEFAULT</th>\n",
       "      <td>23999.0</td>\n",
       "      <td>0.221176</td>\n",
       "      <td>0.415047</td>\n",
       "      <td>0.0</td>\n",
       "      <td>0.0</td>\n",
       "      <td>0.0</td>\n",
       "      <td>0.0</td>\n",
       "      <td>1.0</td>\n",
       "    </tr>\n",
       "  </tbody>\n",
       "</table>\n",
       "</div>"
      ],
      "text/plain": [
       "             count           mean            std       min      25%       50%  \\\n",
       "LIMIT_BAL  23999.0  167825.729405  129915.115993   10000.0  50000.0  140000.0   \n",
       "SEX        23999.0       1.603608       0.489158       1.0      1.0       2.0   \n",
       "EDUCATION  23999.0       1.856786       0.791939       0.0      1.0       2.0   \n",
       "MARRIAGE   23999.0       1.550773       0.522431       0.0      1.0       2.0   \n",
       "AGE        23999.0      35.523230       9.253986      21.0     28.0      34.0   \n",
       "PAY_1      23999.0      -0.014959       1.120903      -2.0     -1.0       0.0   \n",
       "PAY_2      23999.0      -0.134839       1.193044      -2.0     -1.0       0.0   \n",
       "PAY_3      23999.0      -0.165632       1.193515      -2.0     -1.0       0.0   \n",
       "PAY_4      23999.0      -0.217092       1.168719      -2.0     -1.0       0.0   \n",
       "PAY_5      23999.0      -0.261344       1.133016      -2.0     -1.0       0.0   \n",
       "PAY_6      23999.0      -0.285845       1.150394      -2.0     -1.0       0.0   \n",
       "BILL_AMT1  23999.0   51589.034710   74104.132627 -165580.0   3577.5   22472.0   \n",
       "BILL_AMT2  23999.0   49521.698112   71551.215125  -67526.0   2958.0   21290.0   \n",
       "BILL_AMT3  23999.0   47474.826368   70010.815328 -157264.0   2718.0   20223.0   \n",
       "BILL_AMT4  23999.0   43796.589775   64927.450125 -170000.0   2392.5   19145.0   \n",
       "BILL_AMT5  23999.0   40748.049169   61257.537699  -81334.0   1801.0   18227.0   \n",
       "BILL_AMT6  23999.0   39226.852411   60075.536736 -339603.0   1280.0   17175.0   \n",
       "PAY_AMT1   23999.0    5687.720113   16698.506577       0.0   1000.0    2110.0   \n",
       "PAY_AMT2   23999.0    6019.571357   24541.362830       0.0    858.5    2012.0   \n",
       "PAY_AMT3   23999.0    5253.322805   17967.028860       0.0    395.0    1809.0   \n",
       "PAY_AMT4   23999.0    4824.490687   15730.753527       0.0    300.0    1500.0   \n",
       "PAY_AMT5   23999.0    4825.033793   15596.580167       0.0    269.5    1500.0   \n",
       "PAY_AMT6   23999.0    5245.642943   17795.775322       0.0    125.0    1500.0   \n",
       "DEFAULT    23999.0       0.221176       0.415047       0.0      0.0       0.0   \n",
       "\n",
       "                75%        max  \n",
       "LIMIT_BAL  240000.0  1000000.0  \n",
       "SEX             2.0        2.0  \n",
       "EDUCATION       2.0        6.0  \n",
       "MARRIAGE        2.0        3.0  \n",
       "AGE            42.0       79.0  \n",
       "PAY_1           0.0        8.0  \n",
       "PAY_2           0.0        8.0  \n",
       "PAY_3           0.0        8.0  \n",
       "PAY_4           0.0        8.0  \n",
       "PAY_5           0.0        8.0  \n",
       "PAY_6           0.0        8.0  \n",
       "BILL_AMT1   67767.0   964511.0  \n",
       "BILL_AMT2   64635.5   983931.0  \n",
       "BILL_AMT3   60962.0  1664089.0  \n",
       "BILL_AMT4   55418.0   891586.0  \n",
       "BILL_AMT5   50581.0   927171.0  \n",
       "BILL_AMT6   49434.5   961664.0  \n",
       "PAY_AMT1     5020.0   873552.0  \n",
       "PAY_AMT2     5000.0  1684259.0  \n",
       "PAY_AMT3     4561.0   896040.0  \n",
       "PAY_AMT4     4089.0   621000.0  \n",
       "PAY_AMT5     4029.5   426529.0  \n",
       "PAY_AMT6     4008.0   528666.0  \n",
       "DEFAULT         0.0        1.0  "
      ]
     },
     "execution_count": 8,
     "metadata": {},
     "output_type": "execute_result"
    }
   ],
   "source": [
    "df.describe().transpose()"
   ]
  },
  {
   "cell_type": "code",
   "execution_count": 24,
   "metadata": {},
   "outputs": [],
   "source": [
    "for i in range(len(df)):\n",
    "    if df.EDUCATION[i] == 0 or df.EDUCATION[i] == 5 or df.EDUCATION[i] == 6:\n",
    "        df.EDUCATION[i] =4\n",
    "for i in range(len(df)):\n",
    "    if df.MARRIAGE[i] == 0:\n",
    "        df.MARRIAGE[i] == 3\n",
    "for i in range(len(df)):\n",
    "    if df.SEX[i] == 2:\n",
    "        df.SEX[i] = 0"
   ]
  },
  {
   "cell_type": "code",
   "execution_count": 25,
   "metadata": {},
   "outputs": [
    {
     "name": "stdout",
     "output_type": "stream",
     "text": [
      "2    11188\n",
      "1     8442\n",
      "3     3994\n",
      "4      375\n",
      "Name: EDUCATION, dtype: int64\n",
      "2    12735\n",
      "1    10958\n",
      "3      263\n",
      "0       43\n",
      "Name: MARRIAGE, dtype: int64\n",
      "0    14486\n",
      "1     9513\n",
      "Name: SEX, dtype: int64\n"
     ]
    }
   ],
   "source": [
    "print(df.EDUCATION.value_counts())\n",
    "print(df.MARRIAGE.value_counts())\n",
    "print(df.SEX.value_counts())"
   ]
  },
  {
   "cell_type": "code",
   "execution_count": 26,
   "metadata": {},
   "outputs": [
    {
     "data": {
      "text/html": [
       "<div>\n",
       "<style scoped>\n",
       "    .dataframe tbody tr th:only-of-type {\n",
       "        vertical-align: middle;\n",
       "    }\n",
       "\n",
       "    .dataframe tbody tr th {\n",
       "        vertical-align: top;\n",
       "    }\n",
       "\n",
       "    .dataframe thead th {\n",
       "        text-align: right;\n",
       "    }\n",
       "</style>\n",
       "<table border=\"1\" class=\"dataframe\">\n",
       "  <thead>\n",
       "    <tr style=\"text-align: right;\">\n",
       "      <th></th>\n",
       "      <th>count</th>\n",
       "      <th>mean</th>\n",
       "      <th>std</th>\n",
       "      <th>min</th>\n",
       "      <th>25%</th>\n",
       "      <th>50%</th>\n",
       "      <th>75%</th>\n",
       "      <th>max</th>\n",
       "    </tr>\n",
       "  </thead>\n",
       "  <tbody>\n",
       "    <tr>\n",
       "      <th>EDUCATION</th>\n",
       "      <td>23999.0</td>\n",
       "      <td>1.845910</td>\n",
       "      <td>0.746305</td>\n",
       "      <td>1.0</td>\n",
       "      <td>1.0</td>\n",
       "      <td>2.0</td>\n",
       "      <td>2.0</td>\n",
       "      <td>4.0</td>\n",
       "    </tr>\n",
       "    <tr>\n",
       "      <th>MARRIAGE</th>\n",
       "      <td>23999.0</td>\n",
       "      <td>1.550773</td>\n",
       "      <td>0.522431</td>\n",
       "      <td>0.0</td>\n",
       "      <td>1.0</td>\n",
       "      <td>2.0</td>\n",
       "      <td>2.0</td>\n",
       "      <td>3.0</td>\n",
       "    </tr>\n",
       "    <tr>\n",
       "      <th>SEX</th>\n",
       "      <td>23999.0</td>\n",
       "      <td>0.396392</td>\n",
       "      <td>0.489158</td>\n",
       "      <td>0.0</td>\n",
       "      <td>0.0</td>\n",
       "      <td>0.0</td>\n",
       "      <td>1.0</td>\n",
       "      <td>1.0</td>\n",
       "    </tr>\n",
       "  </tbody>\n",
       "</table>\n",
       "</div>"
      ],
      "text/plain": [
       "             count      mean       std  min  25%  50%  75%  max\n",
       "EDUCATION  23999.0  1.845910  0.746305  1.0  1.0  2.0  2.0  4.0\n",
       "MARRIAGE   23999.0  1.550773  0.522431  0.0  1.0  2.0  2.0  3.0\n",
       "SEX        23999.0  0.396392  0.489158  0.0  0.0  0.0  1.0  1.0"
      ]
     },
     "execution_count": 26,
     "metadata": {},
     "output_type": "execute_result"
    }
   ],
   "source": [
    "df[['EDUCATION', 'MARRIAGE', 'SEX']].describe().transpose()"
   ]
  },
  {
   "cell_type": "code",
   "execution_count": 27,
   "metadata": {},
   "outputs": [
    {
     "name": "stdout",
     "output_type": "stream",
     "text": [
      "Target Variable\n",
      "--------------------------------------------------------------------------------\n",
      "DEFAULT\n",
      "0    18691\n",
      "1     5308\n",
      "Name: DEFAULT, dtype: int64\n"
     ]
    },
    {
     "data": {
      "image/png": "[encoded data removed]",
      "text/plain": [
       "<Figure size 720x360 with 1 Axes>"
      ]
     },
     "metadata": {
      "needs_background": "light"
     },
     "output_type": "display_data"
    }
   ],
   "source": [
    "print('Target Variable')\n",
    "print(\"--\"*40)\n",
    "print(df.groupby(['DEFAULT']).DEFAULT.count())\n",
    "\n",
    "# Target Variable Countplot\n",
    "\n",
    "plt.figure(figsize = (10,5))\n",
    "sns.countplot(df['DEFAULT'], alpha =.80, palette= ['green','red'])\n",
    "plt.title('Diligent vs Default')\n",
    "plt.ylabel('# of Clients')\n",
    "plt.show();"
   ]
  },
  {
   "cell_type": "markdown",
   "metadata": {},
   "source": [
    "## FEATURE ENGINEERING "
   ]
  },
  {
   "cell_type": "code",
   "execution_count": 29,
   "metadata": {},
   "outputs": [],
   "source": [
    "# add +1 to every entry\n",
    "df['PAY_1'] = df['PAY_1'] + 1\n",
    "df['PAY_2'] = df['PAY_2'] + 1\n",
    "df['PAY_3'] = df['PAY_3'] + 1\n",
    "df['PAY_4'] = df['PAY_4'] + 1\n",
    "df['PAY_5'] = df['PAY_5'] + 1\n",
    "df['PAY_6'] = df['PAY_6'] + 1"
   ]
  },
  {
   "cell_type": "code",
   "execution_count": 33,
   "metadata": {},
   "outputs": [],
   "source": [
    "#split in two groups \n",
    "for i in range(len(df)):\n",
    "    if df.PAY_1[i] == -1 or df.PAY_1[i] == 0 or df.PAY_1[i] == 1:\n",
    "        df.PAY_1[i] = 0\n",
    "    else:\n",
    "        df.PAY_1[i] = 1\n",
    "\n",
    "for i in range(len(df)):\n",
    "    if df.PAY_2[i] == -1 or df.PAY_2[i] == 0 or df.PAY_2[i] == 1:\n",
    "        df.PAY_2[i] = 0\n",
    "    else:\n",
    "        df.PAY_2[i] = 1\n",
    "        \n",
    "for i in range(len(df)):\n",
    "    if df.PAY_3[i] == -1 or df.PAY_3[i] == 0 or df.PAY_3[i] == 1:\n",
    "        df.PAY_3[i] = 0\n",
    "    else:\n",
    "        df.PAY_3[i] = 1\n",
    "        \n",
    "for i in range(len(df)):\n",
    "    if df.PAY_4[i] == -1 or df.PAY_4[i] == 0 or df.PAY_4[i] == 1:\n",
    "        df.PAY_4[i] = 0\n",
    "    else:\n",
    "        df.PAY_4[i] = 1\n",
    "        \n",
    "for i in range(len(df)):\n",
    "    if df.PAY_5[i] == -1 or df.PAY_5[i] == 0 or df.PAY_5[i] == 1:\n",
    "        df.PAY_5[i] = 0\n",
    "    else:\n",
    "        df.PAY_5[i] = 1\n",
    "        \n",
    "for i in range(len(df)):\n",
    "    if df.PAY_6[i] == -1 or df.PAY_6[i] == 0 or df.PAY_6[i] == 1:\n",
    "        df.PAY_6[i] = 0\n",
    "    else:\n",
    "        df.PAY_6[i] = 1"
   ]
  },
  {
   "cell_type": "code",
   "execution_count": 44,
   "metadata": {},
   "outputs": [
    {
     "data": {
      "text/plain": [
       "LIMIT_BAL    30000\n",
       "SEX              0\n",
       "EDUCATION        2\n",
       "MARRIAGE         1\n",
       "AGE             50\n",
       "PAY_1            1\n",
       "PAY_2            1\n",
       "PAY_3            1\n",
       "PAY_4            1\n",
       "PAY_5            1\n",
       "PAY_6            1\n",
       "BILL_AMT1    21993\n",
       "BILL_AMT2    22634\n",
       "BILL_AMT3    23057\n",
       "BILL_AMT4    24506\n",
       "BILL_AMT5    24711\n",
       "BILL_AMT6    24178\n",
       "PAY_AMT1      1300\n",
       "PAY_AMT2      1082\n",
       "PAY_AMT3      2131\n",
       "PAY_AMT4       900\n",
       "PAY_AMT5         0\n",
       "PAY_AMT6      2200\n",
       "DEFAULT          1\n",
       "Name: 20004, dtype: int64"
      ]
     },
     "execution_count": 44,
     "metadata": {},
     "output_type": "execute_result"
    }
   ],
   "source": [
    "df.iloc[20004]"
   ]
  },
  {
   "cell_type": "code",
   "execution_count": 45,
   "metadata": {},
   "outputs": [],
   "source": [
    "#payment/bill ratio\n",
    "df['BILL_RATIO_SEP'] = df['PAY_AMT1']/df['BILL_AMT2']\n",
    "df['BILL_RATIO_AUG'] = df['PAY_AMT2']/df['BILL_AMT3']\n",
    "df['BILL_RATIO_JUL'] = df['PAY_AMT3']/df['BILL_AMT4']\n",
    "df['BILL_RATIO_JUN'] = df['PAY_AMT4']/df['BILL_AMT5']\n",
    "df['BILL_RATIO_MAY'] = df['PAY_AMT5']/df['BILL_AMT6']"
   ]
  },
  {
   "cell_type": "code",
   "execution_count": 48,
   "metadata": {},
   "outputs": [],
   "source": [
    "df.replace([np.inf, -np.inf], np.nan, inplace= True)"
   ]
  },
  {
   "cell_type": "code",
   "execution_count": 51,
   "metadata": {},
   "outputs": [],
   "source": [
    "df.fillna(0, inplace=True)"
   ]
  },
  {
   "cell_type": "code",
   "execution_count": 53,
   "metadata": {},
   "outputs": [],
   "source": [
    "df = df.drop(['BILL_AMT1', 'BILL_AMT2', 'BILL_AMT3', 'BILL_AMT4', 'BILL_AMT5', 'BILL_AMT6'], axis=1)\n",
    "df = df.drop(['PAY_AMT1', 'PAY_AMT2', 'PAY_AMT3', 'PAY_AMT4', 'PAY_AMT5', 'PAY_AMT6'], axis=1)"
   ]
  },
  {
   "cell_type": "code",
   "execution_count": 55,
   "metadata": {},
   "outputs": [],
   "source": [
    "#bin LIMIT_BAL\n",
    "labels = [0, 1, 2, 3, 4, 5]\n",
    "df['LIMIT_BAL'] = pd.cut(df['LIMIT_BAL'], bins=6, labels=labels)"
   ]
  },
  {
   "cell_type": "code",
   "execution_count": 62,
   "metadata": {},
   "outputs": [],
   "source": [
    "#dummie LIMIT_BAL, EDUCATION and MARRIAGE\n",
    "lim_dummies = pd.get_dummies(df.LIMIT_BAL, prefix=\"LIM\")\n",
    "edu_dummies = pd.get_dummies(df.EDUCATION, prefix=\"EDU\")\n",
    "marriage_dummies = pd.get_dummies(df.MARRIAGE, prefix=\"MAR\")"
   ]
  },
  {
   "cell_type": "code",
   "execution_count": 63,
   "metadata": {},
   "outputs": [],
   "source": [
    "df.drop(['LIMIT_BAL', 'MARRIAGE', 'EDUCATION'], axis=1, inplace=True)"
   ]
  },
  {
   "cell_type": "code",
   "execution_count": 64,
   "metadata": {},
   "outputs": [],
   "source": [
    "df = pd.concat([df, lim_dummies, edu_dummies, marriage_dummies], axis=1)"
   ]
  },
  {
   "cell_type": "code",
   "execution_count": 71,
   "metadata": {},
   "outputs": [],
   "source": [
    "df.drop(['AGE'], axis=1, inplace=True)"
   ]
  },
  {
   "cell_type": "markdown",
   "metadata": {},
   "source": [
    "## MODELING "
   ]
  },
  {
   "cell_type": "code",
   "execution_count": 67,
   "metadata": {},
   "outputs": [],
   "source": [
    "from sklearn.model_selection import train_test_split\n",
    "from sklearn.metrics import accuracy_score, f1_score, precision_score\n",
    "from sklearn.metrics import confusion_matrix\n",
    "from sklearn.metrics import classification_report"
   ]
  },
  {
   "cell_type": "code",
   "execution_count": 72,
   "metadata": {},
   "outputs": [],
   "source": [
    "X = df.drop(['DEFAULT'], axis=1)\n",
    "y = df.DEFAULT"
   ]
  },
  {
   "cell_type": "code",
   "execution_count": 76,
   "metadata": {},
   "outputs": [],
   "source": [
    "X_train, X_test, y_train, y_test = train_test_split(X, y, random_state=999, test_size=0.25) "
   ]
  },
  {
   "cell_type": "code",
   "execution_count": null,
   "metadata": {},
   "outputs": [],
   "source": []
  },
  {
   "cell_type": "code",
   "execution_count": 80,
   "metadata": {},
   "outputs": [],
   "source": [
    "from sklearn.feature_selection import SelectKBest\n",
    "from sklearn.feature_selection import  chi2, f_classif, mutual_info_classif\n",
    "from sklearn.feature_selection import f_regression,mutual_info_regression"
   ]
  },
  {
   "cell_type": "code",
   "execution_count": 81,
   "metadata": {},
   "outputs": [
    {
     "name": "stderr",
     "output_type": "stream",
     "text": [
      "/anaconda3/envs/learn-env/lib/python3.6/site-packages/sklearn/feature_selection/univariate_selection.py:299: RuntimeWarning: invalid value encountered in true_divide\n",
      "  corr /= X_norms\n",
      "/anaconda3/envs/learn-env/lib/python3.6/site-packages/scipy/stats/_distn_infrastructure.py:877: RuntimeWarning: invalid value encountered in greater\n",
      "  return (self.a < x) & (x < self.b)\n",
      "/anaconda3/envs/learn-env/lib/python3.6/site-packages/scipy/stats/_distn_infrastructure.py:877: RuntimeWarning: invalid value encountered in less\n",
      "  return (self.a < x) & (x < self.b)\n",
      "/anaconda3/envs/learn-env/lib/python3.6/site-packages/scipy/stats/_distn_infrastructure.py:1831: RuntimeWarning: invalid value encountered in less_equal\n",
      "  cond2 = cond0 & (x <= self.a)\n"
     ]
    },
    {
     "data": {
      "text/plain": [
       "SelectKBest(k=15, score_func=<function f_regression at 0x1a258958c8>)"
      ]
     },
     "execution_count": 81,
     "metadata": {},
     "output_type": "execute_result"
    }
   ],
   "source": [
    "selector = SelectKBest(f_regression, k=15)\n",
    "\n",
    "selector.fit(X_train, y_train)"
   ]
  },
  {
   "cell_type": "code",
   "execution_count": 82,
   "metadata": {},
   "outputs": [],
   "source": [
    "selected_columns = X_train.columns[selector.get_support()]\n",
    "removed_columns = X_train.columns[~selector.get_support()]"
   ]
  },
  {
   "cell_type": "code",
   "execution_count": 84,
   "metadata": {},
   "outputs": [
    {
     "data": {
      "text/plain": [
       "(Index(['SEX', 'PAY_1', 'PAY_2', 'PAY_3', 'PAY_4', 'PAY_5', 'PAY_6', 'LIM_0',\n",
       "        'LIM_1', 'LIM_2', 'EDU_1', 'EDU_2', 'EDU_3', 'EDU_4', 'MAR_2'],\n",
       "       dtype='object'),\n",
       " Index(['BILL_RATIO_SEP', 'BILL_RATIO_AUG', 'BILL_RATIO_JUL', 'BILL_RATIO_JUN',\n",
       "        'BILL_RATIO_MAY', 'LIM_3', 'LIM_4', 'LIM_5', 'MAR_0', 'MAR_1', 'MAR_3'],\n",
       "       dtype='object'))"
      ]
     },
     "execution_count": 84,
     "metadata": {},
     "output_type": "execute_result"
    }
   ],
   "source": [
    "#not implemented into X_train yet \n",
    "selected_columns, removed_columns"
   ]
  },
  {
   "cell_type": "code",
   "execution_count": 86,
   "metadata": {},
   "outputs": [],
   "source": [
    "#scale\n",
    "from sklearn.preprocessing import StandardScaler"
   ]
  },
  {
   "cell_type": "code",
   "execution_count": 88,
   "metadata": {},
   "outputs": [],
   "source": [
    "scaler = StandardScaler()\n",
    "\n",
    "scaler.fit(X_train)\n",
    "X_train = scaler.transform(X_train)\n",
    "\n",
    "scaler.fit(X_test)\n",
    "X_test = scaler.transform(X_test)"
   ]
  },
  {
   "cell_type": "markdown",
   "metadata": {},
   "source": [
    "## KNN"
   ]
  },
  {
   "cell_type": "code",
   "execution_count": 89,
   "metadata": {},
   "outputs": [],
   "source": [
    "from sklearn.neighbors import KNeighborsClassifier"
   ]
  },
  {
   "cell_type": "code",
   "execution_count": 90,
   "metadata": {},
   "outputs": [
    {
     "data": {
      "image/png": "[encoded data removed]",
      "text/plain": [
       "<Figure size 864x432 with 1 Axes>"
      ]
     },
     "metadata": {
      "needs_background": "light"
     },
     "output_type": "display_data"
    },
    {
     "name": "stdout",
     "output_type": "stream",
     "text": [
      "F1_score max:0.4133 where K: 19\n"
     ]
    }
   ],
   "source": [
    "k_scores = []\n",
    "k_range= list(range(1, 50, 2))\n",
    "for k in k_range:\n",
    "    knn = KNeighborsClassifier(n_neighbors = k, p=2)\n",
    "    knn.fit(X_train, y_train)\n",
    "    y_pred_k = knn.predict(X_test)\n",
    "    k_scores.append(f1_score(y_test, y_pred_k, pos_label= 1))\n",
    "\n",
    "# plot\n",
    "plt.figure(figsize=(12, 6))  \n",
    "plt.plot(k_range, k_scores, color='green', linestyle=':', marker='o',  \n",
    "         markerfacecolor='red', markersize=5)\n",
    "plt.title('F1 score by K Value')  \n",
    "plt.xlabel('K Value')  \n",
    "plt.ylabel('F1 Score') \n",
    "plt.show()\n",
    "\n",
    "# display parametrs \n",
    "print(f'F1_score max:{round(max(k_scores), 4)} where K: {(k_scores.index(max(k_scores))+1)*2 - 1}')\n",
    "k= (k_scores.index(max(k_scores))+1)*2 - 1"
   ]
  },
  {
   "cell_type": "code",
   "execution_count": 92,
   "metadata": {},
   "outputs": [
    {
     "name": "stdout",
     "output_type": "stream",
     "text": [
      "TEST_#__: KNN\n",
      "------------------------------------------------------------\n",
      "F1_score for train set: 0.464\n",
      "F1_score for test set: 0.413\n",
      "------------------------------------------------------------\n",
      "CONFUSION_MATRIX\n",
      "------------------------------------------------------------\n",
      "[[4422  286]\n",
      " [ 881  411]]\n",
      "------------------------------------------------------------\n",
      "CLASSIFICATION_REPORT\n",
      "------------------------------------------------------------\n",
      "              precision    recall  f1-score   support\n",
      "\n",
      "           0       0.83      0.94      0.88      4708\n",
      "           1       0.59      0.32      0.41      1292\n",
      "\n",
      "    accuracy                           0.81      6000\n",
      "   macro avg       0.71      0.63      0.65      6000\n",
      "weighted avg       0.78      0.81      0.78      6000\n",
      "\n",
      "------------------------------------------------------------\n"
     ]
    }
   ],
   "source": [
    "# instantiate a model\n",
    "knn= KNeighborsClassifier(n_neighbors= k, p=2)\n",
    "\n",
    "# train a model\n",
    "knn= knn.fit(X_train, y_train)\n",
    "\n",
    "# predict on test set\n",
    "y_pred= knn.predict(X_test)\n",
    "\n",
    "print('TEST_#__: KNN')\n",
    "print('--'*30)\n",
    "print(f'F1_score for train set: {round(f1_score(y_train, knn.predict(X_train)), 3)}')\n",
    "print(f'F1_score for test set: {round(f1_score(y_test, knn.predict(X_test)), 3)}')\n",
    "print('--'*30)\n",
    "print('CONFUSION_MATRIX')\n",
    "print('--'*30)\n",
    "print(confusion_matrix(y_test, y_pred))\n",
    "print('--'*30)\n",
    "print('CLASSIFICATION_REPORT')\n",
    "print('--'*30)\n",
    "print(classification_report(y_test, y_pred, output_dict= False))\n",
    "print('--'*30)\n",
    "\n",
    "p0t1= round(f1_score(y_test, y_pred), 3)\n",
    "k01= knn.get_params()['n_neighbors']"
   ]
  },
  {
   "cell_type": "markdown",
   "metadata": {},
   "source": [
    "## LOGISTIC REGRESSION"
   ]
  },
  {
   "cell_type": "code",
   "execution_count": 93,
   "metadata": {},
   "outputs": [],
   "source": [
    "# import a model\n",
    "from sklearn.linear_model import LogisticRegression"
   ]
  },
  {
   "cell_type": "code",
   "execution_count": 94,
   "metadata": {},
   "outputs": [
    {
     "name": "stdout",
     "output_type": "stream",
     "text": [
      "TEST_#__: LOGISTIC_REGRESSION\n",
      "------------------------------------------------------------\n",
      "F1_score for train set: 0.404\n",
      "F1_score for test set: 0.391\n",
      "------------------------------------------------------------\n",
      "CONFUSION_MATRIX\n",
      "------------------------------------------------------------\n",
      "[[4492  216]\n",
      " [ 925  367]]\n",
      "------------------------------------------------------------\n",
      "CLASSIFICATION_REPORT\n",
      "------------------------------------------------------------\n",
      "              precision    recall  f1-score   support\n",
      "\n",
      "           0       0.83      0.95      0.89      4708\n",
      "           1       0.63      0.28      0.39      1292\n",
      "\n",
      "    accuracy                           0.81      6000\n",
      "   macro avg       0.73      0.62      0.64      6000\n",
      "weighted avg       0.79      0.81      0.78      6000\n",
      "\n",
      "------------------------------------------------------------\n"
     ]
    },
    {
     "name": "stderr",
     "output_type": "stream",
     "text": [
      "/anaconda3/envs/learn-env/lib/python3.6/site-packages/sklearn/linear_model/sag.py:337: ConvergenceWarning: The max_iter was reached which means the coef_ did not converge\n",
      "  \"the coef_ did not converge\", ConvergenceWarning)\n"
     ]
    }
   ],
   "source": [
    "#instantiate a model\n",
    "logreg= LogisticRegression(solver= 'saga')\n",
    "\n",
    "#train a model\n",
    "logreg= logreg.fit(X_train, y_train)\n",
    "\n",
    "#predict\n",
    "y_pred= logreg.predict(X_test)\n",
    "\n",
    "print('TEST_#__: LOGISTIC_REGRESSION')\n",
    "print('--'*30)\n",
    "print(f'F1_score for train set: {round(f1_score(y_train, logreg.predict(X_train)), 3)}')\n",
    "print(f'F1_score for test set: {round(f1_score(y_test, logreg.predict(X_test)), 3)}')\n",
    "print('--'*30)\n",
    "print('CONFUSION_MATRIX')\n",
    "print('--'*30)\n",
    "print(confusion_matrix(y_test, y_pred))\n",
    "print('--'*30)\n",
    "print('CLASSIFICATION_REPORT')\n",
    "print('--'*30)\n",
    "print(classification_report(y_test, y_pred, output_dict= False))\n",
    "print('--'*30)\n",
    "\n",
    "p0t2= round(f1_score(y_test, y_pred), 3)"
   ]
  },
  {
   "cell_type": "markdown",
   "metadata": {},
   "source": [
    "## DECISION TREE"
   ]
  },
  {
   "cell_type": "code",
   "execution_count": 95,
   "metadata": {},
   "outputs": [],
   "source": [
    "from sklearn.tree import DecisionTreeClassifier"
   ]
  },
  {
   "cell_type": "code",
   "execution_count": 99,
   "metadata": {},
   "outputs": [
    {
     "name": "stderr",
     "output_type": "stream",
     "text": [
      "/anaconda3/envs/learn-env/lib/python3.6/site-packages/sklearn/metrics/classification.py:1437: UndefinedMetricWarning: F-score is ill-defined and being set to 0.0 due to no predicted samples.\n",
      "  'precision', 'predicted', average, warn_for)\n"
     ]
    },
    {
     "data": {
      "image/png": "[encoded data removed]",
      "text/plain": [
       "<Figure size 864x432 with 1 Axes>"
      ]
     },
     "metadata": {
      "needs_background": "light"
     },
     "output_type": "display_data"
    },
    {
     "name": "stdout",
     "output_type": "stream",
     "text": [
      "f1_score max:0.4932 where D: 1\n"
     ]
    }
   ],
   "source": [
    "# loop to find depth\n",
    "depth_scores = []\n",
    "depth_range= list(range(1, 20, 2))\n",
    "for d in depth_range:\n",
    "    dtree= DecisionTreeClassifier(criterion='gini', max_depth= d, splitter= 'best')\n",
    "    dtree.fit(X_train, y_train)\n",
    "    y_pred_d = dtree.predict(X_test)\n",
    "    depth_scores.append(f1_score(y_test, y_pred_d, pos_label= 1))\n",
    "\n",
    "# plot\n",
    "plt.figure(figsize=(12, 6))  \n",
    "plt.plot(depth_range, depth_scores, color='green', linestyle=':', marker='o',  \n",
    "         markerfacecolor='red', markersize=5)\n",
    "plt.title('F1 score by Depth Score')  \n",
    "plt.xlabel('Depth Score')  \n",
    "plt.ylabel('F1 Score') \n",
    "plt.show()\n",
    "\n",
    "# display parametrs \n",
    "print(f'f1_score max:{round(max(depth_scores), 4)} where D: {(depth_scores.index(max(depth_scores))+1)*2 - 1}')\n",
    "d= (depth_scores.index(max(depth_scores))+1)*2 - 1"
   ]
  },
  {
   "cell_type": "code",
   "execution_count": 100,
   "metadata": {},
   "outputs": [
    {
     "name": "stdout",
     "output_type": "stream",
     "text": [
      "TEST_#__: DECISION_TREE\n",
      "------------------------------------------------------------\n",
      "F1_score for train set: 0.509\n",
      "F1_score for test set: 0.493\n",
      "------------------------------------------------------------\n",
      "CONFUSION_MATRIX\n",
      "------------------------------------------------------------\n",
      "[[4014  694]\n",
      " [ 642  650]]\n",
      "------------------------------------------------------------\n",
      "CLASSIFICATION_REPORT\n",
      "------------------------------------------------------------\n",
      "              precision    recall  f1-score   support\n",
      "\n",
      "           0       0.86      0.85      0.86      4708\n",
      "           1       0.48      0.50      0.49      1292\n",
      "\n",
      "    accuracy                           0.78      6000\n",
      "   macro avg       0.67      0.68      0.68      6000\n",
      "weighted avg       0.78      0.78      0.78      6000\n",
      "\n",
      "------------------------------------------------------------\n"
     ]
    }
   ],
   "source": [
    "# instantiate a model\n",
    "dtree= DecisionTreeClassifier(criterion='gini', max_depth= d, splitter= 'best')\n",
    "\n",
    "#train a model\n",
    "dtree= dtree.fit(X_train, y_train)\n",
    "\n",
    "# predict\n",
    "y_pred= dtree.predict(X_test)\n",
    "\n",
    "print('TEST_#__: DECISION_TREE')\n",
    "print('--'*30)\n",
    "print(f'F1_score for train set: {round(f1_score(y_train, dtree.predict(X_train)), 3)}')\n",
    "print(f'F1_score for test set: {round(f1_score(y_test, dtree.predict(X_test)), 3)}')\n",
    "print('--'*30)\n",
    "print('CONFUSION_MATRIX')\n",
    "print('--'*30)\n",
    "print(confusion_matrix(y_test, y_pred))\n",
    "print('--'*30)\n",
    "print('CLASSIFICATION_REPORT')\n",
    "print('--'*30)\n",
    "print(classification_report(y_test, y_pred, output_dict= False))\n",
    "print('--'*30)\n",
    "\n",
    "p0t3= round(f1_score(y_test, y_pred), 3)\n",
    "d03= dtree.get_params()['max_depth']"
   ]
  },
  {
   "cell_type": "markdown",
   "metadata": {},
   "source": [
    "### HANDLING IMBALANCES"
   ]
  },
  {
   "cell_type": "code",
   "execution_count": 104,
   "metadata": {},
   "outputs": [
    {
     "data": {
      "text/plain": [
       "Index(['BILL_RATIO_SEP', 'BILL_RATIO_AUG', 'BILL_RATIO_JUL', 'BILL_RATIO_JUN',\n",
       "       'BILL_RATIO_MAY', 'LIM_3', 'LIM_4', 'LIM_5', 'MAR_0', 'MAR_1', 'MAR_3'],\n",
       "      dtype='object')"
      ]
     },
     "execution_count": 104,
     "metadata": {},
     "output_type": "execute_result"
    }
   ],
   "source": [
    "removed_columns"
   ]
  },
  {
   "cell_type": "code",
   "execution_count": 106,
   "metadata": {},
   "outputs": [],
   "source": [
    "X= df.drop(['DEFAULT', 'BILL_RATIO_SEP', 'BILL_RATIO_AUG', 'BILL_RATIO_JUL', 'BILL_RATIO_JUN',\n",
    "       'BILL_RATIO_MAY', 'LIM_3', 'LIM_4', 'LIM_5', 'MAR_0', 'MAR_1', 'MAR_3'], axis=1)\n",
    "y= df['DEFAULT']"
   ]
  },
  {
   "cell_type": "code",
   "execution_count": 108,
   "metadata": {},
   "outputs": [],
   "source": [
    "X_train, X_test, y_train, y_test= train_test_split(X, y, random_state= 999, test_size= .33)"
   ]
  },
  {
   "cell_type": "code",
   "execution_count": 109,
   "metadata": {},
   "outputs": [
    {
     "name": "stdout",
     "output_type": "stream",
     "text": [
      "zero count: 12496\n",
      "one count: 3583\n"
     ]
    }
   ],
   "source": [
    "# concatenate our training data back together\n",
    "temp= pd.concat([X_train, y_train], axis=1)\n",
    "\n",
    "# separate minority and majority classes\n",
    "zero = temp[temp['DEFAULT']==0]\n",
    "one = temp[temp['DEFAULT']==1]\n",
    "\n",
    "# get a class count to understand the class imbalance.\n",
    "print('zero count: '+ str(len(zero)))\n",
    "print('one count: '+ str(len(one)))"
   ]
  },
  {
   "cell_type": "markdown",
   "metadata": {},
   "source": [
    "## UPSAMPLING"
   ]
  },
  {
   "cell_type": "code",
   "execution_count": 110,
   "metadata": {},
   "outputs": [],
   "source": [
    "from sklearn.utils import resample"
   ]
  },
  {
   "cell_type": "code",
   "execution_count": 111,
   "metadata": {},
   "outputs": [
    {
     "name": "stdout",
     "output_type": "stream",
     "text": [
      "1    12496\n",
      "0    12496\n",
      "Name: DEFAULT, dtype: int64\n"
     ]
    }
   ],
   "source": [
    "# upsample minority\n",
    "one_upsampled = resample(one, replace=True, n_samples=len(zero), random_state=999)\n",
    "\n",
    "# combine majority and upsampled minority\n",
    "upsampled = pd.concat([zero, one_upsampled])\n",
    "\n",
    "# check new class counts\n",
    "print(upsampled['DEFAULT'].value_counts())\n",
    "\n",
    "# try a model again with the balanced dataset\n",
    "y_train = upsampled['DEFAULT']\n",
    "X_train = upsampled.drop(['DEFAULT'], axis=1)"
   ]
  },
  {
   "cell_type": "code",
   "execution_count": 112,
   "metadata": {},
   "outputs": [],
   "source": [
    "#scaling \n",
    "scaler= StandardScaler()\n",
    "scaler.fit(X_train)\n",
    "X_train= scaler.transform(X_train)\n",
    "\n",
    "scaler.fit(X_test)\n",
    "X_test= scaler.transform(X_test)"
   ]
  },
  {
   "cell_type": "markdown",
   "metadata": {},
   "source": [
    "## UPSAMPLING KNN"
   ]
  },
  {
   "cell_type": "code",
   "execution_count": 126,
   "metadata": {},
   "outputs": [
    {
     "data": {
      "image/png": "[encoded data removed]",
      "text/plain": [
       "<Figure size 864x432 with 1 Axes>"
      ]
     },
     "metadata": {
      "needs_background": "light"
     },
     "output_type": "display_data"
    },
    {
     "name": "stdout",
     "output_type": "stream",
     "text": [
      "F1_score max:0.5202 where K: 83\n"
     ]
    }
   ],
   "source": [
    "# loop to find k\n",
    "k_scores = []\n",
    "k_range= list(range(1, 100, 2))\n",
    "for k in k_range:\n",
    "    knn = KNeighborsClassifier(n_neighbors = k, p=2)\n",
    "    knn.fit(X_train, y_train)\n",
    "    y_pred_k = knn.predict(X_test)\n",
    "    k_scores.append(f1_score(y_test, y_pred_k, pos_label= 1))\n",
    "\n",
    "# plot\n",
    "plt.figure(figsize=(12, 6))  \n",
    "plt.plot(k_range, k_scores, color='green', linestyle=':', marker='o',  \n",
    "         markerfacecolor='red', markersize=5)\n",
    "plt.title('F1 score by K Value')  \n",
    "plt.xlabel('K Value')  \n",
    "plt.ylabel('F1 Score') \n",
    "plt.show()\n",
    "\n",
    "# display parametrs \n",
    "print(f'F1_score max:{round(max(k_scores), 4)} where K: {(k_scores.index(max(k_scores))+1)*2 - 1}')\n",
    "k= (k_scores.index(max(k_scores))+1)*2 - 1"
   ]
  },
  {
   "cell_type": "code",
   "execution_count": 114,
   "metadata": {},
   "outputs": [
    {
     "name": "stdout",
     "output_type": "stream",
     "text": [
      "TEST_#__: KNN\n",
      "------------------------------------------------------------\n",
      "F1_score for train set: 0.664\n",
      "F1_score for test set: 0.52\n",
      "------------------------------------------------------------\n",
      "CONFUSION_MATRIX\n",
      "------------------------------------------------------------\n",
      "[[4981 1214]\n",
      " [ 692 1033]]\n",
      "------------------------------------------------------------\n",
      "CLASSIFICATION_REPORT\n",
      "------------------------------------------------------------\n",
      "              precision    recall  f1-score   support\n",
      "\n",
      "           0       0.88      0.80      0.84      6195\n",
      "           1       0.46      0.60      0.52      1725\n",
      "\n",
      "    accuracy                           0.76      7920\n",
      "   macro avg       0.67      0.70      0.68      7920\n",
      "weighted avg       0.79      0.76      0.77      7920\n",
      "\n",
      "------------------------------------------------------------\n"
     ]
    }
   ],
   "source": [
    "# instantiate a model\n",
    "knn= KNeighborsClassifier(n_neighbors= k, p=2)\n",
    "\n",
    "# train a model\n",
    "knn= knn.fit(X_train, y_train)\n",
    "\n",
    "# predict on test set\n",
    "y_pred= knn.predict(X_test)\n",
    "\n",
    "print('TEST_#__: KNN')\n",
    "print('--'*30)\n",
    "print(f'F1_score for train set: {round(f1_score(y_train, knn.predict(X_train)), 3)}')\n",
    "print(f'F1_score for test set: {round(f1_score(y_test, knn.predict(X_test)), 3)}')\n",
    "print('--'*30)\n",
    "print('CONFUSION_MATRIX')\n",
    "print('--'*30)\n",
    "print(confusion_matrix(y_test, y_pred))\n",
    "print('--'*30)\n",
    "print('CLASSIFICATION_REPORT')\n",
    "print('--'*30)\n",
    "print(classification_report(y_test, y_pred, output_dict= False))\n",
    "print('--'*30)\n",
    "\n",
    "p1t1= round(f1_score(y_test, y_pred), 3)\n",
    "k04= knn.get_params()['n_neighbors']"
   ]
  },
  {
   "cell_type": "markdown",
   "metadata": {},
   "source": [
    "## UPSAMPLING LOGISTIC REGRESSION"
   ]
  },
  {
   "cell_type": "code",
   "execution_count": 115,
   "metadata": {},
   "outputs": [
    {
     "name": "stdout",
     "output_type": "stream",
     "text": [
      "TEST_#__: LOGISTIC_REGRESSION\n",
      "------------------------------------------------------------\n",
      "F1_score for train set: 0.663\n",
      "F1_score for test set: 0.517\n",
      "------------------------------------------------------------\n",
      "CONFUSION_MATRIX\n",
      "------------------------------------------------------------\n",
      "[[4875 1320]\n",
      " [ 663 1062]]\n",
      "------------------------------------------------------------\n",
      "CLASSIFICATION_REPORT\n",
      "------------------------------------------------------------\n",
      "              precision    recall  f1-score   support\n",
      "\n",
      "           0       0.88      0.79      0.83      6195\n",
      "           1       0.45      0.62      0.52      1725\n",
      "\n",
      "    accuracy                           0.75      7920\n",
      "   macro avg       0.66      0.70      0.67      7920\n",
      "weighted avg       0.79      0.75      0.76      7920\n",
      "\n",
      "------------------------------------------------------------\n"
     ]
    }
   ],
   "source": [
    "#instantiate a model\n",
    "logreg= LogisticRegression(solver= 'saga')\n",
    "\n",
    "#train a model\n",
    "logreg= logreg.fit(X_train, y_train)\n",
    "\n",
    "#predict\n",
    "y_pred= logreg.predict(X_test)\n",
    "\n",
    "print('TEST_#__: LOGISTIC_REGRESSION')\n",
    "print('--'*30)\n",
    "print(f'F1_score for train set: {round(f1_score(y_train, logreg.predict(X_train)), 3)}')\n",
    "print(f'F1_score for test set: {round(f1_score(y_test, logreg.predict(X_test)), 3)}')\n",
    "print('--'*30)\n",
    "print('CONFUSION_MATRIX')\n",
    "print('--'*30)\n",
    "print(confusion_matrix(y_test, y_pred))\n",
    "print('--'*30)\n",
    "print('CLASSIFICATION_REPORT')\n",
    "print('--'*30)\n",
    "print(classification_report(y_test, y_pred, output_dict= False))\n",
    "print('--'*30)\n",
    "\n",
    "p1t2= round(f1_score(y_test, y_pred), 3)"
   ]
  },
  {
   "cell_type": "markdown",
   "metadata": {},
   "source": [
    "## UPSAMPLING DECISION TREE"
   ]
  },
  {
   "cell_type": "code",
   "execution_count": 116,
   "metadata": {},
   "outputs": [
    {
     "data": {
      "image/png": "[encoded data removed]",
      "text/plain": [
       "<Figure size 864x432 with 1 Axes>"
      ]
     },
     "metadata": {
      "needs_background": "light"
     },
     "output_type": "display_data"
    },
    {
     "name": "stdout",
     "output_type": "stream",
     "text": [
      "f1_score max:0.5158 where D: 5\n"
     ]
    }
   ],
   "source": [
    "# loop to find depth\n",
    "depth_scores = []\n",
    "depth_range= list(range(1, 20, 2))\n",
    "for d in depth_range:\n",
    "    dtree= DecisionTreeClassifier(max_depth= d, splitter= 'best')\n",
    "    dtree.fit(X_train, y_train)\n",
    "    y_pred_d = dtree.predict(X_test)\n",
    "    depth_scores.append(f1_score(y_test, y_pred_d, pos_label= 1))\n",
    "\n",
    "# plot\n",
    "plt.figure(figsize=(12, 6))  \n",
    "plt.plot(depth_range, depth_scores, color='green', linestyle=':', marker='o',  \n",
    "         markerfacecolor='red', markersize=5)\n",
    "plt.title('F1 score by Depth Score')  \n",
    "plt.xlabel('Depth Score')  \n",
    "plt.ylabel('F1 Score') \n",
    "plt.show()\n",
    "\n",
    "# display parametrs \n",
    "print(f'f1_score max:{round(max(depth_scores), 4)} where D: {(depth_scores.index(max(depth_scores))+1)*2 - 1}')\n",
    "d= (depth_scores.index(max(depth_scores))+1)*2 - 1"
   ]
  },
  {
   "cell_type": "code",
   "execution_count": 117,
   "metadata": {},
   "outputs": [
    {
     "name": "stdout",
     "output_type": "stream",
     "text": [
      "TEST_#__: DECISION_TREE\n",
      "------------------------------------------------------------\n",
      "F1_score for train set: 0.681\n",
      "F1_score for test set: 0.516\n",
      "------------------------------------------------------------\n",
      "CONFUSION_MATRIX\n",
      "------------------------------------------------------------\n",
      "[[4913 1282]\n",
      " [ 680 1045]]\n",
      "------------------------------------------------------------\n",
      "CLASSIFICATION_REPORT\n",
      "------------------------------------------------------------\n",
      "              precision    recall  f1-score   support\n",
      "\n",
      "           0       0.88      0.79      0.83      6195\n",
      "           1       0.45      0.61      0.52      1725\n",
      "\n",
      "    accuracy                           0.75      7920\n",
      "   macro avg       0.66      0.70      0.67      7920\n",
      "weighted avg       0.78      0.75      0.76      7920\n",
      "\n",
      "------------------------------------------------------------\n"
     ]
    }
   ],
   "source": [
    "# instantiate a model\n",
    "dtree= DecisionTreeClassifier(criterion='gini', max_depth= d, splitter= 'best')\n",
    "\n",
    "#train a model\n",
    "dtree= dtree.fit(X_train, y_train)\n",
    "\n",
    "# predict\n",
    "y_pred= dtree.predict(X_test)\n",
    "\n",
    "print('TEST_#__: DECISION_TREE')\n",
    "print('--'*30)\n",
    "print(f'F1_score for train set: {round(f1_score(y_train, dtree.predict(X_train)), 3)}')\n",
    "print(f'F1_score for test set: {round(f1_score(y_test, dtree.predict(X_test)), 3)}')\n",
    "print('--'*30)\n",
    "print('CONFUSION_MATRIX')\n",
    "print('--'*30)\n",
    "print(confusion_matrix(y_test, y_pred))\n",
    "print('--'*30)\n",
    "print('CLASSIFICATION_REPORT')\n",
    "print('--'*30)\n",
    "print(classification_report(y_test, y_pred, output_dict= False))\n",
    "print('--'*30)\n",
    "\n",
    "p1t3= round(f1_score(y_test, y_pred), 3)\n",
    "d06= dtree.get_params()['max_depth']"
   ]
  },
  {
   "cell_type": "markdown",
   "metadata": {},
   "source": [
    "## DOWNSAMPLING"
   ]
  },
  {
   "cell_type": "code",
   "execution_count": 118,
   "metadata": {},
   "outputs": [
    {
     "name": "stdout",
     "output_type": "stream",
     "text": [
      "1    3583\n",
      "0    3583\n",
      "Name: DEFAULT, dtype: int64\n"
     ]
    }
   ],
   "source": [
    "# downsample majority\n",
    "one_downsampled = resample(zero, replace = False, n_samples = len(one), random_state = 999)\n",
    "\n",
    "# combine minority and downsampled majority\n",
    "downsampled = pd.concat([one_downsampled, one])\n",
    "\n",
    "# checking counts\n",
    "print(downsampled['DEFAULT'].value_counts())\n",
    "\n",
    "# trying a model again with the balanced dataset\n",
    "y_train = downsampled['DEFAULT']\n",
    "X_train = downsampled.drop(['DEFAULT'], axis=1)"
   ]
  },
  {
   "cell_type": "code",
   "execution_count": 119,
   "metadata": {},
   "outputs": [],
   "source": [
    "scaler= StandardScaler()\n",
    "scaler.fit(X_train)\n",
    "X_train= scaler.transform(X_train)\n",
    "scaler.fit(X_test)\n",
    "X_test= scaler.transform(X_test)"
   ]
  },
  {
   "cell_type": "markdown",
   "metadata": {},
   "source": [
    "## DOWNSAMPLING KNN"
   ]
  },
  {
   "cell_type": "code",
   "execution_count": 120,
   "metadata": {},
   "outputs": [
    {
     "data": {
      "image/png": "[encoded data removed]",
      "text/plain": [
       "<Figure size 864x432 with 1 Axes>"
      ]
     },
     "metadata": {
      "needs_background": "light"
     },
     "output_type": "display_data"
    },
    {
     "name": "stdout",
     "output_type": "stream",
     "text": [
      "F1_score max:0.5197 where K: 45\n"
     ]
    }
   ],
   "source": [
    "# loop to find k\n",
    "k_scores = []\n",
    "k_range= list(range(1, 50, 2))\n",
    "for k in k_range:\n",
    "    knn = KNeighborsClassifier(n_neighbors = k, p=2)\n",
    "    knn.fit(X_train, y_train)\n",
    "    y_pred_k = knn.predict(X_test)\n",
    "    k_scores.append(f1_score(y_test, y_pred_k, pos_label= 1))\n",
    "\n",
    "# plot\n",
    "plt.figure(figsize=(12, 6))  \n",
    "plt.plot(k_range, k_scores, color='green', linestyle=':', marker='o',  \n",
    "         markerfacecolor='red', markersize=5)\n",
    "plt.title('F1 score by K Value')  \n",
    "plt.xlabel('K Value')  \n",
    "plt.ylabel('F1 Score') \n",
    "plt.show()\n",
    "\n",
    "# display parametrs \n",
    "print(f'F1_score max:{round(max(k_scores), 4)} where K: {(k_scores.index(max(k_scores))+1)*2 - 1}')\n",
    "k= (k_scores.index(max(k_scores))+1)*2 - 1"
   ]
  },
  {
   "cell_type": "code",
   "execution_count": 121,
   "metadata": {},
   "outputs": [
    {
     "name": "stdout",
     "output_type": "stream",
     "text": [
      "TEST_#__: KNN\n",
      "------------------------------------------------------------\n",
      "F1_score for train set: 0.646\n",
      "F1_score for test set: 0.52\n",
      "------------------------------------------------------------\n",
      "CONFUSION_MATRIX\n",
      "------------------------------------------------------------\n",
      "[[5003 1192]\n",
      " [ 701 1024]]\n",
      "------------------------------------------------------------\n",
      "CLASSIFICATION_REPORT\n",
      "------------------------------------------------------------\n",
      "              precision    recall  f1-score   support\n",
      "\n",
      "           0       0.88      0.81      0.84      6195\n",
      "           1       0.46      0.59      0.52      1725\n",
      "\n",
      "    accuracy                           0.76      7920\n",
      "   macro avg       0.67      0.70      0.68      7920\n",
      "weighted avg       0.79      0.76      0.77      7920\n",
      "\n",
      "------------------------------------------------------------\n"
     ]
    }
   ],
   "source": [
    "# instantiate a model\n",
    "knn= KNeighborsClassifier(n_neighbors= k, p=2)\n",
    "\n",
    "# train a model\n",
    "knn= knn.fit(X_train, y_train)\n",
    "\n",
    "# predict on test set\n",
    "y_pred= knn.predict(X_test)\n",
    "\n",
    "print('TEST_#__: KNN')\n",
    "print('--'*30)\n",
    "print(f'F1_score for train set: {round(f1_score(y_train, knn.predict(X_train)), 3)}')\n",
    "print(f'F1_score for test set: {round(f1_score(y_test, knn.predict(X_test)), 3)}')\n",
    "print('--'*30)\n",
    "print('CONFUSION_MATRIX')\n",
    "print('--'*30)\n",
    "print(confusion_matrix(y_test, y_pred))\n",
    "print('--'*30)\n",
    "print('CLASSIFICATION_REPORT')\n",
    "print('--'*30)\n",
    "print(classification_report(y_test, y_pred, output_dict= False))\n",
    "print('--'*30)\n",
    "\n",
    "p2t1= round(f1_score(y_test, y_pred), 3)\n",
    "k07= knn.get_params()['n_neighbors']"
   ]
  },
  {
   "cell_type": "markdown",
   "metadata": {},
   "source": [
    "## DOWNSAMPLING LOGISTIC REGRESSION"
   ]
  },
  {
   "cell_type": "code",
   "execution_count": 122,
   "metadata": {},
   "outputs": [
    {
     "name": "stdout",
     "output_type": "stream",
     "text": [
      "TEST_#__: LOGISTIC_REGRESSION\n",
      "------------------------------------------------------------\n",
      "F1_score for train set: 0.659\n",
      "F1_score for test set: 0.514\n",
      "------------------------------------------------------------\n",
      "CONFUSION_MATRIX\n",
      "------------------------------------------------------------\n",
      "[[4876 1319]\n",
      " [ 671 1054]]\n",
      "------------------------------------------------------------\n",
      "CLASSIFICATION_REPORT\n",
      "------------------------------------------------------------\n",
      "              precision    recall  f1-score   support\n",
      "\n",
      "           0       0.88      0.79      0.83      6195\n",
      "           1       0.44      0.61      0.51      1725\n",
      "\n",
      "    accuracy                           0.75      7920\n",
      "   macro avg       0.66      0.70      0.67      7920\n",
      "weighted avg       0.78      0.75      0.76      7920\n",
      "\n",
      "------------------------------------------------------------\n"
     ]
    }
   ],
   "source": [
    "#instantiate a model\n",
    "logreg= LogisticRegression(solver= 'saga')\n",
    "\n",
    "#train a model\n",
    "logreg= logreg.fit(X_train, y_train)\n",
    "\n",
    "#predict\n",
    "y_pred= logreg.predict(X_test)\n",
    "\n",
    "print('TEST_#__: LOGISTIC_REGRESSION')\n",
    "print('--'*30)\n",
    "print(f'F1_score for train set: {round(f1_score(y_train, logreg.predict(X_train)), 3)}')\n",
    "print(f'F1_score for test set: {round(f1_score(y_test, logreg.predict(X_test)), 3)}')\n",
    "print('--'*30)\n",
    "print('CONFUSION_MATRIX')\n",
    "print('--'*30)\n",
    "print(confusion_matrix(y_test, y_pred))\n",
    "print('--'*30)\n",
    "print('CLASSIFICATION_REPORT')\n",
    "print('--'*30)\n",
    "print(classification_report(y_test, y_pred, output_dict= False))\n",
    "print('--'*30)\n",
    "\n",
    "p2t2= round(f1_score(y_test, y_pred), 3)"
   ]
  },
  {
   "cell_type": "markdown",
   "metadata": {},
   "source": [
    "## DOWNSAMPLING DECISION TREE"
   ]
  },
  {
   "cell_type": "code",
   "execution_count": 123,
   "metadata": {},
   "outputs": [
    {
     "data": {
      "image/png": "[encoded data removed]",
      "text/plain": [
       "<Figure size 864x432 with 1 Axes>"
      ]
     },
     "metadata": {
      "needs_background": "light"
     },
     "output_type": "display_data"
    },
    {
     "name": "stdout",
     "output_type": "stream",
     "text": [
      "f1_score max:0.5149 where D: 5\n"
     ]
    }
   ],
   "source": [
    "# loop to find depth\n",
    "depth_scores = []\n",
    "depth_range= list(range(1, 20, 2))\n",
    "for d in depth_range:\n",
    "    dtree= DecisionTreeClassifier(max_depth= d, splitter= 'best')\n",
    "    dtree.fit(X_train, y_train)\n",
    "    y_pred_d = dtree.predict(X_test)\n",
    "    depth_scores.append(f1_score(y_test, y_pred_d, pos_label= 1))\n",
    "\n",
    "# plot\n",
    "plt.figure(figsize=(12, 6))  \n",
    "plt.plot(depth_range, depth_scores, color='green', linestyle=':', marker='o',  \n",
    "         markerfacecolor='red', markersize=5)\n",
    "plt.title('F1 score by Depth Score')  \n",
    "plt.xlabel('Depth Score')  \n",
    "plt.ylabel('F1 Score') \n",
    "plt.show()\n",
    "\n",
    "# display parametrs \n",
    "print(f'f1_score max:{round(max(depth_scores), 4)} where D: {(depth_scores.index(max(depth_scores))+1)*2 - 1}')\n",
    "d= (depth_scores.index(max(depth_scores))+1)*2 - 1"
   ]
  },
  {
   "cell_type": "code",
   "execution_count": 127,
   "metadata": {},
   "outputs": [
    {
     "name": "stdout",
     "output_type": "stream",
     "text": [
      "TEST_#__: DECISION_TREE\n",
      "------------------------------------------------------------\n",
      "F1_score for train set: 0.671\n",
      "F1_score for test set: 0.515\n",
      "------------------------------------------------------------\n",
      "CONFUSION_MATRIX\n",
      "--------------------------------------------------------------------------------\n",
      "[[4949 1246]\n",
      " [ 695 1030]]\n",
      "--------------------------------------------------------------------------------\n",
      "CLASSIFICATION_REPORT\n",
      "--------------------------------------------------------------------------------\n",
      "              precision    recall  f1-score   support\n",
      "\n",
      "           0       0.88      0.80      0.84      6195\n",
      "           1       0.45      0.60      0.51      1725\n",
      "\n",
      "    accuracy                           0.75      7920\n",
      "   macro avg       0.66      0.70      0.68      7920\n",
      "weighted avg       0.78      0.75      0.77      7920\n",
      "\n",
      "--------------------------------------------------------------------------------\n"
     ]
    }
   ],
   "source": [
    "# instantiate a model\n",
    "dtree= DecisionTreeClassifier(criterion='gini', max_depth= d, splitter= 'best')\n",
    "\n",
    "#train a model\n",
    "dtree= dtree.fit(X_train, y_train)\n",
    "\n",
    "# predict\n",
    "y_pred= dtree.predict(X_test)\n",
    "\n",
    "print('TEST_#__: DECISION_TREE')\n",
    "print('--'*30)\n",
    "print(f'F1_score for train set: {round(f1_score(y_train, dtree.predict(X_train)), 3)}')\n",
    "print(f'F1_score for test set: {round(f1_score(y_test, dtree.predict(X_test)), 3)}')\n",
    "print('--'*30)\n",
    "print('CONFUSION_MATRIX')\n",
    "print('--'*40)\n",
    "print(confusion_matrix(y_test, y_pred))\n",
    "print('--'*40)\n",
    "print('CLASSIFICATION_REPORT')\n",
    "print('--'*40)\n",
    "print(classification_report(y_test, y_pred, output_dict= False))\n",
    "print('--'*40)\n",
    "\n",
    "p2t3= round(f1_score(y_test, y_pred), 3)\n",
    "d09= dtree.get_params()['max_depth']"
   ]
  },
  {
   "cell_type": "code",
   "execution_count": 130,
   "metadata": {},
   "outputs": [
    {
     "name": "stdout",
     "output_type": "stream",
     "text": [
      "::::::::::::::::::::::::::::::::::::::::\n",
      "CONSOLIDATED_TABLE\n",
      "::::::::::::::::::::::::::::::::::::::::\n",
      "----------------------------------------\n",
      "F1_score for KNN with K 19:0.413\n",
      "----------------------------------------\n",
      "F1_score for LOGREG: 0.391\n",
      "----------------------------------------\n",
      "F1_score for DTREE with D 1:0.493\n",
      "::::::::::::::::::::::::::::::::::::::::\n",
      "UPSAMPLING\n",
      "::::::::::::::::::::::::::::::::::::::::\n",
      "F1_score for KNN with K 141: 0.52\n",
      "----------------------------------------\n",
      "F1_score for LOGREG: 0.517\n",
      "----------------------------------------\n",
      "F1_score for DTREE with D 5:0.516\n",
      "::::::::::::::::::::::::::::::::::::::::\n",
      "DOWNSAMPLING\n",
      "::::::::::::::::::::::::::::::::::::::::\n",
      "----------------------------------------\n",
      "F1_score for KNN with K 45:0.52\n",
      "----------------------------------------\n",
      "F1_score for LOGREG:0.514\n",
      "----------------------------------------\n",
      "F1_score for DTREE with D 5: 0.515\n"
     ]
    }
   ],
   "source": [
    "print(':'*40)\n",
    "print('CONSOLIDATED_TABLE')\n",
    "print(':'*40)\n",
    "print('--'*20)\n",
    "print(f'F1_score for KNN with K {k01}:{p0t1}')\n",
    "print('--'*20)\n",
    "print(f'F1_score for LOGREG: {p0t2}')\n",
    "print('--'*20)\n",
    "print(f'F1_score for DTREE with D {d03}:{p0t3}')\n",
    "print(':'*40)\n",
    "print('UPSAMPLING')\n",
    "print(':'*40)\n",
    "print(f'F1_score for KNN with K {k04}: {p1t1}')\n",
    "print('--'*20)\n",
    "print(f'F1_score for LOGREG: {p1t2}')\n",
    "print('--'*20)\n",
    "print(f'F1_score for DTREE with D {d06}:{p1t3}')\n",
    "print(':'*40)\n",
    "print('DOWNSAMPLING')\n",
    "print(':'*40)\n",
    "print('--'*20)\n",
    "print(f'F1_score for KNN with K {k07}:{p2t1}')\n",
    "print('--'*20)\n",
    "print(f'F1_score for LOGREG:{p2t2}')\n",
    "print('--'*20)\n",
    "print(f'F1_score for DTREE with D {d09}: {p2t3}')"
   ]
  },
  {
   "cell_type": "markdown",
   "metadata": {},
   "source": [
    "## GRID SEARCH"
   ]
  },
  {
   "cell_type": "code",
   "execution_count": 129,
   "metadata": {},
   "outputs": [],
   "source": [
    "# import a class\n",
    "from sklearn.model_selection import GridSearchCV"
   ]
  },
  {
   "cell_type": "code",
   "execution_count": 131,
   "metadata": {},
   "outputs": [
    {
     "data": {
      "text/plain": [
       "((7166, 15), (7166,))"
      ]
     },
     "execution_count": 131,
     "metadata": {},
     "output_type": "execute_result"
    }
   ],
   "source": [
    "X_train.shape, y_train.shape"
   ]
  },
  {
   "cell_type": "markdown",
   "metadata": {},
   "source": [
    "### BEST KNN"
   ]
  },
  {
   "cell_type": "code",
   "execution_count": 132,
   "metadata": {},
   "outputs": [
    {
     "name": "stdout",
     "output_type": "stream",
     "text": [
      "0.6406850828154187\n",
      "{'n_neighbors': 35, 'p': 1}\n",
      "KNeighborsClassifier(algorithm='auto', leaf_size=30, metric='minkowski',\n",
      "                     metric_params=None, n_jobs=None, n_neighbors=35, p=1,\n",
      "                     weights='uniform')\n",
      "F1_score: 0.51667577911427\n"
     ]
    }
   ],
   "source": [
    "# instantiate a model\n",
    "knn= KNeighborsClassifier()\n",
    "\n",
    "# create parameters to test\n",
    "parameters= {'n_neighbors': range(1, 200, 2),\n",
    "             'p': range(1, 3)\n",
    "            }\n",
    "#\n",
    "grid_knn= GridSearchCV(estimator= knn, param_grid= parameters, cv=5, scoring='f1')\n",
    "\n",
    "#\n",
    "grid_knn= grid_knn.fit(X_train,y_train)\n",
    "\n",
    "#\n",
    "print(grid_knn.best_score_)\n",
    "\n",
    "# \n",
    "print(grid_knn.best_params_)\n",
    "\n",
    "# \n",
    "print(grid_knn.best_estimator_)\n",
    "\n",
    "#\n",
    "y_pred = grid_knn.best_estimator_.predict(X_test)\n",
    "\n",
    "#\n",
    "print(\"F1_score:\", f1_score(y_test, y_pred))"
   ]
  },
  {
   "cell_type": "markdown",
   "metadata": {},
   "source": [
    "### BEST DECISION TREE"
   ]
  },
  {
   "cell_type": "code",
   "execution_count": 133,
   "metadata": {},
   "outputs": [
    {
     "name": "stdout",
     "output_type": "stream",
     "text": [
      "0.6702501794678181\n",
      "{'criterion': 'gini', 'max_depth': 5, 'min_samples_leaf': 20, 'splitter': 'best'}\n",
      "DecisionTreeClassifier(class_weight=None, criterion='gini', max_depth=5,\n",
      "                       max_features=None, max_leaf_nodes=None,\n",
      "                       min_impurity_decrease=0.0, min_impurity_split=None,\n",
      "                       min_samples_leaf=20, min_samples_split=2,\n",
      "                       min_weight_fraction_leaf=0.0, presort=False,\n",
      "                       random_state=None, splitter='best')\n",
      "F1_score: 0.5135068153655514\n"
     ]
    }
   ],
   "source": [
    "# instantiate a model\n",
    "dtree= DecisionTreeClassifier()\n",
    "\n",
    "# create parameters to test\n",
    "parameters= {'criterion': ['gini', 'entropy'],\n",
    "             'splitter': ['best', 'random'],\n",
    "             'max_depth': range(1, 100, 2),\n",
    "             'min_samples_leaf': range(5, 96, 15)\n",
    "            }\n",
    "#\n",
    "grid_dtree= GridSearchCV(dtree, param_grid= parameters, cv=5, scoring='f1')\n",
    "\n",
    "#\n",
    "grid_dtree= grid_dtree.fit(X_train,y_train)\n",
    "\n",
    "#\n",
    "print(grid_dtree.best_score_)\n",
    "\n",
    "#\n",
    "print(grid_dtree.best_params_)\n",
    "\n",
    "#\n",
    "print(grid_dtree.best_estimator_)\n",
    "\n",
    "#Predict the response for test dataset\n",
    "y_pred = grid_dtree.best_estimator_.predict(X_test)\n",
    "\n",
    "# Model Accuracy, how often is the classifier correct?\n",
    "print(\"F1_score:\", f1_score(y_test, y_pred))"
   ]
  },
  {
   "cell_type": "markdown",
   "metadata": {},
   "source": [
    "### BEST LOG REG"
   ]
  },
  {
   "cell_type": "code",
   "execution_count": null,
   "metadata": {},
   "outputs": [],
   "source": [
    "# instantiate a model\n",
    "logreg= LogisticRegression(solver= 'saga')\n",
    "\n",
    "# create parameters to test\n",
    "parameters= {'penalty': ['l1', 'l2', 'none'],\n",
    "             'C': [0.25, 0.5, 0.75],\n",
    "            }\n",
    "#\n",
    "grid_logreg= GridSearchCV(logreg, param_grid= parameters, cv=5, scoring='f1')\n",
    "\n",
    "#\n",
    "grid_logreg= grid_logreg.fit(X_train,y_train)\n",
    "\n",
    "#\n",
    "print(grid_logreg.best_score_)\n",
    "\n",
    "#\n",
    "print(grid_logreg.best_params_)\n",
    "\n",
    "#\n",
    "print(grid_logreg.best_estimator_)\n",
    "\n",
    "#Predict the response for test dataset\n",
    "y_pred = grid_logreg.best_estimator_.predict(X_test)\n",
    "\n",
    "# Model Accuracy, how often is the classifier correct?\n",
    "print(\"F1_score:\", f1_score(y_test, y_pred))"
   ]
  },
  {
   "cell_type": "markdown",
   "metadata": {},
   "source": [
    "## NEW DATA FRAME"
   ]
  },
  {
   "cell_type": "code",
   "execution_count": null,
   "metadata": {},
   "outputs": [],
   "source": []
  },
  {
   "cell_type": "code",
   "execution_count": null,
   "metadata": {},
   "outputs": [],
   "source": []
  },
  {
   "cell_type": "code",
   "execution_count": null,
   "metadata": {},
   "outputs": [],
   "source": []
  }
 ],
 "metadata": {
  "kernelspec": {
   "display_name": "Python 3",
   "language": "python",
   "name": "python3"
  },
  "language_info": {
   "codemirror_mode": {
    "name": "ipython",
    "version": 3
   },
   "file_extension": ".py",
   "mimetype": "text/x-python",
   "name": "python",
   "nbconvert_exporter": "python",
   "pygments_lexer": "ipython3",
   "version": "3.6.8"
  }
 },
 "nbformat": 4,
 "nbformat_minor": 2
}
