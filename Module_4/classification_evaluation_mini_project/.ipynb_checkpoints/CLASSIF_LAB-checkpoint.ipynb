{
 "cells": [
  {
   "cell_type": "code",
   "execution_count": 1,
   "metadata": {},
   "outputs": [],
   "source": [
    "# import libraries\n",
    "import numpy as np\n",
    "import pandas as pd\n",
    "import matplotlib.pyplot as plt\n",
    "%matplotlib inline\n",
    "import seaborn as sns\n",
    "sns.set_style('darkgrid')\n",
    "\n",
    "dFrame= pd.read_csv('classification_lab_data.csv')"
   ]
  },
  {
   "cell_type": "markdown",
   "metadata": {},
   "source": [
    "***\n",
    "***\n",
    "# CLEANING / TRANSFORMATION\n",
    "***\n",
    "***"
   ]
  },
  {
   "cell_type": "code",
   "execution_count": 2,
   "metadata": {},
   "outputs": [
    {
     "name": "stdout",
     "output_type": "stream",
     "text": [
      "<class 'pandas.core.frame.DataFrame'>\n",
      "RangeIndex: 23999 entries, 0 to 23998\n",
      "Data columns (total 24 columns):\n",
      "LIMIT_BAL                     23999 non-null int64\n",
      "SEX                           23999 non-null int64\n",
      "EDUCATION                     23999 non-null int64\n",
      "MARRIAGE                      23999 non-null int64\n",
      "AGE                           23999 non-null int64\n",
      "PAY_0                         23999 non-null int64\n",
      "PAY_2                         23999 non-null int64\n",
      "PAY_3                         23999 non-null int64\n",
      "PAY_4                         23999 non-null int64\n",
      "PAY_5                         23999 non-null int64\n",
      "PAY_6                         23999 non-null int64\n",
      "BILL_AMT1                     23999 non-null int64\n",
      "BILL_AMT2                     23999 non-null int64\n",
      "BILL_AMT3                     23999 non-null int64\n",
      "BILL_AMT4                     23999 non-null int64\n",
      "BILL_AMT5                     23999 non-null int64\n",
      "BILL_AMT6                     23999 non-null int64\n",
      "PAY_AMT1                      23999 non-null int64\n",
      "PAY_AMT2                      23999 non-null int64\n",
      "PAY_AMT3                      23999 non-null int64\n",
      "PAY_AMT4                      23999 non-null int64\n",
      "PAY_AMT5                      23999 non-null int64\n",
      "PAY_AMT6                      23999 non-null int64\n",
      "default payment next month    23999 non-null int64\n",
      "dtypes: int64(24)\n",
      "memory usage: 4.4 MB\n"
     ]
    }
   ],
   "source": [
    "dFrame.info()"
   ]
  },
  {
   "cell_type": "code",
   "execution_count": 3,
   "metadata": {},
   "outputs": [],
   "source": [
    "dFrame= dFrame.rename(index= str, columns={'PAY_0': 'PAY_1'})\n",
    "dFrame= dFrame.rename(index= str, columns={'default payment next month': 'DEFAULT'})"
   ]
  },
  {
   "cell_type": "code",
   "execution_count": 4,
   "metadata": {},
   "outputs": [
    {
     "data": {
      "text/html": [
       "<div>\n",
       "<style scoped>\n",
       "    .dataframe tbody tr th:only-of-type {\n",
       "        vertical-align: middle;\n",
       "    }\n",
       "\n",
       "    .dataframe tbody tr th {\n",
       "        vertical-align: top;\n",
       "    }\n",
       "\n",
       "    .dataframe thead th {\n",
       "        text-align: right;\n",
       "    }\n",
       "</style>\n",
       "<table border=\"1\" class=\"dataframe\">\n",
       "  <thead>\n",
       "    <tr style=\"text-align: right;\">\n",
       "      <th></th>\n",
       "      <th>count</th>\n",
       "      <th>mean</th>\n",
       "      <th>std</th>\n",
       "      <th>min</th>\n",
       "      <th>25%</th>\n",
       "      <th>50%</th>\n",
       "      <th>75%</th>\n",
       "      <th>max</th>\n",
       "    </tr>\n",
       "  </thead>\n",
       "  <tbody>\n",
       "    <tr>\n",
       "      <th>LIMIT_BAL</th>\n",
       "      <td>23999.0</td>\n",
       "      <td>167825.729405</td>\n",
       "      <td>129915.115993</td>\n",
       "      <td>10000.0</td>\n",
       "      <td>50000.0</td>\n",
       "      <td>140000.0</td>\n",
       "      <td>240000.0</td>\n",
       "      <td>1000000.0</td>\n",
       "    </tr>\n",
       "    <tr>\n",
       "      <th>SEX</th>\n",
       "      <td>23999.0</td>\n",
       "      <td>1.603608</td>\n",
       "      <td>0.489158</td>\n",
       "      <td>1.0</td>\n",
       "      <td>1.0</td>\n",
       "      <td>2.0</td>\n",
       "      <td>2.0</td>\n",
       "      <td>2.0</td>\n",
       "    </tr>\n",
       "    <tr>\n",
       "      <th>EDUCATION</th>\n",
       "      <td>23999.0</td>\n",
       "      <td>1.856786</td>\n",
       "      <td>0.791939</td>\n",
       "      <td>0.0</td>\n",
       "      <td>1.0</td>\n",
       "      <td>2.0</td>\n",
       "      <td>2.0</td>\n",
       "      <td>6.0</td>\n",
       "    </tr>\n",
       "    <tr>\n",
       "      <th>MARRIAGE</th>\n",
       "      <td>23999.0</td>\n",
       "      <td>1.550773</td>\n",
       "      <td>0.522431</td>\n",
       "      <td>0.0</td>\n",
       "      <td>1.0</td>\n",
       "      <td>2.0</td>\n",
       "      <td>2.0</td>\n",
       "      <td>3.0</td>\n",
       "    </tr>\n",
       "    <tr>\n",
       "      <th>AGE</th>\n",
       "      <td>23999.0</td>\n",
       "      <td>35.523230</td>\n",
       "      <td>9.253986</td>\n",
       "      <td>21.0</td>\n",
       "      <td>28.0</td>\n",
       "      <td>34.0</td>\n",
       "      <td>42.0</td>\n",
       "      <td>79.0</td>\n",
       "    </tr>\n",
       "    <tr>\n",
       "      <th>PAY_1</th>\n",
       "      <td>23999.0</td>\n",
       "      <td>-0.014959</td>\n",
       "      <td>1.120903</td>\n",
       "      <td>-2.0</td>\n",
       "      <td>-1.0</td>\n",
       "      <td>0.0</td>\n",
       "      <td>0.0</td>\n",
       "      <td>8.0</td>\n",
       "    </tr>\n",
       "    <tr>\n",
       "      <th>PAY_2</th>\n",
       "      <td>23999.0</td>\n",
       "      <td>-0.134839</td>\n",
       "      <td>1.193044</td>\n",
       "      <td>-2.0</td>\n",
       "      <td>-1.0</td>\n",
       "      <td>0.0</td>\n",
       "      <td>0.0</td>\n",
       "      <td>8.0</td>\n",
       "    </tr>\n",
       "    <tr>\n",
       "      <th>PAY_3</th>\n",
       "      <td>23999.0</td>\n",
       "      <td>-0.165632</td>\n",
       "      <td>1.193515</td>\n",
       "      <td>-2.0</td>\n",
       "      <td>-1.0</td>\n",
       "      <td>0.0</td>\n",
       "      <td>0.0</td>\n",
       "      <td>8.0</td>\n",
       "    </tr>\n",
       "    <tr>\n",
       "      <th>PAY_4</th>\n",
       "      <td>23999.0</td>\n",
       "      <td>-0.217092</td>\n",
       "      <td>1.168719</td>\n",
       "      <td>-2.0</td>\n",
       "      <td>-1.0</td>\n",
       "      <td>0.0</td>\n",
       "      <td>0.0</td>\n",
       "      <td>8.0</td>\n",
       "    </tr>\n",
       "    <tr>\n",
       "      <th>PAY_5</th>\n",
       "      <td>23999.0</td>\n",
       "      <td>-0.261344</td>\n",
       "      <td>1.133016</td>\n",
       "      <td>-2.0</td>\n",
       "      <td>-1.0</td>\n",
       "      <td>0.0</td>\n",
       "      <td>0.0</td>\n",
       "      <td>8.0</td>\n",
       "    </tr>\n",
       "    <tr>\n",
       "      <th>PAY_6</th>\n",
       "      <td>23999.0</td>\n",
       "      <td>-0.285845</td>\n",
       "      <td>1.150394</td>\n",
       "      <td>-2.0</td>\n",
       "      <td>-1.0</td>\n",
       "      <td>0.0</td>\n",
       "      <td>0.0</td>\n",
       "      <td>8.0</td>\n",
       "    </tr>\n",
       "    <tr>\n",
       "      <th>BILL_AMT1</th>\n",
       "      <td>23999.0</td>\n",
       "      <td>51589.034710</td>\n",
       "      <td>74104.132627</td>\n",
       "      <td>-165580.0</td>\n",
       "      <td>3577.5</td>\n",
       "      <td>22472.0</td>\n",
       "      <td>67767.0</td>\n",
       "      <td>964511.0</td>\n",
       "    </tr>\n",
       "    <tr>\n",
       "      <th>BILL_AMT2</th>\n",
       "      <td>23999.0</td>\n",
       "      <td>49521.698112</td>\n",
       "      <td>71551.215125</td>\n",
       "      <td>-67526.0</td>\n",
       "      <td>2958.0</td>\n",
       "      <td>21290.0</td>\n",
       "      <td>64635.5</td>\n",
       "      <td>983931.0</td>\n",
       "    </tr>\n",
       "    <tr>\n",
       "      <th>BILL_AMT3</th>\n",
       "      <td>23999.0</td>\n",
       "      <td>47474.826368</td>\n",
       "      <td>70010.815328</td>\n",
       "      <td>-157264.0</td>\n",
       "      <td>2718.0</td>\n",
       "      <td>20223.0</td>\n",
       "      <td>60962.0</td>\n",
       "      <td>1664089.0</td>\n",
       "    </tr>\n",
       "    <tr>\n",
       "      <th>BILL_AMT4</th>\n",
       "      <td>23999.0</td>\n",
       "      <td>43796.589775</td>\n",
       "      <td>64927.450125</td>\n",
       "      <td>-170000.0</td>\n",
       "      <td>2392.5</td>\n",
       "      <td>19145.0</td>\n",
       "      <td>55418.0</td>\n",
       "      <td>891586.0</td>\n",
       "    </tr>\n",
       "    <tr>\n",
       "      <th>BILL_AMT5</th>\n",
       "      <td>23999.0</td>\n",
       "      <td>40748.049169</td>\n",
       "      <td>61257.537699</td>\n",
       "      <td>-81334.0</td>\n",
       "      <td>1801.0</td>\n",
       "      <td>18227.0</td>\n",
       "      <td>50581.0</td>\n",
       "      <td>927171.0</td>\n",
       "    </tr>\n",
       "    <tr>\n",
       "      <th>BILL_AMT6</th>\n",
       "      <td>23999.0</td>\n",
       "      <td>39226.852411</td>\n",
       "      <td>60075.536736</td>\n",
       "      <td>-339603.0</td>\n",
       "      <td>1280.0</td>\n",
       "      <td>17175.0</td>\n",
       "      <td>49434.5</td>\n",
       "      <td>961664.0</td>\n",
       "    </tr>\n",
       "    <tr>\n",
       "      <th>PAY_AMT1</th>\n",
       "      <td>23999.0</td>\n",
       "      <td>5687.720113</td>\n",
       "      <td>16698.506577</td>\n",
       "      <td>0.0</td>\n",
       "      <td>1000.0</td>\n",
       "      <td>2110.0</td>\n",
       "      <td>5020.0</td>\n",
       "      <td>873552.0</td>\n",
       "    </tr>\n",
       "    <tr>\n",
       "      <th>PAY_AMT2</th>\n",
       "      <td>23999.0</td>\n",
       "      <td>6019.571357</td>\n",
       "      <td>24541.362830</td>\n",
       "      <td>0.0</td>\n",
       "      <td>858.5</td>\n",
       "      <td>2012.0</td>\n",
       "      <td>5000.0</td>\n",
       "      <td>1684259.0</td>\n",
       "    </tr>\n",
       "    <tr>\n",
       "      <th>PAY_AMT3</th>\n",
       "      <td>23999.0</td>\n",
       "      <td>5253.322805</td>\n",
       "      <td>17967.028860</td>\n",
       "      <td>0.0</td>\n",
       "      <td>395.0</td>\n",
       "      <td>1809.0</td>\n",
       "      <td>4561.0</td>\n",
       "      <td>896040.0</td>\n",
       "    </tr>\n",
       "    <tr>\n",
       "      <th>PAY_AMT4</th>\n",
       "      <td>23999.0</td>\n",
       "      <td>4824.490687</td>\n",
       "      <td>15730.753527</td>\n",
       "      <td>0.0</td>\n",
       "      <td>300.0</td>\n",
       "      <td>1500.0</td>\n",
       "      <td>4089.0</td>\n",
       "      <td>621000.0</td>\n",
       "    </tr>\n",
       "    <tr>\n",
       "      <th>PAY_AMT5</th>\n",
       "      <td>23999.0</td>\n",
       "      <td>4825.033793</td>\n",
       "      <td>15596.580167</td>\n",
       "      <td>0.0</td>\n",
       "      <td>269.5</td>\n",
       "      <td>1500.0</td>\n",
       "      <td>4029.5</td>\n",
       "      <td>426529.0</td>\n",
       "    </tr>\n",
       "    <tr>\n",
       "      <th>PAY_AMT6</th>\n",
       "      <td>23999.0</td>\n",
       "      <td>5245.642943</td>\n",
       "      <td>17795.775322</td>\n",
       "      <td>0.0</td>\n",
       "      <td>125.0</td>\n",
       "      <td>1500.0</td>\n",
       "      <td>4008.0</td>\n",
       "      <td>528666.0</td>\n",
       "    </tr>\n",
       "    <tr>\n",
       "      <th>DEFAULT</th>\n",
       "      <td>23999.0</td>\n",
       "      <td>0.221176</td>\n",
       "      <td>0.415047</td>\n",
       "      <td>0.0</td>\n",
       "      <td>0.0</td>\n",
       "      <td>0.0</td>\n",
       "      <td>0.0</td>\n",
       "      <td>1.0</td>\n",
       "    </tr>\n",
       "  </tbody>\n",
       "</table>\n",
       "</div>"
      ],
      "text/plain": [
       "             count           mean            std       min      25%       50%  \\\n",
       "LIMIT_BAL  23999.0  167825.729405  129915.115993   10000.0  50000.0  140000.0   \n",
       "SEX        23999.0       1.603608       0.489158       1.0      1.0       2.0   \n",
       "EDUCATION  23999.0       1.856786       0.791939       0.0      1.0       2.0   \n",
       "MARRIAGE   23999.0       1.550773       0.522431       0.0      1.0       2.0   \n",
       "AGE        23999.0      35.523230       9.253986      21.0     28.0      34.0   \n",
       "PAY_1      23999.0      -0.014959       1.120903      -2.0     -1.0       0.0   \n",
       "PAY_2      23999.0      -0.134839       1.193044      -2.0     -1.0       0.0   \n",
       "PAY_3      23999.0      -0.165632       1.193515      -2.0     -1.0       0.0   \n",
       "PAY_4      23999.0      -0.217092       1.168719      -2.0     -1.0       0.0   \n",
       "PAY_5      23999.0      -0.261344       1.133016      -2.0     -1.0       0.0   \n",
       "PAY_6      23999.0      -0.285845       1.150394      -2.0     -1.0       0.0   \n",
       "BILL_AMT1  23999.0   51589.034710   74104.132627 -165580.0   3577.5   22472.0   \n",
       "BILL_AMT2  23999.0   49521.698112   71551.215125  -67526.0   2958.0   21290.0   \n",
       "BILL_AMT3  23999.0   47474.826368   70010.815328 -157264.0   2718.0   20223.0   \n",
       "BILL_AMT4  23999.0   43796.589775   64927.450125 -170000.0   2392.5   19145.0   \n",
       "BILL_AMT5  23999.0   40748.049169   61257.537699  -81334.0   1801.0   18227.0   \n",
       "BILL_AMT6  23999.0   39226.852411   60075.536736 -339603.0   1280.0   17175.0   \n",
       "PAY_AMT1   23999.0    5687.720113   16698.506577       0.0   1000.0    2110.0   \n",
       "PAY_AMT2   23999.0    6019.571357   24541.362830       0.0    858.5    2012.0   \n",
       "PAY_AMT3   23999.0    5253.322805   17967.028860       0.0    395.0    1809.0   \n",
       "PAY_AMT4   23999.0    4824.490687   15730.753527       0.0    300.0    1500.0   \n",
       "PAY_AMT5   23999.0    4825.033793   15596.580167       0.0    269.5    1500.0   \n",
       "PAY_AMT6   23999.0    5245.642943   17795.775322       0.0    125.0    1500.0   \n",
       "DEFAULT    23999.0       0.221176       0.415047       0.0      0.0       0.0   \n",
       "\n",
       "                75%        max  \n",
       "LIMIT_BAL  240000.0  1000000.0  \n",
       "SEX             2.0        2.0  \n",
       "EDUCATION       2.0        6.0  \n",
       "MARRIAGE        2.0        3.0  \n",
       "AGE            42.0       79.0  \n",
       "PAY_1           0.0        8.0  \n",
       "PAY_2           0.0        8.0  \n",
       "PAY_3           0.0        8.0  \n",
       "PAY_4           0.0        8.0  \n",
       "PAY_5           0.0        8.0  \n",
       "PAY_6           0.0        8.0  \n",
       "BILL_AMT1   67767.0   964511.0  \n",
       "BILL_AMT2   64635.5   983931.0  \n",
       "BILL_AMT3   60962.0  1664089.0  \n",
       "BILL_AMT4   55418.0   891586.0  \n",
       "BILL_AMT5   50581.0   927171.0  \n",
       "BILL_AMT6   49434.5   961664.0  \n",
       "PAY_AMT1     5020.0   873552.0  \n",
       "PAY_AMT2     5000.0  1684259.0  \n",
       "PAY_AMT3     4561.0   896040.0  \n",
       "PAY_AMT4     4089.0   621000.0  \n",
       "PAY_AMT5     4029.5   426529.0  \n",
       "PAY_AMT6     4008.0   528666.0  \n",
       "DEFAULT         0.0        1.0  "
      ]
     },
     "execution_count": 4,
     "metadata": {},
     "output_type": "execute_result"
    }
   ],
   "source": [
    "dFrame.describe().transpose()"
   ]
  },
  {
   "cell_type": "code",
   "execution_count": 5,
   "metadata": {},
   "outputs": [
    {
     "data": {
      "text/plain": [
       "EDUCATION\n",
       "0       11\n",
       "1     8442\n",
       "2    11188\n",
       "3     3994\n",
       "4      100\n",
       "5      223\n",
       "6       41\n",
       "Name: DEFAULT, dtype: int64"
      ]
     },
     "execution_count": 5,
     "metadata": {},
     "output_type": "execute_result"
    }
   ],
   "source": [
    "dFrame.groupby(by='EDUCATION')['DEFAULT'].count()"
   ]
  },
  {
   "cell_type": "markdown",
   "metadata": {},
   "source": [
    "Add all out of range data in EDUCATION ('0', '5', '6') to EDUCATION '4' == others  \n",
    "Add all out of range data in MARRIAGE ('0') to MARRIAGE '3' == others"
   ]
  },
  {
   "cell_type": "code",
   "execution_count": 6,
   "metadata": {},
   "outputs": [],
   "source": [
    "for i in range(len(dFrame)):\n",
    "    if dFrame.EDUCATION[i] == 0 or dFrame.EDUCATION[i] == 5 or dFrame.EDUCATION[i] == 6:\n",
    "        dFrame.EDUCATION[i] = 4"
   ]
  },
  {
   "cell_type": "code",
   "execution_count": 7,
   "metadata": {},
   "outputs": [],
   "source": [
    "for i in range(len(dFrame)):\n",
    "    if dFrame.MARRIAGE[i] == 0:\n",
    "        dFrame.MARRIAGE[i] = 3"
   ]
  },
  {
   "cell_type": "code",
   "execution_count": 8,
   "metadata": {},
   "outputs": [
    {
     "data": {
      "text/plain": [
       "MARRIAGE\n",
       "1    10958\n",
       "2    12735\n",
       "3      306\n",
       "Name: DEFAULT, dtype: int64"
      ]
     },
     "execution_count": 8,
     "metadata": {},
     "output_type": "execute_result"
    }
   ],
   "source": [
    "dFrame.groupby(by='MARRIAGE')['DEFAULT'].count()"
   ]
  },
  {
   "cell_type": "code",
   "execution_count": 9,
   "metadata": {},
   "outputs": [
    {
     "data": {
      "text/html": [
       "<div>\n",
       "<style scoped>\n",
       "    .dataframe tbody tr th:only-of-type {\n",
       "        vertical-align: middle;\n",
       "    }\n",
       "\n",
       "    .dataframe tbody tr th {\n",
       "        vertical-align: top;\n",
       "    }\n",
       "\n",
       "    .dataframe thead th {\n",
       "        text-align: right;\n",
       "    }\n",
       "</style>\n",
       "<table border=\"1\" class=\"dataframe\">\n",
       "  <thead>\n",
       "    <tr style=\"text-align: right;\">\n",
       "      <th></th>\n",
       "      <th>count</th>\n",
       "      <th>mean</th>\n",
       "      <th>std</th>\n",
       "      <th>min</th>\n",
       "      <th>25%</th>\n",
       "      <th>50%</th>\n",
       "      <th>75%</th>\n",
       "      <th>max</th>\n",
       "    </tr>\n",
       "  </thead>\n",
       "  <tbody>\n",
       "    <tr>\n",
       "      <th>EDUCATION</th>\n",
       "      <td>23999.0</td>\n",
       "      <td>1.845910</td>\n",
       "      <td>0.746305</td>\n",
       "      <td>1.0</td>\n",
       "      <td>1.0</td>\n",
       "      <td>2.0</td>\n",
       "      <td>2.0</td>\n",
       "      <td>4.0</td>\n",
       "    </tr>\n",
       "    <tr>\n",
       "      <th>MARRIAGE</th>\n",
       "      <td>23999.0</td>\n",
       "      <td>1.556148</td>\n",
       "      <td>0.521881</td>\n",
       "      <td>1.0</td>\n",
       "      <td>1.0</td>\n",
       "      <td>2.0</td>\n",
       "      <td>2.0</td>\n",
       "      <td>3.0</td>\n",
       "    </tr>\n",
       "  </tbody>\n",
       "</table>\n",
       "</div>"
      ],
      "text/plain": [
       "             count      mean       std  min  25%  50%  75%  max\n",
       "EDUCATION  23999.0  1.845910  0.746305  1.0  1.0  2.0  2.0  4.0\n",
       "MARRIAGE   23999.0  1.556148  0.521881  1.0  1.0  2.0  2.0  3.0"
      ]
     },
     "execution_count": 9,
     "metadata": {},
     "output_type": "execute_result"
    }
   ],
   "source": [
    "dFrame[['EDUCATION', 'MARRIAGE']].describe().transpose()"
   ]
  },
  {
   "cell_type": "code",
   "execution_count": 10,
   "metadata": {},
   "outputs": [
    {
     "name": "stdout",
     "output_type": "stream",
     "text": [
      "target variable\n",
      "--------------------------------------------------------------------------------\n",
      "DEFAULT\n",
      "0    18691\n",
      "1     5308\n",
      "Name: DEFAULT, dtype: int64\n"
     ]
    },
    {
     "data": {
      "image/png": "[encoded data removed]",
      "text/plain": [
       "<Figure size 720x288 with 1 Axes>"
      ]
     },
     "metadata": {
      "needs_background": "light"
     },
     "output_type": "display_data"
    }
   ],
   "source": [
    "print('target variable')\n",
    "print('--'*40)\n",
    "print(dFrame.groupby(['DEFAULT']).DEFAULT.count())\n",
    "\n",
    "plt.figure(figsize = (10,4))\n",
    "sns.countplot(dFrame['DEFAULT'], alpha =.66, palette= ['pink','lightblue'])\n",
    "plt.title('diligent vs default')\n",
    "plt.ylabel('# Clients')\n",
    "plt.show()"
   ]
  },
  {
   "cell_type": "markdown",
   "metadata": {},
   "source": [
    "CONTINIOUS VS DISCRETE"
   ]
  },
  {
   "cell_type": "code",
   "execution_count": 11,
   "metadata": {},
   "outputs": [],
   "source": [
    "# print('continious variable')\n",
    "# display(dFrame[['AGE', 'PAY_AMT1']].describe().transpose())\n",
    "# print('--'*30)\n",
    "# print('discrete variables')\n",
    "# print(dFrame.groupby('SEX').SEX.count())\n",
    "# print(dFrame.groupby('EDUCATION').SEX.count())\n",
    "# print(dFrame.groupby('MARRIAGE').SEX.count())"
   ]
  },
  {
   "cell_type": "code",
   "execution_count": 12,
   "metadata": {},
   "outputs": [],
   "source": [
    "# print('Client SEX summary')\n",
    "\n",
    "# print('\\n')\n",
    "# print(dFrame.groupby(['SEX','DEFAULT']).SEX.count().unstack())\n",
    "\n",
    "# # Passenger class visualization\n",
    "# # pclass = train_data.groupby(['Pclass','Survived']).Pclass.count().unstack()\n",
    "# # p1 = pclass.plot(kind = 'bar', stacked = True, \n",
    "# #                    title = 'Passengers by Class: Survivors vs Non-Survivors', \n",
    "# #                    color = ['grey','lightgreen'], alpha = .70)\n",
    "# # p1.set_xlabel('Pclass')\n",
    "# # p1.set_ylabel('# Passengers')\n",
    "# # p1.legend(['Did Not Survive','Survived'])\n",
    "# # plt.show()"
   ]
  },
  {
   "cell_type": "markdown",
   "metadata": {},
   "source": [
    "***\n",
    "***\n",
    "# FEATURE ENGINEERING\n",
    "***\n",
    "***"
   ]
  },
  {
   "cell_type": "code",
   "execution_count": 13,
   "metadata": {},
   "outputs": [],
   "source": [
    "# add +1 to every entry\n",
    "dFrame['PAY_1'] = dFrame['PAY_1'] + 1\n",
    "dFrame['PAY_2'] = dFrame['PAY_2'] + 1\n",
    "dFrame['PAY_3'] = dFrame['PAY_3'] + 1\n",
    "dFrame['PAY_4'] = dFrame['PAY_4'] + 1\n",
    "dFrame['PAY_5'] = dFrame['PAY_5'] + 1\n",
    "dFrame['PAY_6'] = dFrame['PAY_6'] + 1"
   ]
  },
  {
   "cell_type": "code",
   "execution_count": 14,
   "metadata": {},
   "outputs": [],
   "source": [
    "# split in two groups\n",
    "for i in range(len(dFrame)):\n",
    "    if dFrame.PAY_1[i] == -1 or dFrame.PAY_1[i] == 0 or dFrame.PAY_1[i] == 1:\n",
    "        dFrame.PAY_1[i] = 0\n",
    "    else:\n",
    "        dFrame.PAY_1[i] = 1"
   ]
  },
  {
   "cell_type": "code",
   "execution_count": 15,
   "metadata": {},
   "outputs": [],
   "source": [
    "for i in range(len(dFrame)):\n",
    "    if dFrame.PAY_2[i] == -1 or dFrame.PAY_2[i] == 0 or dFrame.PAY_2[i] == 1:\n",
    "        dFrame.PAY_2[i] = 0\n",
    "    else:\n",
    "        dFrame.PAY_2[i] = 1"
   ]
  },
  {
   "cell_type": "code",
   "execution_count": 16,
   "metadata": {},
   "outputs": [],
   "source": [
    "for i in range(len(dFrame)):\n",
    "    if dFrame.PAY_3[i] == -1 or dFrame.PAY_3[i] == 0 or dFrame.PAY_3[i] == 1:\n",
    "        dFrame.PAY_3[i] = 0\n",
    "    else:\n",
    "        dFrame.PAY_3[i] = 1"
   ]
  },
  {
   "cell_type": "code",
   "execution_count": 17,
   "metadata": {},
   "outputs": [],
   "source": [
    "for i in range(len(dFrame)):\n",
    "    if dFrame.PAY_4[i] == -1 or dFrame.PAY_4[i] == 0 or dFrame.PAY_4[i] == 1:\n",
    "        dFrame.PAY_4[i] = 0\n",
    "    else:\n",
    "        dFrame.PAY_4[i] = 1"
   ]
  },
  {
   "cell_type": "code",
   "execution_count": 18,
   "metadata": {},
   "outputs": [],
   "source": [
    "for i in range(len(dFrame)):\n",
    "    if dFrame.PAY_5[i] == -1 or dFrame.PAY_5[i] == 0 or dFrame.PAY_5[i] == 1:\n",
    "        dFrame.PAY_5[i] = 0\n",
    "    else:\n",
    "        dFrame.PAY_5[i] = 1"
   ]
  },
  {
   "cell_type": "code",
   "execution_count": 19,
   "metadata": {},
   "outputs": [],
   "source": [
    "for i in range(len(dFrame)):\n",
    "    if dFrame.PAY_6[i] == -1 or dFrame.PAY_6[i] == 0 or dFrame.PAY_6[i] == 1:\n",
    "        dFrame.PAY_6[i] = 0\n",
    "    else:\n",
    "        dFrame.PAY_6[i] = 1"
   ]
  },
  {
   "cell_type": "code",
   "execution_count": 20,
   "metadata": {},
   "outputs": [],
   "source": [
    "# calculate payment/bill ratio\n",
    "dFrame['BILL_RATIO_SEP']= dFrame['PAY_AMT1']/dFrame['BILL_AMT2']\n",
    "dFrame['BILL_RATIO_AUG']= dFrame['PAY_AMT2']/dFrame['BILL_AMT3']\n",
    "dFrame['BILL_RATIO_JUL']= dFrame['PAY_AMT3']/dFrame['BILL_AMT4']\n",
    "dFrame['BILL_RATIO_JUN']= dFrame['PAY_AMT4']/dFrame['BILL_AMT5']\n",
    "dFrame['BILL_RATIO_MAY']= dFrame['PAY_AMT5']/dFrame['BILL_AMT6']"
   ]
  },
  {
   "cell_type": "code",
   "execution_count": 21,
   "metadata": {},
   "outputs": [],
   "source": [
    "#dFrame.fillna(0, inplace= True)"
   ]
  },
  {
   "cell_type": "code",
   "execution_count": 22,
   "metadata": {},
   "outputs": [],
   "source": [
    "dFrame.replace([np.inf, -np.inf], np.nan, inplace= True)"
   ]
  },
  {
   "cell_type": "code",
   "execution_count": 23,
   "metadata": {},
   "outputs": [],
   "source": [
    "dFrame.fillna(0, inplace= True)"
   ]
  },
  {
   "cell_type": "code",
   "execution_count": 24,
   "metadata": {},
   "outputs": [],
   "source": [
    "dFrame= dFrame.drop(['BILL_AMT1', 'BILL_AMT2', 'BILL_AMT3', 'BILL_AMT4', 'BILL_AMT5', 'BILL_AMT6'], axis= 1)\n",
    "dFrame= dFrame.drop(['PAY_AMT1', 'PAY_AMT2', 'PAY_AMT3', 'PAY_AMT4', 'PAY_AMT5', 'PAY_AMT6'], axis= 1)"
   ]
  },
  {
   "cell_type": "code",
   "execution_count": 25,
   "metadata": {},
   "outputs": [
    {
     "data": {
      "text/plain": [
       "LIMIT_BAL         0\n",
       "SEX               0\n",
       "EDUCATION         0\n",
       "MARRIAGE          0\n",
       "AGE               0\n",
       "PAY_1             0\n",
       "PAY_2             0\n",
       "PAY_3             0\n",
       "PAY_4             0\n",
       "PAY_5             0\n",
       "PAY_6             0\n",
       "DEFAULT           0\n",
       "BILL_RATIO_SEP    0\n",
       "BILL_RATIO_AUG    0\n",
       "BILL_RATIO_JUL    0\n",
       "BILL_RATIO_JUN    0\n",
       "BILL_RATIO_MAY    0\n",
       "dtype: int64"
      ]
     },
     "execution_count": 25,
     "metadata": {},
     "output_type": "execute_result"
    }
   ],
   "source": [
    "dFrame.isnull().sum()"
   ]
  },
  {
   "cell_type": "code",
   "execution_count": 26,
   "metadata": {},
   "outputs": [],
   "source": [
    "dFrame= dFrame.dropna()"
   ]
  },
  {
   "cell_type": "code",
   "execution_count": 27,
   "metadata": {},
   "outputs": [
    {
     "name": "stdout",
     "output_type": "stream",
     "text": [
      "<class 'pandas.core.frame.DataFrame'>\n",
      "Index: 23999 entries, 0 to 23998\n",
      "Data columns (total 17 columns):\n",
      "LIMIT_BAL         23999 non-null int64\n",
      "SEX               23999 non-null int64\n",
      "EDUCATION         23999 non-null int64\n",
      "MARRIAGE          23999 non-null int64\n",
      "AGE               23999 non-null int64\n",
      "PAY_1             23999 non-null int64\n",
      "PAY_2             23999 non-null int64\n",
      "PAY_3             23999 non-null int64\n",
      "PAY_4             23999 non-null int64\n",
      "PAY_5             23999 non-null int64\n",
      "PAY_6             23999 non-null int64\n",
      "DEFAULT           23999 non-null int64\n",
      "BILL_RATIO_SEP    23999 non-null float64\n",
      "BILL_RATIO_AUG    23999 non-null float64\n",
      "BILL_RATIO_JUL    23999 non-null float64\n",
      "BILL_RATIO_JUN    23999 non-null float64\n",
      "BILL_RATIO_MAY    23999 non-null float64\n",
      "dtypes: float64(5), int64(12)\n",
      "memory usage: 3.3+ MB\n"
     ]
    }
   ],
   "source": [
    "dFrame.info()"
   ]
  },
  {
   "cell_type": "code",
   "execution_count": 28,
   "metadata": {},
   "outputs": [],
   "source": [
    "dum_educ= pd.get_dummies(dFrame['EDUCATION'],prefix= 'ed')\n",
    "dum_sex= pd.get_dummies(dFrame['SEX'], prefix= 's')\n",
    "dum_mar= pd.get_dummies(dFrame['MARRIAGE'], prefix= 'mar')"
   ]
  },
  {
   "cell_type": "code",
   "execution_count": 29,
   "metadata": {},
   "outputs": [],
   "source": [
    "dFrame= pd.concat([dFrame, dum_educ, dum_sex, dum_mar], axis=1)"
   ]
  },
  {
   "cell_type": "code",
   "execution_count": 30,
   "metadata": {},
   "outputs": [],
   "source": [
    "dFrame= dFrame.drop(['EDUCATION', 'SEX', 'MARRIAGE'], axis= 1)"
   ]
  },
  {
   "cell_type": "code",
   "execution_count": 31,
   "metadata": {
    "scrolled": false
   },
   "outputs": [
    {
     "data": {
      "text/html": [
       "<div>\n",
       "<style scoped>\n",
       "    .dataframe tbody tr th:only-of-type {\n",
       "        vertical-align: middle;\n",
       "    }\n",
       "\n",
       "    .dataframe tbody tr th {\n",
       "        vertical-align: top;\n",
       "    }\n",
       "\n",
       "    .dataframe thead th {\n",
       "        text-align: right;\n",
       "    }\n",
       "</style>\n",
       "<table border=\"1\" class=\"dataframe\">\n",
       "  <thead>\n",
       "    <tr style=\"text-align: right;\">\n",
       "      <th></th>\n",
       "      <th>count</th>\n",
       "      <th>mean</th>\n",
       "      <th>std</th>\n",
       "      <th>min</th>\n",
       "      <th>25%</th>\n",
       "      <th>50%</th>\n",
       "      <th>75%</th>\n",
       "      <th>max</th>\n",
       "    </tr>\n",
       "  </thead>\n",
       "  <tbody>\n",
       "    <tr>\n",
       "      <th>LIMIT_BAL</th>\n",
       "      <td>23999.0</td>\n",
       "      <td>167825.729405</td>\n",
       "      <td>129915.115993</td>\n",
       "      <td>10000.000000</td>\n",
       "      <td>50000.000000</td>\n",
       "      <td>140000.000000</td>\n",
       "      <td>240000.000000</td>\n",
       "      <td>1000000.000000</td>\n",
       "    </tr>\n",
       "    <tr>\n",
       "      <th>AGE</th>\n",
       "      <td>23999.0</td>\n",
       "      <td>35.523230</td>\n",
       "      <td>9.253986</td>\n",
       "      <td>21.000000</td>\n",
       "      <td>28.000000</td>\n",
       "      <td>34.000000</td>\n",
       "      <td>42.000000</td>\n",
       "      <td>79.000000</td>\n",
       "    </tr>\n",
       "    <tr>\n",
       "      <th>PAY_1</th>\n",
       "      <td>23999.0</td>\n",
       "      <td>0.226676</td>\n",
       "      <td>0.418690</td>\n",
       "      <td>0.000000</td>\n",
       "      <td>0.000000</td>\n",
       "      <td>0.000000</td>\n",
       "      <td>0.000000</td>\n",
       "      <td>1.000000</td>\n",
       "    </tr>\n",
       "    <tr>\n",
       "      <th>PAY_2</th>\n",
       "      <td>23999.0</td>\n",
       "      <td>0.147048</td>\n",
       "      <td>0.354161</td>\n",
       "      <td>0.000000</td>\n",
       "      <td>0.000000</td>\n",
       "      <td>0.000000</td>\n",
       "      <td>0.000000</td>\n",
       "      <td>1.000000</td>\n",
       "    </tr>\n",
       "    <tr>\n",
       "      <th>PAY_3</th>\n",
       "      <td>23999.0</td>\n",
       "      <td>0.140964</td>\n",
       "      <td>0.347992</td>\n",
       "      <td>0.000000</td>\n",
       "      <td>0.000000</td>\n",
       "      <td>0.000000</td>\n",
       "      <td>0.000000</td>\n",
       "      <td>1.000000</td>\n",
       "    </tr>\n",
       "    <tr>\n",
       "      <th>PAY_4</th>\n",
       "      <td>23999.0</td>\n",
       "      <td>0.117130</td>\n",
       "      <td>0.321582</td>\n",
       "      <td>0.000000</td>\n",
       "      <td>0.000000</td>\n",
       "      <td>0.000000</td>\n",
       "      <td>0.000000</td>\n",
       "      <td>1.000000</td>\n",
       "    </tr>\n",
       "    <tr>\n",
       "      <th>PAY_5</th>\n",
       "      <td>23999.0</td>\n",
       "      <td>0.099337</td>\n",
       "      <td>0.299121</td>\n",
       "      <td>0.000000</td>\n",
       "      <td>0.000000</td>\n",
       "      <td>0.000000</td>\n",
       "      <td>0.000000</td>\n",
       "      <td>1.000000</td>\n",
       "    </tr>\n",
       "    <tr>\n",
       "      <th>PAY_6</th>\n",
       "      <td>23999.0</td>\n",
       "      <td>0.102713</td>\n",
       "      <td>0.303589</td>\n",
       "      <td>0.000000</td>\n",
       "      <td>0.000000</td>\n",
       "      <td>0.000000</td>\n",
       "      <td>0.000000</td>\n",
       "      <td>1.000000</td>\n",
       "    </tr>\n",
       "    <tr>\n",
       "      <th>DEFAULT</th>\n",
       "      <td>23999.0</td>\n",
       "      <td>0.221176</td>\n",
       "      <td>0.415047</td>\n",
       "      <td>0.000000</td>\n",
       "      <td>0.000000</td>\n",
       "      <td>0.000000</td>\n",
       "      <td>0.000000</td>\n",
       "      <td>1.000000</td>\n",
       "    </tr>\n",
       "    <tr>\n",
       "      <th>BILL_RATIO_SEP</th>\n",
       "      <td>23999.0</td>\n",
       "      <td>0.435218</td>\n",
       "      <td>29.172288</td>\n",
       "      <td>-497.800000</td>\n",
       "      <td>0.036932</td>\n",
       "      <td>0.062236</td>\n",
       "      <td>0.513919</td>\n",
       "      <td>4444.333333</td>\n",
       "    </tr>\n",
       "    <tr>\n",
       "      <th>BILL_RATIO_AUG</th>\n",
       "      <td>23999.0</td>\n",
       "      <td>0.687116</td>\n",
       "      <td>43.387079</td>\n",
       "      <td>-384.615385</td>\n",
       "      <td>0.036277</td>\n",
       "      <td>0.060569</td>\n",
       "      <td>0.516181</td>\n",
       "      <td>5001.000000</td>\n",
       "    </tr>\n",
       "    <tr>\n",
       "      <th>BILL_RATIO_JUL</th>\n",
       "      <td>23999.0</td>\n",
       "      <td>0.390360</td>\n",
       "      <td>29.643608</td>\n",
       "      <td>-1000.000000</td>\n",
       "      <td>0.029995</td>\n",
       "      <td>0.048275</td>\n",
       "      <td>0.339852</td>\n",
       "      <td>4444.333333</td>\n",
       "    </tr>\n",
       "    <tr>\n",
       "      <th>BILL_RATIO_JUN</th>\n",
       "      <td>23999.0</td>\n",
       "      <td>-0.102199</td>\n",
       "      <td>36.697753</td>\n",
       "      <td>-4306.666667</td>\n",
       "      <td>0.022610</td>\n",
       "      <td>0.041565</td>\n",
       "      <td>0.281809</td>\n",
       "      <td>68.027211</td>\n",
       "    </tr>\n",
       "    <tr>\n",
       "      <th>BILL_RATIO_MAY</th>\n",
       "      <td>23999.0</td>\n",
       "      <td>0.342561</td>\n",
       "      <td>5.842902</td>\n",
       "      <td>-185.333333</td>\n",
       "      <td>0.024907</td>\n",
       "      <td>0.043225</td>\n",
       "      <td>0.373902</td>\n",
       "      <td>690.655172</td>\n",
       "    </tr>\n",
       "    <tr>\n",
       "      <th>ed_1</th>\n",
       "      <td>23999.0</td>\n",
       "      <td>0.351765</td>\n",
       "      <td>0.477531</td>\n",
       "      <td>0.000000</td>\n",
       "      <td>0.000000</td>\n",
       "      <td>0.000000</td>\n",
       "      <td>1.000000</td>\n",
       "      <td>1.000000</td>\n",
       "    </tr>\n",
       "    <tr>\n",
       "      <th>ed_2</th>\n",
       "      <td>23999.0</td>\n",
       "      <td>0.466186</td>\n",
       "      <td>0.498866</td>\n",
       "      <td>0.000000</td>\n",
       "      <td>0.000000</td>\n",
       "      <td>0.000000</td>\n",
       "      <td>1.000000</td>\n",
       "      <td>1.000000</td>\n",
       "    </tr>\n",
       "    <tr>\n",
       "      <th>ed_3</th>\n",
       "      <td>23999.0</td>\n",
       "      <td>0.166424</td>\n",
       "      <td>0.372468</td>\n",
       "      <td>0.000000</td>\n",
       "      <td>0.000000</td>\n",
       "      <td>0.000000</td>\n",
       "      <td>0.000000</td>\n",
       "      <td>1.000000</td>\n",
       "    </tr>\n",
       "    <tr>\n",
       "      <th>ed_4</th>\n",
       "      <td>23999.0</td>\n",
       "      <td>0.015626</td>\n",
       "      <td>0.124025</td>\n",
       "      <td>0.000000</td>\n",
       "      <td>0.000000</td>\n",
       "      <td>0.000000</td>\n",
       "      <td>0.000000</td>\n",
       "      <td>1.000000</td>\n",
       "    </tr>\n",
       "    <tr>\n",
       "      <th>s_1</th>\n",
       "      <td>23999.0</td>\n",
       "      <td>0.396392</td>\n",
       "      <td>0.489158</td>\n",
       "      <td>0.000000</td>\n",
       "      <td>0.000000</td>\n",
       "      <td>0.000000</td>\n",
       "      <td>1.000000</td>\n",
       "      <td>1.000000</td>\n",
       "    </tr>\n",
       "    <tr>\n",
       "      <th>s_2</th>\n",
       "      <td>23999.0</td>\n",
       "      <td>0.603608</td>\n",
       "      <td>0.489158</td>\n",
       "      <td>0.000000</td>\n",
       "      <td>0.000000</td>\n",
       "      <td>1.000000</td>\n",
       "      <td>1.000000</td>\n",
       "      <td>1.000000</td>\n",
       "    </tr>\n",
       "    <tr>\n",
       "      <th>mar_1</th>\n",
       "      <td>23999.0</td>\n",
       "      <td>0.456602</td>\n",
       "      <td>0.498123</td>\n",
       "      <td>0.000000</td>\n",
       "      <td>0.000000</td>\n",
       "      <td>0.000000</td>\n",
       "      <td>1.000000</td>\n",
       "      <td>1.000000</td>\n",
       "    </tr>\n",
       "    <tr>\n",
       "      <th>mar_2</th>\n",
       "      <td>23999.0</td>\n",
       "      <td>0.530647</td>\n",
       "      <td>0.499070</td>\n",
       "      <td>0.000000</td>\n",
       "      <td>0.000000</td>\n",
       "      <td>1.000000</td>\n",
       "      <td>1.000000</td>\n",
       "      <td>1.000000</td>\n",
       "    </tr>\n",
       "    <tr>\n",
       "      <th>mar_3</th>\n",
       "      <td>23999.0</td>\n",
       "      <td>0.012751</td>\n",
       "      <td>0.112198</td>\n",
       "      <td>0.000000</td>\n",
       "      <td>0.000000</td>\n",
       "      <td>0.000000</td>\n",
       "      <td>0.000000</td>\n",
       "      <td>1.000000</td>\n",
       "    </tr>\n",
       "  </tbody>\n",
       "</table>\n",
       "</div>"
      ],
      "text/plain": [
       "                  count           mean            std           min  \\\n",
       "LIMIT_BAL       23999.0  167825.729405  129915.115993  10000.000000   \n",
       "AGE             23999.0      35.523230       9.253986     21.000000   \n",
       "PAY_1           23999.0       0.226676       0.418690      0.000000   \n",
       "PAY_2           23999.0       0.147048       0.354161      0.000000   \n",
       "PAY_3           23999.0       0.140964       0.347992      0.000000   \n",
       "PAY_4           23999.0       0.117130       0.321582      0.000000   \n",
       "PAY_5           23999.0       0.099337       0.299121      0.000000   \n",
       "PAY_6           23999.0       0.102713       0.303589      0.000000   \n",
       "DEFAULT         23999.0       0.221176       0.415047      0.000000   \n",
       "BILL_RATIO_SEP  23999.0       0.435218      29.172288   -497.800000   \n",
       "BILL_RATIO_AUG  23999.0       0.687116      43.387079   -384.615385   \n",
       "BILL_RATIO_JUL  23999.0       0.390360      29.643608  -1000.000000   \n",
       "BILL_RATIO_JUN  23999.0      -0.102199      36.697753  -4306.666667   \n",
       "BILL_RATIO_MAY  23999.0       0.342561       5.842902   -185.333333   \n",
       "ed_1            23999.0       0.351765       0.477531      0.000000   \n",
       "ed_2            23999.0       0.466186       0.498866      0.000000   \n",
       "ed_3            23999.0       0.166424       0.372468      0.000000   \n",
       "ed_4            23999.0       0.015626       0.124025      0.000000   \n",
       "s_1             23999.0       0.396392       0.489158      0.000000   \n",
       "s_2             23999.0       0.603608       0.489158      0.000000   \n",
       "mar_1           23999.0       0.456602       0.498123      0.000000   \n",
       "mar_2           23999.0       0.530647       0.499070      0.000000   \n",
       "mar_3           23999.0       0.012751       0.112198      0.000000   \n",
       "\n",
       "                         25%            50%            75%             max  \n",
       "LIMIT_BAL       50000.000000  140000.000000  240000.000000  1000000.000000  \n",
       "AGE                28.000000      34.000000      42.000000       79.000000  \n",
       "PAY_1               0.000000       0.000000       0.000000        1.000000  \n",
       "PAY_2               0.000000       0.000000       0.000000        1.000000  \n",
       "PAY_3               0.000000       0.000000       0.000000        1.000000  \n",
       "PAY_4               0.000000       0.000000       0.000000        1.000000  \n",
       "PAY_5               0.000000       0.000000       0.000000        1.000000  \n",
       "PAY_6               0.000000       0.000000       0.000000        1.000000  \n",
       "DEFAULT             0.000000       0.000000       0.000000        1.000000  \n",
       "BILL_RATIO_SEP      0.036932       0.062236       0.513919     4444.333333  \n",
       "BILL_RATIO_AUG      0.036277       0.060569       0.516181     5001.000000  \n",
       "BILL_RATIO_JUL      0.029995       0.048275       0.339852     4444.333333  \n",
       "BILL_RATIO_JUN      0.022610       0.041565       0.281809       68.027211  \n",
       "BILL_RATIO_MAY      0.024907       0.043225       0.373902      690.655172  \n",
       "ed_1                0.000000       0.000000       1.000000        1.000000  \n",
       "ed_2                0.000000       0.000000       1.000000        1.000000  \n",
       "ed_3                0.000000       0.000000       0.000000        1.000000  \n",
       "ed_4                0.000000       0.000000       0.000000        1.000000  \n",
       "s_1                 0.000000       0.000000       1.000000        1.000000  \n",
       "s_2                 0.000000       1.000000       1.000000        1.000000  \n",
       "mar_1               0.000000       0.000000       1.000000        1.000000  \n",
       "mar_2               0.000000       1.000000       1.000000        1.000000  \n",
       "mar_3               0.000000       0.000000       0.000000        1.000000  "
      ]
     },
     "execution_count": 31,
     "metadata": {},
     "output_type": "execute_result"
    }
   ],
   "source": [
    "dFrame.describe().transpose()"
   ]
  },
  {
   "cell_type": "markdown",
   "metadata": {},
   "source": [
    "***\n",
    "***\n",
    "# MODELLING\n",
    "***\n",
    "***"
   ]
  },
  {
   "cell_type": "code",
   "execution_count": 32,
   "metadata": {},
   "outputs": [],
   "source": [
    "# import classes\n",
    "from sklearn.model_selection import train_test_split\n",
    "from sklearn.metrics import accuracy_score, f1_score, precision_score\n",
    "from sklearn.metrics import confusion_matrix\n",
    "from sklearn.metrics import classification_report"
   ]
  },
  {
   "cell_type": "code",
   "execution_count": 33,
   "metadata": {},
   "outputs": [],
   "source": [
    "X= dFrame.drop(['DEFAULT'], axis=1)\n",
    "y= dFrame['DEFAULT']"
   ]
  },
  {
   "cell_type": "code",
   "execution_count": 34,
   "metadata": {},
   "outputs": [
    {
     "data": {
      "text/plain": [
       "((23999, 22), (23999,))"
      ]
     },
     "execution_count": 34,
     "metadata": {},
     "output_type": "execute_result"
    }
   ],
   "source": [
    "X.shape, y.shape"
   ]
  },
  {
   "cell_type": "markdown",
   "metadata": {},
   "source": [
    "***\n",
    "# FEATURE SELECTION\n",
    "***"
   ]
  },
  {
   "cell_type": "code",
   "execution_count": 36,
   "metadata": {},
   "outputs": [],
   "source": [
    "# # import\n",
    "# from sklearn.feature_selection import SelectKBest\n",
    "# from sklearn.feature_selection import  chi2, f_classif, mutual_info_classif"
   ]
  },
  {
   "cell_type": "code",
   "execution_count": 37,
   "metadata": {},
   "outputs": [],
   "source": [
    "# # # #X= SelectKBest(mutual_info_classif).fit_transform(X, y)\n",
    "# X= SelectKBest(f_classif).fit_transform(X, y)\n",
    "# # # #X= SelectKBest(chi2, k= all).fit_transform(X, y)\n",
    "# # X= pd.DataFrame(X)\n",
    "# X.shape, y.shape"
   ]
  },
  {
   "cell_type": "markdown",
   "metadata": {},
   "source": [
    "***\n",
    "# SPLITING\n",
    "***"
   ]
  },
  {
   "cell_type": "code",
   "execution_count": 35,
   "metadata": {},
   "outputs": [],
   "source": [
    "X_train, X_test, y_train, y_test= train_test_split(X, y, random_state= 999, test_size= .33)"
   ]
  },
  {
   "cell_type": "markdown",
   "metadata": {},
   "source": [
    "## PART_0: W/O SAMPLING"
   ]
  },
  {
   "cell_type": "code",
   "execution_count": 36,
   "metadata": {},
   "outputs": [],
   "source": [
    "# import a class\n",
    "from sklearn.preprocessing import StandardScaler"
   ]
  },
  {
   "cell_type": "code",
   "execution_count": 40,
   "metadata": {},
   "outputs": [],
   "source": [
    "scaler= StandardScaler()\n",
    "\n",
    "scaler.fit(X_train)\n",
    "X_train= scaler.transform(X_train)\n",
    "\n",
    "scaler.fit(X_test)\n",
    "X_test= scaler.transform(X_test)"
   ]
  },
  {
   "cell_type": "markdown",
   "metadata": {},
   "source": [
    "# KNN"
   ]
  },
  {
   "cell_type": "code",
   "execution_count": 37,
   "metadata": {},
   "outputs": [],
   "source": [
    "# import a class\n",
    "from sklearn.neighbors import KNeighborsClassifier"
   ]
  },
  {
   "cell_type": "code",
   "execution_count": 42,
   "metadata": {},
   "outputs": [
    {
     "data": {
      "image/png": "[encoded data removed]",
      "text/plain": [
       "<Figure size 864x432 with 1 Axes>"
      ]
     },
     "metadata": {
      "needs_background": "light"
     },
     "output_type": "display_data"
    },
    {
     "name": "stdout",
     "output_type": "stream",
     "text": [
      "F1_score max:0.403 where K: 9\n"
     ]
    }
   ],
   "source": [
    "# loop to find k\n",
    "k_scores = []\n",
    "k_range= list(range(1, 100, 2))\n",
    "for k in k_range:\n",
    "    knn = KNeighborsClassifier(n_neighbors = k, p=2)\n",
    "    knn.fit(X_train, y_train)\n",
    "    y_pred_k = knn.predict(X_test)\n",
    "    k_scores.append(f1_score(y_test, y_pred_k, pos_label= 1))\n",
    "\n",
    "# plot\n",
    "plt.figure(figsize=(12, 6))  \n",
    "plt.plot(k_range, k_scores, color='green', linestyle=':', marker='o',  \n",
    "         markerfacecolor='red', markersize=5)\n",
    "plt.title('F1 score by K Value')  \n",
    "plt.xlabel('K Value')  \n",
    "plt.ylabel('F1 Score') \n",
    "plt.show()\n",
    "\n",
    "# display parametrs \n",
    "print(f'F1_score max:{round(max(k_scores), 4)} where K: {(k_scores.index(max(k_scores))+1)*2 - 1}')\n",
    "k= (k_scores.index(max(k_scores))+1)*2 - 1"
   ]
  },
  {
   "cell_type": "code",
   "execution_count": 43,
   "metadata": {},
   "outputs": [
    {
     "name": "stdout",
     "output_type": "stream",
     "text": [
      "TEST_#__: KNN\n",
      "------------------------------------------------------------\n",
      "F1_score for train set: 0.495\n",
      "F1_score for test set: 0.403\n",
      "------------------------------------------------------------\n",
      "CONFUSION_MATRIX\n",
      "------------------------------------------------------------\n",
      "[[5760  435]\n",
      " [1180  545]]\n",
      "------------------------------------------------------------\n",
      "CLASSIFICATION_REPORT\n",
      "------------------------------------------------------------\n",
      "              precision    recall  f1-score   support\n",
      "\n",
      "           0       0.83      0.93      0.88      6195\n",
      "           1       0.56      0.32      0.40      1725\n",
      "\n",
      "    accuracy                           0.80      7920\n",
      "   macro avg       0.69      0.62      0.64      7920\n",
      "weighted avg       0.77      0.80      0.77      7920\n",
      "\n",
      "------------------------------------------------------------\n"
     ]
    }
   ],
   "source": [
    "# instantiate a model\n",
    "knn= KNeighborsClassifier(n_neighbors= k, p=2)\n",
    "\n",
    "# train a model\n",
    "knn= knn.fit(X_train, y_train)\n",
    "\n",
    "# predict on test set\n",
    "y_pred= knn.predict(X_test)\n",
    "\n",
    "print('TEST_#__: KNN')\n",
    "print('--'*30)\n",
    "print(f'F1_score for train set: {round(f1_score(y_train, knn.predict(X_train)), 3)}')\n",
    "print(f'F1_score for test set: {round(f1_score(y_test, knn.predict(X_test)), 3)}')\n",
    "print('--'*30)\n",
    "print('CONFUSION_MATRIX')\n",
    "print('--'*30)\n",
    "print(confusion_matrix(y_test, y_pred))\n",
    "print('--'*30)\n",
    "print('CLASSIFICATION_REPORT')\n",
    "print('--'*30)\n",
    "print(classification_report(y_test, y_pred, output_dict= False))\n",
    "print('--'*30)\n",
    "\n",
    "p0t1= round(f1_score(y_test, y_pred), 3)\n",
    "k01= knn.get_params()['n_neighbors']"
   ]
  },
  {
   "cell_type": "markdown",
   "metadata": {},
   "source": [
    "# LOGISTIC REGRESION"
   ]
  },
  {
   "cell_type": "code",
   "execution_count": 38,
   "metadata": {},
   "outputs": [],
   "source": [
    "# import a model\n",
    "from sklearn.linear_model import LogisticRegression"
   ]
  },
  {
   "cell_type": "code",
   "execution_count": 45,
   "metadata": {},
   "outputs": [
    {
     "name": "stdout",
     "output_type": "stream",
     "text": [
      "TEST_#__: LOGISTIC_REGRESSION\n",
      "------------------------------------------------------------\n",
      "F1_score for train set: 0.41\n",
      "F1_score for test set: 0.397\n",
      "------------------------------------------------------------\n",
      "CONFUSION_MATRIX\n",
      "------------------------------------------------------------\n",
      "[[5897  298]\n",
      " [1224  501]]\n",
      "------------------------------------------------------------\n",
      "CLASSIFICATION_REPORT\n",
      "------------------------------------------------------------\n",
      "              precision    recall  f1-score   support\n",
      "\n",
      "           0       0.83      0.95      0.89      6195\n",
      "           1       0.63      0.29      0.40      1725\n",
      "\n",
      "    accuracy                           0.81      7920\n",
      "   macro avg       0.73      0.62      0.64      7920\n",
      "weighted avg       0.78      0.81      0.78      7920\n",
      "\n",
      "------------------------------------------------------------\n"
     ]
    },
    {
     "name": "stderr",
     "output_type": "stream",
     "text": [
      "/anaconda3/lib/python3.7/site-packages/sklearn/linear_model/sag.py:337: ConvergenceWarning: The max_iter was reached which means the coef_ did not converge\n",
      "  \"the coef_ did not converge\", ConvergenceWarning)\n"
     ]
    }
   ],
   "source": [
    "#instantiate a model\n",
    "logreg= LogisticRegression(solver= 'saga')\n",
    "\n",
    "#train a model\n",
    "logreg= logreg.fit(X_train, y_train)\n",
    "\n",
    "#predict\n",
    "y_pred= logreg.predict(X_test)\n",
    "\n",
    "print('TEST_#__: LOGISTIC_REGRESSION')\n",
    "print('--'*30)\n",
    "print(f'F1_score for train set: {round(f1_score(y_train, logreg.predict(X_train)), 3)}')\n",
    "print(f'F1_score for test set: {round(f1_score(y_test, logreg.predict(X_test)), 3)}')\n",
    "print('--'*30)\n",
    "print('CONFUSION_MATRIX')\n",
    "print('--'*30)\n",
    "print(confusion_matrix(y_test, y_pred))\n",
    "print('--'*30)\n",
    "print('CLASSIFICATION_REPORT')\n",
    "print('--'*30)\n",
    "print(classification_report(y_test, y_pred, output_dict= False))\n",
    "print('--'*30)\n",
    "\n",
    "p0t2= round(f1_score(y_test, y_pred), 3)"
   ]
  },
  {
   "cell_type": "markdown",
   "metadata": {},
   "source": [
    "# DECISION TREE"
   ]
  },
  {
   "cell_type": "code",
   "execution_count": 39,
   "metadata": {},
   "outputs": [],
   "source": [
    "#import a model\n",
    "from sklearn.tree import DecisionTreeClassifier"
   ]
  },
  {
   "cell_type": "code",
   "execution_count": 47,
   "metadata": {},
   "outputs": [
    {
     "name": "stderr",
     "output_type": "stream",
     "text": [
      "/anaconda3/lib/python3.7/site-packages/sklearn/metrics/classification.py:1437: UndefinedMetricWarning: F-score is ill-defined and being set to 0.0 due to no predicted samples.\n",
      "  'precision', 'predicted', average, warn_for)\n"
     ]
    },
    {
     "data": {
      "image/png": "[encoded data removed]",
      "text/plain": [
       "<Figure size 864x432 with 1 Axes>"
      ]
     },
     "metadata": {
      "needs_background": "light"
     },
     "output_type": "display_data"
    },
    {
     "name": "stdout",
     "output_type": "stream",
     "text": [
      "f1_score max:0.4928 where D: 1\n"
     ]
    }
   ],
   "source": [
    "# loop to find depth\n",
    "depth_scores = []\n",
    "depth_range= list(range(1, 20, 2))\n",
    "for d in depth_range:\n",
    "    dtree= DecisionTreeClassifier(criterion='gini', max_depth= d, splitter= 'best')\n",
    "    dtree.fit(X_train, y_train)\n",
    "    y_pred_d = dtree.predict(X_test)\n",
    "    depth_scores.append(f1_score(y_test, y_pred_d, pos_label= 1))\n",
    "\n",
    "# plot\n",
    "plt.figure(figsize=(12, 6))  \n",
    "plt.plot(depth_range, depth_scores, color='green', linestyle=':', marker='o',  \n",
    "         markerfacecolor='red', markersize=5)\n",
    "plt.title('F1 score by K Value')  \n",
    "plt.xlabel('K Value')  \n",
    "plt.ylabel('F1 Score') \n",
    "plt.show()\n",
    "\n",
    "# display parametrs \n",
    "print(f'f1_score max:{round(max(depth_scores), 4)} where D: {(depth_scores.index(max(depth_scores))+1)*2 - 1}')\n",
    "d= (depth_scores.index(max(depth_scores))+1)*2 - 1"
   ]
  },
  {
   "cell_type": "code",
   "execution_count": 48,
   "metadata": {},
   "outputs": [
    {
     "name": "stdout",
     "output_type": "stream",
     "text": [
      "TEST_#__: DECISION_TREE\n",
      "------------------------------------------------------------\n",
      "F1_score for train set: 0.511\n",
      "F1_score for test set: 0.493\n",
      "------------------------------------------------------------\n",
      "CONFUSION_MATRIX\n",
      "------------------------------------------------------------\n",
      "[[5293  902]\n",
      " [ 866  859]]\n",
      "------------------------------------------------------------\n",
      "CLASSIFICATION_REPORT\n",
      "------------------------------------------------------------\n",
      "              precision    recall  f1-score   support\n",
      "\n",
      "           0       0.86      0.85      0.86      6195\n",
      "           1       0.49      0.50      0.49      1725\n",
      "\n",
      "    accuracy                           0.78      7920\n",
      "   macro avg       0.67      0.68      0.67      7920\n",
      "weighted avg       0.78      0.78      0.78      7920\n",
      "\n",
      "------------------------------------------------------------\n"
     ]
    }
   ],
   "source": [
    "# instantiate a model\n",
    "dtree= DecisionTreeClassifier(criterion='gini', max_depth= d, splitter= 'best')\n",
    "\n",
    "#train a model\n",
    "dtree= dtree.fit(X_train, y_train)\n",
    "\n",
    "# predict\n",
    "y_pred= dtree.predict(X_test)\n",
    "\n",
    "print('TEST_#__: DECISION_TREE')\n",
    "print('--'*30)\n",
    "print(f'F1_score for train set: {round(f1_score(y_train, dtree.predict(X_train)), 3)}')\n",
    "print(f'F1_score for test set: {round(f1_score(y_test, dtree.predict(X_test)), 3)}')\n",
    "print('--'*30)\n",
    "print('CONFUSION_MATRIX')\n",
    "print('--'*30)\n",
    "print(confusion_matrix(y_test, y_pred))\n",
    "print('--'*30)\n",
    "print('CLASSIFICATION_REPORT')\n",
    "print('--'*30)\n",
    "print(classification_report(y_test, y_pred, output_dict= False))\n",
    "print('--'*30)\n",
    "\n",
    "p0t3= round(f1_score(y_test, y_pred), 3)\n",
    "d03= dtree.get_params()['max_depth']"
   ]
  },
  {
   "cell_type": "markdown",
   "metadata": {},
   "source": [
    "***\n",
    "_HANDLING IMBALANCES_\n",
    "***"
   ]
  },
  {
   "cell_type": "code",
   "execution_count": 49,
   "metadata": {},
   "outputs": [],
   "source": [
    "X= dFrame.drop(['DEFAULT'], axis=1)\n",
    "y= dFrame['DEFAULT']"
   ]
  },
  {
   "cell_type": "code",
   "execution_count": 50,
   "metadata": {},
   "outputs": [],
   "source": [
    "# #X= SelectKBest(mutual_info_classif).fit_transform(X, y)\n",
    "# X= SelectKBest(f_classif).fit_transform(X, y)\n",
    "# # # #X= SelectKBest(chi2, k= all).fit_transform(X, y)\n",
    "# X.shape, y.shape"
   ]
  },
  {
   "cell_type": "code",
   "execution_count": 57,
   "metadata": {},
   "outputs": [],
   "source": [
    "X_train, X_test, y_train, y_test= train_test_split(X, y, random_state= 999, test_size= .33)\n",
    "# X_train= pd.DataFrame(X_train)\n",
    "# X_test= pd.DataFrame(X_test)"
   ]
  },
  {
   "cell_type": "code",
   "execution_count": 40,
   "metadata": {},
   "outputs": [
    {
     "name": "stdout",
     "output_type": "stream",
     "text": [
      "zero count: 12496\n",
      "one count: 3583\n"
     ]
    }
   ],
   "source": [
    "# concatenate our training data back together\n",
    "temp= pd.concat([X_train, y_train], axis=1)\n",
    "\n",
    "# separate minority and majority classes\n",
    "zero = temp[temp['DEFAULT']==0]\n",
    "one = temp[temp['DEFAULT']==1]\n",
    "\n",
    "# get a class count to understand the class imbalance.\n",
    "print('zero count: '+ str(len(zero)))\n",
    "print('one count: '+ str(len(one)))"
   ]
  },
  {
   "cell_type": "markdown",
   "metadata": {},
   "source": [
    "## PART_1: UPSAMPLING ##"
   ]
  },
  {
   "cell_type": "code",
   "execution_count": 42,
   "metadata": {},
   "outputs": [],
   "source": [
    "from sklearn.utils import resample"
   ]
  },
  {
   "cell_type": "code",
   "execution_count": 60,
   "metadata": {},
   "outputs": [
    {
     "name": "stdout",
     "output_type": "stream",
     "text": [
      "1    12496\n",
      "0    12496\n",
      "Name: DEFAULT, dtype: int64\n"
     ]
    }
   ],
   "source": [
    "# upsample minority\n",
    "one_upsampled = resample(one, replace=True, n_samples=len(zero), random_state=999)\n",
    "\n",
    "# combine majority and upsampled minority\n",
    "upsampled = pd.concat([zero, one_upsampled])\n",
    "\n",
    "# check new class counts\n",
    "print(upsampled['DEFAULT'].value_counts())\n",
    "\n",
    "# try a model again with the balanced dataset\n",
    "y_train = upsampled['DEFAULT']\n",
    "X_train = upsampled.drop(['DEFAULT'], axis=1)"
   ]
  },
  {
   "cell_type": "code",
   "execution_count": 61,
   "metadata": {},
   "outputs": [],
   "source": [
    "scaler= StandardScaler()\n",
    "scaler.fit(X_train)\n",
    "X_train= scaler.transform(X_train)\n",
    "\n",
    "scaler.fit(X_test)\n",
    "X_test= scaler.transform(X_test)"
   ]
  },
  {
   "cell_type": "markdown",
   "metadata": {},
   "source": [
    "# KNN 1#\n",
    "---"
   ]
  },
  {
   "cell_type": "code",
   "execution_count": 62,
   "metadata": {},
   "outputs": [
    {
     "data": {
      "image/png": "[encoded data removed]",
      "text/plain": [
       "<Figure size 864x432 with 1 Axes>"
      ]
     },
     "metadata": {
      "needs_background": "light"
     },
     "output_type": "display_data"
    },
    {
     "name": "stdout",
     "output_type": "stream",
     "text": [
      "F1_score max:0.5099 where K: 99\n"
     ]
    }
   ],
   "source": [
    "# loop to find k\n",
    "k_scores = []\n",
    "k_range= list(range(1, 100, 2))\n",
    "for k in k_range:\n",
    "    knn = KNeighborsClassifier(n_neighbors = k, p=2)\n",
    "    knn.fit(X_train, y_train)\n",
    "    y_pred_k = knn.predict(X_test)\n",
    "    k_scores.append(f1_score(y_test, y_pred_k, pos_label= 1))\n",
    "\n",
    "# plot\n",
    "plt.figure(figsize=(12, 6))  \n",
    "plt.plot(k_range, k_scores, color='green', linestyle=':', marker='o',  \n",
    "         markerfacecolor='red', markersize=5)\n",
    "plt.title('F1 score by K Value')  \n",
    "plt.xlabel('K Value')  \n",
    "plt.ylabel('F1 Score') \n",
    "plt.show()\n",
    "\n",
    "# display parametrs \n",
    "print(f'F1_score max:{round(max(k_scores), 4)} where K: {(k_scores.index(max(k_scores))+1)*2 - 1}')\n",
    "k= (k_scores.index(max(k_scores))+1)*2 - 1"
   ]
  },
  {
   "cell_type": "code",
   "execution_count": 63,
   "metadata": {},
   "outputs": [
    {
     "name": "stdout",
     "output_type": "stream",
     "text": [
      "TEST_#__: KNN\n",
      "------------------------------------------------------------\n",
      "F1_score for train set: 0.683\n",
      "F1_score for test set: 0.51\n",
      "------------------------------------------------------------\n",
      "CONFUSION_MATRIX\n",
      "------------------------------------------------------------\n",
      "[[4729 1466]\n",
      " [ 633 1092]]\n",
      "------------------------------------------------------------\n",
      "CLASSIFICATION_REPORT\n",
      "------------------------------------------------------------\n",
      "              precision    recall  f1-score   support\n",
      "\n",
      "           0       0.88      0.76      0.82      6195\n",
      "           1       0.43      0.63      0.51      1725\n",
      "\n",
      "    accuracy                           0.73      7920\n",
      "   macro avg       0.65      0.70      0.66      7920\n",
      "weighted avg       0.78      0.73      0.75      7920\n",
      "\n",
      "------------------------------------------------------------\n"
     ]
    }
   ],
   "source": [
    "# instantiate a model\n",
    "knn= KNeighborsClassifier(n_neighbors= k, p=2)\n",
    "\n",
    "# train a model\n",
    "knn= knn.fit(X_train, y_train)\n",
    "\n",
    "# predict on test set\n",
    "y_pred= knn.predict(X_test)\n",
    "\n",
    "print('TEST_#__: KNN')\n",
    "print('--'*30)\n",
    "print(f'F1_score for train set: {round(f1_score(y_train, knn.predict(X_train)), 3)}')\n",
    "print(f'F1_score for test set: {round(f1_score(y_test, knn.predict(X_test)), 3)}')\n",
    "print('--'*30)\n",
    "print('CONFUSION_MATRIX')\n",
    "print('--'*30)\n",
    "print(confusion_matrix(y_test, y_pred))\n",
    "print('--'*30)\n",
    "print('CLASSIFICATION_REPORT')\n",
    "print('--'*30)\n",
    "print(classification_report(y_test, y_pred, output_dict= False))\n",
    "print('--'*30)\n",
    "\n",
    "p1t1= round(f1_score(y_test, y_pred), 3)\n",
    "k04= knn.get_params()['n_neighbors']"
   ]
  },
  {
   "cell_type": "markdown",
   "metadata": {},
   "source": [
    "# LOGISTIC REGRESSION #"
   ]
  },
  {
   "cell_type": "code",
   "execution_count": 64,
   "metadata": {},
   "outputs": [
    {
     "name": "stdout",
     "output_type": "stream",
     "text": [
      "TEST_#__: LOGISTIC_REGRESSION\n",
      "------------------------------------------------------------\n",
      "F1_score for train set: 0.664\n",
      "F1_score for test set: 0.516\n",
      "------------------------------------------------------------\n",
      "CONFUSION_MATRIX\n",
      "------------------------------------------------------------\n",
      "[[4876 1319]\n",
      " [ 666 1059]]\n",
      "------------------------------------------------------------\n",
      "CLASSIFICATION_REPORT\n",
      "------------------------------------------------------------\n",
      "              precision    recall  f1-score   support\n",
      "\n",
      "           0       0.88      0.79      0.83      6195\n",
      "           1       0.45      0.61      0.52      1725\n",
      "\n",
      "    accuracy                           0.75      7920\n",
      "   macro avg       0.66      0.70      0.67      7920\n",
      "weighted avg       0.79      0.75      0.76      7920\n",
      "\n",
      "------------------------------------------------------------\n"
     ]
    },
    {
     "name": "stderr",
     "output_type": "stream",
     "text": [
      "/anaconda3/lib/python3.7/site-packages/sklearn/linear_model/sag.py:337: ConvergenceWarning: The max_iter was reached which means the coef_ did not converge\n",
      "  \"the coef_ did not converge\", ConvergenceWarning)\n"
     ]
    }
   ],
   "source": [
    "#instantiate a model\n",
    "logreg= LogisticRegression(solver= 'saga')\n",
    "\n",
    "#train a model\n",
    "logreg= logreg.fit(X_train, y_train)\n",
    "\n",
    "#predict\n",
    "y_pred= logreg.predict(X_test)\n",
    "\n",
    "print('TEST_#__: LOGISTIC_REGRESSION')\n",
    "print('--'*30)\n",
    "print(f'F1_score for train set: {round(f1_score(y_train, logreg.predict(X_train)), 3)}')\n",
    "print(f'F1_score for test set: {round(f1_score(y_test, logreg.predict(X_test)), 3)}')\n",
    "print('--'*30)\n",
    "print('CONFUSION_MATRIX')\n",
    "print('--'*30)\n",
    "print(confusion_matrix(y_test, y_pred))\n",
    "print('--'*30)\n",
    "print('CLASSIFICATION_REPORT')\n",
    "print('--'*30)\n",
    "print(classification_report(y_test, y_pred, output_dict= False))\n",
    "print('--'*30)\n",
    "\n",
    "p1t2= round(f1_score(y_test, y_pred), 3)"
   ]
  },
  {
   "cell_type": "markdown",
   "metadata": {},
   "source": [
    "# DECISION TREE #"
   ]
  },
  {
   "cell_type": "code",
   "execution_count": 65,
   "metadata": {},
   "outputs": [
    {
     "data": {
      "image/png": "[encoded data removed]",
      "text/plain": [
       "<Figure size 864x432 with 1 Axes>"
      ]
     },
     "metadata": {
      "needs_background": "light"
     },
     "output_type": "display_data"
    },
    {
     "name": "stdout",
     "output_type": "stream",
     "text": [
      "f1_score max:0.5117 where D: 3\n"
     ]
    }
   ],
   "source": [
    "# loop to find depth\n",
    "depth_scores = []\n",
    "depth_range= list(range(1, 20, 2))\n",
    "for d in depth_range:\n",
    "    dtree= DecisionTreeClassifier(max_depth= d, splitter= 'best')\n",
    "    dtree.fit(X_train, y_train)\n",
    "    y_pred_d = dtree.predict(X_test)\n",
    "    depth_scores.append(f1_score(y_test, y_pred_d, pos_label= 1))\n",
    "\n",
    "# plot\n",
    "plt.figure(figsize=(12, 6))  \n",
    "plt.plot(depth_range, depth_scores, color='green', linestyle=':', marker='o',  \n",
    "         markerfacecolor='red', markersize=5)\n",
    "plt.title('F1 score by K Value')  \n",
    "plt.xlabel('K Value')  \n",
    "plt.ylabel('F1 Score') \n",
    "plt.show()\n",
    "\n",
    "# display parametrs \n",
    "print(f'f1_score max:{round(max(depth_scores), 4)} where D: {(depth_scores.index(max(depth_scores))+1)*2 - 1}')\n",
    "d= (depth_scores.index(max(depth_scores))+1)*2 - 1"
   ]
  },
  {
   "cell_type": "code",
   "execution_count": 66,
   "metadata": {},
   "outputs": [
    {
     "name": "stdout",
     "output_type": "stream",
     "text": [
      "TEST_#__: DECISION_TREE\n",
      "------------------------------------------------------------\n",
      "F1_score for train set: 0.664\n",
      "F1_score for test set: 0.512\n",
      "------------------------------------------------------------\n",
      "CONFUSION_MATRIX\n",
      "------------------------------------------------------------\n",
      "[[5087 1108]\n",
      " [ 751  974]]\n",
      "------------------------------------------------------------\n",
      "CLASSIFICATION_REPORT\n",
      "------------------------------------------------------------\n",
      "              precision    recall  f1-score   support\n",
      "\n",
      "           0       0.87      0.82      0.85      6195\n",
      "           1       0.47      0.56      0.51      1725\n",
      "\n",
      "    accuracy                           0.77      7920\n",
      "   macro avg       0.67      0.69      0.68      7920\n",
      "weighted avg       0.78      0.77      0.77      7920\n",
      "\n",
      "------------------------------------------------------------\n"
     ]
    }
   ],
   "source": [
    "# instantiate a model\n",
    "dtree= DecisionTreeClassifier(criterion='gini', max_depth= d, splitter= 'best')\n",
    "\n",
    "#train a model\n",
    "dtree= dtree.fit(X_train, y_train)\n",
    "\n",
    "# predict\n",
    "y_pred= dtree.predict(X_test)\n",
    "\n",
    "print('TEST_#__: DECISION_TREE')\n",
    "print('--'*30)\n",
    "print(f'F1_score for train set: {round(f1_score(y_train, dtree.predict(X_train)), 3)}')\n",
    "print(f'F1_score for test set: {round(f1_score(y_test, dtree.predict(X_test)), 3)}')\n",
    "print('--'*30)\n",
    "print('CONFUSION_MATRIX')\n",
    "print('--'*30)\n",
    "print(confusion_matrix(y_test, y_pred))\n",
    "print('--'*30)\n",
    "print('CLASSIFICATION_REPORT')\n",
    "print('--'*30)\n",
    "print(classification_report(y_test, y_pred, output_dict= False))\n",
    "print('--'*30)\n",
    "\n",
    "p1t3= round(f1_score(y_test, y_pred), 3)\n",
    "d06= dtree.get_params()['max_depth']"
   ]
  },
  {
   "cell_type": "markdown",
   "metadata": {},
   "source": [
    "## PART_2: DOWNSAMPLING ##"
   ]
  },
  {
   "cell_type": "code",
   "execution_count": 43,
   "metadata": {},
   "outputs": [
    {
     "name": "stdout",
     "output_type": "stream",
     "text": [
      "1    3583\n",
      "0    3583\n",
      "Name: DEFAULT, dtype: int64\n"
     ]
    }
   ],
   "source": [
    "# downsample majority\n",
    "one_downsampled = resample(zero, replace = False, n_samples = len(one), random_state = 999)\n",
    "\n",
    "# combine minority and downsampled majority\n",
    "downsampled = pd.concat([one_downsampled, one])\n",
    "\n",
    "# checking counts\n",
    "print(downsampled['DEFAULT'].value_counts())\n",
    "\n",
    "# trying a model again with the balanced dataset\n",
    "y_train = downsampled['DEFAULT']\n",
    "X_train = downsampled.drop(['DEFAULT'], axis=1)"
   ]
  },
  {
   "cell_type": "code",
   "execution_count": 44,
   "metadata": {},
   "outputs": [],
   "source": [
    "scaler= StandardScaler()\n",
    "scaler.fit(X_train)\n",
    "X_train= scaler.transform(X_train)\n",
    "scaler.fit(X_test)\n",
    "X_test= scaler.transform(X_test)"
   ]
  },
  {
   "cell_type": "markdown",
   "metadata": {},
   "source": [
    "# KNN 2#"
   ]
  },
  {
   "cell_type": "code",
   "execution_count": null,
   "metadata": {},
   "outputs": [],
   "source": [
    "# loop to find k\n",
    "k_scores = []\n",
    "k_range= list(range(1, 100, 2))\n",
    "for k in k_range:\n",
    "    knn = KNeighborsClassifier(n_neighbors = k, p=2)\n",
    "    knn.fit(X_train, y_train)\n",
    "    y_pred_k = knn.predict(X_test)\n",
    "    k_scores.append(f1_score(y_test, y_pred_k, pos_label= 1))\n",
    "\n",
    "# plot\n",
    "plt.figure(figsize=(12, 6))  \n",
    "plt.plot(k_range, k_scores, color='green', linestyle=':', marker='o',  \n",
    "         markerfacecolor='red', markersize=5)\n",
    "plt.title('F1 score by K Value')  \n",
    "plt.xlabel('K Value')  \n",
    "plt.ylabel('F1 Score') \n",
    "plt.show()\n",
    "\n",
    "# display parametrs \n",
    "print(f'F1_score max:{round(max(k_scores), 4)} where K: {(k_scores.index(max(k_scores))+1)*2 - 1}')\n",
    "k= (k_scores.index(max(k_scores))+1)*2 - 1"
   ]
  },
  {
   "cell_type": "code",
   "execution_count": 69,
   "metadata": {},
   "outputs": [
    {
     "name": "stdout",
     "output_type": "stream",
     "text": [
      "TEST_#__: KNN\n",
      "------------------------------------------------------------\n",
      "F1_score for train set: 0.616\n",
      "F1_score for test set: 0.501\n",
      "------------------------------------------------------------\n",
      "CONFUSION_MATRIX\n",
      "------------------------------------------------------------\n",
      "[[5108 1087]\n",
      " [ 785  940]]\n",
      "------------------------------------------------------------\n",
      "CLASSIFICATION_REPORT\n",
      "------------------------------------------------------------\n",
      "              precision    recall  f1-score   support\n",
      "\n",
      "           0       0.87      0.82      0.85      6195\n",
      "           1       0.46      0.54      0.50      1725\n",
      "\n",
      "    accuracy                           0.76      7920\n",
      "   macro avg       0.67      0.68      0.67      7920\n",
      "weighted avg       0.78      0.76      0.77      7920\n",
      "\n",
      "------------------------------------------------------------\n"
     ]
    }
   ],
   "source": [
    "# instantiate a model\n",
    "knn= KNeighborsClassifier(n_neighbors= k, p=2)\n",
    "\n",
    "# train a model\n",
    "knn= knn.fit(X_train, y_train)\n",
    "\n",
    "# predict on test set\n",
    "y_pred= knn.predict(X_test)\n",
    "\n",
    "print('TEST_#__: KNN')\n",
    "print('--'*30)\n",
    "print(f'F1_score for train set: {round(f1_score(y_train, knn.predict(X_train)), 3)}')\n",
    "print(f'F1_score for test set: {round(f1_score(y_test, knn.predict(X_test)), 3)}')\n",
    "print('--'*30)\n",
    "print('CONFUSION_MATRIX')\n",
    "print('--'*30)\n",
    "print(confusion_matrix(y_test, y_pred))\n",
    "print('--'*30)\n",
    "print('CLASSIFICATION_REPORT')\n",
    "print('--'*30)\n",
    "print(classification_report(y_test, y_pred, output_dict= False))\n",
    "print('--'*30)\n",
    "\n",
    "p2t1= round(f1_score(y_test, y_pred), 3)\n",
    "k07= knn.get_params()['n_neighbors']"
   ]
  },
  {
   "cell_type": "markdown",
   "metadata": {},
   "source": [
    "# LOGISTIC REGRESSION #"
   ]
  },
  {
   "cell_type": "code",
   "execution_count": 70,
   "metadata": {},
   "outputs": [
    {
     "name": "stdout",
     "output_type": "stream",
     "text": [
      "TEST_#__: LOGISTIC_REGRESSION\n",
      "------------------------------------------------------------\n",
      "F1_score for train set: 0.66\n",
      "F1_score for test set: 0.514\n",
      "------------------------------------------------------------\n",
      "CONFUSION_MATRIX\n",
      "------------------------------------------------------------\n",
      "[[4852 1343]\n",
      " [ 664 1061]]\n",
      "------------------------------------------------------------\n",
      "CLASSIFICATION_REPORT\n",
      "------------------------------------------------------------\n",
      "              precision    recall  f1-score   support\n",
      "\n",
      "           0       0.88      0.78      0.83      6195\n",
      "           1       0.44      0.62      0.51      1725\n",
      "\n",
      "    accuracy                           0.75      7920\n",
      "   macro avg       0.66      0.70      0.67      7920\n",
      "weighted avg       0.78      0.75      0.76      7920\n",
      "\n",
      "------------------------------------------------------------\n"
     ]
    }
   ],
   "source": [
    "#instantiate a model\n",
    "logreg= LogisticRegression(solver= 'saga')\n",
    "\n",
    "#train a model\n",
    "logreg= logreg.fit(X_train, y_train)\n",
    "\n",
    "#predict\n",
    "y_pred= logreg.predict(X_test)\n",
    "\n",
    "print('TEST_#__: LOGISTIC_REGRESSION')\n",
    "print('--'*30)\n",
    "print(f'F1_score for train set: {round(f1_score(y_train, logreg.predict(X_train)), 3)}')\n",
    "print(f'F1_score for test set: {round(f1_score(y_test, logreg.predict(X_test)), 3)}')\n",
    "print('--'*30)\n",
    "print('CONFUSION_MATRIX')\n",
    "print('--'*30)\n",
    "print(confusion_matrix(y_test, y_pred))\n",
    "print('--'*30)\n",
    "print('CLASSIFICATION_REPORT')\n",
    "print('--'*30)\n",
    "print(classification_report(y_test, y_pred, output_dict= False))\n",
    "print('--'*30)\n",
    "\n",
    "p2t2= round(f1_score(y_test, y_pred), 3)"
   ]
  },
  {
   "cell_type": "markdown",
   "metadata": {},
   "source": [
    "# DECISION TREE #"
   ]
  },
  {
   "cell_type": "code",
   "execution_count": 71,
   "metadata": {},
   "outputs": [
    {
     "data": {
      "image/png": "[encoded data removed]",
      "text/plain": [
       "<Figure size 864x432 with 1 Axes>"
      ]
     },
     "metadata": {
      "needs_background": "light"
     },
     "output_type": "display_data"
    },
    {
     "name": "stdout",
     "output_type": "stream",
     "text": [
      "f1_score max:0.5151 where D: 3\n"
     ]
    }
   ],
   "source": [
    "# loop to find depth\n",
    "depth_scores = []\n",
    "depth_range= list(range(1, 20, 2))\n",
    "for d in depth_range:\n",
    "    dtree= DecisionTreeClassifier(max_depth= d, splitter= 'best')\n",
    "    dtree.fit(X_train, y_train)\n",
    "    y_pred_d = dtree.predict(X_test)\n",
    "    depth_scores.append(f1_score(y_test, y_pred_d, pos_label= 1))\n",
    "\n",
    "# plot\n",
    "plt.figure(figsize=(12, 6))  \n",
    "plt.plot(depth_range, depth_scores, color='green', linestyle=':', marker='o',  \n",
    "         markerfacecolor='red', markersize=5)\n",
    "plt.title('F1 score by K Value')  \n",
    "plt.xlabel('K Value')  \n",
    "plt.ylabel('F1 Score') \n",
    "plt.show()\n",
    "\n",
    "# display parametrs \n",
    "print(f'f1_score max:{round(max(depth_scores), 4)} where D: {(depth_scores.index(max(depth_scores))+1)*2 - 1}')\n",
    "d= (depth_scores.index(max(depth_scores))+1)*2 - 1"
   ]
  },
  {
   "cell_type": "code",
   "execution_count": 72,
   "metadata": {},
   "outputs": [
    {
     "name": "stdout",
     "output_type": "stream",
     "text": [
      "TEST_#__: DECISION_TREE\n",
      "------------------------------------------------------------\n",
      "F1_score for train set: 0.649\n",
      "F1_score for test set: 0.515\n",
      "------------------------------------------------------------\n",
      "CONFUSION_MATRIX\n",
      "--------------------------------------------------------------------------------\n",
      "[[5213  982]\n",
      " [ 786  939]]\n",
      "--------------------------------------------------------------------------------\n",
      "CLASSIFICATION_REPORT\n",
      "--------------------------------------------------------------------------------\n",
      "              precision    recall  f1-score   support\n",
      "\n",
      "           0       0.87      0.84      0.86      6195\n",
      "           1       0.49      0.54      0.52      1725\n",
      "\n",
      "    accuracy                           0.78      7920\n",
      "   macro avg       0.68      0.69      0.69      7920\n",
      "weighted avg       0.79      0.78      0.78      7920\n",
      "\n",
      "--------------------------------------------------------------------------------\n"
     ]
    }
   ],
   "source": [
    "# instantiate a model\n",
    "dtree= DecisionTreeClassifier(criterion='gini', max_depth= d, splitter= 'best')\n",
    "\n",
    "#train a model\n",
    "dtree= dtree.fit(X_train, y_train)\n",
    "\n",
    "# predict\n",
    "y_pred= dtree.predict(X_test)\n",
    "\n",
    "print('TEST_#__: DECISION_TREE')\n",
    "print('--'*30)\n",
    "print(f'F1_score for train set: {round(f1_score(y_train, dtree.predict(X_train)), 3)}')\n",
    "print(f'F1_score for test set: {round(f1_score(y_test, dtree.predict(X_test)), 3)}')\n",
    "print('--'*30)\n",
    "print('CONFUSION_MATRIX')\n",
    "print('--'*40)\n",
    "print(confusion_matrix(y_test, y_pred))\n",
    "print('--'*40)\n",
    "print('CLASSIFICATION_REPORT')\n",
    "print('--'*40)\n",
    "print(classification_report(y_test, y_pred, output_dict= False))\n",
    "print('--'*40)\n",
    "\n",
    "p2t3= round(f1_score(y_test, y_pred), 3)\n",
    "d09= dtree.get_params()['max_depth']"
   ]
  },
  {
   "cell_type": "markdown",
   "metadata": {},
   "source": [
    "# *** #\n",
    "# CONCLUSION #\n",
    "# *** #"
   ]
  },
  {
   "cell_type": "code",
   "execution_count": 73,
   "metadata": {},
   "outputs": [
    {
     "name": "stdout",
     "output_type": "stream",
     "text": [
      "::::::::::::::::::::::::::::::::::::::::\n",
      "CONSOLIDATED_TABLE\n",
      "::::::::::::::::::::::::::::::::::::::::\n",
      "----------------------------------------\n",
      "F1_score for KNN with K 9:0.403\n",
      "----------------------------------------\n",
      "F1_score for LOGREG: 0.397\n",
      "----------------------------------------\n",
      "F1_score for DTREE with D 1:0.493\n",
      "::::::::::::::::::::::::::::::::::::::::\n",
      "UPSAMPLING\n",
      "::::::::::::::::::::::::::::::::::::::::\n",
      "F1_score for KNN with K 99: 0.51\n",
      "----------------------------------------\n",
      "F1_score for LOGREG: 0.516\n",
      "----------------------------------------\n",
      "F1_score for DTREE with D 3:0.512\n",
      "::::::::::::::::::::::::::::::::::::::::\n",
      "DOWNSAMPLING\n",
      "::::::::::::::::::::::::::::::::::::::::\n",
      "----------------------------------------\n",
      "F1_score for KNN with K 99:0.501\n",
      "----------------------------------------\n",
      "F1_score for LOGREG:0.514\n",
      "----------------------------------------\n",
      "F1_score for DTREE with D 3: 0.515\n"
     ]
    }
   ],
   "source": [
    "print(':'*40)\n",
    "print('CONSOLIDATED_TABLE')\n",
    "print(':'*40)\n",
    "print('--'*20)\n",
    "print(f'F1_score for KNN with K {k01}:{p0t1}')\n",
    "print('--'*20)\n",
    "print(f'F1_score for LOGREG: {p0t2}')\n",
    "print('--'*20)\n",
    "print(f'F1_score for DTREE with D {d03}:{p0t3}')\n",
    "print(':'*40)\n",
    "print('UPSAMPLING')\n",
    "print(':'*40)\n",
    "print(f'F1_score for KNN with K {k04}: {p1t1}')\n",
    "print('--'*20)\n",
    "print(f'F1_score for LOGREG: {p1t2}')\n",
    "print('--'*20)\n",
    "print(f'F1_score for DTREE with D {d06}:{p1t3}')\n",
    "print(':'*40)\n",
    "print('DOWNSAMPLING')\n",
    "print(':'*40)\n",
    "print('--'*20)\n",
    "print(f'F1_score for KNN with K {k07}:{p2t1}')\n",
    "print('--'*20)\n",
    "print(f'F1_score for LOGREG:{p2t2}')\n",
    "print('--'*20)\n",
    "print(f'F1_score for DTREE with D {d09}: {p2t3}')"
   ]
  },
  {
   "cell_type": "markdown",
   "metadata": {},
   "source": [
    "***\n",
    "***\n",
    "# GRID SEARCH\n",
    "***\n",
    "***"
   ]
  },
  {
   "cell_type": "code",
   "execution_count": 45,
   "metadata": {},
   "outputs": [],
   "source": [
    "# import a class\n",
    "from sklearn.model_selection import GridSearchCV"
   ]
  },
  {
   "cell_type": "markdown",
   "metadata": {},
   "source": [
    "FIND BEST KNN"
   ]
  },
  {
   "cell_type": "code",
   "execution_count": 46,
   "metadata": {},
   "outputs": [
    {
     "data": {
      "text/plain": [
       "((7166, 22), (7166,))"
      ]
     },
     "execution_count": 46,
     "metadata": {},
     "output_type": "execute_result"
    }
   ],
   "source": [
    "X_train.shape, y_train.shape"
   ]
  },
  {
   "cell_type": "code",
   "execution_count": 47,
   "metadata": {},
   "outputs": [
    {
     "name": "stdout",
     "output_type": "stream",
     "text": [
      "0.6620830438761502\n",
      "{'n_neighbors': 15, 'p': 2}\n",
      "KNeighborsClassifier(algorithm='auto', leaf_size=30, metric='minkowski',\n",
      "                     metric_params=None, n_jobs=None, n_neighbors=15, p=2,\n",
      "                     weights='uniform')\n",
      "F1_score: 0.4904558724455424\n"
     ]
    }
   ],
   "source": [
    "# instantiate a model\n",
    "knn= KNeighborsClassifier()\n",
    "\n",
    "# create parameters to test\n",
    "parameters= {'n_neighbors': range(1, 200, 2),\n",
    "             'p': range(1, 3)\n",
    "            }\n",
    "#\n",
    "grid_knn= GridSearchCV(estimator= knn, param_grid= parameters, cv=5, scoring='f1')\n",
    "\n",
    "#\n",
    "grid_knn= grid_knn.fit(X_train,y_train)\n",
    "\n",
    "#\n",
    "print(grid_knn.best_score_)\n",
    "\n",
    "# \n",
    "print(grid_knn.best_params_)\n",
    "\n",
    "# \n",
    "print(grid_knn.best_estimator_)\n",
    "\n",
    "#\n",
    "y_pred = grid_knn.best_estimator_.predict(X_test)\n",
    "\n",
    "#\n",
    "print(\"F1_score:\", f1_score(y_test, y_pred))"
   ]
  },
  {
   "cell_type": "markdown",
   "metadata": {},
   "source": [
    "***"
   ]
  },
  {
   "cell_type": "markdown",
   "metadata": {},
   "source": [
    "FIND BEST TREE"
   ]
  },
  {
   "cell_type": "code",
   "execution_count": 48,
   "metadata": {},
   "outputs": [
    {
     "name": "stdout",
     "output_type": "stream",
     "text": [
      "0.6714233609918548\n",
      "{'criterion': 'entropy', 'max_depth': 17, 'min_samples_leaf': 50, 'splitter': 'best'}\n",
      "DecisionTreeClassifier(class_weight=None, criterion='entropy', max_depth=17,\n",
      "                       max_features=None, max_leaf_nodes=None,\n",
      "                       min_impurity_decrease=0.0, min_impurity_split=None,\n",
      "                       min_samples_leaf=50, min_samples_split=2,\n",
      "                       min_weight_fraction_leaf=0.0, presort=False,\n",
      "                       random_state=None, splitter='best')\n",
      "F1_score: 0.39206925439821283\n"
     ]
    }
   ],
   "source": [
    "# instantiate a model\n",
    "dtree= DecisionTreeClassifier()\n",
    "\n",
    "# create parameters to test\n",
    "parameters= {'criterion': ['gini', 'entropy'],\n",
    "             'splitter': ['best', 'random'],\n",
    "             'max_depth': range(1, 100, 2),\n",
    "             'min_samples_leaf': range(5, 96, 15)\n",
    "            }\n",
    "#\n",
    "grid_dtree= GridSearchCV(dtree, param_grid= parameters, cv=5, scoring='f1')\n",
    "\n",
    "#\n",
    "grid_dtree= grid_dtree.fit(X_train,y_train)\n",
    "\n",
    "#\n",
    "print(grid_dtree.best_score_)\n",
    "\n",
    "#\n",
    "print(grid_dtree.best_params_)\n",
    "\n",
    "#\n",
    "print(grid_dtree.best_estimator_)\n",
    "\n",
    "#Predict the response for test dataset\n",
    "y_pred = grid_dtree.best_estimator_.predict(X_test)\n",
    "\n",
    "# Model Accuracy, how often is the classifier correct?\n",
    "print(\"F1_score:\", f1_score(y_test, y_pred))"
   ]
  },
  {
   "cell_type": "markdown",
   "metadata": {},
   "source": [
    "FIND BEST LOG_REG"
   ]
  },
  {
   "cell_type": "code",
   "execution_count": 49,
   "metadata": {},
   "outputs": [
    {
     "name": "stderr",
     "output_type": "stream",
     "text": [
      "/anaconda3/lib/python3.7/site-packages/sklearn/linear_model/sag.py:337: ConvergenceWarning: The max_iter was reached which means the coef_ did not converge\n",
      "  \"the coef_ did not converge\", ConvergenceWarning)\n",
      "/anaconda3/lib/python3.7/site-packages/sklearn/linear_model/sag.py:337: ConvergenceWarning: The max_iter was reached which means the coef_ did not converge\n",
      "  \"the coef_ did not converge\", ConvergenceWarning)\n",
      "/anaconda3/lib/python3.7/site-packages/sklearn/linear_model/sag.py:337: ConvergenceWarning: The max_iter was reached which means the coef_ did not converge\n",
      "  \"the coef_ did not converge\", ConvergenceWarning)\n",
      "/anaconda3/lib/python3.7/site-packages/sklearn/linear_model/sag.py:337: ConvergenceWarning: The max_iter was reached which means the coef_ did not converge\n",
      "  \"the coef_ did not converge\", ConvergenceWarning)\n",
      "/anaconda3/lib/python3.7/site-packages/sklearn/linear_model/sag.py:337: ConvergenceWarning: The max_iter was reached which means the coef_ did not converge\n",
      "  \"the coef_ did not converge\", ConvergenceWarning)\n",
      "/anaconda3/lib/python3.7/site-packages/sklearn/linear_model/sag.py:337: ConvergenceWarning: The max_iter was reached which means the coef_ did not converge\n",
      "  \"the coef_ did not converge\", ConvergenceWarning)\n",
      "/anaconda3/lib/python3.7/site-packages/sklearn/linear_model/sag.py:337: ConvergenceWarning: The max_iter was reached which means the coef_ did not converge\n",
      "  \"the coef_ did not converge\", ConvergenceWarning)\n",
      "/anaconda3/lib/python3.7/site-packages/sklearn/linear_model/logistic.py:1510: UserWarning: Setting penalty='none' will ignore the C and l1_ratio parameters\n",
      "  \"Setting penalty='none' will ignore the C and l1_ratio \"\n",
      "/anaconda3/lib/python3.7/site-packages/sklearn/linear_model/sag.py:337: ConvergenceWarning: The max_iter was reached which means the coef_ did not converge\n",
      "  \"the coef_ did not converge\", ConvergenceWarning)\n",
      "/anaconda3/lib/python3.7/site-packages/sklearn/linear_model/logistic.py:1510: UserWarning: Setting penalty='none' will ignore the C and l1_ratio parameters\n",
      "  \"Setting penalty='none' will ignore the C and l1_ratio \"\n",
      "/anaconda3/lib/python3.7/site-packages/sklearn/linear_model/logistic.py:1510: UserWarning: Setting penalty='none' will ignore the C and l1_ratio parameters\n",
      "  \"Setting penalty='none' will ignore the C and l1_ratio \"\n",
      "/anaconda3/lib/python3.7/site-packages/sklearn/linear_model/logistic.py:1510: UserWarning: Setting penalty='none' will ignore the C and l1_ratio parameters\n",
      "  \"Setting penalty='none' will ignore the C and l1_ratio \"\n",
      "/anaconda3/lib/python3.7/site-packages/sklearn/linear_model/logistic.py:1510: UserWarning: Setting penalty='none' will ignore the C and l1_ratio parameters\n",
      "  \"Setting penalty='none' will ignore the C and l1_ratio \"\n",
      "/anaconda3/lib/python3.7/site-packages/sklearn/linear_model/sag.py:337: ConvergenceWarning: The max_iter was reached which means the coef_ did not converge\n",
      "  \"the coef_ did not converge\", ConvergenceWarning)\n",
      "/anaconda3/lib/python3.7/site-packages/sklearn/linear_model/sag.py:337: ConvergenceWarning: The max_iter was reached which means the coef_ did not converge\n",
      "  \"the coef_ did not converge\", ConvergenceWarning)\n",
      "/anaconda3/lib/python3.7/site-packages/sklearn/linear_model/sag.py:337: ConvergenceWarning: The max_iter was reached which means the coef_ did not converge\n",
      "  \"the coef_ did not converge\", ConvergenceWarning)\n",
      "/anaconda3/lib/python3.7/site-packages/sklearn/linear_model/sag.py:337: ConvergenceWarning: The max_iter was reached which means the coef_ did not converge\n",
      "  \"the coef_ did not converge\", ConvergenceWarning)\n",
      "/anaconda3/lib/python3.7/site-packages/sklearn/linear_model/sag.py:337: ConvergenceWarning: The max_iter was reached which means the coef_ did not converge\n",
      "  \"the coef_ did not converge\", ConvergenceWarning)\n",
      "/anaconda3/lib/python3.7/site-packages/sklearn/linear_model/sag.py:337: ConvergenceWarning: The max_iter was reached which means the coef_ did not converge\n",
      "  \"the coef_ did not converge\", ConvergenceWarning)\n",
      "/anaconda3/lib/python3.7/site-packages/sklearn/linear_model/sag.py:337: ConvergenceWarning: The max_iter was reached which means the coef_ did not converge\n",
      "  \"the coef_ did not converge\", ConvergenceWarning)\n",
      "/anaconda3/lib/python3.7/site-packages/sklearn/linear_model/sag.py:337: ConvergenceWarning: The max_iter was reached which means the coef_ did not converge\n",
      "  \"the coef_ did not converge\", ConvergenceWarning)\n",
      "/anaconda3/lib/python3.7/site-packages/sklearn/linear_model/logistic.py:1510: UserWarning: Setting penalty='none' will ignore the C and l1_ratio parameters\n",
      "  \"Setting penalty='none' will ignore the C and l1_ratio \"\n",
      "/anaconda3/lib/python3.7/site-packages/sklearn/linear_model/sag.py:337: ConvergenceWarning: The max_iter was reached which means the coef_ did not converge\n",
      "  \"the coef_ did not converge\", ConvergenceWarning)\n",
      "/anaconda3/lib/python3.7/site-packages/sklearn/linear_model/logistic.py:1510: UserWarning: Setting penalty='none' will ignore the C and l1_ratio parameters\n",
      "  \"Setting penalty='none' will ignore the C and l1_ratio \"\n",
      "/anaconda3/lib/python3.7/site-packages/sklearn/linear_model/logistic.py:1510: UserWarning: Setting penalty='none' will ignore the C and l1_ratio parameters\n",
      "  \"Setting penalty='none' will ignore the C and l1_ratio \"\n",
      "/anaconda3/lib/python3.7/site-packages/sklearn/linear_model/logistic.py:1510: UserWarning: Setting penalty='none' will ignore the C and l1_ratio parameters\n",
      "  \"Setting penalty='none' will ignore the C and l1_ratio \"\n",
      "/anaconda3/lib/python3.7/site-packages/sklearn/linear_model/logistic.py:1510: UserWarning: Setting penalty='none' will ignore the C and l1_ratio parameters\n",
      "  \"Setting penalty='none' will ignore the C and l1_ratio \"\n",
      "/anaconda3/lib/python3.7/site-packages/sklearn/linear_model/sag.py:337: ConvergenceWarning: The max_iter was reached which means the coef_ did not converge\n",
      "  \"the coef_ did not converge\", ConvergenceWarning)\n",
      "/anaconda3/lib/python3.7/site-packages/sklearn/linear_model/sag.py:337: ConvergenceWarning: The max_iter was reached which means the coef_ did not converge\n",
      "  \"the coef_ did not converge\", ConvergenceWarning)\n",
      "/anaconda3/lib/python3.7/site-packages/sklearn/linear_model/sag.py:337: ConvergenceWarning: The max_iter was reached which means the coef_ did not converge\n",
      "  \"the coef_ did not converge\", ConvergenceWarning)\n",
      "/anaconda3/lib/python3.7/site-packages/sklearn/linear_model/sag.py:337: ConvergenceWarning: The max_iter was reached which means the coef_ did not converge\n",
      "  \"the coef_ did not converge\", ConvergenceWarning)\n",
      "/anaconda3/lib/python3.7/site-packages/sklearn/linear_model/sag.py:337: ConvergenceWarning: The max_iter was reached which means the coef_ did not converge\n",
      "  \"the coef_ did not converge\", ConvergenceWarning)\n",
      "/anaconda3/lib/python3.7/site-packages/sklearn/linear_model/logistic.py:1510: UserWarning: Setting penalty='none' will ignore the C and l1_ratio parameters\n",
      "  \"Setting penalty='none' will ignore the C and l1_ratio \"\n",
      "/anaconda3/lib/python3.7/site-packages/sklearn/linear_model/sag.py:337: ConvergenceWarning: The max_iter was reached which means the coef_ did not converge\n",
      "  \"the coef_ did not converge\", ConvergenceWarning)\n",
      "/anaconda3/lib/python3.7/site-packages/sklearn/linear_model/logistic.py:1510: UserWarning: Setting penalty='none' will ignore the C and l1_ratio parameters\n",
      "  \"Setting penalty='none' will ignore the C and l1_ratio \"\n",
      "/anaconda3/lib/python3.7/site-packages/sklearn/linear_model/logistic.py:1510: UserWarning: Setting penalty='none' will ignore the C and l1_ratio parameters\n",
      "  \"Setting penalty='none' will ignore the C and l1_ratio \"\n",
      "/anaconda3/lib/python3.7/site-packages/sklearn/linear_model/logistic.py:1510: UserWarning: Setting penalty='none' will ignore the C and l1_ratio parameters\n",
      "  \"Setting penalty='none' will ignore the C and l1_ratio \"\n",
      "/anaconda3/lib/python3.7/site-packages/sklearn/linear_model/logistic.py:1510: UserWarning: Setting penalty='none' will ignore the C and l1_ratio parameters\n",
      "  \"Setting penalty='none' will ignore the C and l1_ratio \"\n",
      "/anaconda3/lib/python3.7/site-packages/sklearn/linear_model/sag.py:337: ConvergenceWarning: The max_iter was reached which means the coef_ did not converge\n",
      "  \"the coef_ did not converge\", ConvergenceWarning)\n"
     ]
    },
    {
     "name": "stdout",
     "output_type": "stream",
     "text": [
      "0.6594445417625237\n",
      "{'C': 0.25, 'penalty': 'l1'}\n",
      "LogisticRegression(C=0.25, class_weight=None, dual=False, fit_intercept=True,\n",
      "                   intercept_scaling=1, l1_ratio=None, max_iter=100,\n",
      "                   multi_class='warn', n_jobs=None, penalty='l1',\n",
      "                   random_state=None, solver='saga', tol=0.0001, verbose=0,\n",
      "                   warm_start=False)\n",
      "F1_score: 0.5141886975503274\n"
     ]
    },
    {
     "name": "stderr",
     "output_type": "stream",
     "text": [
      "/anaconda3/lib/python3.7/site-packages/sklearn/linear_model/sag.py:337: ConvergenceWarning: The max_iter was reached which means the coef_ did not converge\n",
      "  \"the coef_ did not converge\", ConvergenceWarning)\n"
     ]
    }
   ],
   "source": [
    "# instantiate a model\n",
    "logreg= LogisticRegression(solver= 'saga')\n",
    "\n",
    "# create parameters to test\n",
    "parameters= {'penalty': ['l1', 'l2', 'none'],\n",
    "             'C': [0.25, 0.5, 0.75],\n",
    "            }\n",
    "#\n",
    "grid_logreg= GridSearchCV(logreg, param_grid= parameters, cv=5, scoring='f1')\n",
    "\n",
    "#\n",
    "grid_logreg= grid_logreg.fit(X_train,y_train)\n",
    "\n",
    "#\n",
    "print(grid_logreg.best_score_)\n",
    "\n",
    "#\n",
    "print(grid_logreg.best_params_)\n",
    "\n",
    "#\n",
    "print(grid_logreg.best_estimator_)\n",
    "\n",
    "#Predict the response for test dataset\n",
    "y_pred = grid_logreg.best_estimator_.predict(X_test)\n",
    "\n",
    "# Model Accuracy, how often is the classifier correct?\n",
    "print(\"F1_score:\", f1_score(y_test, y_pred))"
   ]
  },
  {
   "cell_type": "markdown",
   "metadata": {},
   "source": [
    "***\n",
    "***\n",
    "***"
   ]
  },
  {
   "cell_type": "code",
   "execution_count": 50,
   "metadata": {},
   "outputs": [],
   "source": [
    "dFrame_new= pd.read_csv('classification_lab_data_holdout_features.csv')"
   ]
  },
  {
   "cell_type": "code",
   "execution_count": 51,
   "metadata": {},
   "outputs": [
    {
     "name": "stdout",
     "output_type": "stream",
     "text": [
      "<class 'pandas.core.frame.DataFrame'>\n",
      "RangeIndex: 6001 entries, 0 to 6000\n",
      "Data columns (total 23 columns):\n",
      "LIMIT_BAL    6001 non-null int64\n",
      "SEX          6001 non-null int64\n",
      "EDUCATION    6001 non-null int64\n",
      "MARRIAGE     6001 non-null int64\n",
      "AGE          6001 non-null int64\n",
      "PAY_0        6001 non-null int64\n",
      "PAY_2        6001 non-null int64\n",
      "PAY_3        6001 non-null int64\n",
      "PAY_4        6001 non-null int64\n",
      "PAY_5        6001 non-null int64\n",
      "PAY_6        6001 non-null int64\n",
      "BILL_AMT1    6001 non-null int64\n",
      "BILL_AMT2    6001 non-null int64\n",
      "BILL_AMT3    6001 non-null int64\n",
      "BILL_AMT4    6001 non-null int64\n",
      "BILL_AMT5    6001 non-null int64\n",
      "BILL_AMT6    6001 non-null int64\n",
      "PAY_AMT1     6001 non-null int64\n",
      "PAY_AMT2     6001 non-null int64\n",
      "PAY_AMT3     6001 non-null int64\n",
      "PAY_AMT4     6001 non-null int64\n",
      "PAY_AMT5     6001 non-null int64\n",
      "PAY_AMT6     6001 non-null int64\n",
      "dtypes: int64(23)\n",
      "memory usage: 1.1 MB\n"
     ]
    }
   ],
   "source": [
    "dFrame_new.info()"
   ]
  },
  {
   "cell_type": "code",
   "execution_count": 52,
   "metadata": {},
   "outputs": [],
   "source": [
    "dFrame_new= dFrame_new.rename(index= str, columns={'PAY_0': 'PAY_1'})"
   ]
  },
  {
   "cell_type": "code",
   "execution_count": 53,
   "metadata": {},
   "outputs": [
    {
     "data": {
      "text/html": [
       "<div>\n",
       "<style scoped>\n",
       "    .dataframe tbody tr th:only-of-type {\n",
       "        vertical-align: middle;\n",
       "    }\n",
       "\n",
       "    .dataframe tbody tr th {\n",
       "        vertical-align: top;\n",
       "    }\n",
       "\n",
       "    .dataframe thead th {\n",
       "        text-align: right;\n",
       "    }\n",
       "</style>\n",
       "<table border=\"1\" class=\"dataframe\">\n",
       "  <thead>\n",
       "    <tr style=\"text-align: right;\">\n",
       "      <th></th>\n",
       "      <th>count</th>\n",
       "      <th>mean</th>\n",
       "      <th>std</th>\n",
       "      <th>min</th>\n",
       "      <th>25%</th>\n",
       "      <th>50%</th>\n",
       "      <th>75%</th>\n",
       "      <th>max</th>\n",
       "    </tr>\n",
       "  </thead>\n",
       "  <tbody>\n",
       "    <tr>\n",
       "      <th>LIMIT_BAL</th>\n",
       "      <td>6001.0</td>\n",
       "      <td>166118.980170</td>\n",
       "      <td>129077.567796</td>\n",
       "      <td>10000.0</td>\n",
       "      <td>50000.0</td>\n",
       "      <td>140000.0</td>\n",
       "      <td>240000.0</td>\n",
       "      <td>780000.0</td>\n",
       "    </tr>\n",
       "    <tr>\n",
       "      <th>SEX</th>\n",
       "      <td>6001.0</td>\n",
       "      <td>1.604233</td>\n",
       "      <td>0.489056</td>\n",
       "      <td>1.0</td>\n",
       "      <td>1.0</td>\n",
       "      <td>2.0</td>\n",
       "      <td>2.0</td>\n",
       "      <td>2.0</td>\n",
       "    </tr>\n",
       "    <tr>\n",
       "      <th>EDUCATION</th>\n",
       "      <td>6001.0</td>\n",
       "      <td>1.838527</td>\n",
       "      <td>0.783851</td>\n",
       "      <td>0.0</td>\n",
       "      <td>1.0</td>\n",
       "      <td>2.0</td>\n",
       "      <td>2.0</td>\n",
       "      <td>6.0</td>\n",
       "    </tr>\n",
       "    <tr>\n",
       "      <th>MARRIAGE</th>\n",
       "      <td>6001.0</td>\n",
       "      <td>1.556241</td>\n",
       "      <td>0.520139</td>\n",
       "      <td>0.0</td>\n",
       "      <td>1.0</td>\n",
       "      <td>2.0</td>\n",
       "      <td>2.0</td>\n",
       "      <td>3.0</td>\n",
       "    </tr>\n",
       "    <tr>\n",
       "      <th>AGE</th>\n",
       "      <td>6001.0</td>\n",
       "      <td>35.334611</td>\n",
       "      <td>9.071366</td>\n",
       "      <td>21.0</td>\n",
       "      <td>28.0</td>\n",
       "      <td>34.0</td>\n",
       "      <td>41.0</td>\n",
       "      <td>73.0</td>\n",
       "    </tr>\n",
       "    <tr>\n",
       "      <th>PAY_1</th>\n",
       "      <td>6001.0</td>\n",
       "      <td>-0.023663</td>\n",
       "      <td>1.135388</td>\n",
       "      <td>-2.0</td>\n",
       "      <td>-1.0</td>\n",
       "      <td>0.0</td>\n",
       "      <td>0.0</td>\n",
       "      <td>8.0</td>\n",
       "    </tr>\n",
       "    <tr>\n",
       "      <th>PAY_2</th>\n",
       "      <td>6001.0</td>\n",
       "      <td>-0.129478</td>\n",
       "      <td>1.213699</td>\n",
       "      <td>-2.0</td>\n",
       "      <td>-1.0</td>\n",
       "      <td>0.0</td>\n",
       "      <td>0.0</td>\n",
       "      <td>7.0</td>\n",
       "    </tr>\n",
       "    <tr>\n",
       "      <th>PAY_3</th>\n",
       "      <td>6001.0</td>\n",
       "      <td>-0.168472</td>\n",
       "      <td>1.210281</td>\n",
       "      <td>-2.0</td>\n",
       "      <td>-1.0</td>\n",
       "      <td>0.0</td>\n",
       "      <td>0.0</td>\n",
       "      <td>7.0</td>\n",
       "    </tr>\n",
       "    <tr>\n",
       "      <th>PAY_4</th>\n",
       "      <td>6001.0</td>\n",
       "      <td>-0.234961</td>\n",
       "      <td>1.170805</td>\n",
       "      <td>-2.0</td>\n",
       "      <td>-1.0</td>\n",
       "      <td>0.0</td>\n",
       "      <td>0.0</td>\n",
       "      <td>7.0</td>\n",
       "    </tr>\n",
       "    <tr>\n",
       "      <th>PAY_5</th>\n",
       "      <td>6001.0</td>\n",
       "      <td>-0.285619</td>\n",
       "      <td>1.133758</td>\n",
       "      <td>-2.0</td>\n",
       "      <td>-1.0</td>\n",
       "      <td>0.0</td>\n",
       "      <td>0.0</td>\n",
       "      <td>7.0</td>\n",
       "    </tr>\n",
       "    <tr>\n",
       "      <th>PAY_6</th>\n",
       "      <td>6001.0</td>\n",
       "      <td>-0.312115</td>\n",
       "      <td>1.148217</td>\n",
       "      <td>-2.0</td>\n",
       "      <td>-1.0</td>\n",
       "      <td>0.0</td>\n",
       "      <td>0.0</td>\n",
       "      <td>7.0</td>\n",
       "    </tr>\n",
       "    <tr>\n",
       "      <th>BILL_AMT1</th>\n",
       "      <td>6001.0</td>\n",
       "      <td>49760.820363</td>\n",
       "      <td>71720.028327</td>\n",
       "      <td>-5684.0</td>\n",
       "      <td>3454.0</td>\n",
       "      <td>21909.0</td>\n",
       "      <td>64655.0</td>\n",
       "      <td>630458.0</td>\n",
       "    </tr>\n",
       "    <tr>\n",
       "      <th>BILL_AMT2</th>\n",
       "      <td>6001.0</td>\n",
       "      <td>47808.868855</td>\n",
       "      <td>69632.867171</td>\n",
       "      <td>-69777.0</td>\n",
       "      <td>3095.0</td>\n",
       "      <td>20784.0</td>\n",
       "      <td>61413.0</td>\n",
       "      <td>646770.0</td>\n",
       "    </tr>\n",
       "    <tr>\n",
       "      <th>BILL_AMT3</th>\n",
       "      <td>6001.0</td>\n",
       "      <td>45166.853191</td>\n",
       "      <td>66612.318592</td>\n",
       "      <td>-25443.0</td>\n",
       "      <td>2500.0</td>\n",
       "      <td>19543.0</td>\n",
       "      <td>57985.0</td>\n",
       "      <td>693131.0</td>\n",
       "    </tr>\n",
       "    <tr>\n",
       "      <th>BILL_AMT4</th>\n",
       "      <td>6001.0</td>\n",
       "      <td>41128.830362</td>\n",
       "      <td>61857.157340</td>\n",
       "      <td>-46627.0</td>\n",
       "      <td>2084.0</td>\n",
       "      <td>18587.0</td>\n",
       "      <td>51336.0</td>\n",
       "      <td>628699.0</td>\n",
       "    </tr>\n",
       "    <tr>\n",
       "      <th>BILL_AMT5</th>\n",
       "      <td>6001.0</td>\n",
       "      <td>38565.171971</td>\n",
       "      <td>58892.693860</td>\n",
       "      <td>-46627.0</td>\n",
       "      <td>1615.0</td>\n",
       "      <td>17664.0</td>\n",
       "      <td>48803.0</td>\n",
       "      <td>823540.0</td>\n",
       "    </tr>\n",
       "    <tr>\n",
       "      <th>BILL_AMT6</th>\n",
       "      <td>6001.0</td>\n",
       "      <td>37451.688219</td>\n",
       "      <td>57404.431820</td>\n",
       "      <td>-46627.0</td>\n",
       "      <td>1116.0</td>\n",
       "      <td>16644.0</td>\n",
       "      <td>48382.0</td>\n",
       "      <td>501370.0</td>\n",
       "    </tr>\n",
       "    <tr>\n",
       "      <th>PAY_AMT1</th>\n",
       "      <td>6001.0</td>\n",
       "      <td>5567.042160</td>\n",
       "      <td>16012.069319</td>\n",
       "      <td>0.0</td>\n",
       "      <td>1000.0</td>\n",
       "      <td>2081.0</td>\n",
       "      <td>5000.0</td>\n",
       "      <td>423903.0</td>\n",
       "    </tr>\n",
       "    <tr>\n",
       "      <th>PAY_AMT2</th>\n",
       "      <td>6001.0</td>\n",
       "      <td>5527.614064</td>\n",
       "      <td>15659.285542</td>\n",
       "      <td>0.0</td>\n",
       "      <td>747.0</td>\n",
       "      <td>2000.0</td>\n",
       "      <td>5000.0</td>\n",
       "      <td>361560.0</td>\n",
       "    </tr>\n",
       "    <tr>\n",
       "      <th>PAY_AMT3</th>\n",
       "      <td>6001.0</td>\n",
       "      <td>5115.139310</td>\n",
       "      <td>16087.560921</td>\n",
       "      <td>0.0</td>\n",
       "      <td>390.0</td>\n",
       "      <td>1799.0</td>\n",
       "      <td>4408.0</td>\n",
       "      <td>338394.0</td>\n",
       "    </tr>\n",
       "    <tr>\n",
       "      <th>PAY_AMT4</th>\n",
       "      <td>6001.0</td>\n",
       "      <td>4832.420263</td>\n",
       "      <td>15406.424308</td>\n",
       "      <td>0.0</td>\n",
       "      <td>283.0</td>\n",
       "      <td>1500.0</td>\n",
       "      <td>4000.0</td>\n",
       "      <td>400046.0</td>\n",
       "    </tr>\n",
       "    <tr>\n",
       "      <th>PAY_AMT5</th>\n",
       "      <td>6001.0</td>\n",
       "      <td>4696.824363</td>\n",
       "      <td>13933.732405</td>\n",
       "      <td>0.0</td>\n",
       "      <td>191.0</td>\n",
       "      <td>1500.0</td>\n",
       "      <td>4054.0</td>\n",
       "      <td>332000.0</td>\n",
       "    </tr>\n",
       "    <tr>\n",
       "      <th>PAY_AMT6</th>\n",
       "      <td>6001.0</td>\n",
       "      <td>5094.966172</td>\n",
       "      <td>17705.018918</td>\n",
       "      <td>0.0</td>\n",
       "      <td>92.0</td>\n",
       "      <td>1500.0</td>\n",
       "      <td>4000.0</td>\n",
       "      <td>527143.0</td>\n",
       "    </tr>\n",
       "  </tbody>\n",
       "</table>\n",
       "</div>"
      ],
      "text/plain": [
       "            count           mean            std      min      25%       50%  \\\n",
       "LIMIT_BAL  6001.0  166118.980170  129077.567796  10000.0  50000.0  140000.0   \n",
       "SEX        6001.0       1.604233       0.489056      1.0      1.0       2.0   \n",
       "EDUCATION  6001.0       1.838527       0.783851      0.0      1.0       2.0   \n",
       "MARRIAGE   6001.0       1.556241       0.520139      0.0      1.0       2.0   \n",
       "AGE        6001.0      35.334611       9.071366     21.0     28.0      34.0   \n",
       "PAY_1      6001.0      -0.023663       1.135388     -2.0     -1.0       0.0   \n",
       "PAY_2      6001.0      -0.129478       1.213699     -2.0     -1.0       0.0   \n",
       "PAY_3      6001.0      -0.168472       1.210281     -2.0     -1.0       0.0   \n",
       "PAY_4      6001.0      -0.234961       1.170805     -2.0     -1.0       0.0   \n",
       "PAY_5      6001.0      -0.285619       1.133758     -2.0     -1.0       0.0   \n",
       "PAY_6      6001.0      -0.312115       1.148217     -2.0     -1.0       0.0   \n",
       "BILL_AMT1  6001.0   49760.820363   71720.028327  -5684.0   3454.0   21909.0   \n",
       "BILL_AMT2  6001.0   47808.868855   69632.867171 -69777.0   3095.0   20784.0   \n",
       "BILL_AMT3  6001.0   45166.853191   66612.318592 -25443.0   2500.0   19543.0   \n",
       "BILL_AMT4  6001.0   41128.830362   61857.157340 -46627.0   2084.0   18587.0   \n",
       "BILL_AMT5  6001.0   38565.171971   58892.693860 -46627.0   1615.0   17664.0   \n",
       "BILL_AMT6  6001.0   37451.688219   57404.431820 -46627.0   1116.0   16644.0   \n",
       "PAY_AMT1   6001.0    5567.042160   16012.069319      0.0   1000.0    2081.0   \n",
       "PAY_AMT2   6001.0    5527.614064   15659.285542      0.0    747.0    2000.0   \n",
       "PAY_AMT3   6001.0    5115.139310   16087.560921      0.0    390.0    1799.0   \n",
       "PAY_AMT4   6001.0    4832.420263   15406.424308      0.0    283.0    1500.0   \n",
       "PAY_AMT5   6001.0    4696.824363   13933.732405      0.0    191.0    1500.0   \n",
       "PAY_AMT6   6001.0    5094.966172   17705.018918      0.0     92.0    1500.0   \n",
       "\n",
       "                75%       max  \n",
       "LIMIT_BAL  240000.0  780000.0  \n",
       "SEX             2.0       2.0  \n",
       "EDUCATION       2.0       6.0  \n",
       "MARRIAGE        2.0       3.0  \n",
       "AGE            41.0      73.0  \n",
       "PAY_1           0.0       8.0  \n",
       "PAY_2           0.0       7.0  \n",
       "PAY_3           0.0       7.0  \n",
       "PAY_4           0.0       7.0  \n",
       "PAY_5           0.0       7.0  \n",
       "PAY_6           0.0       7.0  \n",
       "BILL_AMT1   64655.0  630458.0  \n",
       "BILL_AMT2   61413.0  646770.0  \n",
       "BILL_AMT3   57985.0  693131.0  \n",
       "BILL_AMT4   51336.0  628699.0  \n",
       "BILL_AMT5   48803.0  823540.0  \n",
       "BILL_AMT6   48382.0  501370.0  \n",
       "PAY_AMT1     5000.0  423903.0  \n",
       "PAY_AMT2     5000.0  361560.0  \n",
       "PAY_AMT3     4408.0  338394.0  \n",
       "PAY_AMT4     4000.0  400046.0  \n",
       "PAY_AMT5     4054.0  332000.0  \n",
       "PAY_AMT6     4000.0  527143.0  "
      ]
     },
     "execution_count": 53,
     "metadata": {},
     "output_type": "execute_result"
    }
   ],
   "source": [
    "dFrame_new.describe().transpose()"
   ]
  },
  {
   "cell_type": "markdown",
   "metadata": {},
   "source": [
    "Add all out of range data in EDUCATION ('0', '5', '6') to EDUCATION '4' == others  \n",
    "Add all out of range data in MARRIAGE ('0') to MARRIAGE '3' == others"
   ]
  },
  {
   "cell_type": "code",
   "execution_count": 54,
   "metadata": {},
   "outputs": [],
   "source": [
    "for i in range(len(dFrame_new)):\n",
    "    if dFrame_new.EDUCATION[i] == 0 or dFrame_new.EDUCATION[i] == 5 or dFrame_new.EDUCATION[i] == 6:\n",
    "        dFrame_new.EDUCATION[i] = 4"
   ]
  },
  {
   "cell_type": "code",
   "execution_count": 55,
   "metadata": {},
   "outputs": [],
   "source": [
    "for i in range(len(dFrame_new)):\n",
    "    if dFrame_new.MARRIAGE[i] == 0:\n",
    "        dFrame_new.MARRIAGE[i] = 3"
   ]
  },
  {
   "cell_type": "markdown",
   "metadata": {},
   "source": [
    "***\n",
    "***\n",
    "# FEATURE ENGINEERING\n",
    "***\n",
    "***"
   ]
  },
  {
   "cell_type": "code",
   "execution_count": 56,
   "metadata": {},
   "outputs": [],
   "source": [
    "# add +1 to every entry\n",
    "dFrame_new['PAY_1'] = dFrame_new['PAY_1'] + 1\n",
    "dFrame_new['PAY_2'] = dFrame_new['PAY_2'] + 1\n",
    "dFrame_new['PAY_3'] = dFrame_new['PAY_3'] + 1\n",
    "dFrame_new['PAY_4'] = dFrame_new['PAY_4'] + 1\n",
    "dFrame_new['PAY_5'] = dFrame_new['PAY_5'] + 1\n",
    "dFrame_new['PAY_6'] = dFrame_new['PAY_6'] + 1"
   ]
  },
  {
   "cell_type": "code",
   "execution_count": 57,
   "metadata": {},
   "outputs": [],
   "source": [
    "# split in two groups\n",
    "for i in range(len(dFrame_new)):\n",
    "    if dFrame_new.PAY_1[i] == -1 or dFrame_new.PAY_1[i] == 0 or dFrame_new.PAY_1[i] == 1:\n",
    "        dFrame_new.PAY_1[i] = 0\n",
    "    else:\n",
    "        dFrame_new.PAY_1[i] = 1"
   ]
  },
  {
   "cell_type": "code",
   "execution_count": 58,
   "metadata": {},
   "outputs": [],
   "source": [
    "# split in two groups\n",
    "for i in range(len(dFrame_new)):\n",
    "    if dFrame_new.PAY_2[i] == -1 or dFrame_new.PAY_2[i] == 0 or dFrame_new.PAY_2[i] == 1:\n",
    "        dFrame_new.PAY_2[i] = 0\n",
    "    else:\n",
    "        dFrame_new.PAY_2[i] = 1"
   ]
  },
  {
   "cell_type": "code",
   "execution_count": 59,
   "metadata": {},
   "outputs": [],
   "source": [
    "# split in two groups\n",
    "for i in range(len(dFrame_new)):\n",
    "    if dFrame_new.PAY_3[i] == -1 or dFrame_new.PAY_3[i] == 0 or dFrame_new.PAY_3[i] == 1:\n",
    "        dFrame_new.PAY_3[i] = 0\n",
    "    else:\n",
    "        dFrame_new.PAY_3[i] = 1"
   ]
  },
  {
   "cell_type": "code",
   "execution_count": 60,
   "metadata": {},
   "outputs": [],
   "source": [
    "# split in two groups\n",
    "for i in range(len(dFrame_new)):\n",
    "    if dFrame_new.PAY_4[i] == -1 or dFrame_new.PAY_4[i] == 0 or dFrame_new.PAY_4[i] == 1:\n",
    "        dFrame_new.PAY_4[i] = 0\n",
    "    else:\n",
    "        dFrame_new.PAY_4[i] = 1"
   ]
  },
  {
   "cell_type": "code",
   "execution_count": 61,
   "metadata": {},
   "outputs": [],
   "source": [
    "# split in two groups\n",
    "for i in range(len(dFrame_new)):\n",
    "    if dFrame_new.PAY_5[i] == -1 or dFrame_new.PAY_5[i] == 0 or dFrame_new.PAY_5[i] == 1:\n",
    "        dFrame_new.PAY_5[i] = 0\n",
    "    else:\n",
    "        dFrame_new.PAY_5[i] = 1"
   ]
  },
  {
   "cell_type": "code",
   "execution_count": 62,
   "metadata": {},
   "outputs": [],
   "source": [
    "# split in two groups\n",
    "for i in range(len(dFrame_new)):\n",
    "    if dFrame_new.PAY_6[i] == -1 or dFrame_new.PAY_6[i] == 0 or dFrame_new.PAY_6[i] == 1:\n",
    "        dFrame_new.PAY_6[i] = 0\n",
    "    else:\n",
    "        dFrame_new.PAY_6[i] = 1"
   ]
  },
  {
   "cell_type": "code",
   "execution_count": 63,
   "metadata": {},
   "outputs": [],
   "source": [
    "# calculate payment/bill ratio\n",
    "dFrame_new['BILL_RATIO_SEP']= dFrame_new['PAY_AMT1']/dFrame_new['BILL_AMT2']\n",
    "dFrame_new['BILL_RATIO_AUG']= dFrame_new['PAY_AMT2']/dFrame_new['BILL_AMT3']\n",
    "dFrame_new['BILL_RATIO_JUL']= dFrame_new['PAY_AMT3']/dFrame_new['BILL_AMT4']\n",
    "dFrame_new['BILL_RATIO_JUN']= dFrame_new['PAY_AMT4']/dFrame_new['BILL_AMT5']\n",
    "dFrame_new['BILL_RATIO_MAY']= dFrame_new['PAY_AMT5']/dFrame_new['BILL_AMT6']"
   ]
  },
  {
   "cell_type": "code",
   "execution_count": 22,
   "metadata": {},
   "outputs": [],
   "source": [
    "#dFrame.fillna(0, inplace= True)"
   ]
  },
  {
   "cell_type": "code",
   "execution_count": 64,
   "metadata": {},
   "outputs": [],
   "source": [
    "dFrame_new.replace([np.inf, -np.inf], np.nan, inplace= True)"
   ]
  },
  {
   "cell_type": "code",
   "execution_count": 65,
   "metadata": {},
   "outputs": [],
   "source": [
    "dFrame_new.fillna(0, inplace= True)"
   ]
  },
  {
   "cell_type": "code",
   "execution_count": 66,
   "metadata": {},
   "outputs": [],
   "source": [
    "dFrame_new= dFrame_new.drop(['BILL_AMT1', 'BILL_AMT2', 'BILL_AMT3', 'BILL_AMT4', 'BILL_AMT5', 'BILL_AMT6'], axis= 1)\n",
    "dFrame_new= dFrame_new.drop(['PAY_AMT1', 'PAY_AMT2', 'PAY_AMT3', 'PAY_AMT4', 'PAY_AMT5', 'PAY_AMT6'], axis= 1)"
   ]
  },
  {
   "cell_type": "code",
   "execution_count": 67,
   "metadata": {},
   "outputs": [
    {
     "data": {
      "text/plain": [
       "LIMIT_BAL         0\n",
       "SEX               0\n",
       "EDUCATION         0\n",
       "MARRIAGE          0\n",
       "AGE               0\n",
       "PAY_1             0\n",
       "PAY_2             0\n",
       "PAY_3             0\n",
       "PAY_4             0\n",
       "PAY_5             0\n",
       "PAY_6             0\n",
       "BILL_RATIO_SEP    0\n",
       "BILL_RATIO_AUG    0\n",
       "BILL_RATIO_JUL    0\n",
       "BILL_RATIO_JUN    0\n",
       "BILL_RATIO_MAY    0\n",
       "dtype: int64"
      ]
     },
     "execution_count": 67,
     "metadata": {},
     "output_type": "execute_result"
    }
   ],
   "source": [
    "dFrame_new.isnull().sum()"
   ]
  },
  {
   "cell_type": "code",
   "execution_count": 68,
   "metadata": {},
   "outputs": [],
   "source": [
    "dFrame_new= dFrame_new.dropna()"
   ]
  },
  {
   "cell_type": "code",
   "execution_count": 69,
   "metadata": {},
   "outputs": [
    {
     "name": "stdout",
     "output_type": "stream",
     "text": [
      "<class 'pandas.core.frame.DataFrame'>\n",
      "Index: 6001 entries, 0 to 6000\n",
      "Data columns (total 16 columns):\n",
      "LIMIT_BAL         6001 non-null int64\n",
      "SEX               6001 non-null int64\n",
      "EDUCATION         6001 non-null int64\n",
      "MARRIAGE          6001 non-null int64\n",
      "AGE               6001 non-null int64\n",
      "PAY_1             6001 non-null int64\n",
      "PAY_2             6001 non-null int64\n",
      "PAY_3             6001 non-null int64\n",
      "PAY_4             6001 non-null int64\n",
      "PAY_5             6001 non-null int64\n",
      "PAY_6             6001 non-null int64\n",
      "BILL_RATIO_SEP    6001 non-null float64\n",
      "BILL_RATIO_AUG    6001 non-null float64\n",
      "BILL_RATIO_JUL    6001 non-null float64\n",
      "BILL_RATIO_JUN    6001 non-null float64\n",
      "BILL_RATIO_MAY    6001 non-null float64\n",
      "dtypes: float64(5), int64(11)\n",
      "memory usage: 797.0+ KB\n"
     ]
    }
   ],
   "source": [
    "dFrame_new.info()"
   ]
  },
  {
   "cell_type": "code",
   "execution_count": 70,
   "metadata": {},
   "outputs": [],
   "source": [
    "dum_educ= pd.get_dummies(dFrame_new['EDUCATION'],prefix= 'ed')\n",
    "dum_sex= pd.get_dummies(dFrame_new['SEX'], prefix= 's')\n",
    "dum_mar= pd.get_dummies(dFrame_new['MARRIAGE'], prefix= 'mar')"
   ]
  },
  {
   "cell_type": "code",
   "execution_count": 71,
   "metadata": {},
   "outputs": [],
   "source": [
    "dFrame_new= pd.concat([dFrame_new, dum_educ, dum_sex, dum_mar], axis=1)"
   ]
  },
  {
   "cell_type": "code",
   "execution_count": 72,
   "metadata": {},
   "outputs": [],
   "source": [
    "dFrame_new= dFrame_new.drop(['EDUCATION', 'SEX', 'MARRIAGE'], axis= 1)"
   ]
  },
  {
   "cell_type": "code",
   "execution_count": 73,
   "metadata": {},
   "outputs": [
    {
     "data": {
      "text/html": [
       "<div>\n",
       "<style scoped>\n",
       "    .dataframe tbody tr th:only-of-type {\n",
       "        vertical-align: middle;\n",
       "    }\n",
       "\n",
       "    .dataframe tbody tr th {\n",
       "        vertical-align: top;\n",
       "    }\n",
       "\n",
       "    .dataframe thead th {\n",
       "        text-align: right;\n",
       "    }\n",
       "</style>\n",
       "<table border=\"1\" class=\"dataframe\">\n",
       "  <thead>\n",
       "    <tr style=\"text-align: right;\">\n",
       "      <th></th>\n",
       "      <th>count</th>\n",
       "      <th>mean</th>\n",
       "      <th>std</th>\n",
       "      <th>min</th>\n",
       "      <th>25%</th>\n",
       "      <th>50%</th>\n",
       "      <th>75%</th>\n",
       "      <th>max</th>\n",
       "    </tr>\n",
       "  </thead>\n",
       "  <tbody>\n",
       "    <tr>\n",
       "      <th>LIMIT_BAL</th>\n",
       "      <td>6001.0</td>\n",
       "      <td>166118.980170</td>\n",
       "      <td>129077.567796</td>\n",
       "      <td>10000.000000</td>\n",
       "      <td>50000.000000</td>\n",
       "      <td>140000.000000</td>\n",
       "      <td>240000.000000</td>\n",
       "      <td>780000.000000</td>\n",
       "    </tr>\n",
       "    <tr>\n",
       "      <th>AGE</th>\n",
       "      <td>6001.0</td>\n",
       "      <td>35.334611</td>\n",
       "      <td>9.071366</td>\n",
       "      <td>21.000000</td>\n",
       "      <td>28.000000</td>\n",
       "      <td>34.000000</td>\n",
       "      <td>41.000000</td>\n",
       "      <td>73.000000</td>\n",
       "    </tr>\n",
       "    <tr>\n",
       "      <th>PAY_1</th>\n",
       "      <td>6001.0</td>\n",
       "      <td>0.229628</td>\n",
       "      <td>0.420629</td>\n",
       "      <td>0.000000</td>\n",
       "      <td>0.000000</td>\n",
       "      <td>0.000000</td>\n",
       "      <td>0.000000</td>\n",
       "      <td>1.000000</td>\n",
       "    </tr>\n",
       "    <tr>\n",
       "      <th>PAY_2</th>\n",
       "      <td>6001.0</td>\n",
       "      <td>0.151475</td>\n",
       "      <td>0.358541</td>\n",
       "      <td>0.000000</td>\n",
       "      <td>0.000000</td>\n",
       "      <td>0.000000</td>\n",
       "      <td>0.000000</td>\n",
       "      <td>1.000000</td>\n",
       "    </tr>\n",
       "    <tr>\n",
       "      <th>PAY_3</th>\n",
       "      <td>6001.0</td>\n",
       "      <td>0.138310</td>\n",
       "      <td>0.345254</td>\n",
       "      <td>0.000000</td>\n",
       "      <td>0.000000</td>\n",
       "      <td>0.000000</td>\n",
       "      <td>0.000000</td>\n",
       "      <td>1.000000</td>\n",
       "    </tr>\n",
       "    <tr>\n",
       "      <th>PAY_4</th>\n",
       "      <td>6001.0</td>\n",
       "      <td>0.116481</td>\n",
       "      <td>0.320827</td>\n",
       "      <td>0.000000</td>\n",
       "      <td>0.000000</td>\n",
       "      <td>0.000000</td>\n",
       "      <td>0.000000</td>\n",
       "      <td>1.000000</td>\n",
       "    </tr>\n",
       "    <tr>\n",
       "      <th>PAY_5</th>\n",
       "      <td>6001.0</td>\n",
       "      <td>0.097317</td>\n",
       "      <td>0.296414</td>\n",
       "      <td>0.000000</td>\n",
       "      <td>0.000000</td>\n",
       "      <td>0.000000</td>\n",
       "      <td>0.000000</td>\n",
       "      <td>1.000000</td>\n",
       "    </tr>\n",
       "    <tr>\n",
       "      <th>PAY_6</th>\n",
       "      <td>6001.0</td>\n",
       "      <td>0.102316</td>\n",
       "      <td>0.303089</td>\n",
       "      <td>0.000000</td>\n",
       "      <td>0.000000</td>\n",
       "      <td>0.000000</td>\n",
       "      <td>0.000000</td>\n",
       "      <td>1.000000</td>\n",
       "    </tr>\n",
       "    <tr>\n",
       "      <th>BILL_RATIO_SEP</th>\n",
       "      <td>6001.0</td>\n",
       "      <td>0.317618</td>\n",
       "      <td>1.277503</td>\n",
       "      <td>-65.217391</td>\n",
       "      <td>0.036819</td>\n",
       "      <td>0.061741</td>\n",
       "      <td>0.539374</td>\n",
       "      <td>45.818182</td>\n",
       "    </tr>\n",
       "    <tr>\n",
       "      <th>BILL_RATIO_AUG</th>\n",
       "      <td>6001.0</td>\n",
       "      <td>0.309544</td>\n",
       "      <td>1.217381</td>\n",
       "      <td>-67.500000</td>\n",
       "      <td>0.035650</td>\n",
       "      <td>0.061222</td>\n",
       "      <td>0.493461</td>\n",
       "      <td>42.735043</td>\n",
       "    </tr>\n",
       "    <tr>\n",
       "      <th>BILL_RATIO_JUL</th>\n",
       "      <td>6001.0</td>\n",
       "      <td>-13.603999</td>\n",
       "      <td>1060.643912</td>\n",
       "      <td>-82150.000000</td>\n",
       "      <td>0.028286</td>\n",
       "      <td>0.048959</td>\n",
       "      <td>0.403279</td>\n",
       "      <td>141.000000</td>\n",
       "    </tr>\n",
       "    <tr>\n",
       "      <th>BILL_RATIO_JUN</th>\n",
       "      <td>6001.0</td>\n",
       "      <td>-0.192273</td>\n",
       "      <td>39.165115</td>\n",
       "      <td>-3030.303030</td>\n",
       "      <td>0.022096</td>\n",
       "      <td>0.041841</td>\n",
       "      <td>0.396573</td>\n",
       "      <td>129.705128</td>\n",
       "    </tr>\n",
       "    <tr>\n",
       "      <th>BILL_RATIO_MAY</th>\n",
       "      <td>6001.0</td>\n",
       "      <td>0.308951</td>\n",
       "      <td>0.817411</td>\n",
       "      <td>-11.494253</td>\n",
       "      <td>0.020296</td>\n",
       "      <td>0.043546</td>\n",
       "      <td>0.473821</td>\n",
       "      <td>35.897436</td>\n",
       "    </tr>\n",
       "    <tr>\n",
       "      <th>ed_1</th>\n",
       "      <td>6001.0</td>\n",
       "      <td>0.357107</td>\n",
       "      <td>0.479187</td>\n",
       "      <td>0.000000</td>\n",
       "      <td>0.000000</td>\n",
       "      <td>0.000000</td>\n",
       "      <td>1.000000</td>\n",
       "      <td>1.000000</td>\n",
       "    </tr>\n",
       "    <tr>\n",
       "      <th>ed_2</th>\n",
       "      <td>6001.0</td>\n",
       "      <td>0.473588</td>\n",
       "      <td>0.499344</td>\n",
       "      <td>0.000000</td>\n",
       "      <td>0.000000</td>\n",
       "      <td>0.000000</td>\n",
       "      <td>1.000000</td>\n",
       "      <td>1.000000</td>\n",
       "    </tr>\n",
       "    <tr>\n",
       "      <th>ed_3</th>\n",
       "      <td>6001.0</td>\n",
       "      <td>0.153808</td>\n",
       "      <td>0.360794</td>\n",
       "      <td>0.000000</td>\n",
       "      <td>0.000000</td>\n",
       "      <td>0.000000</td>\n",
       "      <td>0.000000</td>\n",
       "      <td>1.000000</td>\n",
       "    </tr>\n",
       "    <tr>\n",
       "      <th>ed_4</th>\n",
       "      <td>6001.0</td>\n",
       "      <td>0.015497</td>\n",
       "      <td>0.123531</td>\n",
       "      <td>0.000000</td>\n",
       "      <td>0.000000</td>\n",
       "      <td>0.000000</td>\n",
       "      <td>0.000000</td>\n",
       "      <td>1.000000</td>\n",
       "    </tr>\n",
       "    <tr>\n",
       "      <th>s_1</th>\n",
       "      <td>6001.0</td>\n",
       "      <td>0.395767</td>\n",
       "      <td>0.489056</td>\n",
       "      <td>0.000000</td>\n",
       "      <td>0.000000</td>\n",
       "      <td>0.000000</td>\n",
       "      <td>1.000000</td>\n",
       "      <td>1.000000</td>\n",
       "    </tr>\n",
       "    <tr>\n",
       "      <th>s_2</th>\n",
       "      <td>6001.0</td>\n",
       "      <td>0.604233</td>\n",
       "      <td>0.489056</td>\n",
       "      <td>0.000000</td>\n",
       "      <td>0.000000</td>\n",
       "      <td>1.000000</td>\n",
       "      <td>1.000000</td>\n",
       "      <td>1.000000</td>\n",
       "    </tr>\n",
       "    <tr>\n",
       "      <th>mar_1</th>\n",
       "      <td>6001.0</td>\n",
       "      <td>0.450092</td>\n",
       "      <td>0.497544</td>\n",
       "      <td>0.000000</td>\n",
       "      <td>0.000000</td>\n",
       "      <td>0.000000</td>\n",
       "      <td>1.000000</td>\n",
       "      <td>1.000000</td>\n",
       "    </tr>\n",
       "    <tr>\n",
       "      <th>mar_2</th>\n",
       "      <td>6001.0</td>\n",
       "      <td>0.538077</td>\n",
       "      <td>0.498590</td>\n",
       "      <td>0.000000</td>\n",
       "      <td>0.000000</td>\n",
       "      <td>1.000000</td>\n",
       "      <td>1.000000</td>\n",
       "      <td>1.000000</td>\n",
       "    </tr>\n",
       "    <tr>\n",
       "      <th>mar_3</th>\n",
       "      <td>6001.0</td>\n",
       "      <td>0.011831</td>\n",
       "      <td>0.108136</td>\n",
       "      <td>0.000000</td>\n",
       "      <td>0.000000</td>\n",
       "      <td>0.000000</td>\n",
       "      <td>0.000000</td>\n",
       "      <td>1.000000</td>\n",
       "    </tr>\n",
       "  </tbody>\n",
       "</table>\n",
       "</div>"
      ],
      "text/plain": [
       "                 count           mean            std           min  \\\n",
       "LIMIT_BAL       6001.0  166118.980170  129077.567796  10000.000000   \n",
       "AGE             6001.0      35.334611       9.071366     21.000000   \n",
       "PAY_1           6001.0       0.229628       0.420629      0.000000   \n",
       "PAY_2           6001.0       0.151475       0.358541      0.000000   \n",
       "PAY_3           6001.0       0.138310       0.345254      0.000000   \n",
       "PAY_4           6001.0       0.116481       0.320827      0.000000   \n",
       "PAY_5           6001.0       0.097317       0.296414      0.000000   \n",
       "PAY_6           6001.0       0.102316       0.303089      0.000000   \n",
       "BILL_RATIO_SEP  6001.0       0.317618       1.277503    -65.217391   \n",
       "BILL_RATIO_AUG  6001.0       0.309544       1.217381    -67.500000   \n",
       "BILL_RATIO_JUL  6001.0     -13.603999    1060.643912 -82150.000000   \n",
       "BILL_RATIO_JUN  6001.0      -0.192273      39.165115  -3030.303030   \n",
       "BILL_RATIO_MAY  6001.0       0.308951       0.817411    -11.494253   \n",
       "ed_1            6001.0       0.357107       0.479187      0.000000   \n",
       "ed_2            6001.0       0.473588       0.499344      0.000000   \n",
       "ed_3            6001.0       0.153808       0.360794      0.000000   \n",
       "ed_4            6001.0       0.015497       0.123531      0.000000   \n",
       "s_1             6001.0       0.395767       0.489056      0.000000   \n",
       "s_2             6001.0       0.604233       0.489056      0.000000   \n",
       "mar_1           6001.0       0.450092       0.497544      0.000000   \n",
       "mar_2           6001.0       0.538077       0.498590      0.000000   \n",
       "mar_3           6001.0       0.011831       0.108136      0.000000   \n",
       "\n",
       "                         25%            50%            75%            max  \n",
       "LIMIT_BAL       50000.000000  140000.000000  240000.000000  780000.000000  \n",
       "AGE                28.000000      34.000000      41.000000      73.000000  \n",
       "PAY_1               0.000000       0.000000       0.000000       1.000000  \n",
       "PAY_2               0.000000       0.000000       0.000000       1.000000  \n",
       "PAY_3               0.000000       0.000000       0.000000       1.000000  \n",
       "PAY_4               0.000000       0.000000       0.000000       1.000000  \n",
       "PAY_5               0.000000       0.000000       0.000000       1.000000  \n",
       "PAY_6               0.000000       0.000000       0.000000       1.000000  \n",
       "BILL_RATIO_SEP      0.036819       0.061741       0.539374      45.818182  \n",
       "BILL_RATIO_AUG      0.035650       0.061222       0.493461      42.735043  \n",
       "BILL_RATIO_JUL      0.028286       0.048959       0.403279     141.000000  \n",
       "BILL_RATIO_JUN      0.022096       0.041841       0.396573     129.705128  \n",
       "BILL_RATIO_MAY      0.020296       0.043546       0.473821      35.897436  \n",
       "ed_1                0.000000       0.000000       1.000000       1.000000  \n",
       "ed_2                0.000000       0.000000       1.000000       1.000000  \n",
       "ed_3                0.000000       0.000000       0.000000       1.000000  \n",
       "ed_4                0.000000       0.000000       0.000000       1.000000  \n",
       "s_1                 0.000000       0.000000       1.000000       1.000000  \n",
       "s_2                 0.000000       1.000000       1.000000       1.000000  \n",
       "mar_1               0.000000       0.000000       1.000000       1.000000  \n",
       "mar_2               0.000000       1.000000       1.000000       1.000000  \n",
       "mar_3               0.000000       0.000000       0.000000       1.000000  "
      ]
     },
     "execution_count": 73,
     "metadata": {},
     "output_type": "execute_result"
    }
   ],
   "source": [
    "dFrame_new.describe().transpose()"
   ]
  },
  {
   "cell_type": "code",
   "execution_count": 80,
   "metadata": {},
   "outputs": [],
   "source": [
    "X= dFrame_new"
   ]
  },
  {
   "cell_type": "code",
   "execution_count": 81,
   "metadata": {},
   "outputs": [],
   "source": [
    "scaler= StandardScaler()\n",
    "\n",
    "scaler.fit(X)\n",
    "X_test_scaled= scaler.transform(X)"
   ]
  },
  {
   "cell_type": "code",
   "execution_count": 82,
   "metadata": {},
   "outputs": [],
   "source": [
    "y_pred_log= grid_logreg.best_estimator_.predict(X_test_scaled)"
   ]
  },
  {
   "cell_type": "code",
   "execution_count": 83,
   "metadata": {},
   "outputs": [
    {
     "data": {
      "text/plain": [
       "{0: 4176, 1: 1825}"
      ]
     },
     "execution_count": 83,
     "metadata": {},
     "output_type": "execute_result"
    }
   ],
   "source": [
    "unique, counts = np.unique(y_pred_log, return_counts=True)\n",
    "dict(zip(unique, counts))"
   ]
  },
  {
   "cell_type": "code",
   "execution_count": 84,
   "metadata": {},
   "outputs": [],
   "source": [
    "y_pred_tree= grid_dtree.best_estimator_.predict(X_test_scaled)"
   ]
  },
  {
   "cell_type": "code",
   "execution_count": 85,
   "metadata": {},
   "outputs": [
    {
     "data": {
      "text/plain": [
       "{0: 4470, 1: 1531}"
      ]
     },
     "execution_count": 85,
     "metadata": {},
     "output_type": "execute_result"
    }
   ],
   "source": [
    "unique, counts = np.unique(y_pred_tree, return_counts=True)\n",
    "dict(zip(unique, counts))"
   ]
  },
  {
   "cell_type": "code",
   "execution_count": 86,
   "metadata": {},
   "outputs": [],
   "source": [
    "y_pred_knn= grid_knn.best_estimator_.predict(X_test_scaled)"
   ]
  },
  {
   "cell_type": "code",
   "execution_count": 87,
   "metadata": {},
   "outputs": [
    {
     "data": {
      "text/plain": [
       "{0: 3920, 1: 2081}"
      ]
     },
     "execution_count": 87,
     "metadata": {},
     "output_type": "execute_result"
    }
   ],
   "source": [
    "unique, counts = np.unique(y_pred_knn, return_counts=True)\n",
    "dict(zip(unique, counts))"
   ]
  },
  {
   "cell_type": "code",
   "execution_count": 88,
   "metadata": {},
   "outputs": [],
   "source": [
    "Kiryl_Chris_y_pred= pd.DataFrame(y_pred_log)"
   ]
  },
  {
   "cell_type": "code",
   "execution_count": 89,
   "metadata": {},
   "outputs": [
    {
     "name": "stdout",
     "output_type": "stream",
     "text": [
      "<class 'pandas.core.frame.DataFrame'>\n",
      "RangeIndex: 6001 entries, 0 to 6000\n",
      "Data columns (total 1 columns):\n",
      "0    6001 non-null int64\n",
      "dtypes: int64(1)\n",
      "memory usage: 47.0 KB\n"
     ]
    }
   ],
   "source": [
    "Kiryl_Chris_y_pred.info()"
   ]
  },
  {
   "cell_type": "code",
   "execution_count": 90,
   "metadata": {},
   "outputs": [],
   "source": [
    "Kiryl_Chris_y_pred.to_csv(path_or_buf= 'Kiryl_Chris.csv', index= False)"
   ]
  }
 ],
 "metadata": {
  "kernelspec": {
   "display_name": "Python 3",
   "language": "python",
   "name": "python3"
  },
  "language_info": {
   "codemirror_mode": {
    "name": "ipython",
    "version": 3
   },
   "file_extension": ".py",
   "mimetype": "text/x-python",
   "name": "python",
   "nbconvert_exporter": "python",
   "pygments_lexer": "ipython3",
   "version": "3.6.8"
  }
 },
 "nbformat": 4,
 "nbformat_minor": 2
}
