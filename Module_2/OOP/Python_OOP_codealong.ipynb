{
 "cells": [
  {
   "cell_type": "markdown",
   "metadata": {},
   "source": [
    "# Python OOP \n",
    "- Overview of object oriented programming\n",
    "- instance mthods and variables \n",
    "- Object initialization\n",
    "- Inheritance and subclasses\n",
    "- special methods: dunder/magic method"
   ]
  },
  {
   "cell_type": "markdown",
   "metadata": {},
   "source": [
    "but we are not going to cover...\n",
    "- classmethods and staticmethods\n",
    "- property decorator\n",
    "- getter and setter"
   ]
  },
  {
   "cell_type": "markdown",
   "metadata": {},
   "source": [
    "## Why do we need object oriented programming \n",
    "Say we wrote a program that allow us to create some beautiful graphics and customize captions, but it is very long. It makes sense to just create a script that perform only that function and import the module. Like we have been doing already:\n",
    "- `import pandas as pd`\n",
    "- `import numpy as np`\n",
    "\n",
    "Object-oriented programming based on the main features that are: \n",
    "- __Abstraction__: It helps in letting the useful information or relevant data to a user, which increases the efficiency of the program and make the things simple. \n",
    "- __Inheritance__. It helps in inheriting the methods, functions, properties, and fields of a base class in derived class. \n",
    "- __Polymorphism__: It helps in doing one task in many ways with help of overloading and overriding which is also known as compile time and run time polymorphism respectively. \n",
    "- __Encapsulation__: It helps in hiding the irrelevant data from a user and prevents the user from unauthorized access.\n",
    "\n",
    "An amazing medium [article](https://medium.freecodecamp.org/object-oriented-programming-concepts-21bb035f7260) explaining the the above concepts of OOP.  "
   ]
  },
  {
   "cell_type": "code",
   "execution_count": 1,
   "metadata": {},
   "outputs": [
    {
     "name": "stdout",
     "output_type": "stream",
     "text": [
      "<module 'numpy.random' from '/anaconda3/lib/python3.6/site-packages/numpy/random/__init__.py'>\n"
     ]
    }
   ],
   "source": [
    "import numpy as np\n",
    "print(np.random)"
   ]
  },
  {
   "cell_type": "code",
   "execution_count": 2,
   "metadata": {},
   "outputs": [],
   "source": [
    "# python oop codealong\n"
   ]
  },
  {
   "cell_type": "code",
   "execution_count": 3,
   "metadata": {},
   "outputs": [],
   "source": [
    "# create a questionaire class\n",
    "class Questionaire:\n",
    "    pass"
   ]
  },
  {
   "cell_type": "code",
   "execution_count": 4,
   "metadata": {},
   "outputs": [
    {
     "name": "stdout",
     "output_type": "stream",
     "text": [
      "<class '__main__.Questionaire'>\n"
     ]
    }
   ],
   "source": [
    "print(Questionaire)"
   ]
  },
  {
   "cell_type": "code",
   "execution_count": 5,
   "metadata": {},
   "outputs": [],
   "source": [
    "# we can then create instances in that class and give it attributes \n",
    "student_1 = Questionaire()\n",
    "student_2 = Questionaire()"
   ]
  },
  {
   "cell_type": "code",
   "execution_count": 6,
   "metadata": {},
   "outputs": [
    {
     "name": "stdout",
     "output_type": "stream",
     "text": [
      "<__main__.Questionaire object at 0x1176cd198>\n",
      "<__main__.Questionaire object at 0x1176c1da0>\n"
     ]
    }
   ],
   "source": [
    "# give these instances values\n",
    "print(student_1)\n",
    "print(student_2)"
   ]
  },
  {
   "cell_type": "code",
   "execution_count": 8,
   "metadata": {},
   "outputs": [],
   "source": [
    "# examine some of these values\n",
    "student_1.first = 'Sam'\n",
    "student_1.last = 'Bell'\n",
    "student_2.first = 'David'\n",
    "student_2.last = 'Hasse'"
   ]
  },
  {
   "cell_type": "code",
   "execution_count": 9,
   "metadata": {
    "scrolled": true
   },
   "outputs": [
    {
     "name": "stdout",
     "output_type": "stream",
     "text": [
      "Sam\n",
      "Bell\n"
     ]
    }
   ],
   "source": [
    "# examine the instance\n",
    "print(student_1.first)\n",
    "print(student_1.last)\n"
   ]
  },
  {
   "cell_type": "code",
   "execution_count": 13,
   "metadata": {},
   "outputs": [],
   "source": [
    "# it might be counterintuitive to manually add these attributes under these instances. so lets create a function \n",
    "# (initialize some objects) in the class that allow us to automatically do this\n",
    "class Qustionaire:\n",
    "    def __init__(self,first,last,email):\n",
    "        self.first = first\n",
    "        self.last = last\n",
    "        self.email = email\n",
    "        \n",
    "\n"
   ]
  },
  {
   "cell_type": "code",
   "execution_count": 40,
   "metadata": {},
   "outputs": [
    {
     "name": "stdout",
     "output_type": "stream",
     "text": [
      "<__main__.Qustionaire object at 0x117732e48>\n",
      "BG\n",
      "Lemmon\n",
      "bg@flatironschool.com\n"
     ]
    }
   ],
   "source": [
    "# you can then pass values to this init method \n",
    "student_3 = Qustionaire('BG','Lemmon','bg@flatironschool.com')\n",
    "print(student_3)\n",
    "print(student_3.first)\n",
    "print(student_3.last)\n",
    "print(student_3.email)"
   ]
  },
  {
   "cell_type": "code",
   "execution_count": null,
   "metadata": {},
   "outputs": [],
   "source": [
    "# examine data"
   ]
  },
  {
   "cell_type": "code",
   "execution_count": null,
   "metadata": {},
   "outputs": [],
   "source": [
    "# examine data"
   ]
  },
  {
   "cell_type": "code",
   "execution_count": null,
   "metadata": {
    "scrolled": true
   },
   "outputs": [],
   "source": [
    "# examine values "
   ]
  },
  {
   "cell_type": "markdown",
   "metadata": {},
   "source": [
    "### Instance Methods"
   ]
  },
  {
   "cell_type": "markdown",
   "metadata": {},
   "source": [
    "The email and last name are attributes of the Questionnaire class. But what if we want to perform some kind of action? To do that, we can add some methods to this class. For example, if we want to generate full name for each of our student who took the questionnaire. "
   ]
  },
  {
   "cell_type": "code",
   "execution_count": 17,
   "metadata": {},
   "outputs": [
    {
     "name": "stdout",
     "output_type": "stream",
     "text": [
      "Bell, Sam\n"
     ]
    }
   ],
   "source": [
    "# use a print statement to generate full name for one student \n",
    "print(\"{}, {}\".format(student_1.last, student_1.first))"
   ]
  },
  {
   "cell_type": "code",
   "execution_count": 18,
   "metadata": {},
   "outputs": [],
   "source": [
    "class Qustionaire:\n",
    "    def __init__(self,first,last,email):\n",
    "        self.first = first\n",
    "        self.last = last\n",
    "        self.email = email\n",
    "    \n",
    "    def fullname(self):\n",
    "        return \"{}, {}\".format(self.last, self.first)"
   ]
  },
  {
   "cell_type": "code",
   "execution_count": 19,
   "metadata": {},
   "outputs": [
    {
     "name": "stdout",
     "output_type": "stream",
     "text": [
      "<__main__.Qustionaire object at 0x1177fbfd0>\n"
     ]
    }
   ],
   "source": [
    "\n",
    "student_2 = Qustionaire('David', 'Hasse', 'david@flatironschool.com')\n",
    "print(student_2)"
   ]
  },
  {
   "cell_type": "code",
   "execution_count": 22,
   "metadata": {},
   "outputs": [
    {
     "data": {
      "text/plain": [
       "'Hasse, David'"
      ]
     },
     "execution_count": 22,
     "metadata": {},
     "output_type": "execute_result"
    }
   ],
   "source": [
    "student_2.fullname()"
   ]
  },
  {
   "cell_type": "code",
   "execution_count": 23,
   "metadata": {},
   "outputs": [
    {
     "data": {
      "text/plain": [
       "'Hasse, David'"
      ]
     },
     "execution_count": 23,
     "metadata": {},
     "output_type": "execute_result"
    }
   ],
   "source": [
    "Qustionaire.fullname(student_2)"
   ]
  },
  {
   "cell_type": "code",
   "execution_count": null,
   "metadata": {},
   "outputs": [],
   "source": [
    "# you can also apply this method to the class itself, and manually pass the instance as an argument"
   ]
  },
  {
   "cell_type": "code",
   "execution_count": null,
   "metadata": {},
   "outputs": [],
   "source": [
    "# applying this method to a new instance of this class"
   ]
  },
  {
   "cell_type": "markdown",
   "metadata": {},
   "source": [
    "Class variables - variables that are shared by all instances in the class"
   ]
  },
  {
   "cell_type": "code",
   "execution_count": 44,
   "metadata": {},
   "outputs": [],
   "source": [
    "# defining a class variable, which is shared by all instances of the class\n",
    "class Qustionaire:\n",
    "    \n",
    "    num_question = 15\n",
    "    \n",
    "    def __init__(self,first,last,email):\n",
    "        self.first = first\n",
    "        self.last = last\n",
    "        self.email = email\n",
    "    \n",
    "    def fullname(self):\n",
    "        return \"{}, {}\".format(self.last, self.first)\n",
    "    \n",
    "    def how_many_question(self):\n",
    "        return \"{} has {} questions to complete\".format(self.first, self.num_question)"
   ]
  },
  {
   "cell_type": "code",
   "execution_count": 45,
   "metadata": {},
   "outputs": [],
   "source": [
    "# create an instance \n",
    "student_4 = Qustionaire('Nicole', 'Roach', 'nicole@flatironschool.com')"
   ]
  },
  {
   "cell_type": "code",
   "execution_count": 46,
   "metadata": {},
   "outputs": [
    {
     "data": {
      "text/plain": [
       "15"
      ]
     },
     "execution_count": 46,
     "metadata": {},
     "output_type": "execute_result"
    }
   ],
   "source": [
    "student_4.num_question"
   ]
  },
  {
   "cell_type": "code",
   "execution_count": 48,
   "metadata": {},
   "outputs": [
    {
     "data": {
      "text/plain": [
       "'Nicole has 15 questions to complete'"
      ]
     },
     "execution_count": 48,
     "metadata": {},
     "output_type": "execute_result"
    }
   ],
   "source": [
    "student_4.how_many_question()"
   ]
  },
  {
   "cell_type": "code",
   "execution_count": null,
   "metadata": {},
   "outputs": [],
   "source": [
    "# you can access the class variables through the class itself\n"
   ]
  },
  {
   "cell_type": "code",
   "execution_count": null,
   "metadata": {
    "scrolled": true
   },
   "outputs": [],
   "source": [
    "# or access it thru an instance of the class"
   ]
  },
  {
   "cell_type": "markdown",
   "metadata": {},
   "source": [
    "All classes create objects, and all objects contain characteristics called attributes (referred to as properties in the opening paragraph). Use the __init__() method to initialize (e.g., specify) an object’s initial attributes by giving them their default value (or state). This method must have at least one argument as well as the self variable, which refers to the object itself (e.g., Dog)."
   ]
  },
  {
   "cell_type": "markdown",
   "metadata": {},
   "source": [
    "### class inheritance"
   ]
  },
  {
   "cell_type": "code",
   "execution_count": 49,
   "metadata": {},
   "outputs": [],
   "source": [
    "# creating subclasses that inherit from the parent class\n",
    "# questionnaires have subcomponents. so now lets create a subclass that inherits from questionnaire\n",
    "class Demographics(Qustionaire):\n",
    "    pass"
   ]
  },
  {
   "cell_type": "code",
   "execution_count": 50,
   "metadata": {},
   "outputs": [
    {
     "name": "stdout",
     "output_type": "stream",
     "text": [
      "Eric\n",
      "Ma\n",
      "eric@flatironschool.com\n"
     ]
    }
   ],
   "source": [
    "#create instances from this subclass\n",
    "student_5 = Demographics('Eric', 'Ma', 'eric@flatironschool.com')\n",
    "print(student_5.first)\n",
    "print(student_5.last)\n",
    "print(student_5.email)"
   ]
  },
  {
   "cell_type": "code",
   "execution_count": 51,
   "metadata": {},
   "outputs": [],
   "source": [
    "# so now instead of creating instances of the questionnaire class, we can directly create instances from the food \n",
    "# preference class\n",
    "class Demographics(Qustionaire):\n",
    "    def __init__(self, first, last, email, hometown):\n",
    "        super().__init__(first, last, email)\n",
    "        self.hometown = hometown\n"
   ]
  },
  {
   "cell_type": "code",
   "execution_count": 52,
   "metadata": {},
   "outputs": [
    {
     "name": "stdout",
     "output_type": "stream",
     "text": [
      "Jon\n",
      "Keller\n",
      "Lockport\n"
     ]
    }
   ],
   "source": [
    "student_6 = Demographics('Jon', 'Keller', 'jon@flatironschool.com', 'Lockport')\n",
    "print(student_6.first)\n",
    "print(student_6.last)\n",
    "print(student_6.hometown)\n"
   ]
  },
  {
   "cell_type": "code",
   "execution_count": null,
   "metadata": {},
   "outputs": [],
   "source": [
    "# using the super() method to keep the code d.r.y \n",
    "\n",
    "        # instead of passing all the previous attributes in this init method, we can use super()\n",
    "    \n",
    "    # there are other ways of doing it. such as Questionnaire().__init__(*args)"
   ]
  },
  {
   "cell_type": "code",
   "execution_count": null,
   "metadata": {},
   "outputs": [],
   "source": [
    "# you can then create instances of the subclass by passing arguments\n",
    "maryjo = Demographics('Z','maryjo@flatironschool.com','new york')\n",
    "maryjo.__dict__"
   ]
  },
  {
   "cell_type": "markdown",
   "metadata": {},
   "source": [
    "### Special method: dunder/magic\n",
    "The documentation of our own class objects can be very ambiguous. However, with the help of special/magic/dunder methods, we can customize documentation of our class by using two of the dunder methods:\n",
    "- `__repr__`\n",
    "- `__str__`\n",
    "- `__add__`\n",
    "- `__len__`"
   ]
  },
  {
   "cell_type": "code",
   "execution_count": 53,
   "metadata": {
    "scrolled": true
   },
   "outputs": [
    {
     "name": "stdout",
     "output_type": "stream",
     "text": [
      "3\n",
      "ab\n"
     ]
    }
   ],
   "source": [
    "# some objects behave differently according to the nature of their data types\n",
    "a = 'a'\n",
    "b = 'b'\n",
    "print(1+2)\n",
    "print('a' + 'b')"
   ]
  },
  {
   "cell_type": "code",
   "execution_count": 55,
   "metadata": {},
   "outputs": [
    {
     "name": "stdout",
     "output_type": "stream",
     "text": [
      "3\n",
      "ab\n"
     ]
    }
   ],
   "source": [
    "print(int.__add__(1,2))\n",
    "print(str.__add__('a','b'))"
   ]
  },
  {
   "cell_type": "markdown",
   "metadata": {},
   "source": []
  },
  {
   "cell_type": "code",
   "execution_count": 81,
   "metadata": {},
   "outputs": [],
   "source": [
    "class Qustionaire:\n",
    "    \n",
    "    num_question = 15\n",
    "    \n",
    "    def __init__(self,first,last,email):\n",
    "        self.first = first\n",
    "        self.last = last\n",
    "        self.email = email\n",
    "    \n",
    "    def fullname(self):\n",
    "        return \"{}, {}\".format(self.last, self.first)\n",
    "    \n",
    "    def how_many_question(self):\n",
    "        return \"{} has {} questions to complete\".format(self.first, self.num_question)\n",
    "    \n",
    "    def __len__(self):\n",
    "        return len(self.fullname())-2 #-2 for comma and space"
   ]
  },
  {
   "cell_type": "code",
   "execution_count": 82,
   "metadata": {},
   "outputs": [],
   "source": [
    "student_7 = Qustionaire('Lin', 'Nguyen', 'lin@flatironschool.com')"
   ]
  },
  {
   "cell_type": "code",
   "execution_count": 83,
   "metadata": {},
   "outputs": [
    {
     "data": {
      "text/plain": [
       "9"
      ]
     },
     "execution_count": 83,
     "metadata": {},
     "output_type": "execute_result"
    }
   ],
   "source": [
    "len(student_7)"
   ]
  },
  {
   "cell_type": "code",
   "execution_count": 92,
   "metadata": {},
   "outputs": [],
   "source": [
    "class Qustionaire:\n",
    "    \n",
    "    num_question = 15\n",
    "    \n",
    "    def __init__(self,first,last,email):\n",
    "        self.first = first\n",
    "        self.last = last\n",
    "        self.email = email\n",
    "    \n",
    "    def fullname(self):\n",
    "        return \"{}, {}\".format(self.last, self.first)\n",
    "    \n",
    "    def how_many_question(self):\n",
    "        return \"{} has {} questions to complete\".format(self.first, self.num_question)\n",
    "    \n",
    "    def __len__(self):\n",
    "        return len(self.fullname())-2 #-2 for comma and space\n",
    "    \n",
    "    def __repr__(self):\n",
    "        return \"this is the information of {} {}\".format(self.first, self.last)"
   ]
  },
  {
   "cell_type": "code",
   "execution_count": 93,
   "metadata": {
    "scrolled": false
   },
   "outputs": [],
   "source": [
    "# create an instance of that class\n",
    "student_7 = Qustionaire('Lin', 'Nguyen', 'lin@flatironschool.com')"
   ]
  },
  {
   "cell_type": "code",
   "execution_count": 94,
   "metadata": {},
   "outputs": [
    {
     "data": {
      "text/plain": [
       "'this is the information of Lin Nguyen'"
      ]
     },
     "execution_count": 94,
     "metadata": {},
     "output_type": "execute_result"
    }
   ],
   "source": [
    "repr(student_7)"
   ]
  },
  {
   "cell_type": "code",
   "execution_count": null,
   "metadata": {},
   "outputs": [],
   "source": [
    "# check out what kind of object that instance is - not very helpful at all!"
   ]
  },
  {
   "cell_type": "code",
   "execution_count": null,
   "metadata": {},
   "outputs": [],
   "source": [
    "# now lets create some documentation for these instances"
   ]
  },
  {
   "cell_type": "code",
   "execution_count": null,
   "metadata": {},
   "outputs": [],
   "source": [
    "# create an instance of the class and print out its documentation"
   ]
  },
  {
   "cell_type": "code",
   "execution_count": null,
   "metadata": {
    "scrolled": true
   },
   "outputs": [],
   "source": []
  },
  {
   "cell_type": "code",
   "execution_count": null,
   "metadata": {},
   "outputs": [],
   "source": [
    "# adding in a few more dunder magic methods to enrich our program \n"
   ]
  },
  {
   "cell_type": "code",
   "execution_count": null,
   "metadata": {},
   "outputs": [],
   "source": [
    "# check out the dunder methods "
   ]
  },
  {
   "cell_type": "code",
   "execution_count": null,
   "metadata": {},
   "outputs": [],
   "source": [
    "# adding in even more dunder methods \n"
   ]
  },
  {
   "cell_type": "code",
   "execution_count": null,
   "metadata": {},
   "outputs": [],
   "source": [
    "# check out the dunder methods "
   ]
  },
  {
   "cell_type": "code",
   "execution_count": null,
   "metadata": {},
   "outputs": [],
   "source": [
    "# check out some documentation of all available resources here"
   ]
  },
  {
   "cell_type": "markdown",
   "metadata": {},
   "source": [
    "[all special methods](https://docs.python.org/3/reference/datamodel.html)"
   ]
  },
  {
   "cell_type": "markdown",
   "metadata": {},
   "source": [
    "### Advanced topics in OOP:\n",
    "- Class methods and static methods\n",
    "- Property decorators\n",
    "- Getters and Setters"
   ]
  }
 ],
 "metadata": {
  "kernelspec": {
   "display_name": "Python 3",
   "language": "python",
   "name": "python3"
  },
  "language_info": {
   "codemirror_mode": {
    "name": "ipython",
    "version": 3
   },
   "file_extension": ".py",
   "mimetype": "text/x-python",
   "name": "python",
   "nbconvert_exporter": "python",
   "pygments_lexer": "ipython3",
   "version": "3.6.8"
  }
 },
 "nbformat": 4,
 "nbformat_minor": 2
}
